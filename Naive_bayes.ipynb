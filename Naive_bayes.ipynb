{
 "cells": [
  {
   "cell_type": "markdown",
   "metadata": {},
   "source": [
    "朴素贝叶斯是一个不建模的算法"
   ]
  },
  {
   "cell_type": "markdown",
   "metadata": {},
   "source": [
    "以往我们学习的算法，比如KMeans，PCA，都是无监督学习，而朴素贝叶斯是第一个有监督的，不建模的算法"
   ]
  },
  {
   "cell_type": "markdown",
   "metadata": {},
   "source": [
    "现在，我们就将求解连续型变量下某个点取值的概率问题，转化成了求解一个函数在点上的取值的问题。那接   \n",
    "下来只要找到我们的 ，我们就可以求解出不同的条件概率了"
   ]
  },
  {
   "cell_type": "markdown",
   "metadata": {},
   "source": [
    "在现实中，往往假设F（x）是满足某种统计学的分布的，有高斯分布、伯努利分布、多项式分布等，本质相同，计算之中的F（x）不同。fit   \n",
    "过程是在估计对应分布的参数，predict过程是在给参数下分布中去进行概率预测。"
   ]
  },
  {
   "cell_type": "markdown",
   "metadata": {},
   "source": [
    "naive_bayes.BernoulliNB   \n",
    "naive_bayes.GaussianNB   \n",
    "naive_bayes.MultinomialNB   \n",
    "naive_bayes.ComplementNB   \n",
    "naive_bayes.BayesianRidge"
   ]
  },
  {
   "cell_type": "markdown",
   "metadata": {},
   "source": [
    "一、高斯朴素贝叶斯（每个特征每个类别下假设是服从高斯分布的）"
   ]
  },
  {
   "cell_type": "markdown",
   "metadata": {},
   "source": [
    "参数：   \n",
    "prior---先验P(Y)   \n",
    "var_smoothing---默认1e-9,为了追求估计的稳定性，将所有特征的方差中最大的方差以某个比例添加到估计的方差中。"
   ]
  },
  {
   "cell_type": "code",
   "execution_count": 1,
   "metadata": {
    "collapsed": true,
    "jupyter": {
     "outputs_hidden": true
    },
    "tags": []
   },
   "outputs": [
    {
     "name": "stdout",
     "output_type": "stream",
     "text": [
      "Microsoft Windows [版本 10.0.18363.1082]\n",
      "(c) 2019 Microsoft Corporation。保留所有权利。\n",
      "\n",
      "D:\\anaconda_running>pip install watermark\n",
      "Collecting watermark\n",
      "  Downloading https://files.pythonhosted.org/packages/60/fe/3ed83b6122e70dce6fe269dfd763103c333f168bf91037add73ea4fe81c2/watermark-2.0.2-py2.py3-none-any.whl\n",
      "Requirement already satisfied: ipython in c:\\programdata\\anaconda3\\lib\\site-packages (from watermark) (7.4.0)\n",
      "Requirement already satisfied: backcall in c:\\programdata\\anaconda3\\lib\\site-packages (from ipython->watermark) (0.1.0)\n",
      "Requirement already satisfied: prompt-toolkit<2.1.0,>=2.0.0 in c:\\programdata\\anaconda3\\lib\\site-packages (from ipython->watermark) (2.0.9)\n",
      "Requirement already satisfied: pygments in c:\\programdata\\anaconda3\\lib\\site-packages (from ipython->watermark) (2.3.1)\n",
      "Requirement already satisfied: jedi>=0.10 in c:\\programdata\\anaconda3\\lib\\site-packages (from ipython->watermark) (0.13.3)\n",
      "Requirement already satisfied: traitlets>=4.2 in c:\\programdata\\anaconda3\\lib\\site-packages (from ipython->watermark) (4.3.2)\n",
      "Requirement already satisfied: setuptools>=18.5 in c:\\programdata\\anaconda3\\lib\\site-packages (from ipython->watermark) (40.8.0)\n",
      "Requirement already satisfied: pickleshare in c:\\programdata\\anaconda3\\lib\\site-packages (from ipython->watermark) (0.7.5)\n",
      "Requirement already satisfied: decorator in c:\\programdata\\anaconda3\\lib\\site-packages (from ipython->watermark) (4.4.0)\n",
      "Requirement already satisfied: colorama; sys_platform == \"win32\" in c:\\programdata\\anaconda3\\lib\\site-packages (from ipython->watermark) (0.4.1)\n",
      "Requirement already satisfied: wcwidth in c:\\programdata\\anaconda3\\lib\\site-packages (from prompt-toolkit<2.1.0,>=2.0.0->ipython->watermark) (0.1.7)\n",
      "Requirement already satisfied: six>=1.9.0 in c:\\programdata\\anaconda3\\lib\\site-packages (from prompt-toolkit<2.1.0,>=2.0.0->ipython->watermark) (1.12.0)\n",
      "Requirement already satisfied: parso>=0.3.0 in c:\\programdata\\anaconda3\\lib\\site-packages (from jedi>=0.10->ipython->watermark) (0.3.4)\n",
      "Requirement already satisfied: ipython-genutils in c:\\programdata\\anaconda3\\lib\\site-packages (from traitlets>=4.2->ipython->watermark) (0.2.0)\n",
      "Installing collected packages: watermark\n",
      "Successfully installed watermark-2.0.2\n",
      "\n",
      "D:\\anaconda_running>"
     ]
    }
   ],
   "source": [
    "%%cmd\n",
    "pip install watermark"
   ]
  },
  {
   "cell_type": "code",
   "execution_count": null,
   "metadata": {},
   "outputs": [],
   "source": [
    "#在这里必须分开cell，魔法命令必须是一个cell的第一部分内容\n",
    "#注意load_ext这个命令只能够执行一次，再执行就会报错，要求用reload命令"
   ]
  },
  {
   "cell_type": "code",
   "execution_count": 2,
   "metadata": {},
   "outputs": [],
   "source": [
    "%load_ext watermark"
   ]
  },
  {
   "cell_type": "code",
   "execution_count": 3,
   "metadata": {
    "collapsed": true,
    "jupyter": {
     "outputs_hidden": true
    },
    "tags": []
   },
   "outputs": [
    {
     "name": "stdout",
     "output_type": "stream",
     "text": [
      "TsaiTsai 2020-10-20 \n",
      "\n",
      "CPython 3.7.3\n",
      "IPython 7.4.0\n",
      "\n",
      "numpy 1.16.2\n",
      "pandas 0.24.2\n",
      "matplotlib 3.0.3\n",
      "scipy 1.2.1\n",
      "sklearn 0.20.3\n",
      "\n",
      "compiler   : MSC v.1915 64 bit (AMD64)\n",
      "system     : Windows\n",
      "release    : 10\n",
      "machine    : AMD64\n",
      "processor  : Intel64 Family 6 Model 61 Stepping 4, GenuineIntel\n",
      "CPU cores  : 4\n",
      "interpreter: 64bit\n"
     ]
    }
   ],
   "source": [
    "%watermark -a \"TsaiTsai\" -d -v -m -p numpy,pandas,matplotlib,scipy,sklearn"
   ]
  },
  {
   "cell_type": "code",
   "execution_count": 10,
   "metadata": {},
   "outputs": [],
   "source": [
    "import numpy as np\n",
    "import matplotlib.pyplot as plt\n",
    "from sklearn.naive_bayes import GaussianNB\n",
    "from sklearn.datasets import load_digits\n",
    "from sklearn.model_selection import train_test_split"
   ]
  },
  {
   "cell_type": "code",
   "execution_count": 11,
   "metadata": {},
   "outputs": [],
   "source": [
    "digits = load_digits()\n",
    "X, y = digits.data, digits.target"
   ]
  },
  {
   "cell_type": "code",
   "execution_count": 12,
   "metadata": {},
   "outputs": [],
   "source": [
    "Xtrain,Xtest,Ytrain,Ytest = train_test_split(X,y,test_size=0.3,random_state=420)"
   ]
  },
  {
   "cell_type": "code",
   "execution_count": 13,
   "metadata": {},
   "outputs": [
    {
     "data": {
      "text/plain": [
       "(1257, 64)"
      ]
     },
     "execution_count": 13,
     "metadata": {},
     "output_type": "execute_result"
    }
   ],
   "source": [
    "Xtrain.shape"
   ]
  },
  {
   "cell_type": "code",
   "execution_count": 14,
   "metadata": {},
   "outputs": [
    {
     "data": {
      "text/plain": [
       "(540, 64)"
      ]
     },
     "execution_count": 14,
     "metadata": {},
     "output_type": "execute_result"
    }
   ],
   "source": [
    "Xtest.shape"
   ]
  },
  {
   "cell_type": "code",
   "execution_count": 9,
   "metadata": {},
   "outputs": [
    {
     "data": {
      "text/plain": [
       "array([0, 1, 2, 3, 4, 5, 6, 7, 8, 9])"
      ]
     },
     "execution_count": 9,
     "metadata": {},
     "output_type": "execute_result"
    }
   ],
   "source": [
    "np.unique(Ytrain)   # 多分类问题，类别是10个"
   ]
  },
  {
   "cell_type": "code",
   "execution_count": 17,
   "metadata": {},
   "outputs": [],
   "source": [
    "gnb = GaussianNB().fit(Xtrain,Ytrain)"
   ]
  },
  {
   "cell_type": "code",
   "execution_count": 18,
   "metadata": {},
   "outputs": [
    {
     "data": {
      "text/plain": [
       "0.8592592592592593"
      ]
     },
     "execution_count": 18,
     "metadata": {},
     "output_type": "execute_result"
    }
   ],
   "source": [
    "#查看分数\n",
    "acc_score = gnb.score(Xtest,Ytest)   # 返回预测的精确性\n",
    "\n",
    "acc_score"
   ]
  },
  {
   "cell_type": "code",
   "execution_count": 19,
   "metadata": {},
   "outputs": [],
   "source": [
    "#查看预测结果\n",
    "Y_pred = gnb.predict(Xtest) "
   ]
  },
  {
   "cell_type": "code",
   "execution_count": 23,
   "metadata": {
    "collapsed": true,
    "jupyter": {
     "outputs_hidden": true
    },
    "tags": []
   },
   "outputs": [
    {
     "data": {
      "text/plain": [
       "array([6, 1, 3, 0, 4, 5, 0, 8, 3, 8, 6, 8, 7, 8, 8, 8, 5, 9, 5, 6, 5, 4,\n",
       "       7, 4, 8, 2, 7, 2, 8, 9, 2, 8, 3, 6, 0, 3, 8, 8, 1, 5, 2, 8, 8, 9,\n",
       "       2, 2, 0, 7, 3, 6, 7, 2, 8, 0, 5, 4, 1, 9, 4, 0, 5, 8, 9, 1, 7, 8,\n",
       "       7, 5, 8, 2, 4, 4, 8, 2, 6, 1, 2, 1, 7, 8, 8, 5, 9, 4, 3, 6, 9, 7,\n",
       "       4, 2, 4, 8, 0, 5, 7, 7, 7, 4, 7, 8, 8, 7, 0, 7, 2, 1, 9, 9, 8, 7,\n",
       "       1, 5, 1, 8, 0, 4, 8, 9, 5, 6, 4, 8, 3, 8, 0, 6, 8, 6, 7, 6, 1, 8,\n",
       "       5, 0, 8, 2, 1, 8, 8, 6, 6, 0, 2, 4, 7, 8, 9, 5, 9, 4, 7, 8, 8, 6,\n",
       "       7, 0, 8, 4, 7, 2, 2, 6, 4, 4, 1, 0, 3, 4, 3, 8, 7, 0, 6, 9, 7, 5,\n",
       "       5, 3, 6, 1, 6, 6, 2, 3, 8, 2, 7, 3, 1, 1, 6, 8, 8, 8, 7, 7, 2, 5,\n",
       "       0, 0, 8, 6, 6, 7, 6, 0, 7, 5, 5, 8, 4, 6, 5, 1, 5, 1, 9, 6, 8, 8,\n",
       "       8, 2, 4, 8, 6, 5, 9, 9, 3, 1, 9, 1, 3, 3, 5, 5, 7, 7, 4, 0, 9, 0,\n",
       "       9, 9, 6, 4, 3, 4, 8, 1, 0, 2, 9, 7, 6, 8, 8, 0, 6, 0, 1, 7, 1, 9,\n",
       "       5, 4, 6, 8, 1, 5, 7, 7, 5, 1, 0, 0, 9, 3, 9, 1, 6, 3, 7, 2, 7, 1,\n",
       "       9, 9, 8, 3, 3, 5, 7, 7, 7, 3, 9, 5, 0, 7, 5, 5, 1, 4, 9, 2, 0, 6,\n",
       "       3, 0, 8, 7, 2, 8, 1, 6, 4, 1, 2, 5, 7, 1, 4, 9, 5, 4, 2, 3, 5, 9,\n",
       "       8, 0, 0, 0, 0, 4, 2, 0, 6, 6, 8, 7, 1, 1, 8, 1, 1, 7, 8, 7, 8, 3,\n",
       "       1, 4, 6, 1, 8, 1, 6, 6, 7, 2, 8, 5, 3, 2, 1, 8, 7, 8, 5, 1, 7, 2,\n",
       "       1, 1, 7, 8, 9, 5, 0, 4, 7, 8, 8, 9, 5, 5, 8, 5, 5, 8, 1, 0, 4, 3,\n",
       "       8, 2, 8, 5, 7, 6, 9, 9, 5, 8, 9, 9, 1, 8, 6, 4, 3, 3, 3, 3, 0, 8,\n",
       "       0, 7, 7, 6, 0, 8, 9, 8, 3, 6, 6, 8, 7, 5, 8, 4, 5, 8, 6, 7, 6, 7,\n",
       "       7, 8, 0, 8, 2, 2, 0, 5, 7, 3, 0, 2, 8, 2, 0, 2, 3, 6, 8, 1, 7, 5,\n",
       "       7, 1, 7, 7, 2, 7, 5, 2, 6, 5, 8, 0, 0, 8, 1, 3, 7, 6, 1, 5, 6, 2,\n",
       "       0, 1, 5, 7, 8, 0, 3, 5, 0, 7, 5, 4, 4, 1, 5, 9, 5, 3, 7, 1, 7, 3,\n",
       "       5, 8, 5, 8, 5, 6, 1, 6, 7, 4, 3, 7, 0, 5, 4, 9, 3, 3, 6, 3, 5, 2,\n",
       "       9, 8, 9, 3, 9, 7, 3, 4, 9, 4, 3, 1])"
      ]
     },
     "execution_count": 23,
     "metadata": {},
     "output_type": "execute_result"
    }
   ],
   "source": [
    "Y_pred"
   ]
  },
  {
   "cell_type": "code",
   "execution_count": 24,
   "metadata": {},
   "outputs": [
    {
     "data": {
      "text/plain": [
       "(540, 10)"
      ]
     },
     "execution_count": 24,
     "metadata": {},
     "output_type": "execute_result"
    }
   ],
   "source": [
    "#查看预测的概率结果\n",
    "prob = gnb.predict_proba(Xtest)\n",
    "\n",
    "prob.shape  #每一列对应一个标签下的概率"
   ]
  },
  {
   "cell_type": "code",
   "execution_count": 15,
   "metadata": {},
   "outputs": [
    {
     "data": {
      "text/plain": [
       "1.000000000000003"
      ]
     },
     "execution_count": 15,
     "metadata": {},
     "output_type": "execute_result"
    }
   ],
   "source": [
    "prob[1,:].sum() #每一行的和都是一"
   ]
  },
  {
   "cell_type": "code",
   "execution_count": 16,
   "metadata": {
    "scrolled": true
   },
   "outputs": [
    {
     "data": {
      "text/plain": [
       "array([1., 1., 1., 1., 1., 1., 1., 1., 1., 1., 1., 1., 1., 1., 1., 1., 1.,\n",
       "       1., 1., 1., 1., 1., 1., 1., 1., 1., 1., 1., 1., 1., 1., 1., 1., 1.,\n",
       "       1., 1., 1., 1., 1., 1., 1., 1., 1., 1., 1., 1., 1., 1., 1., 1., 1.,\n",
       "       1., 1., 1., 1., 1., 1., 1., 1., 1., 1., 1., 1., 1., 1., 1., 1., 1.,\n",
       "       1., 1., 1., 1., 1., 1., 1., 1., 1., 1., 1., 1., 1., 1., 1., 1., 1.,\n",
       "       1., 1., 1., 1., 1., 1., 1., 1., 1., 1., 1., 1., 1., 1., 1., 1., 1.,\n",
       "       1., 1., 1., 1., 1., 1., 1., 1., 1., 1., 1., 1., 1., 1., 1., 1., 1.,\n",
       "       1., 1., 1., 1., 1., 1., 1., 1., 1., 1., 1., 1., 1., 1., 1., 1., 1.,\n",
       "       1., 1., 1., 1., 1., 1., 1., 1., 1., 1., 1., 1., 1., 1., 1., 1., 1.,\n",
       "       1., 1., 1., 1., 1., 1., 1., 1., 1., 1., 1., 1., 1., 1., 1., 1., 1.,\n",
       "       1., 1., 1., 1., 1., 1., 1., 1., 1., 1., 1., 1., 1., 1., 1., 1., 1.,\n",
       "       1., 1., 1., 1., 1., 1., 1., 1., 1., 1., 1., 1., 1., 1., 1., 1., 1.,\n",
       "       1., 1., 1., 1., 1., 1., 1., 1., 1., 1., 1., 1., 1., 1., 1., 1., 1.,\n",
       "       1., 1., 1., 1., 1., 1., 1., 1., 1., 1., 1., 1., 1., 1., 1., 1., 1.,\n",
       "       1., 1., 1., 1., 1., 1., 1., 1., 1., 1., 1., 1., 1., 1., 1., 1., 1.,\n",
       "       1., 1., 1., 1., 1., 1., 1., 1., 1., 1., 1., 1., 1., 1., 1., 1., 1.,\n",
       "       1., 1., 1., 1., 1., 1., 1., 1., 1., 1., 1., 1., 1., 1., 1., 1., 1.,\n",
       "       1., 1., 1., 1., 1., 1., 1., 1., 1., 1., 1., 1., 1., 1., 1., 1., 1.,\n",
       "       1., 1., 1., 1., 1., 1., 1., 1., 1., 1., 1., 1., 1., 1., 1., 1., 1.,\n",
       "       1., 1., 1., 1., 1., 1., 1., 1., 1., 1., 1., 1., 1., 1., 1., 1., 1.,\n",
       "       1., 1., 1., 1., 1., 1., 1., 1., 1., 1., 1., 1., 1., 1., 1., 1., 1.,\n",
       "       1., 1., 1., 1., 1., 1., 1., 1., 1., 1., 1., 1., 1., 1., 1., 1., 1.,\n",
       "       1., 1., 1., 1., 1., 1., 1., 1., 1., 1., 1., 1., 1., 1., 1., 1., 1.,\n",
       "       1., 1., 1., 1., 1., 1., 1., 1., 1., 1., 1., 1., 1., 1., 1., 1., 1.,\n",
       "       1., 1., 1., 1., 1., 1., 1., 1., 1., 1., 1., 1., 1., 1., 1., 1., 1.,\n",
       "       1., 1., 1., 1., 1., 1., 1., 1., 1., 1., 1., 1., 1., 1., 1., 1., 1.,\n",
       "       1., 1., 1., 1., 1., 1., 1., 1., 1., 1., 1., 1., 1., 1., 1., 1., 1.,\n",
       "       1., 1., 1., 1., 1., 1., 1., 1., 1., 1., 1., 1., 1., 1., 1., 1., 1.,\n",
       "       1., 1., 1., 1., 1., 1., 1., 1., 1., 1., 1., 1., 1., 1., 1., 1., 1.,\n",
       "       1., 1., 1., 1., 1., 1., 1., 1., 1., 1., 1., 1., 1., 1., 1., 1., 1.,\n",
       "       1., 1., 1., 1., 1., 1., 1., 1., 1., 1., 1., 1., 1., 1., 1., 1., 1.,\n",
       "       1., 1., 1., 1., 1., 1., 1., 1., 1., 1., 1., 1., 1.])"
      ]
     },
     "execution_count": 16,
     "metadata": {},
     "output_type": "execute_result"
    }
   ],
   "source": [
    "prob.sum(axis=1)"
   ]
  },
  {
   "cell_type": "code",
   "execution_count": 17,
   "metadata": {},
   "outputs": [],
   "source": [
    "from sklearn.metrics import confusion_matrix as CM"
   ]
  },
  {
   "cell_type": "code",
   "execution_count": 18,
   "metadata": {
    "collapsed": true,
    "jupyter": {
     "outputs_hidden": true
    }
   },
   "outputs": [
    {
     "data": {
      "text/plain": [
       "array([[47,  0,  0,  0,  0,  0,  0,  1,  0,  0],\n",
       "       [ 0, 46,  2,  0,  0,  0,  0,  3,  6,  2],\n",
       "       [ 0,  2, 35,  0,  0,  0,  1,  0, 16,  0],\n",
       "       [ 0,  0,  1, 40,  0,  1,  0,  3,  4,  0],\n",
       "       [ 0,  0,  1,  0, 39,  0,  1,  4,  0,  0],\n",
       "       [ 0,  0,  0,  2,  0, 58,  1,  1,  1,  0],\n",
       "       [ 0,  0,  1,  0,  0,  1, 49,  0,  0,  0],\n",
       "       [ 0,  0,  0,  0,  0,  0,  0, 54,  0,  0],\n",
       "       [ 0,  3,  0,  1,  0,  0,  0,  2, 55,  0],\n",
       "       [ 1,  1,  0,  1,  2,  0,  0,  3,  7, 41]], dtype=int64)"
      ]
     },
     "execution_count": 18,
     "metadata": {},
     "output_type": "execute_result"
    }
   ],
   "source": [
    "CM(Ytest,Y_pred) \n",
    "#注意，ROC曲线是不能用于多分类的。多分类状况下最佳的模型评估指标是混淆矩阵和整体的准确度"
   ]
  },
  {
   "cell_type": "markdown",
   "metadata": {},
   "source": [
    "探索高斯朴素贝叶斯擅长的数据集"
   ]
  },
  {
   "cell_type": "code",
   "execution_count": 24,
   "metadata": {},
   "outputs": [
    {
     "ename": "IndentationError",
     "evalue": "unindent does not match any outer indentation level (<tokenize>, line 27)",
     "output_type": "error",
     "traceback": [
      "\u001b[1;36m  File \u001b[1;32m\"<tokenize>\"\u001b[1;36m, line \u001b[1;32m27\u001b[0m\n\u001b[1;33m    x1_min, x1_max = X[:, 0].min() - .5, X[:, 0].max() + .5\u001b[0m\n\u001b[1;37m    ^\u001b[0m\n\u001b[1;31mIndentationError\u001b[0m\u001b[1;31m:\u001b[0m unindent does not match any outer indentation level\n"
     ]
    }
   ],
   "source": [
    "import numpy as np\n",
    "import matplotlib.pyplot as plt\n",
    "from matplotlib.colors import ListedColormap\n",
    "from sklearn.model_selection import train_test_split\n",
    "from sklearn.preprocessing import StandardScaler\n",
    "from sklearn.datasets import make_moons, make_circles, make_classification\n",
    "from sklearn.naive_bayes import GaussianNB\n",
    "\n",
    "h = .02\n",
    "names = [\"Multinomial\",\"Gaussian\",\"Bernoulli\",\"Complement\"]\n",
    "classifiers = [MultinomialNB(),GaussianNB(),BernoulliNB(),ComplementNB()]\n",
    "X, y = make_classification(n_features=2, n_redundant=0, n_informative=2,random_state=1, n_clusters_per_class=1)\n",
    "rng = np.random.RandomState(2) \n",
    "X += 2 * rng.uniform(size=X.shape)\n",
    "linearly_separable = (X, y)\n",
    "datasets = [make_moons(noise=0.3, random_state=0),\n",
    "            make_circles(noise=0.2, factor=0.5, random_state=1),\n",
    "            linearly_separable\n",
    "           ]\n",
    "figure = plt.figure(figsize=(6, 9))\n",
    "\n",
    "i = 1\n",
    "for ds_index, ds in enumerate(datasets):\n",
    "    X, y = ds\n",
    "    X = StandardScaler().fit_transform(X) \n",
    "    X_train, X_test, y_train, y_test = train_test_split(X, y, test_size=.4, random_state=42)\n",
    "    x1_min, x1_max = X[:, 0].min() - .5, X[:, 0].max() + .5\n",
    "    x2_min, x2_max = X[:, 1].min() - .5, X[:, 1].max() + .5\n",
    "    array1,array2 = np.meshgrid(np.arange(x1_min, x1_max, 0.2),np.arange(x2_min, x2_max, 0.2))\n",
    "    cm = plt.cm.RdBu\n",
    "    cm_bright = ListedColormap(['#FF0000', '#0000FF'])\n",
    "    ax = plt.subplot(len(datasets), 2, i)\n",
    "    if ds_index == 0:\n",
    "        ax.set_title(\"Input data\")\n",
    "    ax.scatter(X_train[:, 0], X_train[:, 1], c=y_train, \n",
    "               cmap=cm_bright,edgecolors='k')\n",
    "    ax.scatter(X_test[:, 0], X_test[:, 1], c=y_test, \n",
    "               cmap=cm_bright, alpha=0.6,edgecolors='k')\n",
    "    ax.set_xlim(array1.min(), array1.max())\n",
    "    ax.set_ylim(array2.min(), array2.max())\n",
    "    ax.set_xticks(())\n",
    "    ax.set_yticks(())\n",
    "    i += 1\n",
    "    ax = plt.subplot(len(datasets),2,i)\n",
    "    clf = GaussianNB().fit(X_train, y_train)\n",
    "    score = clf.score(X_test, y_test)\n",
    "\n",
    "    Z = clf.predict_proba(np.c_[array1.ravel(),array2.ravel()])[:, 1]\n",
    "    Z = Z.reshape(array1.shape)\n",
    "    ax.contourf(array1, array2, Z, cmap=cm, alpha=.8)\n",
    "    ax.scatter(X_train[:, 0], X_train[:, 1], c=y_train, cmap=cm_bright,\n",
    "                edgecolors='k')\n",
    "    ax.scatter(X_test[:, 0], X_test[:, 1], c=y_test, cmap=cm_bright,\n",
    "                edgecolors='k', alpha=0.6)\n",
    "\n",
    "    ax.set_xlim(array1.min(), array1.max())\n",
    "    ax.set_ylim(array2.min(), array2.max())\n",
    "    ax.set_xticks(())\n",
    "    ax.set_yticks(())\n",
    "    if ds_index == 0:\n",
    "        ax.set_title(\"Gaussian Bayes\")\n",
    "   \n",
    "   ax.text(array1.max() - .3, array2.min() + .3, ('{:.1f}%'.format(score*100)),\n",
    "            size=15, horizontalalignment='right')\n",
    "    i += 1\n",
    "plt.tight_layout()\n",
    "plt.show()"
   ]
  },
  {
   "cell_type": "markdown",
   "metadata": {},
   "source": [
    "探索贝叶斯：高斯朴素贝叶斯的拟合效果与运算速度"
   ]
  },
  {
   "cell_type": "code",
   "execution_count": 1,
   "metadata": {},
   "outputs": [],
   "source": [
    "import numpy as np\n",
    "import matplotlib.pyplot as plt\n",
    "\n",
    "from sklearn.naive_bayes import GaussianNB\n",
    "from sklearn.svm import SVC\n",
    "from sklearn.ensemble import RandomForestClassifier as RFC\n",
    "from sklearn.tree import DecisionTreeClassifier as DTC\n",
    "from sklearn.linear_model import LogisticRegression as LR\n",
    "\n",
    "from sklearn.datasets import load_digits\n",
    "\n",
    "from sklearn.model_selection import learning_curve  # 画学习曲线的类\n",
    "\n",
    "from sklearn.model_selection import ShuffleSplit  # 设定交叉验证模式的类\n",
    "from time import time\n",
    "import datetime"
   ]
  },
  {
   "cell_type": "code",
   "execution_count": 2,
   "metadata": {},
   "outputs": [],
   "source": [
    "# 我输入我的分类器，我们的数据，画图所需要的的一系列参数，交叉验证的模式，以及其他可能的参数\n",
    "# 一次性帮助我们画出所有的学习曲线\n",
    "\n",
    "# 找出每个图像所需要的的横纵坐标\n",
    "# 绘制子图所在的画布plt.figure()/plt.subplots(1,5,figsize=[30,6])\n",
    "# 然后在画布上绘图\n",
    "\n",
    "def plot_learning_curve(estimator,title, X, y, \n",
    "                        ax, #选择子图\n",
    "                        ylim=None, #设置纵坐标的取值范围\n",
    "                        cv=None, #交叉验证\n",
    "                        n_jobs=None #设定索要使用的线程\n",
    "                        ):\n",
    "    train_sizes,train_scores,test_scores = learning_curve(estimator,X,y,cv=cv,n_jobs=n_jobs) \n",
    "    \n",
    "    ax.set_title(title)\n",
    "    \n",
    "    if ylim is not None:\n",
    "        ax.set_ylim(*ylim)\n",
    "        \n",
    "    ax.set_xlabel(\"Training examples\")\n",
    "    ax.set_ylabel(\"Score\")\n",
    "    ax.grid()      #显示网格作为背景，不是必须\n",
    "    ax.plot(train_sizes, np.mean(train_scores, axis=1), 'o-'  # o- 指带点的直线\n",
    "           , color=\"r\",label=\"Training score\")\n",
    "    ax.plot(train_sizes, np.mean(test_scores, axis=1), 'o-'\n",
    "           , color=\"g\",label=\"Test score\")\n",
    "    ax.legend(loc=\"best\")\n",
    "    return ax"
   ]
  },
  {
   "cell_type": "code",
   "execution_count": 3,
   "metadata": {},
   "outputs": [],
   "source": [
    "digits = load_digits()\n",
    "X, y = digits.data, digits.target\n",
    "X.shape\n",
    "X #是一个稀疏矩阵\n",
    "title = [\"Naive Bayes\",\"DecisionTree\",\"SVM, RBF kernel\",\"RandomForest\",\"Logistic\"] \n",
    "model = [GaussianNB(),DTC(),SVC(gamma=0.001),RFC(n_estimators=50),LR(C=.1,solver=\"lbfgs\")]\n",
    "cv = ShuffleSplit(n_splits=50, test_size=0.2, random_state=0)"
   ]
  },
  {
   "cell_type": "code",
   "execution_count": 4,
   "metadata": {},
   "outputs": [
    {
     "name": "stdout",
     "output_type": "stream",
     "text": [
      "Naive Bayes:00:20:626007\n",
      "DecisionTree:00:03:847809\n",
      "SVM, RBF kernel:00:15:555247\n",
      "RandomForest:00:17:008044\n",
      "Logistic:01:02:824408\n"
     ]
    },
    {
     "data": {
      "image/png": "[encoded data removed]",
      "text/plain": [
       "<Figure size 2160x432 with 5 Axes>"
      ]
     },
     "metadata": {
      "needs_background": "light"
     },
     "output_type": "display_data"
    }
   ],
   "source": [
    "fig, axes = plt.subplots(1,5,figsize=(30,6))\n",
    "for ind,title_,estimator in zip(range(len(title)),title,model):\n",
    "    times = time()\n",
    "    plot_learning_curve(estimator, title_, X, y,\n",
    "                        ax=axes[ind], ylim = [0.7, 1.05],n_jobs=4, cv=cv)\n",
    "    print(\"{}:{}\".format(title_,datetime.datetime.fromtimestamp(time()-times).strftime(\"%M:%S:%f\")))\n",
    "plt.show()"
   ]
  },
  {
   "cell_type": "code",
   "execution_count": 1,
   "metadata": {},
   "outputs": [],
   "source": [
    "# [*zip(range(len(title)),title,model)]"
   ]
  },
  {
   "cell_type": "code",
   "execution_count": 5,
   "metadata": {},
   "outputs": [],
   "source": [
    "clf = GaussianNB()\n",
    "cv = ShuffleSplit(n_splits=50  # 把数据分为多少份\n",
    "                  , test_size=0.2  # 20%作为测试集\n",
    "                  , random_state=0  # 分交叉验证的份数的时候进行的随机抽样的模式\n",
    "                 )   # 规定好了交叉验证需要使用什么样的方法"
   ]
  },
  {
   "cell_type": "code",
   "execution_count": 6,
   "metadata": {},
   "outputs": [],
   "source": [
    "train_sizes,train_scores,test_scores = learning_curve(clf  # 分类器，clf\n",
    "                                                      ,X,y  # 特征矩阵和标签\n",
    "                                                      ,cv=cv  # 表示交叉验证的模式\n",
    "                                                      ,n_jobs=4  # 每次运行的时候可以并行使用的线程\n",
    "                                                      # 每次运行的时候可以允许算法使用多少资源 \n",
    "                                                     ) \n",
    "# 线程：算法在运行时，对计算机的计算资源的控制是多少"
   ]
  },
  {
   "cell_type": "code",
   "execution_count": 7,
   "metadata": {},
   "outputs": [
    {
     "data": {
      "text/plain": [
       "array([ 143,  467,  790, 1113, 1437])"
      ]
     },
     "execution_count": 7,
     "metadata": {},
     "output_type": "execute_result"
    }
   ],
   "source": [
    "train_sizes  # 每次分训练集和测试集建模之后，训练集上的样本数量"
   ]
  },
  {
   "cell_type": "code",
   "execution_count": 2,
   "metadata": {},
   "outputs": [],
   "source": [
    "# train_scores # 训练集上的分数"
   ]
  },
  {
   "cell_type": "code",
   "execution_count": 9,
   "metadata": {},
   "outputs": [
    {
     "data": {
      "text/plain": [
       "(5, 50)"
      ]
     },
     "execution_count": 9,
     "metadata": {},
     "output_type": "execute_result"
    }
   ],
   "source": [
    "train_scores.shape"
   ]
  },
  {
   "cell_type": "code",
   "execution_count": 10,
   "metadata": {},
   "outputs": [
    {
     "data": {
      "text/plain": [
       "(5, 50)"
      ]
     },
     "execution_count": 10,
     "metadata": {},
     "output_type": "execute_result"
    }
   ],
   "source": [
    "test_scores.shape"
   ]
  },
  {
   "cell_type": "markdown",
   "metadata": {},
   "source": [
    "得出结论：   \n",
    "贝叶斯速度非常快，但是分类效果算是一般，基本上没有调参的余地了，只要样本量够大，第一次得出的结果就已经比较   \n",
    "接近极限了。如果我们追求的是概率预测，首先应该用逻辑回归，但如果逻辑回归在稀疏矩阵等计算太过缓慢的话，我们   \n",
    "会考虑贝叶斯。总而言之，在能够使用逻辑回归的情况下，我们更倾向于使用逻辑回归。当数据的维度太高，   \n",
    "而我们又没有办法降维的话，那我们就是用贝叶斯。贝叶斯在高维数据上计算的非常快速。"
   ]
  },
  {
   "cell_type": "markdown",
   "metadata": {},
   "source": [
    "如果我们的分类目标不是要追求概率，我们可以试试贝叶斯和决策树哪个效果好，因为这两个计算的快，如果在   \n",
    "测试集上表现的效果已经很好了，那我们就没有必要换支持向量机或随机森林了，这样，运算速度又快，又好解释。   "
   ]
  },
  {
   "cell_type": "markdown",
   "metadata": {},
   "source": [
    "但是无论如何，拿到数据我们要先想，我的目的是什么，是概率还是我只是想分类，然后要想，我的数据是怎样过的   \n",
    "我的维度多不多，我希望它计算的快还是慢，我有什么样的其他的目标和追求，然后我们再来决定我们使用怎样的模型。"
   ]
  },
  {
   "cell_type": "markdown",
   "metadata": {},
   "source": [
    "布里尔分数（Brier Score）: 衡量预测出的概率和真实结果的差异的一种方式。计算式为    \n",
    "朴素贝叶斯预测出的概率和真实结果的均方误差"
   ]
  },
  {
   "cell_type": "code",
   "execution_count": 12,
   "metadata": {},
   "outputs": [],
   "source": [
    "from sklearn.metrics import brier_score_loss"
   ]
  },
  {
   "cell_type": "code",
   "execution_count": 25,
   "metadata": {},
   "outputs": [
    {
     "data": {
      "text/plain": [
       "0.032619662406118764"
      ]
     },
     "execution_count": 25,
     "metadata": {},
     "output_type": "execute_result"
    }
   ],
   "source": [
    "#注意，第一个参数是真实标签，第二个参数是预测出的概率值\n",
    "#在二分类情况下，接口predict_proba会返回两列，但SVC的接口decision_function却只会返回一列\n",
    "#要随时注意，使用了怎样的概率分类器，以辨别查找置信度的接口，以及这些接口的结构\n",
    "brier_score_loss(Ytest, prob[:,1], pos_label=1)\n",
    "#我们的pos_label与prob中的索引一致，就可以查看这个类别下的布里尔分数是多少\n",
    "\n",
    "# 一定要明确多分类下哪一个类的概率，以及哪一个类的布里尔分数。它只能判断某一个类别，它的布里尔分数是多少。\n",
    "# 不能整体判断整体的布里尔分数是多少。"
   ]
  },
  {
   "cell_type": "markdown",
   "metadata": {},
   "source": [
    "布里尔分数可以用于任何可以使用predict_proba接口调用概率的模型"
   ]
  },
  {
   "cell_type": "code",
   "execution_count": 26,
   "metadata": {},
   "outputs": [
    {
     "data": {
      "text/plain": [
       "0.0680707157691044"
      ]
     },
     "execution_count": 26,
     "metadata": {},
     "output_type": "execute_result"
    }
   ],
   "source": [
    "from sklearn.metrics import brier_score_loss\n",
    "brier_score_loss(Ytest,prob[:,8],pos_label=8)"
   ]
  },
  {
   "cell_type": "code",
   "execution_count": 27,
   "metadata": {},
   "outputs": [],
   "source": [
    "from sklearn.svm import SVC\n",
    "from sklearn.linear_model import LogisticRegression as LR"
   ]
  },
  {
   "cell_type": "code",
   "execution_count": 29,
   "metadata": {},
   "outputs": [
    {
     "data": {
      "text/plain": [
       "array([0, 1, 2, 3, 4, 5, 6, 7, 8, 9])"
      ]
     },
     "execution_count": 29,
     "metadata": {},
     "output_type": "execute_result"
    }
   ],
   "source": [
    "np.unique(Ytrain)"
   ]
  },
  {
   "cell_type": "code",
   "execution_count": 28,
   "metadata": {},
   "outputs": [],
   "source": [
    "logi = LR(C=1., solver='lbfgs',max_iter=3000,multi_class=\"auto\").fit(Xtrain,Ytrain)\n",
    "svc = SVC(kernel = \"linear\",gamma=1).fit(Xtrain,Ytrain)"
   ]
  },
  {
   "cell_type": "code",
   "execution_count": 30,
   "metadata": {},
   "outputs": [
    {
     "data": {
      "text/plain": [
       "0.01144395640842291"
      ]
     },
     "execution_count": 30,
     "metadata": {},
     "output_type": "execute_result"
    }
   ],
   "source": [
    "brier_score_loss(Ytest,logi.predict_proba(Xtest)[:,1],pos_label=1)"
   ]
  },
  {
   "cell_type": "code",
   "execution_count": 31,
   "metadata": {},
   "outputs": [],
   "source": [
    "#由于SVC的置信度并不是概率，为了可比性，我们需要将SVC的置信度“距离”归一化，压缩到[0,1]之间\n",
    "svc_prob = (svc.decision_function(Xtest)-svc.decision_function(Xtest).min())/(svc.decision_function(Xtest).max() -svc.decision_function(Xtest).min())"
   ]
  },
  {
   "cell_type": "code",
   "execution_count": 32,
   "metadata": {},
   "outputs": [
    {
     "data": {
      "text/plain": [
       "0.23818950248917947"
      ]
     },
     "execution_count": 32,
     "metadata": {},
     "output_type": "execute_result"
    }
   ],
   "source": [
    "brier_score_loss(Ytest,svc_prob[:,1],pos_label=1)               "
   ]
  },
  {
   "cell_type": "markdown",
   "metadata": {},
   "source": [
    "可以观察到，逻辑回归的布里尔分数有着压倒性优势,SVC的效果明显弱于贝叶斯和逻辑回归（如同我们之前在SVC\n",
    "的讲解中说明过的一样，SVC是强行利用sigmoid函数来压缩概率，因此SVC产出的概率结果并不那么可靠）。贝叶\n",
    "斯位于逻辑回归和SVC之间，效果也不错，但比起逻辑回归，还是不够精确和稳定。"
   ]
  },
  {
   "cell_type": "markdown",
   "metadata": {},
   "source": [
    "支持向量机在预测概率时，明显是不如贝叶斯和逻辑回归的。"
   ]
  },
  {
   "cell_type": "code",
   "execution_count": 33,
   "metadata": {},
   "outputs": [],
   "source": [
    "import pandas as pd\n",
    "name = [\"Bayes\",\"Logistic\",\"SVC\"]\n",
    "color = [\"red\",\"black\",\"orange\"]\n",
    "df = pd.DataFrame(index=range(10),columns=name)"
   ]
  },
  {
   "cell_type": "code",
   "execution_count": 36,
   "metadata": {},
   "outputs": [
    {
     "data": {
      "image/png": "[encoded data removed]",
      "text/plain": [
       "<Figure size 432x288 with 1 Axes>"
      ]
     },
     "metadata": {
      "needs_background": "light"
     },
     "output_type": "display_data"
    }
   ],
   "source": [
    "for i in range(10):\n",
    "    df.loc[i,name[0]] = brier_score_loss(Ytest,prob[:,i],pos_label=i)\n",
    "    df.loc[i,name[1]] = brier_score_loss(Ytest,logi.predict_proba(Xtest)[:,i],pos_label=i)\n",
    "    df.loc[i,name[2]] = brier_score_loss(Ytest,svc_prob[:,i],pos_label=i)\n",
    "for i in range(df.shape[1]):\n",
    "    plt.plot(range(10),df.iloc[:,i],c=color[i])\n",
    "plt.legend()\n",
    "plt.show()"
   ]
  },
  {
   "cell_type": "code",
   "execution_count": 37,
   "metadata": {},
   "outputs": [
    {
     "data": {
      "text/html": [
       "<div>\n",
       "<style scoped>\n",
       "    .dataframe tbody tr th:only-of-type {\n",
       "        vertical-align: middle;\n",
       "    }\n",
       "\n",
       "    .dataframe tbody tr th {\n",
       "        vertical-align: top;\n",
       "    }\n",
       "\n",
       "    .dataframe thead th {\n",
       "        text-align: right;\n",
       "    }\n",
       "</style>\n",
       "<table border=\"1\" class=\"dataframe\">\n",
       "  <thead>\n",
       "    <tr style=\"text-align: right;\">\n",
       "      <th></th>\n",
       "      <th>Bayes</th>\n",
       "      <th>Logistic</th>\n",
       "      <th>SVC</th>\n",
       "    </tr>\n",
       "  </thead>\n",
       "  <tbody>\n",
       "    <tr>\n",
       "      <th>0</th>\n",
       "      <td>0.00368051</td>\n",
       "      <td>9.02557e-06</td>\n",
       "      <td>0.0977746</td>\n",
       "    </tr>\n",
       "    <tr>\n",
       "      <th>1</th>\n",
       "      <td>0.0326197</td>\n",
       "      <td>0.011444</td>\n",
       "      <td>0.23819</td>\n",
       "    </tr>\n",
       "    <tr>\n",
       "      <th>2</th>\n",
       "      <td>0.040738</td>\n",
       "      <td>0.00267391</td>\n",
       "      <td>0.150612</td>\n",
       "    </tr>\n",
       "    <tr>\n",
       "      <th>3</th>\n",
       "      <td>0.0242275</td>\n",
       "      <td>0.00572442</td>\n",
       "      <td>0.342311</td>\n",
       "    </tr>\n",
       "    <tr>\n",
       "      <th>4</th>\n",
       "      <td>0.0137171</td>\n",
       "      <td>0.00169112</td>\n",
       "      <td>0.166205</td>\n",
       "    </tr>\n",
       "    <tr>\n",
       "      <th>5</th>\n",
       "      <td>0.0127707</td>\n",
       "      <td>0.00422794</td>\n",
       "      <td>0.230307</td>\n",
       "    </tr>\n",
       "    <tr>\n",
       "      <th>6</th>\n",
       "      <td>0.00890695</td>\n",
       "      <td>0.000914958</td>\n",
       "      <td>0.17735</td>\n",
       "    </tr>\n",
       "    <tr>\n",
       "      <th>7</th>\n",
       "      <td>0.0280067</td>\n",
       "      <td>0.00175736</td>\n",
       "      <td>0.18596</td>\n",
       "    </tr>\n",
       "    <tr>\n",
       "      <th>8</th>\n",
       "      <td>0.0680707</td>\n",
       "      <td>0.0100677</td>\n",
       "      <td>0.497354</td>\n",
       "    </tr>\n",
       "    <tr>\n",
       "      <th>9</th>\n",
       "      <td>0.0315248</td>\n",
       "      <td>0.00872097</td>\n",
       "      <td>0.283608</td>\n",
       "    </tr>\n",
       "  </tbody>\n",
       "</table>\n",
       "</div>"
      ],
      "text/plain": [
       "        Bayes     Logistic        SVC\n",
       "0  0.00368051  9.02557e-06  0.0977746\n",
       "1   0.0326197     0.011444    0.23819\n",
       "2    0.040738   0.00267391   0.150612\n",
       "3   0.0242275   0.00572442   0.342311\n",
       "4   0.0137171   0.00169112   0.166205\n",
       "5   0.0127707   0.00422794   0.230307\n",
       "6  0.00890695  0.000914958    0.17735\n",
       "7   0.0280067   0.00175736    0.18596\n",
       "8   0.0680707    0.0100677   0.497354\n",
       "9   0.0315248   0.00872097   0.283608"
      ]
     },
     "execution_count": 37,
     "metadata": {},
     "output_type": "execute_result"
    }
   ],
   "source": [
    "df"
   ]
  },
  {
   "cell_type": "markdown",
   "metadata": {},
   "source": [
    "另一个衡量概率类评估指标：对数似然函数Log Loss(log_loss),被定义为：对于任何一个给定的概率分类器来说，   \n",
    "我们求解预测概率为条件的情况下，真实概率发生的可能性的负对数。"
   ]
  },
  {
   "cell_type": "code",
   "execution_count": 39,
   "metadata": {},
   "outputs": [],
   "source": [
    "from sklearn.metrics import log_loss"
   ]
  },
  {
   "cell_type": "code",
   "execution_count": 40,
   "metadata": {},
   "outputs": [
    {
     "data": {
      "text/plain": [
       "2.4725653911460683"
      ]
     },
     "execution_count": 40,
     "metadata": {},
     "output_type": "execute_result"
    }
   ],
   "source": [
    "log_loss(Ytest,prob)"
   ]
  },
  {
   "cell_type": "code",
   "execution_count": 41,
   "metadata": {},
   "outputs": [
    {
     "data": {
      "text/plain": [
       "0.12756447917548608"
      ]
     },
     "execution_count": 41,
     "metadata": {},
     "output_type": "execute_result"
    }
   ],
   "source": [
    "log_loss(Ytest,logi.predict_proba(Xtest))"
   ]
  },
  {
   "cell_type": "code",
   "execution_count": 42,
   "metadata": {},
   "outputs": [
    {
     "data": {
      "text/plain": [
       "1.625556312147472"
      ]
     },
     "execution_count": 42,
     "metadata": {},
     "output_type": "execute_result"
    }
   ],
   "source": [
    "log_loss(Ytest,svc_prob)"
   ]
  },
  {
   "cell_type": "markdown",
   "metadata": {},
   "source": [
    "注意到，我们用log_loss得出的结论和我们使用布里尔分数得出的结论不一致：当使用布里尔分数作为评判标准的时\n",
    "候，SVC的估计效果是最差的，逻辑回归和贝叶斯的结果相接近。而使用对数似然的时候，虽然依然是逻辑回归最强\n",
    "大，但贝叶斯却没有SVC的效果好。为什么会有这样的不同呢？\n",
    "因为逻辑回归和SVC都是以最优化为目的来求解模型，然后进行分类的算法。而朴素贝叶斯中，却没有最优化的过\n",
    "程。对数似然函数直接指向模型最优化的方向，甚至就是逻辑回归的损失函数本身，因此在逻辑回归和SVC上表现得\n",
    "更好。"
   ]
  },
  {
   "cell_type": "markdown",
   "metadata": {},
   "source": [
    "在现实应用中，对数似然函数是概率类模型评估的黄金指标，往往是我们评估概率类模型的优先选择。要求概率的话，一般不会用贝叶斯   \n",
    "，常常用逻辑回归或支持向量机求解类概率，很少使用我们的朴素贝叶斯。但是它也有一些缺点，首先它会偏向于有最优化算法的这些   \n",
    "算法，它没有界，不像布里尔分数有上限，可以作为模型效果的参考。其次，它的解释性不如布里尔分数，很难与非技术人员去交流对   \n",
    "数似然存在的可靠性和必要性。第三，它在以最优化为目标的模型上明显表现更好。"
   ]
  },
  {
   "cell_type": "markdown",
   "metadata": {},
   "source": [
    "多分类，更倾向于对数似然函数，因为它可以一次性衡量我们多分类的结果。如果我们要看的是二分类，我们用   \n",
    "布里尔分数。如果我要对比多个模型，用对数似然函数。单一模型就用布里尔分数，因为布里尔分数有界。   \n",
    "概率能取到0或1时，用布里尔分数，不能取到0或1时用对数似然。"
   ]
  },
  {
   "cell_type": "markdown",
   "metadata": {},
   "source": [
    "可靠性曲线：Reliability Curve   \n",
    "又叫概率校准曲线，可靠性图。   \n",
    "统计学中用来衡量概率预测的评估指标。以概率预测为横坐标，真实标签为纵坐标的曲线。   \n",
    "该曲线越靠近 y = x 越好"
   ]
  },
  {
   "cell_type": "markdown",
   "metadata": {},
   "source": [
    "和布尔分数相似，概率校准曲线是对于标签的某一类别来说的，因此一类标签就会有一条曲线。通常   \n",
    "曲线用于二分类的情况较多。"
   ]
  },
  {
   "cell_type": "code",
   "execution_count": 1,
   "metadata": {},
   "outputs": [],
   "source": [
    "import numpy as np\n",
    "import matplotlib.pyplot as plt\n",
    "from sklearn.datasets import make_classification as mc\n",
    "from sklearn.naive_bayes import GaussianNB\n",
    "from sklearn.svm import SVC\n",
    "from sklearn.linear_model import LogisticRegression as LR\n",
    "from sklearn.metrics import brier_score_loss\n",
    "from sklearn.model_selection import train_test_split"
   ]
  },
  {
   "cell_type": "code",
   "execution_count": 2,
   "metadata": {},
   "outputs": [],
   "source": [
    "X, y = mc(n_samples=100000,n_features=20 #总共20个特征\n",
    "            ,n_classes=2 #标签为2分类\n",
    "            ,n_informative=2 #其中两个代表较多信息\n",
    "            ,n_redundant=10 #10个都是冗余特征\n",
    "            ,random_state=42) "
   ]
  },
  {
   "cell_type": "raw",
   "metadata": {},
   "source": [
    "#样本量足够大，因此使用1%的样本作为训练集\n",
    "Xtrain, Xtest, Ytrain, Ytest = train_test_split(X, y\n",
    "                                                ,test_size=0.99   # 训练集会很小，测试集会很大\n",
    "                                                ,random_state=42)"
   ]
  },
  {
   "cell_type": "code",
   "execution_count": 4,
   "metadata": {},
   "outputs": [
    {
     "data": {
      "text/plain": [
       "(1000, 20)"
      ]
     },
     "execution_count": 4,
     "metadata": {},
     "output_type": "execute_result"
    }
   ],
   "source": [
    "Xtrain.shape"
   ]
  },
  {
   "cell_type": "code",
   "execution_count": 5,
   "metadata": {},
   "outputs": [
    {
     "data": {
      "text/plain": [
       "(99000, 20)"
      ]
     },
     "execution_count": 5,
     "metadata": {},
     "output_type": "execute_result"
    }
   ],
   "source": [
    "Xtest.shape"
   ]
  },
  {
   "cell_type": "code",
   "execution_count": 6,
   "metadata": {},
   "outputs": [
    {
     "data": {
      "text/plain": [
       "array([0, 1])"
      ]
     },
     "execution_count": 6,
     "metadata": {},
     "output_type": "execute_result"
    }
   ],
   "source": [
    "np.unique(Ytrain)"
   ]
  },
  {
   "cell_type": "code",
   "execution_count": 7,
   "metadata": {},
   "outputs": [
    {
     "data": {
      "text/plain": [
       "array([0, 1, 0, ..., 1, 1, 0])"
      ]
     },
     "execution_count": 7,
     "metadata": {},
     "output_type": "execute_result"
    }
   ],
   "source": [
    "y"
   ]
  },
  {
   "cell_type": "code",
   "execution_count": 8,
   "metadata": {},
   "outputs": [],
   "source": [
    "gnb = GaussianNB()\n",
    "gnb.fit(Xtrain,Ytrain)\n",
    "y_pred = gnb.predict(Xtest)\n",
    "prob_pos = gnb.predict_proba(Xtest)[:,1] #我们的预测概率 - 横坐标\n",
    "#Ytest - 我们的真实标签 - 横坐标"
   ]
  },
  {
   "cell_type": "code",
   "execution_count": 9,
   "metadata": {},
   "outputs": [],
   "source": [
    "import pandas as pd\n",
    "#在我们的横纵表坐标上，概率是由顺序的（由小到大），为了让图形规整一些，我们要先对预测概率和真实标签按照预测\n",
    "# 概率进行一个排序，这一点我们通过DataFrame来实现\n",
    "df = pd.DataFrame({\"ytrue\":Ytest[:500],\"probability\":prob_pos[:500]})\n",
    "\n",
    "# 利用字典来创建DataFrame({\"列的名称\"：[列的值]})"
   ]
  },
  {
   "cell_type": "code",
   "execution_count": 10,
   "metadata": {},
   "outputs": [
    {
     "data": {
      "text/html": [
       "<div>\n",
       "<style scoped>\n",
       "    .dataframe tbody tr th:only-of-type {\n",
       "        vertical-align: middle;\n",
       "    }\n",
       "\n",
       "    .dataframe tbody tr th {\n",
       "        vertical-align: top;\n",
       "    }\n",
       "\n",
       "    .dataframe thead th {\n",
       "        text-align: right;\n",
       "    }\n",
       "</style>\n",
       "<table border=\"1\" class=\"dataframe\">\n",
       "  <thead>\n",
       "    <tr style=\"text-align: right;\">\n",
       "      <th></th>\n",
       "      <th>ytrue</th>\n",
       "      <th>probability</th>\n",
       "    </tr>\n",
       "  </thead>\n",
       "  <tbody>\n",
       "    <tr>\n",
       "      <th>0</th>\n",
       "      <td>1</td>\n",
       "      <td>9.999997e-01</td>\n",
       "    </tr>\n",
       "    <tr>\n",
       "      <th>1</th>\n",
       "      <td>0</td>\n",
       "      <td>9.999964e-01</td>\n",
       "    </tr>\n",
       "    <tr>\n",
       "      <th>2</th>\n",
       "      <td>1</td>\n",
       "      <td>1.000000e+00</td>\n",
       "    </tr>\n",
       "    <tr>\n",
       "      <th>3</th>\n",
       "      <td>1</td>\n",
       "      <td>9.886612e-01</td>\n",
       "    </tr>\n",
       "    <tr>\n",
       "      <th>4</th>\n",
       "      <td>0</td>\n",
       "      <td>8.441773e-18</td>\n",
       "    </tr>\n",
       "  </tbody>\n",
       "</table>\n",
       "</div>"
      ],
      "text/plain": [
       "   ytrue   probability\n",
       "0      1  9.999997e-01\n",
       "1      0  9.999964e-01\n",
       "2      1  1.000000e+00\n",
       "3      1  9.886612e-01\n",
       "4      0  8.441773e-18"
      ]
     },
     "execution_count": 10,
     "metadata": {},
     "output_type": "execute_result"
    }
   ],
   "source": [
    "df.head()"
   ]
  },
  {
   "cell_type": "code",
   "execution_count": 11,
   "metadata": {},
   "outputs": [],
   "source": [
    "df = df.sort_values(by=\"probability\")"
   ]
  },
  {
   "cell_type": "code",
   "execution_count": 12,
   "metadata": {},
   "outputs": [],
   "source": [
    "df.index = range(df.shape[0])"
   ]
  },
  {
   "cell_type": "code",
   "execution_count": 13,
   "metadata": {},
   "outputs": [
    {
     "data": {
      "text/html": [
       "<div>\n",
       "<style scoped>\n",
       "    .dataframe tbody tr th:only-of-type {\n",
       "        vertical-align: middle;\n",
       "    }\n",
       "\n",
       "    .dataframe tbody tr th {\n",
       "        vertical-align: top;\n",
       "    }\n",
       "\n",
       "    .dataframe thead th {\n",
       "        text-align: right;\n",
       "    }\n",
       "</style>\n",
       "<table border=\"1\" class=\"dataframe\">\n",
       "  <thead>\n",
       "    <tr style=\"text-align: right;\">\n",
       "      <th></th>\n",
       "      <th>ytrue</th>\n",
       "      <th>probability</th>\n",
       "    </tr>\n",
       "  </thead>\n",
       "  <tbody>\n",
       "    <tr>\n",
       "      <th>0</th>\n",
       "      <td>0</td>\n",
       "      <td>1.824809e-21</td>\n",
       "    </tr>\n",
       "    <tr>\n",
       "      <th>1</th>\n",
       "      <td>0</td>\n",
       "      <td>6.610435e-21</td>\n",
       "    </tr>\n",
       "    <tr>\n",
       "      <th>2</th>\n",
       "      <td>0</td>\n",
       "      <td>4.171566e-19</td>\n",
       "    </tr>\n",
       "    <tr>\n",
       "      <th>3</th>\n",
       "      <td>0</td>\n",
       "      <td>8.441773e-18</td>\n",
       "    </tr>\n",
       "    <tr>\n",
       "      <th>4</th>\n",
       "      <td>0</td>\n",
       "      <td>1.463199e-17</td>\n",
       "    </tr>\n",
       "  </tbody>\n",
       "</table>\n",
       "</div>"
      ],
      "text/plain": [
       "   ytrue   probability\n",
       "0      0  1.824809e-21\n",
       "1      0  6.610435e-21\n",
       "2      0  4.171566e-19\n",
       "3      0  8.441773e-18\n",
       "4      0  1.463199e-17"
      ]
     },
     "execution_count": 13,
     "metadata": {},
     "output_type": "execute_result"
    }
   ],
   "source": [
    "df.head()"
   ]
  },
  {
   "cell_type": "code",
   "execution_count": 14,
   "metadata": {},
   "outputs": [
    {
     "ename": "NameError",
     "evalue": "name 'clf_score' is not defined",
     "output_type": "error",
     "traceback": [
      "\u001b[1;31m---------------------------------------------------------------------------\u001b[0m",
      "\u001b[1;31mNameError\u001b[0m                                 Traceback (most recent call last)",
      "\u001b[1;32m<ipython-input-14-d70552bf078d>\u001b[0m in \u001b[0;36m<module>\u001b[1;34m\u001b[0m\n\u001b[0;32m      4\u001b[0m \u001b[0max1\u001b[0m\u001b[1;33m.\u001b[0m\u001b[0mplot\u001b[0m\u001b[1;33m(\u001b[0m\u001b[1;33m[\u001b[0m\u001b[1;36m0\u001b[0m\u001b[1;33m,\u001b[0m \u001b[1;36m1\u001b[0m\u001b[1;33m]\u001b[0m\u001b[1;33m,\u001b[0m \u001b[1;33m[\u001b[0m\u001b[1;36m0\u001b[0m\u001b[1;33m,\u001b[0m \u001b[1;36m1\u001b[0m\u001b[1;33m]\u001b[0m\u001b[1;33m,\u001b[0m \u001b[1;34m\"k:\"\u001b[0m\u001b[1;33m,\u001b[0m \u001b[0mlabel\u001b[0m\u001b[1;33m=\u001b[0m\u001b[1;34m\"Perfectly calibrated\"\u001b[0m\u001b[1;33m)\u001b[0m \u001b[1;31m#得做一条对角线来对比呀\u001b[0m\u001b[1;33m\u001b[0m\u001b[1;33m\u001b[0m\u001b[0m\n\u001b[0;32m      5\u001b[0m ax1.plot(df[\"probability\"],df[\"ytrue\"],\"s-\"  # 每一个样本请用小方块，并且连起来\n\u001b[1;32m----> 6\u001b[1;33m          ,label=\"%s (%1.3f)\" % (\"Bayes\", clf_score))\n\u001b[0m\u001b[0;32m      7\u001b[0m \u001b[0max1\u001b[0m\u001b[1;33m.\u001b[0m\u001b[0mset_ylabel\u001b[0m\u001b[1;33m(\u001b[0m\u001b[1;34m\"True label\"\u001b[0m\u001b[1;33m)\u001b[0m\u001b[1;33m\u001b[0m\u001b[1;33m\u001b[0m\u001b[0m\n\u001b[0;32m      8\u001b[0m \u001b[0max1\u001b[0m\u001b[1;33m.\u001b[0m\u001b[0mset_xlabel\u001b[0m\u001b[1;33m(\u001b[0m\u001b[1;34m\"predcited probability\"\u001b[0m\u001b[1;33m)\u001b[0m\u001b[1;33m\u001b[0m\u001b[1;33m\u001b[0m\u001b[0m\n",
      "\u001b[1;31mNameError\u001b[0m: name 'clf_score' is not defined"
     ]
    },
    {
     "data": {
      "image/png": "[encoded data removed]",
      "text/plain": [
       "<Figure size 432x288 with 1 Axes>"
      ]
     },
     "metadata": {
      "needs_background": "light"
     },
     "output_type": "display_data"
    }
   ],
   "source": [
    "#紧接着我们就可以画图了\n",
    "fig = plt.figure()\n",
    "ax1 = plt.subplot()\n",
    "ax1.plot([0, 1], [0, 1], \"k:\", label=\"Perfectly calibrated\") #得做一条对角线来对比呀\n",
    "ax1.plot(df[\"probability\"],df[\"ytrue\"],\"s-\"  # 每一个样本请用小方块，并且连起来\n",
    "         ,label=\"%s (%1.3f)\" % (\"Bayes\", clf_score))\n",
    "ax1.set_ylabel(\"True label\")\n",
    "ax1.set_xlabel(\"predcited probability\")\n",
    "ax1.set_ylim([-0.05, 1.05])\n",
    "ax1.legend()\n",
    "plt.show()"
   ]
  },
  {
   "cell_type": "code",
   "execution_count": 28,
   "metadata": {},
   "outputs": [
    {
     "data": {
      "image/png": "[encoded data removed]",
      "text/plain": [
       "<Figure size 432x288 with 1 Axes>"
      ]
     },
     "metadata": {
      "needs_background": "light"
     },
     "output_type": "display_data"
    }
   ],
   "source": [
    "fig = plt.figure()\n",
    "ax1 = plt.subplot()\n",
    "ax1.plot([0, 1], [0, 1], \"k:\", label=\"Perfectly calibrated\")\n",
    "ax1.scatter(df[\"probability\"],df[\"ytrue\"],s=10)\n",
    "ax1.set_ylabel(\"True label\")\n",
    "ax1.set_xlabel(\"predcited probability\")\n",
    "ax1.set_ylim([-0.05, 1.05])\n",
    "ax1.legend()\n",
    "plt.show()"
   ]
  },
  {
   "cell_type": "markdown",
   "metadata": {},
   "source": [
    "一个简单的做法是，将数据进行分箱，然后规定每个箱子中真实的少数类所占的\n",
    "比例为这个箱上的真实概率trueproba，这个箱子中预测概率的均值为这个箱子的预测概率predproba，然后以\n",
    "trueproba为纵坐标，predproba为横坐标，来绘制我们的可靠性曲线。"
   ]
  },
  {
   "cell_type": "markdown",
   "metadata": {},
   "source": [
    "可见，分箱之后样本点的特征被聚合到了一起，曲线明显变得单调且平滑。这种分箱操作本质相当于是一种平滑，在\n",
    "sklearn中，这样的做法可以通过绘制可靠性曲线的类calibration_curve来实现。和ROC曲线类似，类\n",
    "calibration_curve可以帮助我们获取我们的横纵坐标，然后使用matplotlib来绘制图像。"
   ]
  },
  {
   "cell_type": "markdown",
   "metadata": {},
   "source": [
    "y_true: 真实标签   \n",
    "y_prob: 预测返回的，正类别下的概率值或置信度   \n",
    "Normalize: 默认False，是否将y_prob 中输入的内容归一化到[0,1]之间   \n",
    "n_bins: 分箱的个数   \n",
    "属性：   \n",
    "trueproba: 可靠性曲线的纵坐标，结构是（n_bins）,是每个箱子中少数类(Y=1）的占比   \n",
    "predproba: 可靠性曲线的横坐标，结构是（n_bins）,是每个箱子中概率的均值"
   ]
  },
  {
   "cell_type": "code",
   "execution_count": 40,
   "metadata": {},
   "outputs": [],
   "source": [
    "from sklearn.calibration import calibration_curve"
   ]
  },
  {
   "cell_type": "code",
   "execution_count": 48,
   "metadata": {},
   "outputs": [
    {
     "ename": "ValueError",
     "evalue": "Found input variables with inconsistent numbers of samples: [540, 99000]",
     "output_type": "error",
     "traceback": [
      "\u001b[1;31m---------------------------------------------------------------------------\u001b[0m",
      "\u001b[1;31mValueError\u001b[0m                                Traceback (most recent call last)",
      "\u001b[1;32m<ipython-input-48-16eb36d35faf>\u001b[0m in \u001b[0;36m<module>\u001b[1;34m\u001b[0m\n\u001b[0;32m      1\u001b[0m \u001b[1;31m#从类calibiration_curve中获取横坐标和纵坐标\u001b[0m\u001b[1;33m\u001b[0m\u001b[1;33m\u001b[0m\u001b[1;33m\u001b[0m\u001b[0m\n\u001b[1;32m----> 2\u001b[1;33m trueproba, predproba = calibration_curve(Ytest, prob_pos,n_bins=10 #输入希望分箱的个数\n\u001b[0m\u001b[0;32m      3\u001b[0m                                          )\n",
      "\u001b[1;32mC:\\ProgramData\\Anaconda3\\lib\\site-packages\\sklearn\\calibration.py\u001b[0m in \u001b[0;36mcalibration_curve\u001b[1;34m(y_true, y_prob, normalize, n_bins)\u001b[0m\n\u001b[0;32m    572\u001b[0m                          \"set to False.\")\n\u001b[0;32m    573\u001b[0m \u001b[1;33m\u001b[0m\u001b[0m\n\u001b[1;32m--> 574\u001b[1;33m     \u001b[0my_true\u001b[0m \u001b[1;33m=\u001b[0m \u001b[0m_check_binary_probabilistic_predictions\u001b[0m\u001b[1;33m(\u001b[0m\u001b[0my_true\u001b[0m\u001b[1;33m,\u001b[0m \u001b[0my_prob\u001b[0m\u001b[1;33m)\u001b[0m\u001b[1;33m\u001b[0m\u001b[1;33m\u001b[0m\u001b[0m\n\u001b[0m\u001b[0;32m    575\u001b[0m \u001b[1;33m\u001b[0m\u001b[0m\n\u001b[0;32m    576\u001b[0m     \u001b[0mbins\u001b[0m \u001b[1;33m=\u001b[0m \u001b[0mnp\u001b[0m\u001b[1;33m.\u001b[0m\u001b[0mlinspace\u001b[0m\u001b[1;33m(\u001b[0m\u001b[1;36m0.\u001b[0m\u001b[1;33m,\u001b[0m \u001b[1;36m1.\u001b[0m \u001b[1;33m+\u001b[0m \u001b[1;36m1e-8\u001b[0m\u001b[1;33m,\u001b[0m \u001b[0mn_bins\u001b[0m \u001b[1;33m+\u001b[0m \u001b[1;36m1\u001b[0m\u001b[1;33m)\u001b[0m\u001b[1;33m\u001b[0m\u001b[1;33m\u001b[0m\u001b[0m\n",
      "\u001b[1;32mC:\\ProgramData\\Anaconda3\\lib\\site-packages\\sklearn\\metrics\\classification.py\u001b[0m in \u001b[0;36m_check_binary_probabilistic_predictions\u001b[1;34m(y_true, y_prob)\u001b[0m\n\u001b[0;32m   1948\u001b[0m \u001b[1;32mdef\u001b[0m \u001b[0m_check_binary_probabilistic_predictions\u001b[0m\u001b[1;33m(\u001b[0m\u001b[0my_true\u001b[0m\u001b[1;33m,\u001b[0m \u001b[0my_prob\u001b[0m\u001b[1;33m)\u001b[0m\u001b[1;33m:\u001b[0m\u001b[1;33m\u001b[0m\u001b[1;33m\u001b[0m\u001b[0m\n\u001b[0;32m   1949\u001b[0m     \u001b[1;34m\"\"\"Check that y_true is binary and y_prob contains valid probabilities\"\"\"\u001b[0m\u001b[1;33m\u001b[0m\u001b[1;33m\u001b[0m\u001b[0m\n\u001b[1;32m-> 1950\u001b[1;33m     \u001b[0mcheck_consistent_length\u001b[0m\u001b[1;33m(\u001b[0m\u001b[0my_true\u001b[0m\u001b[1;33m,\u001b[0m \u001b[0my_prob\u001b[0m\u001b[1;33m)\u001b[0m\u001b[1;33m\u001b[0m\u001b[1;33m\u001b[0m\u001b[0m\n\u001b[0m\u001b[0;32m   1951\u001b[0m \u001b[1;33m\u001b[0m\u001b[0m\n\u001b[0;32m   1952\u001b[0m     \u001b[0mlabels\u001b[0m \u001b[1;33m=\u001b[0m \u001b[0mnp\u001b[0m\u001b[1;33m.\u001b[0m\u001b[0munique\u001b[0m\u001b[1;33m(\u001b[0m\u001b[0my_true\u001b[0m\u001b[1;33m)\u001b[0m\u001b[1;33m\u001b[0m\u001b[1;33m\u001b[0m\u001b[0m\n",
      "\u001b[1;32mC:\\ProgramData\\Anaconda3\\lib\\site-packages\\sklearn\\utils\\validation.py\u001b[0m in \u001b[0;36mcheck_consistent_length\u001b[1;34m(*arrays)\u001b[0m\n\u001b[0;32m    233\u001b[0m     \u001b[1;32mif\u001b[0m \u001b[0mlen\u001b[0m\u001b[1;33m(\u001b[0m\u001b[0muniques\u001b[0m\u001b[1;33m)\u001b[0m \u001b[1;33m>\u001b[0m \u001b[1;36m1\u001b[0m\u001b[1;33m:\u001b[0m\u001b[1;33m\u001b[0m\u001b[1;33m\u001b[0m\u001b[0m\n\u001b[0;32m    234\u001b[0m         raise ValueError(\"Found input variables with inconsistent numbers of\"\n\u001b[1;32m--> 235\u001b[1;33m                          \" samples: %r\" % [int(l) for l in lengths])\n\u001b[0m\u001b[0;32m    236\u001b[0m \u001b[1;33m\u001b[0m\u001b[0m\n\u001b[0;32m    237\u001b[0m \u001b[1;33m\u001b[0m\u001b[0m\n",
      "\u001b[1;31mValueError\u001b[0m: Found input variables with inconsistent numbers of samples: [540, 99000]"
     ]
    }
   ],
   "source": [
    "#从类calibiration_curve中获取横坐标和纵坐标\n",
    "trueproba, predproba = calibration_curve(Ytest, prob_pos,n_bins=10 #输入希望分箱的个数\n",
    "                                         )"
   ]
  },
  {
   "cell_type": "code",
   "execution_count": 39,
   "metadata": {},
   "outputs": [
    {
     "ename": "NameError",
     "evalue": "name 'predproba' is not defined",
     "output_type": "error",
     "traceback": [
      "\u001b[1;31m---------------------------------------------------------------------------\u001b[0m",
      "\u001b[1;31mNameError\u001b[0m                                 Traceback (most recent call last)",
      "\u001b[1;32m<ipython-input-39-2111f47c4add>\u001b[0m in \u001b[0;36m<module>\u001b[1;34m\u001b[0m\n\u001b[0;32m      2\u001b[0m \u001b[0max1\u001b[0m \u001b[1;33m=\u001b[0m \u001b[0mplt\u001b[0m\u001b[1;33m.\u001b[0m\u001b[0msubplot\u001b[0m\u001b[1;33m(\u001b[0m\u001b[1;33m)\u001b[0m\u001b[1;33m\u001b[0m\u001b[1;33m\u001b[0m\u001b[0m\n\u001b[0;32m      3\u001b[0m \u001b[0max1\u001b[0m\u001b[1;33m.\u001b[0m\u001b[0mplot\u001b[0m\u001b[1;33m(\u001b[0m\u001b[1;33m[\u001b[0m\u001b[1;36m0\u001b[0m\u001b[1;33m,\u001b[0m \u001b[1;36m1\u001b[0m\u001b[1;33m]\u001b[0m\u001b[1;33m,\u001b[0m \u001b[1;33m[\u001b[0m\u001b[1;36m0\u001b[0m\u001b[1;33m,\u001b[0m \u001b[1;36m1\u001b[0m\u001b[1;33m]\u001b[0m\u001b[1;33m,\u001b[0m \u001b[1;34m\"k:\"\u001b[0m\u001b[1;33m,\u001b[0m \u001b[0mlabel\u001b[0m\u001b[1;33m=\u001b[0m\u001b[1;34m\"Perfectly calibrated\"\u001b[0m\u001b[1;33m)\u001b[0m\u001b[1;33m\u001b[0m\u001b[1;33m\u001b[0m\u001b[0m\n\u001b[1;32m----> 4\u001b[1;33m \u001b[0max1\u001b[0m\u001b[1;33m.\u001b[0m\u001b[0mplot\u001b[0m\u001b[1;33m(\u001b[0m\u001b[0mpredproba\u001b[0m\u001b[1;33m,\u001b[0m \u001b[0mtrueproba\u001b[0m\u001b[1;33m,\u001b[0m\u001b[1;34m\"s-\"\u001b[0m\u001b[1;33m,\u001b[0m\u001b[0mlabel\u001b[0m\u001b[1;33m=\u001b[0m\u001b[1;34m\"%s (%1.3f)\"\u001b[0m \u001b[1;33m%\u001b[0m \u001b[1;33m(\u001b[0m\u001b[1;34m\"Bayes\"\u001b[0m\u001b[1;33m,\u001b[0m \u001b[0mclf_score\u001b[0m\u001b[1;33m)\u001b[0m\u001b[1;33m)\u001b[0m\u001b[1;33m\u001b[0m\u001b[1;33m\u001b[0m\u001b[0m\n\u001b[0m\u001b[0;32m      5\u001b[0m \u001b[0max1\u001b[0m\u001b[1;33m.\u001b[0m\u001b[0mset_ylabel\u001b[0m\u001b[1;33m(\u001b[0m\u001b[1;34m\"True probability for class 1\"\u001b[0m\u001b[1;33m)\u001b[0m\u001b[1;33m\u001b[0m\u001b[1;33m\u001b[0m\u001b[0m\n\u001b[0;32m      6\u001b[0m \u001b[0max1\u001b[0m\u001b[1;33m.\u001b[0m\u001b[0mset_xlabel\u001b[0m\u001b[1;33m(\u001b[0m\u001b[1;34m\"Mean predcited probability\"\u001b[0m\u001b[1;33m)\u001b[0m\u001b[1;33m\u001b[0m\u001b[1;33m\u001b[0m\u001b[0m\n",
      "\u001b[1;31mNameError\u001b[0m: name 'predproba' is not defined"
     ]
    },
    {
     "data": {
      "image/png": "[encoded data removed]",
      "text/plain": [
       "<Figure size 432x288 with 1 Axes>"
      ]
     },
     "metadata": {
      "needs_background": "light"
     },
     "output_type": "display_data"
    }
   ],
   "source": [
    "fig = plt.figure()\n",
    "ax1 = plt.subplot()\n",
    "ax1.plot([0, 1], [0, 1], \"k:\", label=\"Perfectly calibrated\")\n",
    "ax1.plot(predproba, trueproba,\"s-\",label=\"%s (%1.3f)\" % (\"Bayes\", clf_score))\n",
    "ax1.set_ylabel(\"True probability for class 1\")\n",
    "ax1.set_xlabel(\"Mean predcited probability\")\n",
    "ax1.set_ylim([-0.05, 1.05])\n",
    "ax1.legend()\n",
    "plt.show()"
   ]
  },
  {
   "cell_type": "code",
   "execution_count": 46,
   "metadata": {},
   "outputs": [
    {
     "ename": "ValueError",
     "evalue": "Found input variables with inconsistent numbers of samples: [540, 99000]",
     "output_type": "error",
     "traceback": [
      "\u001b[1;31m---------------------------------------------------------------------------\u001b[0m",
      "\u001b[1;31mValueError\u001b[0m                                Traceback (most recent call last)",
      "\u001b[1;32m<ipython-input-46-7431755ceb02>\u001b[0m in \u001b[0;36m<module>\u001b[1;34m\u001b[0m\n\u001b[0;32m      3\u001b[0m     \u001b[0max\u001b[0m \u001b[1;33m=\u001b[0m \u001b[0maxes\u001b[0m\u001b[1;33m[\u001b[0m\u001b[0mind\u001b[0m\u001b[1;33m]\u001b[0m\u001b[1;33m\u001b[0m\u001b[1;33m\u001b[0m\u001b[0m\n\u001b[0;32m      4\u001b[0m     \u001b[0max\u001b[0m\u001b[1;33m.\u001b[0m\u001b[0mplot\u001b[0m\u001b[1;33m(\u001b[0m\u001b[1;33m[\u001b[0m\u001b[1;36m0\u001b[0m\u001b[1;33m,\u001b[0m \u001b[1;36m1\u001b[0m\u001b[1;33m]\u001b[0m\u001b[1;33m,\u001b[0m \u001b[1;33m[\u001b[0m\u001b[1;36m0\u001b[0m\u001b[1;33m,\u001b[0m \u001b[1;36m1\u001b[0m\u001b[1;33m]\u001b[0m\u001b[1;33m,\u001b[0m \u001b[1;34m\"k:\"\u001b[0m\u001b[1;33m,\u001b[0m \u001b[0mlabel\u001b[0m\u001b[1;33m=\u001b[0m\u001b[1;34m\"Perfectly calibrated\"\u001b[0m\u001b[1;33m)\u001b[0m\u001b[1;33m\u001b[0m\u001b[1;33m\u001b[0m\u001b[0m\n\u001b[1;32m----> 5\u001b[1;33m     \u001b[0mtrueproba\u001b[0m\u001b[1;33m,\u001b[0m \u001b[0mpredproba\u001b[0m \u001b[1;33m=\u001b[0m \u001b[0mcalibration_curve\u001b[0m\u001b[1;33m(\u001b[0m\u001b[0mYtest\u001b[0m\u001b[1;33m,\u001b[0m \u001b[0mprob_pos\u001b[0m\u001b[1;33m,\u001b[0m\u001b[0mn_bins\u001b[0m\u001b[1;33m=\u001b[0m\u001b[0mi\u001b[0m\u001b[1;33m)\u001b[0m\u001b[1;33m\u001b[0m\u001b[1;33m\u001b[0m\u001b[0m\n\u001b[0m\u001b[0;32m      6\u001b[0m     \u001b[0max\u001b[0m\u001b[1;33m.\u001b[0m\u001b[0mplot\u001b[0m\u001b[1;33m(\u001b[0m\u001b[0mpredproba\u001b[0m\u001b[1;33m,\u001b[0m \u001b[0mtrueproba\u001b[0m\u001b[1;33m,\u001b[0m\u001b[1;34m\"s-\"\u001b[0m\u001b[1;33m,\u001b[0m\u001b[0mlabel\u001b[0m\u001b[1;33m=\u001b[0m\u001b[1;34m\"n_bins = {}\"\u001b[0m\u001b[1;33m.\u001b[0m\u001b[0mformat\u001b[0m\u001b[1;33m(\u001b[0m\u001b[0mi\u001b[0m\u001b[1;33m)\u001b[0m\u001b[1;33m)\u001b[0m\u001b[1;33m\u001b[0m\u001b[1;33m\u001b[0m\u001b[0m\n\u001b[0;32m      7\u001b[0m     \u001b[0max1\u001b[0m\u001b[1;33m.\u001b[0m\u001b[0mset_ylabel\u001b[0m\u001b[1;33m(\u001b[0m\u001b[1;34m\"True probability for class 1\"\u001b[0m\u001b[1;33m)\u001b[0m\u001b[1;33m\u001b[0m\u001b[1;33m\u001b[0m\u001b[0m\n",
      "\u001b[1;32mC:\\ProgramData\\Anaconda3\\lib\\site-packages\\sklearn\\calibration.py\u001b[0m in \u001b[0;36mcalibration_curve\u001b[1;34m(y_true, y_prob, normalize, n_bins)\u001b[0m\n\u001b[0;32m    572\u001b[0m                          \"set to False.\")\n\u001b[0;32m    573\u001b[0m \u001b[1;33m\u001b[0m\u001b[0m\n\u001b[1;32m--> 574\u001b[1;33m     \u001b[0my_true\u001b[0m \u001b[1;33m=\u001b[0m \u001b[0m_check_binary_probabilistic_predictions\u001b[0m\u001b[1;33m(\u001b[0m\u001b[0my_true\u001b[0m\u001b[1;33m,\u001b[0m \u001b[0my_prob\u001b[0m\u001b[1;33m)\u001b[0m\u001b[1;33m\u001b[0m\u001b[1;33m\u001b[0m\u001b[0m\n\u001b[0m\u001b[0;32m    575\u001b[0m \u001b[1;33m\u001b[0m\u001b[0m\n\u001b[0;32m    576\u001b[0m     \u001b[0mbins\u001b[0m \u001b[1;33m=\u001b[0m \u001b[0mnp\u001b[0m\u001b[1;33m.\u001b[0m\u001b[0mlinspace\u001b[0m\u001b[1;33m(\u001b[0m\u001b[1;36m0.\u001b[0m\u001b[1;33m,\u001b[0m \u001b[1;36m1.\u001b[0m \u001b[1;33m+\u001b[0m \u001b[1;36m1e-8\u001b[0m\u001b[1;33m,\u001b[0m \u001b[0mn_bins\u001b[0m \u001b[1;33m+\u001b[0m \u001b[1;36m1\u001b[0m\u001b[1;33m)\u001b[0m\u001b[1;33m\u001b[0m\u001b[1;33m\u001b[0m\u001b[0m\n",
      "\u001b[1;32mC:\\ProgramData\\Anaconda3\\lib\\site-packages\\sklearn\\metrics\\classification.py\u001b[0m in \u001b[0;36m_check_binary_probabilistic_predictions\u001b[1;34m(y_true, y_prob)\u001b[0m\n\u001b[0;32m   1948\u001b[0m \u001b[1;32mdef\u001b[0m \u001b[0m_check_binary_probabilistic_predictions\u001b[0m\u001b[1;33m(\u001b[0m\u001b[0my_true\u001b[0m\u001b[1;33m,\u001b[0m \u001b[0my_prob\u001b[0m\u001b[1;33m)\u001b[0m\u001b[1;33m:\u001b[0m\u001b[1;33m\u001b[0m\u001b[1;33m\u001b[0m\u001b[0m\n\u001b[0;32m   1949\u001b[0m     \u001b[1;34m\"\"\"Check that y_true is binary and y_prob contains valid probabilities\"\"\"\u001b[0m\u001b[1;33m\u001b[0m\u001b[1;33m\u001b[0m\u001b[0m\n\u001b[1;32m-> 1950\u001b[1;33m     \u001b[0mcheck_consistent_length\u001b[0m\u001b[1;33m(\u001b[0m\u001b[0my_true\u001b[0m\u001b[1;33m,\u001b[0m \u001b[0my_prob\u001b[0m\u001b[1;33m)\u001b[0m\u001b[1;33m\u001b[0m\u001b[1;33m\u001b[0m\u001b[0m\n\u001b[0m\u001b[0;32m   1951\u001b[0m \u001b[1;33m\u001b[0m\u001b[0m\n\u001b[0;32m   1952\u001b[0m     \u001b[0mlabels\u001b[0m \u001b[1;33m=\u001b[0m \u001b[0mnp\u001b[0m\u001b[1;33m.\u001b[0m\u001b[0munique\u001b[0m\u001b[1;33m(\u001b[0m\u001b[0my_true\u001b[0m\u001b[1;33m)\u001b[0m\u001b[1;33m\u001b[0m\u001b[1;33m\u001b[0m\u001b[0m\n",
      "\u001b[1;32mC:\\ProgramData\\Anaconda3\\lib\\site-packages\\sklearn\\utils\\validation.py\u001b[0m in \u001b[0;36mcheck_consistent_length\u001b[1;34m(*arrays)\u001b[0m\n\u001b[0;32m    233\u001b[0m     \u001b[1;32mif\u001b[0m \u001b[0mlen\u001b[0m\u001b[1;33m(\u001b[0m\u001b[0muniques\u001b[0m\u001b[1;33m)\u001b[0m \u001b[1;33m>\u001b[0m \u001b[1;36m1\u001b[0m\u001b[1;33m:\u001b[0m\u001b[1;33m\u001b[0m\u001b[1;33m\u001b[0m\u001b[0m\n\u001b[0;32m    234\u001b[0m         raise ValueError(\"Found input variables with inconsistent numbers of\"\n\u001b[1;32m--> 235\u001b[1;33m                          \" samples: %r\" % [int(l) for l in lengths])\n\u001b[0m\u001b[0;32m    236\u001b[0m \u001b[1;33m\u001b[0m\u001b[0m\n\u001b[0;32m    237\u001b[0m \u001b[1;33m\u001b[0m\u001b[0m\n",
      "\u001b[1;31mValueError\u001b[0m: Found input variables with inconsistent numbers of samples: [540, 99000]"
     ]
    },
    {
     "data": {
      "image/png": "[encoded data removed]",
      "text/plain": [
       "<Figure size 1296x288 with 3 Axes>"
      ]
     },
     "metadata": {
      "needs_background": "light"
     },
     "output_type": "display_data"
    }
   ],
   "source": [
    "fig, axes = plt.subplots(1,3,figsize=(18,4))\n",
    "for ind,i in enumerate([3,10,100]):\n",
    "    ax = axes[ind]\n",
    "    ax.plot([0, 1], [0, 1], \"k:\", label=\"Perfectly calibrated\")\n",
    "    trueproba, predproba = calibration_curve(Ytest, prob_pos,n_bins=i)\n",
    "    ax.plot(predproba, trueproba,\"s-\",label=\"n_bins = {}\".format(i))\n",
    "    ax1.set_ylabel(\"True probability for class 1\")\n",
    "    ax1.set_xlabel(\"Mean predcited probability\")\n",
    "    ax1.set_ylim([-0.05, 1.05])\n",
    "    ax.legend()\n",
    "plt.show()"
   ]
  },
  {
   "cell_type": "markdown",
   "metadata": {},
   "source": [
    "很明显可以看出，n_bins越大，箱子越多，概率校准曲线就越精确，但是太过精确的曲线不够平滑，无法和我们希望\n",
    "的完美概率密度曲线相比较。n_bins越小，箱子越少，概率校准曲线就越粗糙，虽然靠近完美概率密度曲线，但是无\n",
    "法真实地展现模型概率预测地结果。因此我们需要取一个既不是太大，也不是太小的箱子个数，让概率校准曲线既不\n",
    "是太精确，也不是太粗糙，而是一条相对平滑，又可以反应出模型对概率预测的趋势的曲线。通常来说，建议先试试\n",
    "看箱子数等于10的情况。箱子的数目越大，所需要的样本量也越多，否则曲线就会太过精确。"
   ]
  },
  {
   "cell_type": "code",
   "execution_count": 49,
   "metadata": {},
   "outputs": [],
   "source": [
    "name = [\"GaussianBayes\",\"Logistic\",\"SVC\"]\n",
    "\n",
    "gnb = GaussianNB()\n",
    "logi = LR(C=1., solver='lbfgs',max_iter=3000,multi_class=\"auto\")\n",
    "svc = SVC(kernel = \"linear\",gamma=1)  # 不返回概率，返回置信度"
   ]
  },
  {
   "cell_type": "code",
   "execution_count": 52,
   "metadata": {},
   "outputs": [
    {
     "ename": "SyntaxError",
     "evalue": "invalid character in identifier (<ipython-input-52-d4e8e4f357a6>, line 9)",
     "output_type": "error",
     "traceback": [
      "\u001b[1;36m  File \u001b[1;32m\"<ipython-input-52-d4e8e4f357a6>\"\u001b[1;36m, line \u001b[1;32m9\u001b[0m\n\u001b[1;33m    else:\u001b[0m\n\u001b[1;37m          ^\u001b[0m\n\u001b[1;31mSyntaxError\u001b[0m\u001b[1;31m:\u001b[0m invalid character in identifier\n"
     ]
    }
   ],
   "source": [
    "fig, ax1 = plt.subplots(figsize=(8,6))\n",
    "ax1.plot([0, 1], [0, 1], \"k:\", label=\"Perfectly calibrated\")\n",
    "\n",
    "for clf, name_ in zip([gnb,logi,svc],name):\n",
    "    clf.fit(Xtrain,Ytrain)\n",
    "    y_pred = clf.predict(Xtest)\n",
    "    #hasattr(obj,name)：对象和对象中的类，查看一个类obj中是否存在名字为name的接口，存在则返回True\n",
    "    if hasattr(clf, \"predict_proba\"):  # 有概率则调概率，没概率则调置信度，并且进行归一化\n",
    "        prob_pos = clf.predict_proba(Xtest)[:,1]\n",
    "    else:  # use decision function\n",
    "        prob_pos = clf.decision_function(Xtest)\n",
    "        prob_pos = (prob_pos - prob_pos.min()) / (prob_pos.max() - prob_pos.min())\n",
    "    #返回布里尔分数\n",
    "    clf_score = brier_score_loss(Ytest, prob_pos, pos_label=y.max())  # 意思是说，把我的正样本列为1\n",
    "    trueproba, predproba = calibration_curve(Ytest, prob_pos,n_bins=10)\n",
    "    ax1.plot(predproba, trueproba,\"s-\",label=\"%s (%1.3f)\" % (name_, clf_score))\n",
    "\n",
    "ax1.set_ylabel(\"True probability for class 1\")\n",
    "ax1.set_xlabel(\"Mean predcited probability\")\n",
    "ax1.set_ylim([-0.05, 1.05])\n",
    "ax1.legend()\n",
    "ax1.set_title('Calibration plots (reliability curve)')\n",
    "plt.show()"
   ]
  },
  {
   "cell_type": "markdown",
   "metadata": {},
   "source": [
    "对于贝叶斯，如果概率校准曲线呈现sigmoid函数的镜像的情况，则说明数据集中的特征不是相互条件独立的。"
   ]
  },
  {
   "cell_type": "markdown",
   "metadata": {},
   "source": [
    "支持向量机在面对混合度较高的数据的时候，有着天生的置信度不足的缺点。"
   ]
  },
  {
   "cell_type": "markdown",
   "metadata": {},
   "source": [
    "预测概率直方图：以样本的预测概率分箱后的结果为横坐标，分箱中的样本数量为纵坐标的图像。"
   ]
  },
  {
   "cell_type": "code",
   "execution_count": 59,
   "metadata": {},
   "outputs": [
    {
     "ename": "SyntaxError",
     "evalue": "invalid character in identifier (<ipython-input-59-fee17c1b3f16>, line 8)",
     "output_type": "error",
     "traceback": [
      "\u001b[1;36m  File \u001b[1;32m\"<ipython-input-59-fee17c1b3f16>\"\u001b[1;36m, line \u001b[1;32m8\u001b[0m\n\u001b[1;33m    else:           # use decision function\u001b[0m\n\u001b[1;37m             ^\u001b[0m\n\u001b[1;31mSyntaxError\u001b[0m\u001b[1;31m:\u001b[0m invalid character in identifier\n"
     ]
    }
   ],
   "source": [
    "fig,ax2 = plt.subplots(figsize=(8,6))\n",
    "for clf, name_ in zip([gnb,logi,svc],name):\n",
    "    clf.fit(Xtrain,Ytrain)\n",
    "    y_pred = clf.predict(Xtest)\n",
    "    #hasattr(obj,name)：查看一个类obj中是否存在名字为name的接口，存在则返回True\n",
    "    if hasattr(clf, \"predict_proba\"):\n",
    "        prob_pos = clf.predict_proba(Xtest)[:,1]\n",
    "    else:           # use decision function\n",
    "        prob_pos = clf.decision_function(Xtest)\n",
    "        prob_pos = (prob_pos - prob_pos.min()) / (prob_pos.max() - prob_pos.min())\n",
    "    ax2.hist(prob_pos\n",
    "             ,bins=10\n",
    "             ,label=name_\n",
    "             ,histtype=\"step\" #设置直方图为透明\n",
    "             ,lw=2 #设置直方图每个柱子描边的粗细\n",
    "           )\n",
    "ax2.set_ylabel(\"Distribution of probability\")\n",
    "ax2.set_xlabel(\"Mean predicted probability\")\n",
    "ax2.set_xlim([-0.05, 1.05])\n",
    "ax2.set_xticks([0,0.1,0.2,0.3,0.4,0.5,0.6,0.7,0.8,0.9,1])\n",
    "ax2.legend(loc=9)\n",
    "plt.show()"
   ]
  },
  {
   "cell_type": "markdown",
   "metadata": {},
   "source": [
    "支持向量机，大部分样本都在决策边界的附近，逻辑回归位于支持向量机和朴素贝叶斯之间，   \n",
    "它属于一个比较健康的正样本的分布，朴素贝叶斯绝大部分样本都在决策边界附近，更倾向于决策边界。"
   ]
  },
  {
   "cell_type": "markdown",
   "metadata": {},
   "source": [
    "概率密度曲线不等于概率分布直方图   \n",
    "前者：横坐标是样本的取值，纵坐标是落在这个样本取值区间中的样本个数   "
   ]
  },
  {
   "cell_type": "code",
   "execution_count": 62,
   "metadata": {},
   "outputs": [
    {
     "ename": "SyntaxError",
     "evalue": "invalid character in identifier (<ipython-input-62-0f42c7a35dea>, line 2)",
     "output_type": "error",
     "traceback": [
      "\u001b[1;36m  File \u001b[1;32m\"<ipython-input-62-0f42c7a35dea>\"\u001b[1;36m, line \u001b[1;32m2\u001b[0m\n\u001b[1;33m    import matplotlib.pyplot as plt\u001b[0m\n\u001b[1;37m    ^\u001b[0m\n\u001b[1;31mSyntaxError\u001b[0m\u001b[1;31m:\u001b[0m invalid character in identifier\n"
     ]
    }
   ],
   "source": [
    "def plot_calib(models,name,Xtrain,Xtest,Ytrain,Ytest,n_bins=10):\n",
    "    import matplotlib.pyplot as plt\n",
    "    from sklearn.metrics import brier_score_loss\n",
    "    from sklearn.calibration import calibration_curve\n",
    "    fig, (ax1, ax2) = plt.subplots(1, 2,figsize=(20,6))\n",
    "    ax1.plot([0, 1], [0, 1], \"k:\", label=\"Perfectly calibrated\")\n",
    "    for clf, name_ in zip(models,name):\n",
    "        clf.fit(Xtrain,Ytrain)\n",
    "        y_pred = clf.predict(Xtest)\n",
    "        #hasattr(obj,name)：查看一个类obj中是否存在名字为name的接口，存在则返回True\n",
    "        if hasattr(clf, \"predict_proba\"):\n",
    "            prob_pos = clf.predict_proba(Xtest)[:,1]\n",
    "        else:  # use decision function\n",
    "            prob_pos = clf.decision_function(Xtest)\n",
    "            prob_pos = (prob_pos - prob_pos.min()) / (prob_pos.max() - prob_pos.min())\n",
    "        #返回布里尔分数\n",
    "        clf_score = brier_score_loss(Ytest, prob_pos, pos_label=y.max())\n",
    "        trueproba, predproba = calibration_curve(Ytest, prob_pos,n_bins=n_bins)\n",
    "        ax1.plot(predproba, trueproba,\"s-\",label=\"%s (%1.3f)\" % (name_, clf_score))\n",
    "        ax2.hist(prob_pos, range=(0, 1), bins=n_bins, label=name_,histtype=\"step\",lw=2)\n",
    "\n",
    "    ax2.set_ylabel(\"Distribution of probability\")\n",
    "    ax2.set_xlabel(\"Mean predicted probability\")\n",
    "    ax2.set_xlim([-0.05, 1.05])\n",
    "    ax2.legend(loc=9)\n",
    "    ax2.set_title(\"Distribution of probablity\")\n",
    "    ax1.set_ylabel(\"True probability for class 1\")\n",
    "    ax1.set_xlabel(\"Mean predcited probability\")\n",
    "    ax1.set_ylim([-0.05, 1.05])\n",
    "    ax1.legend()\n",
    "    ax1.set_title('Calibration plots(reliability curve)')\n",
    "    plt.show()"
   ]
  },
  {
   "cell_type": "code",
   "execution_count": null,
   "metadata": {},
   "outputs": [],
   "source": [
    "from sklearn.calibration import CalibratedClassifierCV"
   ]
  },
  {
   "cell_type": "code",
   "execution_count": null,
   "metadata": {},
   "outputs": [],
   "source": [
    "name = [\"GaussianBayes\",\"Logistic\",\"Bayes+isotonic\",\"Bayes+sigmoid\"]\n",
    "\n",
    "gnb = GaussianNB()\n",
    "\n",
    "models = [gnb\n",
    "         ,LR(C=1., solver='lbfgs',max_iter=3000,multi_class=\"auto\")\n",
    "        #定义两种校准方式\n",
    "         ,CalibratedClassifierCV(gnb, cv=2, method='isotonic')\n",
    "         ,CalibratedClassifierCV(gnb, cv=2, method='sigmoid')]"
   ]
  },
  {
   "cell_type": "code",
   "execution_count": null,
   "metadata": {},
   "outputs": [],
   "source": [
    "plot_calib(models,name,Xtrain,Xtest,Ytrain,Ytest)"
   ]
  },
  {
   "cell_type": "code",
   "execution_count": null,
   "metadata": {},
   "outputs": [],
   "source": [
    "gnb = GaussianNB().fit(Xtrain,Ytrain)\n",
    "gnb.score(Xtest,Ytest)\n",
    "\n",
    "brier_score_loss(Ytest,gnb.predict_proba(Xtest)[:,1],pos_label = 1)\n",
    "gnbisotonic = CalibratedClassifierCV(gnb, cv=2, method='isotonic').fit(Xtrain,Ytrain)\n",
    "\n",
    "gnbisotonic.score(Xtest,Ytest)\n",
    "brier_score_loss(Ytest,gnbisotonic.predict_proba(Xtest)[:,1],pos_label = 1)"
   ]
  },
  {
   "cell_type": "code",
   "execution_count": null,
   "metadata": {},
   "outputs": [],
   "source": [
    "name_svc = [\"SVC\",\"Logistic\",\"SVC+isotonic\",\"SVC+sigmoid\"]\n",
    "svc = SVC(kernel = \"linear\",gamma=1)\n",
    "models_svc = [svc\n",
    "             ,LR(C=1., solver='lbfgs',max_iter=3000,multi_class=\"auto\")\n",
    "              #依然定义两种校准方式\n",
    "             ,CalibratedClassifierCV(svc, cv=2, method='isotonic')\n",
    "             ,CalibratedClassifierCV(svc, cv=2, method='sigmoid')]\n",
    "plot_calib(models_svc,name_svc,Xtrain,Xtest,Ytrain,Ytest)\n",
    "\n",
    "for clf, name in zip(models_svc,name_svc):\n",
    "    clf.fit(Xtrain,Ytrain)\n",
    "    y_pred = clf.predict(Xtest)\n",
    "    if hasattr(clf, \"predict_proba\"):\n",
    "        prob_pos = clf.predict_proba(Xtest)[:, 1]\n",
    "    else:\n",
    "        prob_pos = clf.decision_function(Xtest)\n",
    "        prob_pos = (prob_pos - prob_pos.min()) / (prob_pos.max() - prob_pos.min())\n",
    "    clf_score = brier_score_loss(Ytest, prob_pos, pos_label=y.max())\n",
    "    score = clf.score(Xtest,Ytest)\n",
    "    print(\"{}:\".format(name))\n",
    "    print(\"\\tBrier:{:.4f}\".format(clf_score))\n",
    "    print(\"\\tAccuracy:{:.4f}\".format(score))"
   ]
  },
  {
   "cell_type": "markdown",
   "metadata": {},
   "source": [
    "概率校准类：CalibratedClassifierCV,来对二分类情况下的数据集进行概率校正。   \n",
    "base_estimator:输入有决策功能的分类器，必须存在predict_proba或decision_function接口。如果cv=prefit,分类器   \n",
    "必须已经拟合数据完毕。   \n",
    "CV：整数，确定交叉验证的策略，输入None，默认3折；还可以任意整数，指定折数。   \n"
   ]
  },
  {
   "cell_type": "code",
   "execution_count": null,
   "metadata": {},
   "outputs": [],
   "source": [
    "def plot_calib(models,name,Xtrain,Xtest,Ytrain,Ytest,n_bins=10):\n",
    "    \n",
    "    import matplotlib.pyplot as plt\n",
    "    from sklearn.metrics import brier_score_loss\n",
    "    from sklearn.calibration import calibration_curve\n",
    "    fig, (ax1, ax2) = plt.subplots(1, 2,figsize=(20,6))\n",
    "    ax1.plot([0, 1], [0, 1], \"k:\", label=\"Perfectly calibrated\")\n",
    "    for clf, name_ in zip(models,name):\n",
    "        clf.fit(Xtrain,Ytrain)\n",
    "        y_pred = clf.predict(Xtest)\n",
    "        #hasattr(obj,name)：查看一个类obj中是否存在名字为name的接口，存在则返回True\n",
    "        if hasattr(clf, \"predict_proba\"):\n",
    "            prob_pos = clf.predict_proba(Xtest)[:,1]\n",
    "        else:  # use decision function\n",
    "            prob_pos = clf.decision_function(Xtest)\n",
    "            prob_pos = (prob_pos - prob_pos.min()) / (prob_pos.max() - prob_pos.min())\n",
    "        #返回布里尔分数\n",
    "        clf_score = brier_score_loss(Ytest, prob_pos, pos_label=y.max())\n",
    "        trueproba, predproba = calibration_curve(Ytest, prob_pos,n_bins=n_bins)\n",
    "        ax1.plot(predproba, trueproba,\"s-\",label=\"%s (%1.3f)\" % (name_, clf_score))\n",
    "        ax2.hist(prob_pos, range=(0, 1), bins=n_bins, label=name_,histtype=\"step\",lw=2)\n",
    "    \n",
    "    ax2.set_ylabel(\"Distribution of probability\")\n",
    "    ax2.set_xlabel(\"Mean predicted probability\")\n",
    "    ax2.set_xlim([-0.05, 1.05])\n",
    "    ax2.legend(loc=9)\n",
    "    ax2.set_title(\"Distribution of probablity\")\n",
    "    ax1.set_ylabel(\"True probability for class 1\")\n",
    "    ax1.set_xlabel(\"Mean predcited probability\")\n",
    "    ax1.set_ylim([-0.05, 1.05])\n",
    "    ax1.legend()\n",
    "    ax1.set_title('Calibration plots(reliability curve)')\n",
    "    plt.show()"
   ]
  },
  {
   "cell_type": "code",
   "execution_count": null,
   "metadata": {},
   "outputs": [],
   "source": [
    "from sklearn.calibration import CalibratedClassifierCV"
   ]
  },
  {
   "cell_type": "code",
   "execution_count": null,
   "metadata": {},
   "outputs": [],
   "source": [
    "name = [\"GaussianBayes\",\"Logistic\",\"Bayes+isotonic\",\"Bayes+sigmoid\"]\n",
    "\n",
    "gnb = GaussianNB()\n",
    "models = [gnb\n",
    "        ,LR(C=1., solver='lbfgs',max_iter=3000,multi_class=\"auto\")\n",
    "        #定义两种校准方式\n",
    "        ,CalibratedClassifierCV(gnb, cv=2, method='isotonic')\n",
    "        ,CalibratedClassifierCV(gnb, cv=2, method='sigmoid')]"
   ]
  },
  {
   "cell_type": "code",
   "execution_count": null,
   "metadata": {},
   "outputs": [],
   "source": [
    "plot_calib(models,name,Xtrain,Xtest,Ytrain,Ytest)"
   ]
  },
  {
   "cell_type": "code",
   "execution_count": null,
   "metadata": {},
   "outputs": [],
   "source": [
    "gnb = GaussianNB().fit(Xtrain,Ytrain)\n",
    "gnb.score(Xtest,Ytest)"
   ]
  },
  {
   "cell_type": "code",
   "execution_count": null,
   "metadata": {},
   "outputs": [],
   "source": [
    "brier_score_loss(Ytest,gnb.predict_proba(Xtest)[:,1],pos_label = 1)\n",
    "gnbisotonic = CalibratedClassifierCV(gnb, cv=2, method='isotonic').fit(Xtrain,Ytrain)"
   ]
  },
  {
   "cell_type": "code",
   "execution_count": null,
   "metadata": {},
   "outputs": [],
   "source": [
    "gnbisotonic.score(Xtest,Ytest)"
   ]
  },
  {
   "cell_type": "code",
   "execution_count": null,
   "metadata": {},
   "outputs": [],
   "source": [
    "brier_score_loss(Ytest,gnbisotonic.predict_proba(Xtest)[:,1],pos_label = 1)"
   ]
  },
  {
   "cell_type": "markdown",
   "metadata": {},
   "source": [
    "可以看出，布里尔分数降低，准确率也降低了。"
   ]
  },
  {
   "cell_type": "markdown",
   "metadata": {},
   "source": [
    "对SVM,DT来说，他们的概率不是真正意义上的概率，是一个置信度。   \n",
    "对于贝叶斯来说，我们有很多假设，“朴素”假设，“概率分布”的假设，比如高斯，这种概率估计不是那么准确和严肃。   \n",
    "通过校准，整体的准确率上升了，但是，这一系列有偏估计，在一组数据集上可能表现出上升，也可能表现出下降。"
   ]
  },
  {
   "cell_type": "markdown",
   "metadata": {},
   "source": [
    "当两者相悖的时候，务必以准确率为准。   \n",
    "对贝叶斯这样的分类器，没有参数可调，当我们的准确率不够的时候，要么换模型，要么校正准确率来试试。"
   ]
  },
  {
   "cell_type": "markdown",
   "metadata": {},
   "source": [
    "所以，当你感觉，必须使用贝叶斯，但是贝叶斯的准确率不是太高的时候，请使用概率校准的这整个过程，来判断我的贝叶斯是否   \n",
    "还有潜力。"
   ]
  },
  {
   "cell_type": "markdown",
   "metadata": {},
   "source": [
    "接下来，试试SVM来说，哪一种校准是比较有效的。"
   ]
  },
  {
   "cell_type": "code",
   "execution_count": null,
   "metadata": {},
   "outputs": [],
   "source": [
    "name_svc = [\"SVC\",\"Logistic\",\"SVC+isotonic\",\"SVC+sigmoid\"]\n",
    "svc = SVC(kernel = \"linear\",gamma=1)\n",
    "models_svc = [svc\n",
    "             ,LR(C=1., solver='lbfgs',max_iter=3000,multi_class=\"auto\")\n",
    "              #依然定义两种校准方式\n",
    "             ,CalibratedClassifierCV(svc, cv=2, method='isotonic')\n",
    "             ,CalibratedClassifierCV(svc, cv=2, method='sigmoid')]\n",
    "plot_calib(models_svc,name_svc,Xtrain,Xtest,Ytrain,Ytest)"
   ]
  },
  {
   "cell_type": "markdown",
   "metadata": {},
   "source": [
    "可以看出，istonic和sigmoid的校准效果都非常不错，无论是从校准曲线还是从概率分布图来说，两种校准都让SVC接近逻辑回归。其中sigmoid   \n",
    "更加有效。"
   ]
  },
  {
   "cell_type": "code",
   "execution_count": null,
   "metadata": {},
   "outputs": [],
   "source": [
    "# 看看不同svc下精确度影响\n",
    "name_svc = [\"SVC\",\"SVC+isotonic\",\"SVC+sigmoid\"]\n",
    "\n",
    "svc = SVC(kernel = \"linear\",gamma=1)\n",
    "\n",
    "models_svc = [svc\n",
    "             ,CalibratedClassifierCV(svc, cv=2, method='isotonic')\n",
    "             ,CalibratedClassifierCV(svc, cv=2, method='sigmoid')]\n",
    "\n",
    "for clf, name in zip(models_svc,name_svc):\n",
    "    clf.fit(Xtrain,Ytrain)\n",
    "    y_pred = clf.predict(Xtest)\n",
    "    if hasattr(clf, \"predict_proba\"):\n",
    "        prob_pos = clf.predict_proba(Xtest)[:, 1]\n",
    "    else:\n",
    "        prob_pos = clf.decision_function(Xtest)\n",
    "        prob_pos = (prob_pos - prob_pos.min()) / (prob_pos.max() - prob_pos.min())\n",
    "    clf_score = brier_score_loss(Ytest, prob_pos, pos_label=y.max())\n",
    "    score = clf.score(Xtest,Ytest)\n",
    "    \n",
    "    print(\"{}:\".format(name))\n",
    "    print(\"\\tBrier:{:.4f}\".format(clf_score))\n",
    "    print(\"\\tAccuracy:{:.4f}\".format(score))"
   ]
  },
  {
   "cell_type": "markdown",
   "metadata": {},
   "source": [
    "可见，svc在校准了之后都有所提升，概率校准对SVC非常有效。"
   ]
  },
  {
   "cell_type": "markdown",
   "metadata": {},
   "source": [
    "到这里，概率类模型的评估指标和它的用法就结束了。"
   ]
  },
  {
   "cell_type": "markdown",
   "metadata": {},
   "source": [
    "多项式朴素贝叶斯"
   ]
  },
  {
   "cell_type": "markdown",
   "metadata": {},
   "source": [
    "擅长于分类型变量，用于处理离散型变量，而高斯朴素贝叶斯适合处理连续型变量。   \n",
    "多项式朴素贝叶斯不接受负值的输入。故经常是稀疏矩阵。"
   ]
  },
  {
   "cell_type": "markdown",
   "metadata": {},
   "source": [
    "在高斯朴素贝叶斯中，求解的概率时对一个样本来说，在多项式朴素贝叶斯中，求解的概率是对一个特征来说的。"
   ]
  },
  {
   "cell_type": "markdown",
   "metadata": {},
   "source": [
    "MultinomialNB:   \n",
    "alpha: 浮点数，可不填。默认1   \n",
    "fit_prior: 表示说你是否让我学习先验概率呢，设置为False，则不使用先验，使用统一的先验概率。   \n",
    "class_prior:形似数组的结构，如果没有给出具体的先验概率，则自动根据数组来进行计算。"
   ]
  },
  {
   "cell_type": "code",
   "execution_count": 15,
   "metadata": {},
   "outputs": [],
   "source": [
    "from sklearn.preprocessing import MinMaxScaler\n",
    "from sklearn.naive_bayes import MultinomialNB\n",
    "from sklearn.model_selection import train_test_split\n",
    "from sklearn.datasets import make_blobs\n",
    "from sklearn.metrics import brier_score_loss"
   ]
  },
  {
   "cell_type": "code",
   "execution_count": 18,
   "metadata": {},
   "outputs": [],
   "source": [
    "class_1 = 500\n",
    "class_2 = 500 #两个类别分别设定500个样本\n",
    "centers = [[0.0, 0.0], [2.0, 2.0]] #设定两个类别的中心\n",
    "clusters_std = [0.5, 0.5] #设定两个类别的方差\n",
    "X, y = make_blobs(n_samples=[class_1, class_2],\n",
    "                    centers=centers,\n",
    "                    cluster_std=clusters_std,\n",
    "                    random_state=0, shuffle=False)"
   ]
  },
  {
   "cell_type": "code",
   "execution_count": 20,
   "metadata": {},
   "outputs": [],
   "source": [
    "Xtrain, Xtest, Ytrain, Ytest = train_test_split(X,y\n",
    "                                                ,test_size=0.3\n",
    "                                                ,random_state=420)"
   ]
  },
  {
   "cell_type": "code",
   "execution_count": 21,
   "metadata": {},
   "outputs": [],
   "source": [
    "#先归一化，保证输入多项式朴素贝叶斯的特征矩阵中不带有负数\n",
    "mms = MinMaxScaler().fit(Xtrain)  # 训练集上来实例化和训练我们的模型\n",
    "Xtrain_ = mms.transform(Xtrain)\n",
    "Xtest_ = mms.transform(Xtest)"
   ]
  },
  {
   "cell_type": "code",
   "execution_count": 17,
   "metadata": {},
   "outputs": [
    {
     "data": {
      "text/plain": [
       "(1000, 2)"
      ]
     },
     "execution_count": 17,
     "metadata": {},
     "output_type": "execute_result"
    }
   ],
   "source": [
    "X.shape"
   ]
  },
  {
   "cell_type": "code",
   "execution_count": 19,
   "metadata": {},
   "outputs": [
    {
     "data": {
      "text/plain": [
       "array([0, 1])"
      ]
     },
     "execution_count": 19,
     "metadata": {},
     "output_type": "execute_result"
    }
   ],
   "source": [
    "np.unique(y)"
   ]
  },
  {
   "cell_type": "code",
   "execution_count": 22,
   "metadata": {},
   "outputs": [],
   "source": [
    "mnb = MultinomialNB().fit(Xtrain_, Ytrain)"
   ]
  },
  {
   "cell_type": "code",
   "execution_count": 23,
   "metadata": {},
   "outputs": [
    {
     "data": {
      "text/plain": [
       "array([-0.69029411, -0.69600841])"
      ]
     },
     "execution_count": 23,
     "metadata": {},
     "output_type": "execute_result"
    }
   ],
   "source": [
    "#重要属性：调用根据数据获取的，每个标签类的对数先验概率log(P(Y))\n",
    "#由于概率永远是在[0,1]之间，因此对数先验概率返回的永远是负值\n",
    "mnb.class_log_prior_"
   ]
  },
  {
   "cell_type": "code",
   "execution_count": 24,
   "metadata": {},
   "outputs": [
    {
     "data": {
      "text/plain": [
       "array([0, 1])"
      ]
     },
     "execution_count": 24,
     "metadata": {},
     "output_type": "execute_result"
    }
   ],
   "source": [
    "np.unique(Ytrain)"
   ]
  },
  {
   "cell_type": "code",
   "execution_count": 25,
   "metadata": {},
   "outputs": [
    {
     "data": {
      "text/plain": [
       "0.49857142857142855"
      ]
     },
     "execution_count": 25,
     "metadata": {},
     "output_type": "execute_result"
    }
   ],
   "source": [
    "(Ytrain == 1).sum()/Ytrain.shape[0]"
   ]
  },
  {
   "cell_type": "code",
   "execution_count": 26,
   "metadata": {},
   "outputs": [
    {
     "data": {
      "text/plain": [
       "(2,)"
      ]
     },
     "execution_count": 26,
     "metadata": {},
     "output_type": "execute_result"
    }
   ],
   "source": [
    "mnb.class_log_prior_.shape   # 永远等于标签中所带的样本数量"
   ]
  },
  {
   "cell_type": "code",
   "execution_count": 27,
   "metadata": {},
   "outputs": [
    {
     "data": {
      "text/plain": [
       "array([0.50142857, 0.49857143])"
      ]
     },
     "execution_count": 27,
     "metadata": {},
     "output_type": "execute_result"
    }
   ],
   "source": [
    "#可以使用np.exp来查看真正的概率值\n",
    "np.exp(mnb.class_log_prior_)"
   ]
  },
  {
   "cell_type": "code",
   "execution_count": 28,
   "metadata": {},
   "outputs": [
    {
     "data": {
      "text/plain": [
       "array([[-0.76164788, -0.62903951],\n",
       "       [-0.72500918, -0.6622691 ]])"
      ]
     },
     "execution_count": 28,
     "metadata": {},
     "output_type": "execute_result"
    }
   ],
   "source": [
    "#重要属性：返回一个固定标签类别下的每个特征的对数概率log(P(Xi|y))\n",
    "mnb.feature_log_prob_"
   ]
  },
  {
   "cell_type": "code",
   "execution_count": 29,
   "metadata": {},
   "outputs": [
    {
     "data": {
      "text/plain": [
       "(2, 2)"
      ]
     },
     "execution_count": 29,
     "metadata": {},
     "output_type": "execute_result"
    }
   ],
   "source": [
    "mnb.feature_log_prob_.shape"
   ]
  },
  {
   "cell_type": "code",
   "execution_count": 30,
   "metadata": {},
   "outputs": [
    {
     "data": {
      "text/plain": [
       "array([351., 349.])"
      ]
     },
     "execution_count": 30,
     "metadata": {},
     "output_type": "execute_result"
    }
   ],
   "source": [
    "#重要属性：在fit时每个标签类别下包含的样本数。当fit接口中的sample_weight被设置时，该接口返回的值也会受\n",
    "# 到加权的影响\n",
    "mnb.class_count_"
   ]
  },
  {
   "cell_type": "code",
   "execution_count": 31,
   "metadata": {},
   "outputs": [
    {
     "data": {
      "text/plain": [
       "(2,)"
      ]
     },
     "execution_count": 31,
     "metadata": {},
     "output_type": "execute_result"
    }
   ],
   "source": [
    "mnb.class_count_.shape"
   ]
  },
  {
   "cell_type": "code",
   "execution_count": 32,
   "metadata": {},
   "outputs": [
    {
     "data": {
      "text/plain": [
       "array([1, 0, 0, 0, 0, 0, 0, 0, 0, 0, 0, 0, 1, 0, 0, 1, 0, 0, 1, 0, 0, 0,\n",
       "       1, 0, 0, 0, 0, 0, 0, 1, 0, 0, 0, 0, 0, 0, 0, 0, 0, 0, 0, 0, 0, 1,\n",
       "       0, 0, 1, 0, 0, 0, 0, 1, 1, 0, 0, 0, 0, 1, 0, 0, 1, 0, 0, 0, 1, 1,\n",
       "       0, 0, 0, 0, 0, 1, 0, 0, 0, 0, 0, 0, 0, 0, 0, 0, 0, 0, 0, 0, 0, 1,\n",
       "       0, 0, 0, 0, 0, 0, 0, 0, 0, 0, 0, 1, 0, 1, 0, 0, 0, 0, 0, 0, 0, 0,\n",
       "       0, 0, 0, 0, 0, 0, 0, 0, 0, 0, 0, 0, 0, 0, 0, 0, 0, 0, 0, 0, 0, 0,\n",
       "       0, 0, 0, 0, 0, 0, 0, 0, 0, 0, 0, 0, 0, 0, 0, 1, 0, 0, 0, 0, 0, 0,\n",
       "       0, 0, 0, 0, 0, 0, 0, 0, 0, 0, 0, 0, 0, 0, 0, 0, 0, 0, 1, 0, 0, 0,\n",
       "       0, 0, 0, 0, 0, 0, 0, 0, 0, 0, 0, 0, 0, 0, 0, 1, 1, 0, 0, 1, 0, 0,\n",
       "       0, 0, 0, 0, 0, 0, 0, 0, 0, 0, 0, 0, 0, 0, 0, 0, 0, 0, 0, 0, 0, 0,\n",
       "       0, 0, 0, 0, 0, 0, 0, 0, 0, 0, 0, 0, 0, 0, 0, 0, 0, 0, 1, 0, 0, 0,\n",
       "       0, 0, 0, 0, 0, 1, 0, 0, 0, 0, 0, 0, 0, 0, 0, 1, 0, 0, 1, 0, 1, 0,\n",
       "       1, 0, 0, 0, 0, 0, 0, 0, 0, 0, 0, 0, 0, 0, 0, 0, 0, 0, 0, 0, 0, 0,\n",
       "       0, 0, 0, 1, 0, 0, 0, 0, 0, 0, 0, 0, 0, 0])"
      ]
     },
     "execution_count": 32,
     "metadata": {},
     "output_type": "execute_result"
    }
   ],
   "source": [
    "#一些传统的接口\n",
    "mnb.predict(Xtest_)"
   ]
  },
  {
   "cell_type": "code",
   "execution_count": 33,
   "metadata": {
    "collapsed": true,
    "jupyter": {
     "outputs_hidden": true
    },
    "tags": []
   },
   "outputs": [
    {
     "data": {
      "text/plain": [
       "array([[0.49847128, 0.50152872],\n",
       "       [0.50065987, 0.49934013],\n",
       "       [0.50122363, 0.49877637],\n",
       "       [0.50183745, 0.49816255],\n",
       "       [0.50146433, 0.49853567],\n",
       "       [0.50153147, 0.49846853],\n",
       "       [0.50204549, 0.49795451],\n",
       "       [0.50033124, 0.49966876],\n",
       "       [0.50105254, 0.49894746],\n",
       "       [0.50182815, 0.49817185],\n",
       "       [0.50270707, 0.49729293],\n",
       "       [0.50133396, 0.49866604],\n",
       "       [0.49820896, 0.50179104],\n",
       "       [0.50342829, 0.49657171],\n",
       "       [0.50099022, 0.49900978],\n",
       "       [0.49974388, 0.50025612],\n",
       "       [0.50423879, 0.49576121],\n",
       "       [0.50449207, 0.49550793],\n",
       "       [0.49818224, 0.50181776],\n",
       "       [0.50245485, 0.49754515],\n",
       "       [0.50393627, 0.49606373],\n",
       "       [0.50193571, 0.49806429],\n",
       "       [0.49996152, 0.50003848],\n",
       "       [0.50460038, 0.49539962],\n",
       "       [0.50261175, 0.49738825],\n",
       "       [0.50140163, 0.49859837],\n",
       "       [0.50332522, 0.49667478],\n",
       "       [0.50122253, 0.49877747],\n",
       "       [0.50409939, 0.49590061],\n",
       "       [0.49998717, 0.50001283],\n",
       "       [0.50179417, 0.49820583],\n",
       "       [0.5000057 , 0.4999943 ],\n",
       "       [0.50190643, 0.49809357],\n",
       "       [0.50022071, 0.49977929],\n",
       "       [0.50097776, 0.49902224],\n",
       "       [0.50305244, 0.49694756],\n",
       "       [0.50109969, 0.49890031],\n",
       "       [0.50159754, 0.49840246],\n",
       "       [0.50166181, 0.49833819],\n",
       "       [0.5013594 , 0.4986406 ],\n",
       "       [0.50138322, 0.49861678],\n",
       "       [0.50174823, 0.49825177],\n",
       "       [0.50346533, 0.49653467],\n",
       "       [0.49918461, 0.50081539],\n",
       "       [0.50097953, 0.49902047],\n",
       "       [0.50178893, 0.49821107],\n",
       "       [0.49990491, 0.50009509],\n",
       "       [0.50202801, 0.49797199],\n",
       "       [0.50176739, 0.49823261],\n",
       "       [0.50254336, 0.49745664],\n",
       "       [0.50116963, 0.49883037],\n",
       "       [0.49920141, 0.50079859],\n",
       "       [0.49944211, 0.50055789],\n",
       "       [0.50031645, 0.49968355],\n",
       "       [0.50153599, 0.49846401],\n",
       "       [0.50352461, 0.49647539],\n",
       "       [0.50049178, 0.49950822],\n",
       "       [0.49983178, 0.50016822],\n",
       "       [0.50289574, 0.49710426],\n",
       "       [0.50193747, 0.49806253],\n",
       "       [0.49961192, 0.50038808],\n",
       "       [0.50198825, 0.49801175],\n",
       "       [0.50289658, 0.49710342],\n",
       "       [0.50218643, 0.49781357],\n",
       "       [0.49888163, 0.50111837],\n",
       "       [0.49920224, 0.50079776],\n",
       "       [0.50151585, 0.49848415],\n",
       "       [0.50230998, 0.49769002],\n",
       "       [0.50400072, 0.49599928],\n",
       "       [0.50138781, 0.49861219],\n",
       "       [0.50001327, 0.49998673],\n",
       "       [0.49982061, 0.50017939],\n",
       "       [0.50133343, 0.49866657],\n",
       "       [0.503153  , 0.496847  ],\n",
       "       [0.50180689, 0.49819311],\n",
       "       [0.50141445, 0.49858555],\n",
       "       [0.50248588, 0.49751412],\n",
       "       [0.50308391, 0.49691609],\n",
       "       [0.50024574, 0.49975426],\n",
       "       [0.50173534, 0.49826466],\n",
       "       [0.50018764, 0.49981236],\n",
       "       [0.50171743, 0.49828257],\n",
       "       [0.501695  , 0.498305  ],\n",
       "       [0.50357487, 0.49642513],\n",
       "       [0.50245246, 0.49754754],\n",
       "       [0.50233437, 0.49766563],\n",
       "       [0.50190721, 0.49809279],\n",
       "       [0.49839991, 0.50160009],\n",
       "       [0.50221084, 0.49778916],\n",
       "       [0.5012638 , 0.4987362 ],\n",
       "       [0.50199765, 0.49800235],\n",
       "       [0.50100067, 0.49899933],\n",
       "       [0.50122519, 0.49877481],\n",
       "       [0.50358523, 0.49641477],\n",
       "       [0.50353492, 0.49646508],\n",
       "       [0.50060048, 0.49939952],\n",
       "       [0.50261115, 0.49738885],\n",
       "       [0.50170128, 0.49829872],\n",
       "       [0.50084485, 0.49915515],\n",
       "       [0.49977894, 0.50022106],\n",
       "       [0.50134207, 0.49865793],\n",
       "       [0.49967049, 0.50032951],\n",
       "       [0.50394134, 0.49605866],\n",
       "       [0.50143828, 0.49856172],\n",
       "       [0.50356078, 0.49643922],\n",
       "       [0.50332876, 0.49667124],\n",
       "       [0.50095206, 0.49904794],\n",
       "       [0.50220001, 0.49779999],\n",
       "       [0.50256184, 0.49743816],\n",
       "       [0.50166902, 0.49833098],\n",
       "       [0.50254134, 0.49745866],\n",
       "       [0.5004789 , 0.4995211 ],\n",
       "       [0.50302788, 0.49697212],\n",
       "       [0.50052704, 0.49947296],\n",
       "       [0.50219724, 0.49780276],\n",
       "       [0.50026189, 0.49973811],\n",
       "       [0.50095584, 0.49904416],\n",
       "       [0.50206864, 0.49793136],\n",
       "       [0.50010878, 0.49989122],\n",
       "       [0.50109718, 0.49890282],\n",
       "       [0.50162885, 0.49837115],\n",
       "       [0.50020595, 0.49979405],\n",
       "       [0.50067955, 0.49932045],\n",
       "       [0.50280886, 0.49719114],\n",
       "       [0.50237353, 0.49762647],\n",
       "       [0.50222485, 0.49777515],\n",
       "       [0.5001119 , 0.4998881 ],\n",
       "       [0.50112275, 0.49887725],\n",
       "       [0.50362029, 0.49637971],\n",
       "       [0.50054287, 0.49945713],\n",
       "       [0.50070066, 0.49929934],\n",
       "       [0.50174149, 0.49825851],\n",
       "       [0.50190098, 0.49809902],\n",
       "       [0.5007135 , 0.4992865 ],\n",
       "       [0.50207309, 0.49792691],\n",
       "       [0.50270744, 0.49729256],\n",
       "       [0.50050176, 0.49949824],\n",
       "       [0.50142338, 0.49857662],\n",
       "       [0.50099023, 0.49900977],\n",
       "       [0.50084396, 0.49915604],\n",
       "       [0.50368091, 0.49631909],\n",
       "       [0.50272862, 0.49727138],\n",
       "       [0.50132287, 0.49867713],\n",
       "       [0.50401085, 0.49598915],\n",
       "       [0.50227543, 0.49772457],\n",
       "       [0.50117773, 0.49882227],\n",
       "       [0.50165111, 0.49834889],\n",
       "       [0.49957088, 0.50042912],\n",
       "       [0.50317179, 0.49682821],\n",
       "       [0.50098188, 0.49901812],\n",
       "       [0.5023283 , 0.4976717 ],\n",
       "       [0.50104249, 0.49895751],\n",
       "       [0.50104179, 0.49895821],\n",
       "       [0.501309  , 0.498691  ],\n",
       "       [0.50216322, 0.49783678],\n",
       "       [0.50110205, 0.49889795],\n",
       "       [0.50257045, 0.49742955],\n",
       "       [0.5013388 , 0.4986612 ],\n",
       "       [0.50053838, 0.49946162],\n",
       "       [0.50120029, 0.49879971],\n",
       "       [0.50127632, 0.49872368],\n",
       "       [0.50183619, 0.49816381],\n",
       "       [0.50009396, 0.49990604],\n",
       "       [0.50128105, 0.49871895],\n",
       "       [0.50158456, 0.49841544],\n",
       "       [0.50190347, 0.49809653],\n",
       "       [0.50228193, 0.49771807],\n",
       "       [0.50242186, 0.49757814],\n",
       "       [0.50201385, 0.49798615],\n",
       "       [0.50201075, 0.49798925],\n",
       "       [0.5007775 , 0.4992225 ],\n",
       "       [0.50240731, 0.49759269],\n",
       "       [0.49865226, 0.50134774],\n",
       "       [0.50451121, 0.49548879],\n",
       "       [0.50254794, 0.49745206],\n",
       "       [0.5039106 , 0.4960894 ],\n",
       "       [0.50200714, 0.49799286],\n",
       "       [0.50227154, 0.49772846],\n",
       "       [0.50115683, 0.49884317],\n",
       "       [0.50254911, 0.49745089],\n",
       "       [0.50062667, 0.49937333],\n",
       "       [0.50324846, 0.49675154],\n",
       "       [0.50165038, 0.49834962],\n",
       "       [0.50200129, 0.49799871],\n",
       "       [0.50034533, 0.49965467],\n",
       "       [0.50051902, 0.49948098],\n",
       "       [0.50029115, 0.49970885],\n",
       "       [0.50209651, 0.49790349],\n",
       "       [0.50240236, 0.49759764],\n",
       "       [0.50092696, 0.49907304],\n",
       "       [0.50250997, 0.49749003],\n",
       "       [0.4985069 , 0.5014931 ],\n",
       "       [0.4994373 , 0.5005627 ],\n",
       "       [0.5024844 , 0.4975156 ],\n",
       "       [0.50120384, 0.49879616],\n",
       "       [0.49970062, 0.50029938],\n",
       "       [0.50154039, 0.49845961],\n",
       "       [0.50257601, 0.49742399],\n",
       "       [0.5015003 , 0.4984997 ],\n",
       "       [0.50034533, 0.49965467],\n",
       "       [0.5020367 , 0.4979633 ],\n",
       "       [0.5022038 , 0.4977962 ],\n",
       "       [0.50057621, 0.49942379],\n",
       "       [0.50128065, 0.49871935],\n",
       "       [0.50042842, 0.49957158],\n",
       "       [0.50330239, 0.49669761],\n",
       "       [0.50128544, 0.49871456],\n",
       "       [0.50196417, 0.49803583],\n",
       "       [0.50194098, 0.49805902],\n",
       "       [0.50115364, 0.49884636],\n",
       "       [0.50299407, 0.49700593],\n",
       "       [0.50130317, 0.49869683],\n",
       "       [0.50375311, 0.49624689],\n",
       "       [0.50121088, 0.49878912],\n",
       "       [0.50232441, 0.49767559],\n",
       "       [0.50272548, 0.49727452],\n",
       "       [0.50001357, 0.49998643],\n",
       "       [0.50093936, 0.49906064],\n",
       "       [0.50208529, 0.49791471],\n",
       "       [0.50137482, 0.49862518],\n",
       "       [0.50080493, 0.49919507],\n",
       "       [0.50332574, 0.49667426],\n",
       "       [0.50302616, 0.49697384],\n",
       "       [0.50196237, 0.49803763],\n",
       "       [0.5023057 , 0.4976943 ],\n",
       "       [0.5006412 , 0.4993588 ],\n",
       "       [0.50224065, 0.49775935],\n",
       "       [0.5010883 , 0.4989117 ],\n",
       "       [0.50133566, 0.49866434],\n",
       "       [0.50233576, 0.49766424],\n",
       "       [0.50184149, 0.49815851],\n",
       "       [0.50098641, 0.49901359],\n",
       "       [0.5019006 , 0.4980994 ],\n",
       "       [0.50107183, 0.49892817],\n",
       "       [0.50143271, 0.49856729],\n",
       "       [0.50203595, 0.49796405],\n",
       "       [0.5026515 , 0.4973485 ],\n",
       "       [0.50377703, 0.49622297],\n",
       "       [0.49893439, 0.50106561],\n",
       "       [0.50339275, 0.49660725],\n",
       "       [0.50152766, 0.49847234],\n",
       "       [0.50158634, 0.49841366],\n",
       "       [0.50000096, 0.49999904],\n",
       "       [0.50045491, 0.49954509],\n",
       "       [0.50208306, 0.49791694],\n",
       "       [0.50352855, 0.49647145],\n",
       "       [0.50237312, 0.49762688],\n",
       "       [0.49928464, 0.50071536],\n",
       "       [0.50297955, 0.49702045],\n",
       "       [0.50170373, 0.49829627],\n",
       "       [0.50143102, 0.49856898],\n",
       "       [0.50330941, 0.49669059],\n",
       "       [0.50211473, 0.49788527],\n",
       "       [0.50202076, 0.49797924],\n",
       "       [0.50051225, 0.49948775],\n",
       "       [0.50112964, 0.49887036],\n",
       "       [0.50185392, 0.49814608],\n",
       "       [0.49966058, 0.50033942],\n",
       "       [0.50075293, 0.49924707],\n",
       "       [0.50071296, 0.49928704],\n",
       "       [0.49923395, 0.50076605],\n",
       "       [0.50080148, 0.49919852],\n",
       "       [0.49827919, 0.50172081],\n",
       "       [0.50168248, 0.49831752],\n",
       "       [0.49995601, 0.50004399],\n",
       "       [0.5014818 , 0.4985182 ],\n",
       "       [0.5008324 , 0.4991676 ],\n",
       "       [0.50225201, 0.49774799],\n",
       "       [0.50041346, 0.49958654],\n",
       "       [0.50008176, 0.49991824],\n",
       "       [0.50275251, 0.49724749],\n",
       "       [0.5013088 , 0.4986912 ],\n",
       "       [0.50199637, 0.49800363],\n",
       "       [0.50250964, 0.49749036],\n",
       "       [0.50279177, 0.49720823],\n",
       "       [0.50085703, 0.49914297],\n",
       "       [0.50363226, 0.49636774],\n",
       "       [0.50075518, 0.49924482],\n",
       "       [0.50160237, 0.49839763],\n",
       "       [0.50200633, 0.49799367],\n",
       "       [0.50294549, 0.49705451],\n",
       "       [0.50134492, 0.49865508],\n",
       "       [0.50113355, 0.49886645],\n",
       "       [0.5011625 , 0.4988375 ],\n",
       "       [0.50086075, 0.49913925],\n",
       "       [0.50223575, 0.49776425],\n",
       "       [0.50032738, 0.49967262],\n",
       "       [0.50110359, 0.49889641],\n",
       "       [0.50256978, 0.49743022],\n",
       "       [0.49850301, 0.50149699],\n",
       "       [0.5031758 , 0.4968242 ],\n",
       "       [0.50058575, 0.49941425],\n",
       "       [0.5004442 , 0.4995558 ],\n",
       "       [0.50093672, 0.49906328],\n",
       "       [0.50332508, 0.49667492],\n",
       "       [0.50399354, 0.49600646],\n",
       "       [0.50351518, 0.49648482],\n",
       "       [0.50156107, 0.49843893],\n",
       "       [0.50078711, 0.49921289],\n",
       "       [0.50197128, 0.49802872]])"
      ]
     },
     "execution_count": 33,
     "metadata": {},
     "output_type": "execute_result"
    }
   ],
   "source": [
    "mnb.predict_proba(Xtest_)  # 每个样本在每个标签取值下的概率"
   ]
  },
  {
   "cell_type": "code",
   "execution_count": 34,
   "metadata": {},
   "outputs": [
    {
     "data": {
      "text/plain": [
       "0.5433333333333333"
      ]
     },
     "execution_count": 34,
     "metadata": {},
     "output_type": "execute_result"
    }
   ],
   "source": [
    "mnb.score(Xtest_,Ytest)"
   ]
  },
  {
   "cell_type": "code",
   "execution_count": 35,
   "metadata": {},
   "outputs": [
    {
     "data": {
      "text/plain": [
       "0.24977828412546027"
      ]
     },
     "execution_count": 35,
     "metadata": {},
     "output_type": "execute_result"
    }
   ],
   "source": [
    "brier_score_loss(Ytest,mnb.predict_proba(Xtest_)[:,1],pos_label=1)"
   ]
  },
  {
   "cell_type": "code",
   "execution_count": 36,
   "metadata": {},
   "outputs": [],
   "source": [
    "#来试试看把Xtiain转换成分类型数据吧\n",
    "#注意我们的Xtrain没有经过归一化，因为做哑变量之后自然所有的数据就不会又负数了\n",
    "from sklearn.preprocessing import KBinsDiscretizer   # 对连续型变量进行分箱，变为分类型数据\n",
    "kbs = KBinsDiscretizer(n_bins=10, encode='onehot').fit(Xtrain)"
   ]
  },
  {
   "cell_type": "code",
   "execution_count": 37,
   "metadata": {},
   "outputs": [],
   "source": [
    "Xtrain_ = kbs.transform(Xtrain)\n",
    "Xtest_ = kbs.transform(Xtest)"
   ]
  },
  {
   "cell_type": "code",
   "execution_count": 38,
   "metadata": {},
   "outputs": [
    {
     "data": {
      "text/plain": [
       "(700, 2)"
      ]
     },
     "execution_count": 38,
     "metadata": {},
     "output_type": "execute_result"
    }
   ],
   "source": [
    "Xtrain.shape  # 原来的两个特征中，每个特征分了10个箱所分出来的哑变量"
   ]
  },
  {
   "cell_type": "code",
   "execution_count": 39,
   "metadata": {},
   "outputs": [],
   "source": [
    "mnb = MultinomialNB().fit(Xtrain_, Ytrain)"
   ]
  },
  {
   "cell_type": "code",
   "execution_count": 40,
   "metadata": {},
   "outputs": [],
   "source": [
    "mnb.score(Xtest_,Ytest)   # 惊喜！！！"
   ]
  },
  {
   "cell_type": "markdown",
   "metadata": {},
   "source": [
    "可以看到，分类对于我们的朴素贝叶斯非常非常的关键。只要对我们的多项式贝叶斯进行了分类处理，其效果突飞猛进。"
   ]
  },
  {
   "cell_type": "code",
   "execution_count": 41,
   "metadata": {},
   "outputs": [
    {
     "data": {
      "text/plain": [
       "0.0014593932778211862"
      ]
     },
     "execution_count": 41,
     "metadata": {},
     "output_type": "execute_result"
    }
   ],
   "source": [
    "brier_score_loss(Ytest,mnb.predict_proba(Xtest_)[:,1],pos_label=1)  "
   ]
  },
  {
   "cell_type": "markdown",
   "metadata": {},
   "source": [
    "伯努利朴素贝叶斯：处理二项分布"
   ]
  },
  {
   "cell_type": "markdown",
   "metadata": {},
   "source": [
    "多元伯努利分布：可以存在多个特征，但每个特征都是二分类的"
   ]
  },
  {
   "cell_type": "markdown",
   "metadata": {},
   "source": [
    "多项式朴素贝叶斯可以同时处理多项分布和二项分布，其中二项分布又叫做伯努利分布。   \n",
    "伯努利朴素贝叶斯与多项式朴素贝叶斯非常相似，都常用于处理文本分类数据   \n",
    "一个注重存在与否，一个注重出现了多少次   \n"
   ]
  },
  {
   "cell_type": "markdown",
   "metadata": {},
   "source": [
    "BernoulliNB:   \n",
    "参数：   \n",
    "alpha:同上   \n",
    "binarize: 将特征二值化的阈值，默认为0。   \n",
    "fit_prior:是否学习先验概率。   \n",
    "class_prior:同上"
   ]
  },
  {
   "cell_type": "code",
   "execution_count": 42,
   "metadata": {},
   "outputs": [],
   "source": [
    "from sklearn.naive_bayes import BernoulliNB"
   ]
  },
  {
   "cell_type": "code",
   "execution_count": 43,
   "metadata": {},
   "outputs": [],
   "source": [
    "#普通来说我们应该使用二值化的类sklearn.preprocessing.Binarizer来将特征一个个二值化\n",
    "#然而这样效率过低，因此我们选择归一化之后直接设置一个阈值\n",
    "mms = MinMaxScaler().fit(Xtrain)\n",
    "Xtrain_ = mms.transform(Xtrain)\n",
    "Xtest_ = mms.transform(Xtest)"
   ]
  },
  {
   "cell_type": "code",
   "execution_count": 44,
   "metadata": {},
   "outputs": [
    {
     "data": {
      "text/plain": [
       "0.25000009482193225"
      ]
     },
     "execution_count": 44,
     "metadata": {},
     "output_type": "execute_result"
    }
   ],
   "source": [
    "#不设置二值化\n",
    "bnl_ = BernoulliNB().fit(Xtrain_, Ytrain)\n",
    "bnl_.score(Xtest_,Ytest)\n",
    "brier_score_loss(Ytest,bnl_.predict_proba(Xtest_)[:,1],pos_label=1)"
   ]
  },
  {
   "cell_type": "code",
   "execution_count": 47,
   "metadata": {},
   "outputs": [
    {
     "data": {
      "text/plain": [
       "0.9833333333333333"
      ]
     },
     "execution_count": 47,
     "metadata": {},
     "output_type": "execute_result"
    }
   ],
   "source": [
    "#设置二值化阈值为0.5\n",
    "bnl = BernoulliNB(binarize=0.5).fit(Xtrain_, Ytrain)\n",
    "bnl.score(Xtest_,Ytest)"
   ]
  },
  {
   "cell_type": "code",
   "execution_count": 46,
   "metadata": {},
   "outputs": [
    {
     "data": {
      "text/plain": [
       "0.010405875827339534"
      ]
     },
     "execution_count": 46,
     "metadata": {},
     "output_type": "execute_result"
    }
   ],
   "source": [
    "brier_score_loss(Ytest,bnl.predict_proba(Xtest_)[:,1],pos_label=1)"
   ]
  },
  {
   "cell_type": "markdown",
   "metadata": {},
   "source": [
    "可见，伯努利贝叶斯也需要二值化，变为分类型变量。和多项式贝叶斯一样，伯努利贝叶斯   \n",
    "的结果也受到数据结构非常大的影响。因此，根据数据的模样选择贝叶斯，是贝叶斯模型选   \n",
    "择中十分重要的一点。"
   ]
  },
  {
   "cell_type": "markdown",
   "metadata": {},
   "source": [
    "探索贝叶斯样本不平衡问题"
   ]
  },
  {
   "cell_type": "code",
   "execution_count": 2,
   "metadata": {},
   "outputs": [],
   "source": [
    "from sklearn.naive_bayes import MultinomialNB, GaussianNB, BernoulliNB\n",
    "from sklearn.model_selection import train_test_split\n",
    "from sklearn.datasets import make_blobs\n",
    "from sklearn.preprocessing import KBinsDiscretizer\n",
    "from sklearn.metrics import brier_score_loss as BS,recall_score,roc_auc_score as AUC"
   ]
  },
  {
   "cell_type": "code",
   "execution_count": 3,
   "metadata": {},
   "outputs": [],
   "source": [
    "class_1 = 50000 #多数类为50000个样本\n",
    "class_2 = 500 #少数类为500个样本\n",
    "centers = [[0.0, 0.0], [5.0, 5.0]] #设定两个类别的中心\n",
    "clusters_std = [3, 1] #设定两个类别的方差\n",
    "X, y = make_blobs(n_samples=[class_1, class_2],\n",
    "                    centers=centers,\n",
    "                    cluster_std=clusters_std,\n",
    "                    random_state=0, shuffle=False)"
   ]
  },
  {
   "cell_type": "code",
   "execution_count": 50,
   "metadata": {},
   "outputs": [
    {
     "data": {
      "text/plain": [
       "(50500, 2)"
      ]
     },
     "execution_count": 50,
     "metadata": {},
     "output_type": "execute_result"
    }
   ],
   "source": [
    "X.shape"
   ]
  },
  {
   "cell_type": "code",
   "execution_count": 51,
   "metadata": {},
   "outputs": [
    {
     "data": {
      "text/plain": [
       "array([0, 1])"
      ]
     },
     "execution_count": 51,
     "metadata": {},
     "output_type": "execute_result"
    }
   ],
   "source": [
    "np.unique(y)"
   ]
  },
  {
   "cell_type": "code",
   "execution_count": 52,
   "metadata": {},
   "outputs": [
    {
     "name": "stdout",
     "output_type": "stream",
     "text": [
      "Multinomial\n",
      "\tBrier:0.007\n",
      "\tAccuracy:0.990\n",
      "\tRecall:0.000\n",
      "Gaussian\n",
      "\tBrier:0.006\n",
      "\tAccuracy:0.990\n",
      "\tRecall:0.438\n",
      "Bernoulli\n",
      "\tBrier:0.009\n",
      "\tAccuracy:0.987\n",
      "\tRecall:0.771\n"
     ]
    }
   ],
   "source": [
    "name = [\"Multinomial\",\"Gaussian\",\"Bernoulli\"]\n",
    "models = [MultinomialNB(),GaussianNB(),BernoulliNB()]\n",
    "\n",
    "for name,clf in zip(name,models):\n",
    "    # 划分训练集和测试集，高斯对数据没有什么要求，而多项式要求特征必须是分类型，伯努利要求特征必须是二分类的，这两个都要做数据的预处理\n",
    "    # 在预处理的时候改变了我的Xtrain和Xtest，所以在每次循环开始的时候重新对我们的数据进行一个分割，在执行时就不会再覆盖影响到\n",
    "    Xtrain, Xtest, Ytrain, Ytest = train_test_split(X,y,test_size=0.3,random_state=420)\n",
    "    if name != \"Gaussian\":  # 高斯不需要分类\n",
    "        kbs = KBinsDiscretizer(n_bins=10, encode='onehot').fit(Xtrain)\n",
    "        Xtrain = kbs.transform(Xtrain)\n",
    "        Xtest = kbs.transform(Xtest)\n",
    "    # 拟合&结果\n",
    "    clf.fit(Xtrain,Ytrain)\n",
    "    y_pred = clf.predict(Xtest)\n",
    "    proba = clf.predict_proba(Xtest)[:,1]\n",
    "    score = clf.score(Xtest,Ytest)\n",
    "    print(name)\n",
    "    print(\"\\tBrier:{:.3f}\".format(BS(Ytest,proba,pos_label=1)))\n",
    "    print(\"\\tAccuracy:{:.3f}\".format(score))\n",
    "    print(\"\\tRecall:{:.3f}\".format(recall_score(Ytest,y_pred)))\n",
    "    print(\"/tAUC:{:.3f}\".)"
   ]
  },
  {
   "cell_type": "markdown",
   "metadata": {},
   "source": [
    "以上三种贝叶斯方法不能处理样本不均衡问题，为此，改进多项式贝叶斯，补集朴素贝叶斯ComplementNB   \n",
    "创造出数学方法，来逃避“朴素”假设，让算法不去关心特征之间是否有条件独立，为此，创造出了能够解决   \n",
    "样本不平衡问题，并且能够解决朴素贝叶斯中“朴素”问题的补集朴素贝叶斯。（CNB）"
   ]
  },
  {
   "cell_type": "markdown",
   "metadata": {},
   "source": [
    "ComplementNB：   \n",
    "参数：   \n",
    "alpha   \n",
    "norm  :计算权重的时候，是否适用L2范式来规范权重的大小，默认不进行规范，若进行规范，请设置为True。    \n",
    "fit_prior      \n",
    "class_prior"
   ]
  },
  {
   "cell_type": "code",
   "execution_count": 4,
   "metadata": {},
   "outputs": [
    {
     "name": "stdout",
     "output_type": "stream",
     "text": [
      "Multinomial\n",
      "\tBrier:0.007\n",
      "\tAccuracy:0.990\n",
      "\tRecall:0.000\n",
      "\tAUC:0.991\n",
      "00:00:581421\n",
      "Gaussian\n",
      "\tBrier:0.006\n",
      "\tAccuracy:0.990\n",
      "\tRecall:0.438\n",
      "\tAUC:0.993\n",
      "00:00:094946\n",
      "Bernoulli\n",
      "\tBrier:0.009\n",
      "\tAccuracy:0.987\n",
      "\tRecall:0.771\n",
      "\tAUC:0.987\n",
      "00:00:128924\n",
      "Complement\n",
      "\tBrier:0.038\n",
      "\tAccuracy:0.953\n",
      "\tRecall:0.987\n",
      "\tAUC:0.991\n",
      "00:00:076962\n"
     ]
    }
   ],
   "source": [
    "from sklearn.naive_bayes import ComplementNB\n",
    "from time import time\n",
    "import datetime\n",
    "\n",
    "name = [\"Multinomial\",\"Gaussian\",\"Bernoulli\",\"Complement\"]\n",
    "models = [MultinomialNB(),GaussianNB(),BernoulliNB(),ComplementNB()]\n",
    "\n",
    "for name,clf in zip(name,models):\n",
    "    times = time()\n",
    "    Xtrain, Xtest, Ytrain, Ytest = train_test_split(X,y\n",
    "                                                    ,test_size=0.3\n",
    "                                                    ,random_state=420)\n",
    "    #预处理\n",
    "    if name != \"Gaussian\":  # 补集朴素贝叶斯是多项式改进，故也擅长处理分类问题\n",
    "        kbs = KBinsDiscretizer(n_bins=10, encode='onehot').fit(Xtrain)\n",
    "        Xtrain = kbs.transform(Xtrain)\n",
    "        Xtest = kbs.transform(Xtest)\n",
    "\n",
    "    clf.fit(Xtrain,Ytrain)\n",
    "    y_pred = clf.predict(Xtest)\n",
    "    proba = clf.predict_proba(Xtest)[:,1]\n",
    "    score = clf.score(Xtest,Ytest)\n",
    "    print(name)\n",
    "    print(\"\\tBrier:{:.3f}\".format(BS(Ytest,proba,pos_label=1)))\n",
    "    print(\"\\tAccuracy:{:.3f}\".format(score))\n",
    "    print(\"\\tRecall:{:.3f}\".format(recall_score(Ytest,y_pred)))\n",
    "    print(\"\\tAUC:{:.3f}\".format(AUC(Ytest,proba)))\n",
    "    print(datetime.datetime.fromtimestamp(time()-times).strftime(\"%M:%S:%f\"))"
   ]
  },
  {
   "cell_type": "markdown",
   "metadata": {},
   "source": [
    "总结：   \n",
    "补集朴素贝叶斯，运行速度非常快，捕捉出了少数类，并且在此基础上，维持了和原本多项式一致的AUC分数，在文本分类方面，效果优于多项式等。"
   ]
  },
  {
   "cell_type": "markdown",
   "metadata": {},
   "source": [
    "案例： 文本分类"
   ]
  },
  {
   "cell_type": "markdown",
   "metadata": {},
   "source": [
    "在sklearn中，单词计数向量计数可以通过feature.extraction.text模块中的CountVectorizer类来实现。"
   ]
  },
  {
   "cell_type": "code",
   "execution_count": 5,
   "metadata": {},
   "outputs": [],
   "source": [
    "sample = [\"Machine learning is fascinating, it is wonderful\"\n",
    "         ,\"Machine learning is a sensational techonology\"\n",
    "         ,\"Elsa is a popular character\"]"
   ]
  },
  {
   "cell_type": "code",
   "execution_count": 7,
   "metadata": {},
   "outputs": [],
   "source": [
    "from sklearn.feature_extraction.text import CountVectorizer"
   ]
  },
  {
   "cell_type": "code",
   "execution_count": 8,
   "metadata": {},
   "outputs": [],
   "source": [
    "vec = CountVectorizer()"
   ]
  },
  {
   "cell_type": "code",
   "execution_count": 9,
   "metadata": {},
   "outputs": [],
   "source": [
    "X = vec.fit_transform(sample)"
   ]
  },
  {
   "cell_type": "code",
   "execution_count": 10,
   "metadata": {},
   "outputs": [
    {
     "data": {
      "text/plain": [
       "<3x11 sparse matrix of type '<class 'numpy.int64'>'\n",
       "\twith 15 stored elements in Compressed Sparse Row format>"
      ]
     },
     "execution_count": 10,
     "metadata": {},
     "output_type": "execute_result"
    }
   ],
   "source": [
    "X"
   ]
  },
  {
   "cell_type": "code",
   "execution_count": 12,
   "metadata": {},
   "outputs": [
    {
     "data": {
      "text/plain": [
       "['character',\n",
       " 'elsa',\n",
       " 'fascinating',\n",
       " 'is',\n",
       " 'it',\n",
       " 'learning',\n",
       " 'machine',\n",
       " 'popular',\n",
       " 'sensational',\n",
       " 'techonology',\n",
       " 'wonderful']"
      ]
     },
     "execution_count": 12,
     "metadata": {},
     "output_type": "execute_result"
    }
   ],
   "source": [
    "#使用接口get_feature_names()调用每个列的名称\n",
    "\n",
    "vec.get_feature_names()   # 按照字母的顺序排列的单词"
   ]
  },
  {
   "cell_type": "code",
   "execution_count": 14,
   "metadata": {},
   "outputs": [],
   "source": [
    "import pandas as pd"
   ]
  },
  {
   "cell_type": "code",
   "execution_count": 15,
   "metadata": {},
   "outputs": [],
   "source": [
    "#注意稀疏矩阵是无法输入pandas的\n",
    "CVresult = pd.DataFrame(X.toarray(),columns = vec.get_feature_names())"
   ]
  },
  {
   "cell_type": "code",
   "execution_count": 16,
   "metadata": {},
   "outputs": [
    {
     "data": {
      "text/html": [
       "<div>\n",
       "<style scoped>\n",
       "    .dataframe tbody tr th:only-of-type {\n",
       "        vertical-align: middle;\n",
       "    }\n",
       "\n",
       "    .dataframe tbody tr th {\n",
       "        vertical-align: top;\n",
       "    }\n",
       "\n",
       "    .dataframe thead th {\n",
       "        text-align: right;\n",
       "    }\n",
       "</style>\n",
       "<table border=\"1\" class=\"dataframe\">\n",
       "  <thead>\n",
       "    <tr style=\"text-align: right;\">\n",
       "      <th></th>\n",
       "      <th>character</th>\n",
       "      <th>elsa</th>\n",
       "      <th>fascinating</th>\n",
       "      <th>is</th>\n",
       "      <th>it</th>\n",
       "      <th>learning</th>\n",
       "      <th>machine</th>\n",
       "      <th>popular</th>\n",
       "      <th>sensational</th>\n",
       "      <th>techonology</th>\n",
       "      <th>wonderful</th>\n",
       "    </tr>\n",
       "  </thead>\n",
       "  <tbody>\n",
       "    <tr>\n",
       "      <th>0</th>\n",
       "      <td>0</td>\n",
       "      <td>0</td>\n",
       "      <td>1</td>\n",
       "      <td>2</td>\n",
       "      <td>1</td>\n",
       "      <td>1</td>\n",
       "      <td>1</td>\n",
       "      <td>0</td>\n",
       "      <td>0</td>\n",
       "      <td>0</td>\n",
       "      <td>1</td>\n",
       "    </tr>\n",
       "    <tr>\n",
       "      <th>1</th>\n",
       "      <td>0</td>\n",
       "      <td>0</td>\n",
       "      <td>0</td>\n",
       "      <td>1</td>\n",
       "      <td>0</td>\n",
       "      <td>1</td>\n",
       "      <td>1</td>\n",
       "      <td>0</td>\n",
       "      <td>1</td>\n",
       "      <td>1</td>\n",
       "      <td>0</td>\n",
       "    </tr>\n",
       "    <tr>\n",
       "      <th>2</th>\n",
       "      <td>1</td>\n",
       "      <td>1</td>\n",
       "      <td>0</td>\n",
       "      <td>1</td>\n",
       "      <td>0</td>\n",
       "      <td>0</td>\n",
       "      <td>0</td>\n",
       "      <td>1</td>\n",
       "      <td>0</td>\n",
       "      <td>0</td>\n",
       "      <td>0</td>\n",
       "    </tr>\n",
       "  </tbody>\n",
       "</table>\n",
       "</div>"
      ],
      "text/plain": [
       "   character  elsa  fascinating  is  it  learning  machine  popular  \\\n",
       "0          0     0            1   2   1         1        1        0   \n",
       "1          0     0            0   1   0         1        1        0   \n",
       "2          1     1            0   1   0         0        0        1   \n",
       "\n",
       "   sensational  techonology  wonderful  \n",
       "0            0            0          1  \n",
       "1            1            1          0  \n",
       "2            0            0          0  "
      ]
     },
     "execution_count": 16,
     "metadata": {},
     "output_type": "execute_result"
    }
   ],
   "source": [
    "CVresult"
   ]
  },
  {
   "cell_type": "markdown",
   "metadata": {},
   "source": [
    "根据补集朴素贝叶斯计算公式，将每一列加和除以整个特征矩阵的和，就是每一列对应的概率。   \n",
    "但是对于句子特别长的样本而言，这个样本对theta的影响是巨大的，因此，补集朴素贝叶斯让每个特征的   \n",
    "权重除以自己的L2范式。"
   ]
  },
  {
   "cell_type": "markdown",
   "metadata": {},
   "source": [
    "TF-IDF方法：（term frequency-inverse document frequency)词频逆文档频率   \n",
    "根据单词在文档中的频率来衡量其权重的。IDF的大小和一个词的常见程度成反比。   \n",
    "sklearn中，使用feature_extraction.text中的类TfidfVectorizer来执行编码。\n"
   ]
  },
  {
   "cell_type": "code",
   "execution_count": 17,
   "metadata": {},
   "outputs": [],
   "source": [
    "from sklearn.feature_extraction.text import TfidfVectorizer as TFIDF\n",
    "vec = TFIDF()"
   ]
  },
  {
   "cell_type": "code",
   "execution_count": 18,
   "metadata": {},
   "outputs": [],
   "source": [
    "X = vec.fit_transform(sample)"
   ]
  },
  {
   "cell_type": "code",
   "execution_count": 19,
   "metadata": {},
   "outputs": [
    {
     "data": {
      "text/plain": [
       "<3x11 sparse matrix of type '<class 'numpy.float64'>'\n",
       "\twith 15 stored elements in Compressed Sparse Row format>"
      ]
     },
     "execution_count": 19,
     "metadata": {},
     "output_type": "execute_result"
    }
   ],
   "source": [
    "X  # 每个单词作为一个特征，每个单词在这个句子中所占的比例。"
   ]
  },
  {
   "cell_type": "code",
   "execution_count": 20,
   "metadata": {},
   "outputs": [],
   "source": [
    "#同样使用接口get_feature_names()调用每个列的名称\n",
    "TFIDFresult = pd.DataFrame(X.toarray(),columns=vec.get_feature_names())"
   ]
  },
  {
   "cell_type": "code",
   "execution_count": 21,
   "metadata": {},
   "outputs": [
    {
     "data": {
      "text/html": [
       "<div>\n",
       "<style scoped>\n",
       "    .dataframe tbody tr th:only-of-type {\n",
       "        vertical-align: middle;\n",
       "    }\n",
       "\n",
       "    .dataframe tbody tr th {\n",
       "        vertical-align: top;\n",
       "    }\n",
       "\n",
       "    .dataframe thead th {\n",
       "        text-align: right;\n",
       "    }\n",
       "</style>\n",
       "<table border=\"1\" class=\"dataframe\">\n",
       "  <thead>\n",
       "    <tr style=\"text-align: right;\">\n",
       "      <th></th>\n",
       "      <th>character</th>\n",
       "      <th>elsa</th>\n",
       "      <th>fascinating</th>\n",
       "      <th>is</th>\n",
       "      <th>it</th>\n",
       "      <th>learning</th>\n",
       "      <th>machine</th>\n",
       "      <th>popular</th>\n",
       "      <th>sensational</th>\n",
       "      <th>techonology</th>\n",
       "      <th>wonderful</th>\n",
       "    </tr>\n",
       "  </thead>\n",
       "  <tbody>\n",
       "    <tr>\n",
       "      <th>0</th>\n",
       "      <td>0.000000</td>\n",
       "      <td>0.000000</td>\n",
       "      <td>0.424396</td>\n",
       "      <td>0.501310</td>\n",
       "      <td>0.424396</td>\n",
       "      <td>0.322764</td>\n",
       "      <td>0.322764</td>\n",
       "      <td>0.000000</td>\n",
       "      <td>0.000000</td>\n",
       "      <td>0.000000</td>\n",
       "      <td>0.424396</td>\n",
       "    </tr>\n",
       "    <tr>\n",
       "      <th>1</th>\n",
       "      <td>0.000000</td>\n",
       "      <td>0.000000</td>\n",
       "      <td>0.000000</td>\n",
       "      <td>0.315444</td>\n",
       "      <td>0.000000</td>\n",
       "      <td>0.406192</td>\n",
       "      <td>0.406192</td>\n",
       "      <td>0.000000</td>\n",
       "      <td>0.534093</td>\n",
       "      <td>0.534093</td>\n",
       "      <td>0.000000</td>\n",
       "    </tr>\n",
       "    <tr>\n",
       "      <th>2</th>\n",
       "      <td>0.546454</td>\n",
       "      <td>0.546454</td>\n",
       "      <td>0.000000</td>\n",
       "      <td>0.322745</td>\n",
       "      <td>0.000000</td>\n",
       "      <td>0.000000</td>\n",
       "      <td>0.000000</td>\n",
       "      <td>0.546454</td>\n",
       "      <td>0.000000</td>\n",
       "      <td>0.000000</td>\n",
       "      <td>0.000000</td>\n",
       "    </tr>\n",
       "  </tbody>\n",
       "</table>\n",
       "</div>"
      ],
      "text/plain": [
       "   character      elsa  fascinating        is        it  learning   machine  \\\n",
       "0   0.000000  0.000000     0.424396  0.501310  0.424396  0.322764  0.322764   \n",
       "1   0.000000  0.000000     0.000000  0.315444  0.000000  0.406192  0.406192   \n",
       "2   0.546454  0.546454     0.000000  0.322745  0.000000  0.000000  0.000000   \n",
       "\n",
       "    popular  sensational  techonology  wonderful  \n",
       "0  0.000000     0.000000     0.000000   0.424396  \n",
       "1  0.000000     0.534093     0.534093   0.000000  \n",
       "2  0.546454     0.000000     0.000000   0.000000  "
      ]
     },
     "execution_count": 21,
     "metadata": {},
     "output_type": "execute_result"
    }
   ],
   "source": [
    "TFIDFresult"
   ]
  },
  {
   "cell_type": "code",
   "execution_count": 22,
   "metadata": {},
   "outputs": [
    {
     "data": {
      "text/plain": [
       "character      0.0625\n",
       "elsa           0.0625\n",
       "fascinating    0.0625\n",
       "is             0.2500\n",
       "it             0.0625\n",
       "learning       0.1250\n",
       "machine        0.1250\n",
       "popular        0.0625\n",
       "sensational    0.0625\n",
       "techonology    0.0625\n",
       "wonderful      0.0625\n",
       "dtype: float64"
      ]
     },
     "execution_count": 22,
     "metadata": {},
     "output_type": "execute_result"
    }
   ],
   "source": [
    "#使用TF-IDF编码之后，出现得多的单词的权重被降低了么？ theta\n",
    "# 每一列上的次数除以总共特征含有的特征的个数\n",
    "CVresult.sum(axis=0)/CVresult.sum(axis=0).sum()"
   ]
  },
  {
   "cell_type": "code",
   "execution_count": 23,
   "metadata": {},
   "outputs": [
    {
     "data": {
      "text/plain": [
       "character      0.083071\n",
       "elsa           0.083071\n",
       "fascinating    0.064516\n",
       "is             0.173225\n",
       "it             0.064516\n",
       "learning       0.110815\n",
       "machine        0.110815\n",
       "popular        0.083071\n",
       "sensational    0.081192\n",
       "techonology    0.081192\n",
       "wonderful      0.064516\n",
       "dtype: float64"
      ]
     },
     "execution_count": 23,
     "metadata": {},
     "output_type": "execute_result"
    }
   ],
   "source": [
    "TFIDFresult.sum(axis=0) / TFIDFresult.sum(axis=0).sum()\n",
    "\n",
    "# 将原本出现次数比较多的词进行压缩，以实现压缩我们的权重\n",
    "# 将原本出现次数比较少的词增加我们的权重\n",
    "# 这样可以抑制没意义的词"
   ]
  },
  {
   "cell_type": "code",
   "execution_count": 24,
   "metadata": {},
   "outputs": [],
   "source": [
    "from sklearn.datasets import fetch_20newsgroups"
   ]
  },
  {
   "cell_type": "code",
   "execution_count": 25,
   "metadata": {},
   "outputs": [
    {
     "name": "stderr",
     "output_type": "stream",
     "text": [
      "Downloading 20news dataset. This may take a few minutes.\n",
      "Downloading dataset from https://ndownloader.figshare.com/files/5975967 (14 MB)\n"
     ]
    }
   ],
   "source": [
    "#初次使用这个数据集的时候，会在实例化的时候开始下载\n",
    "data = fetch_20newsgroups()"
   ]
  },
  {
   "cell_type": "code",
   "execution_count": null,
   "metadata": {},
   "outputs": [],
   "source": [
    "#通常我们使用data来查看data里面到底包含了什么内容，但由于fetch_20newsgourps这个类加载出的数据巨大，数\n",
    "# 据结构中混杂很多文字，因此很难去看清"
   ]
  },
  {
   "cell_type": "code",
   "execution_count": 26,
   "metadata": {},
   "outputs": [
    {
     "data": {
      "text/plain": [
       "['alt.atheism',\n",
       " 'comp.graphics',\n",
       " 'comp.os.ms-windows.misc',\n",
       " 'comp.sys.ibm.pc.hardware',\n",
       " 'comp.sys.mac.hardware',\n",
       " 'comp.windows.x',\n",
       " 'misc.forsale',\n",
       " 'rec.autos',\n",
       " 'rec.motorcycles',\n",
       " 'rec.sport.baseball',\n",
       " 'rec.sport.hockey',\n",
       " 'sci.crypt',\n",
       " 'sci.electronics',\n",
       " 'sci.med',\n",
       " 'sci.space',\n",
       " 'soc.religion.christian',\n",
       " 'talk.politics.guns',\n",
       " 'talk.politics.mideast',\n",
       " 'talk.politics.misc',\n",
       " 'talk.religion.misc']"
      ]
     },
     "execution_count": 26,
     "metadata": {},
     "output_type": "execute_result"
    }
   ],
   "source": [
    "#不同类型的新闻\n",
    "# 标签的分类都有哪些\n",
    "data.target_names"
   ]
  },
  {
   "cell_type": "code",
   "execution_count": null,
   "metadata": {},
   "outputs": [],
   "source": [
    "#其实fetch_20newsgroups也是一个类，既然是类，应该就有可以调用的参数\n",
    "#面对简单数据集，我们往往在实例化的过程中什么都不写，但是现在data中数据量太多，不方便探索\n",
    "#因此我们需要来看看我们的类fetch_20newsgroups都有什么样的参数可以帮助我们"
   ]
  },
  {
   "cell_type": "markdown",
   "metadata": {},
   "source": [
    "fetch_20newsgroups参数列表：   \n",
    "subset:选择类中包含的数据子集，train,test,all   \n",
    "categores: 选择一个子集下，不同类型或不同内容的数据所在的目录。   \n",
    "download_if_missing:如果发现本地数据不全，是否自动下载   \n",
    "shuffle: 表示是否打乱样本的顺序，对于样本之间相互独立，并且服从相同分布的算法或模型（比如SGD）来说很重要"
   ]
  },
  {
   "cell_type": "code",
   "execution_count": 27,
   "metadata": {},
   "outputs": [],
   "source": [
    "import numpy as np\n",
    "import pandas as pd"
   ]
  },
  {
   "cell_type": "code",
   "execution_count": 28,
   "metadata": {},
   "outputs": [],
   "source": [
    "categories = [\"sci.space\" #科学技术 - 太空\n",
    "             ,\"rec.sport.hockey\" #运动 - 曲棍球\n",
    "             ,\"talk.politics.guns\" #政治 - 枪支问题\n",
    "             ,\"talk.politics.mideast\"] #政治 - 中东问题"
   ]
  },
  {
   "cell_type": "code",
   "execution_count": 29,
   "metadata": {},
   "outputs": [],
   "source": [
    "train = fetch_20newsgroups(subset=\"train\",categories = categories)\n",
    "test = fetch_20newsgroups(subset=\"test\",categories = categories)"
   ]
  },
  {
   "cell_type": "code",
   "execution_count": 1,
   "metadata": {},
   "outputs": [],
   "source": [
    "# train\n",
    "#可以观察到，里面依然是类字典结构，我们可以通过使用键的方式来提取内容"
   ]
  },
  {
   "cell_type": "code",
   "execution_count": 31,
   "metadata": {},
   "outputs": [
    {
     "data": {
      "text/plain": [
       "['rec.sport.hockey',\n",
       " 'sci.space',\n",
       " 'talk.politics.guns',\n",
       " 'talk.politics.mideast']"
      ]
     },
     "execution_count": 31,
     "metadata": {},
     "output_type": "execute_result"
    }
   ],
   "source": [
    "train.target_names"
   ]
  },
  {
   "cell_type": "code",
   "execution_count": 32,
   "metadata": {},
   "outputs": [
    {
     "data": {
      "text/plain": [
       "2303"
      ]
     },
     "execution_count": 32,
     "metadata": {},
     "output_type": "execute_result"
    }
   ],
   "source": [
    "#查看总共有多少篇文章存在\n",
    "len(train.data)"
   ]
  },
  {
   "cell_type": "code",
   "execution_count": 38,
   "metadata": {},
   "outputs": [
    {
     "name": "stdout",
     "output_type": "stream",
     "text": [
      "From: tvartiai@vipunen.hut.fi (Tommi Vartiainen)\n",
      "Subject: Re: Finland/Sweden vs.NHL teams (WAS:Helsinki/Stockholm & NHL expansion)\n",
      "Nntp-Posting-Host: vipunen.hut.fi\n",
      "Organization: Helsinki University of Technology, Finland\n",
      "Lines: 51\n",
      "\n",
      "In <1993Apr16.195754.5476@ousrvr.oulu.fi> mep@phoenix.oulu.fi (Marko Poutiainen) writes:\n",
      "\n",
      ">: FINLAND:  \n",
      ">: \n",
      ">: D-Jyrki Lumme.......20\n",
      ">: D-Teppo Numminen....20\n",
      ">: D-Peter Ahola.......13\n",
      ">: \n",
      ">Well well, they don't like our defenders (mainly Lumme and Numminen)...\n",
      "\n",
      "About 25 is correct for Numminen and Lumme.\n",
      "\n",
      "\n",
      ">: R-Teemu Selanne.....27\n",
      ">: \n",
      ">Compared to Kurri, Selanne's points are too high, lets make it 25 or 26.\n",
      "\n",
      "No, Kurri's points are too low. 27 for Kurri and 28 for Sel{nne.\n",
      "\n",
      ">: well in the Canada Cup and World Championships largely due to the efforts of\n",
      ">: Markus Ketterer (the goalie), 3-4 or the players listed above and luck. There's\n",
      ">: presumably a lot of decent players in Finland that wouldn't be superstars at\n",
      ">: the highest level but still valuable role players, however. My guess would be\n",
      ">: that the Finnish Canada Cup team would be a .500 team in the NHL.\n",
      "\n",
      ">Wow, now, it looks like you don't like our players? What about guys like:\n",
      ">Nieminen, Jutila, Riihijarvi, Varvio, Laukkanen, Makela, Keskinen and (even\n",
      ">if he is aging) Ruotsalainen? The main difference between finnish and North-\n",
      ">American players is, that our players tend to be better in the larger rink.\n",
      ">The Canadian defenders are usually slower that defenders in Europe. \n",
      ">And I think that there was more in our success than Ketterer and luck (though\n",
      ">they helped). I think that the main reason was, that the team worked well\n",
      ">together.\n",
      "\n",
      "\n",
      "That's true. Game is so different here in Europe compared to NHL. North-ame-\n",
      "ricans are better in small rinks and europeans in large rinks. An average\n",
      "european player from Sweden, Finland, Russian or Tsech/Slovakia is a better \n",
      "skater and  puckhandler than his NHL colleague. Especially defenders in NHL\n",
      "are mainly slow and clumsy. Sel{nne has also said that in the Finnish Sm-league\n",
      "game is more based on skill than in NHL. In Finland he couldn't get so many \n",
      "breakaways because defenders here are an average much better skaters than in\n",
      "NHL. Also Alpo Suhonen said that in NHL Sel{nne's speed accentuates because\n",
      "of clumsy defensemen.\n",
      "\n",
      "I have to admit that the best players come from Canada, but those regulars\n",
      "aren't as skilful as regulars in the best european leagues. Also top europeans\n",
      "are in the same level as the best north-americans.(except Lemieux is in the\n",
      "class of his own). \n",
      "\n",
      "Tommi\n",
      "\n"
     ]
    }
   ],
   "source": [
    "#随意提取一篇文章来看看\n",
    "print(train.data[0])"
   ]
  },
  {
   "cell_type": "code",
   "execution_count": 34,
   "metadata": {},
   "outputs": [
    {
     "data": {
      "text/plain": [
       "array([0, 1, 2, 3], dtype=int64)"
      ]
     },
     "execution_count": 34,
     "metadata": {},
     "output_type": "execute_result"
    }
   ],
   "source": [
    "#查看一下我们的标签\n",
    "np.unique(train.target)"
   ]
  },
  {
   "cell_type": "code",
   "execution_count": 35,
   "metadata": {},
   "outputs": [
    {
     "data": {
      "text/plain": [
       "2303"
      ]
     },
     "execution_count": 35,
     "metadata": {},
     "output_type": "execute_result"
    }
   ],
   "source": [
    "len(train.target)"
   ]
  },
  {
   "cell_type": "code",
   "execution_count": 36,
   "metadata": {},
   "outputs": [
    {
     "name": "stdout",
     "output_type": "stream",
     "text": [
      "1 0.25749023013460703\n",
      "2 0.23708206686930092\n",
      "3 0.24489795918367346\n"
     ]
    }
   ],
   "source": [
    "#是否存在样本不平衡问题？\n",
    "for i in [1,2,3]:\n",
    "    print(i,(train.target == i).sum()/len(train.target))"
   ]
  },
  {
   "cell_type": "code",
   "execution_count": 39,
   "metadata": {},
   "outputs": [],
   "source": [
    "from sklearn.feature_extraction.text import TfidfVectorizer as TFIDF"
   ]
  },
  {
   "cell_type": "code",
   "execution_count": 40,
   "metadata": {},
   "outputs": [],
   "source": [
    "Xtrain = train.data\n",
    "Xtest = test.data\n",
    "Ytrain = train.target\n",
    "Ytest = test.target"
   ]
  },
  {
   "cell_type": "code",
   "execution_count": 41,
   "metadata": {},
   "outputs": [],
   "source": [
    "tfidf = TFIDF().fit(Xtrain)\n",
    "\n",
    "Xtrain_ = tfidf.transform(Xtrain)\n",
    "Xtest_ = tfidf.transform(Xtest)"
   ]
  },
  {
   "cell_type": "code",
   "execution_count": 42,
   "metadata": {},
   "outputs": [
    {
     "data": {
      "text/plain": [
       "<2303x40725 sparse matrix of type '<class 'numpy.float64'>'\n",
       "\twith 430306 stored elements in Compressed Sparse Row format>"
      ]
     },
     "execution_count": 42,
     "metadata": {},
     "output_type": "execute_result"
    }
   ],
   "source": [
    "Xtrain_"
   ]
  },
  {
   "cell_type": "code",
   "execution_count": 43,
   "metadata": {},
   "outputs": [],
   "source": [
    "tosee = pd.DataFrame(Xtrain_.toarray(),columns=tfidf.get_feature_names())"
   ]
  },
  {
   "cell_type": "code",
   "execution_count": 44,
   "metadata": {},
   "outputs": [
    {
     "data": {
      "text/html": [
       "<div>\n",
       "<style scoped>\n",
       "    .dataframe tbody tr th:only-of-type {\n",
       "        vertical-align: middle;\n",
       "    }\n",
       "\n",
       "    .dataframe tbody tr th {\n",
       "        vertical-align: top;\n",
       "    }\n",
       "\n",
       "    .dataframe thead th {\n",
       "        text-align: right;\n",
       "    }\n",
       "</style>\n",
       "<table border=\"1\" class=\"dataframe\">\n",
       "  <thead>\n",
       "    <tr style=\"text-align: right;\">\n",
       "      <th></th>\n",
       "      <th>00</th>\n",
       "      <th>000</th>\n",
       "      <th>0000</th>\n",
       "      <th>00000</th>\n",
       "      <th>000000</th>\n",
       "      <th>000021</th>\n",
       "      <th>000062david42</th>\n",
       "      <th>000152</th>\n",
       "      <th>000246</th>\n",
       "      <th>000256</th>\n",
       "      <th>...</th>\n",
       "      <th>zwrm</th>\n",
       "      <th>zx</th>\n",
       "      <th>zx6wre</th>\n",
       "      <th>zxp</th>\n",
       "      <th>zxqi</th>\n",
       "      <th>zy</th>\n",
       "      <th>zyg</th>\n",
       "      <th>zz</th>\n",
       "      <th>zz_g9q3</th>\n",
       "      <th>zzzzzz</th>\n",
       "    </tr>\n",
       "  </thead>\n",
       "  <tbody>\n",
       "    <tr>\n",
       "      <th>0</th>\n",
       "      <td>0.0</td>\n",
       "      <td>0.000000</td>\n",
       "      <td>0.0</td>\n",
       "      <td>0.0</td>\n",
       "      <td>0.0</td>\n",
       "      <td>0.0</td>\n",
       "      <td>0.0</td>\n",
       "      <td>0.0</td>\n",
       "      <td>0.0</td>\n",
       "      <td>0.0</td>\n",
       "      <td>...</td>\n",
       "      <td>0.0</td>\n",
       "      <td>0.0</td>\n",
       "      <td>0.0</td>\n",
       "      <td>0.0</td>\n",
       "      <td>0.0</td>\n",
       "      <td>0.0</td>\n",
       "      <td>0.0</td>\n",
       "      <td>0.0</td>\n",
       "      <td>0.0</td>\n",
       "      <td>0.0</td>\n",
       "    </tr>\n",
       "    <tr>\n",
       "      <th>1</th>\n",
       "      <td>0.0</td>\n",
       "      <td>0.000000</td>\n",
       "      <td>0.0</td>\n",
       "      <td>0.0</td>\n",
       "      <td>0.0</td>\n",
       "      <td>0.0</td>\n",
       "      <td>0.0</td>\n",
       "      <td>0.0</td>\n",
       "      <td>0.0</td>\n",
       "      <td>0.0</td>\n",
       "      <td>...</td>\n",
       "      <td>0.0</td>\n",
       "      <td>0.0</td>\n",
       "      <td>0.0</td>\n",
       "      <td>0.0</td>\n",
       "      <td>0.0</td>\n",
       "      <td>0.0</td>\n",
       "      <td>0.0</td>\n",
       "      <td>0.0</td>\n",
       "      <td>0.0</td>\n",
       "      <td>0.0</td>\n",
       "    </tr>\n",
       "    <tr>\n",
       "      <th>2</th>\n",
       "      <td>0.0</td>\n",
       "      <td>0.058046</td>\n",
       "      <td>0.0</td>\n",
       "      <td>0.0</td>\n",
       "      <td>0.0</td>\n",
       "      <td>0.0</td>\n",
       "      <td>0.0</td>\n",
       "      <td>0.0</td>\n",
       "      <td>0.0</td>\n",
       "      <td>0.0</td>\n",
       "      <td>...</td>\n",
       "      <td>0.0</td>\n",
       "      <td>0.0</td>\n",
       "      <td>0.0</td>\n",
       "      <td>0.0</td>\n",
       "      <td>0.0</td>\n",
       "      <td>0.0</td>\n",
       "      <td>0.0</td>\n",
       "      <td>0.0</td>\n",
       "      <td>0.0</td>\n",
       "      <td>0.0</td>\n",
       "    </tr>\n",
       "    <tr>\n",
       "      <th>3</th>\n",
       "      <td>0.0</td>\n",
       "      <td>0.000000</td>\n",
       "      <td>0.0</td>\n",
       "      <td>0.0</td>\n",
       "      <td>0.0</td>\n",
       "      <td>0.0</td>\n",
       "      <td>0.0</td>\n",
       "      <td>0.0</td>\n",
       "      <td>0.0</td>\n",
       "      <td>0.0</td>\n",
       "      <td>...</td>\n",
       "      <td>0.0</td>\n",
       "      <td>0.0</td>\n",
       "      <td>0.0</td>\n",
       "      <td>0.0</td>\n",
       "      <td>0.0</td>\n",
       "      <td>0.0</td>\n",
       "      <td>0.0</td>\n",
       "      <td>0.0</td>\n",
       "      <td>0.0</td>\n",
       "      <td>0.0</td>\n",
       "    </tr>\n",
       "    <tr>\n",
       "      <th>4</th>\n",
       "      <td>0.0</td>\n",
       "      <td>0.000000</td>\n",
       "      <td>0.0</td>\n",
       "      <td>0.0</td>\n",
       "      <td>0.0</td>\n",
       "      <td>0.0</td>\n",
       "      <td>0.0</td>\n",
       "      <td>0.0</td>\n",
       "      <td>0.0</td>\n",
       "      <td>0.0</td>\n",
       "      <td>...</td>\n",
       "      <td>0.0</td>\n",
       "      <td>0.0</td>\n",
       "      <td>0.0</td>\n",
       "      <td>0.0</td>\n",
       "      <td>0.0</td>\n",
       "      <td>0.0</td>\n",
       "      <td>0.0</td>\n",
       "      <td>0.0</td>\n",
       "      <td>0.0</td>\n",
       "      <td>0.0</td>\n",
       "    </tr>\n",
       "  </tbody>\n",
       "</table>\n",
       "<p>5 rows × 40725 columns</p>\n",
       "</div>"
      ],
      "text/plain": [
       "    00       000  0000  00000  000000  000021  000062david42  000152  000246  \\\n",
       "0  0.0  0.000000   0.0    0.0     0.0     0.0            0.0     0.0     0.0   \n",
       "1  0.0  0.000000   0.0    0.0     0.0     0.0            0.0     0.0     0.0   \n",
       "2  0.0  0.058046   0.0    0.0     0.0     0.0            0.0     0.0     0.0   \n",
       "3  0.0  0.000000   0.0    0.0     0.0     0.0            0.0     0.0     0.0   \n",
       "4  0.0  0.000000   0.0    0.0     0.0     0.0            0.0     0.0     0.0   \n",
       "\n",
       "   000256  ...  zwrm   zx  zx6wre  zxp  zxqi   zy  zyg   zz  zz_g9q3  zzzzzz  \n",
       "0     0.0  ...   0.0  0.0     0.0  0.0   0.0  0.0  0.0  0.0      0.0     0.0  \n",
       "1     0.0  ...   0.0  0.0     0.0  0.0   0.0  0.0  0.0  0.0      0.0     0.0  \n",
       "2     0.0  ...   0.0  0.0     0.0  0.0   0.0  0.0  0.0  0.0      0.0     0.0  \n",
       "3     0.0  ...   0.0  0.0     0.0  0.0   0.0  0.0  0.0  0.0      0.0     0.0  \n",
       "4     0.0  ...   0.0  0.0     0.0  0.0   0.0  0.0  0.0  0.0      0.0     0.0  \n",
       "\n",
       "[5 rows x 40725 columns]"
      ]
     },
     "execution_count": 44,
     "metadata": {},
     "output_type": "execute_result"
    }
   ],
   "source": [
    "tosee.head()"
   ]
  },
  {
   "cell_type": "code",
   "execution_count": 45,
   "metadata": {},
   "outputs": [
    {
     "data": {
      "text/plain": [
       "(2303, 40725)"
      ]
     },
     "execution_count": 45,
     "metadata": {},
     "output_type": "execute_result"
    }
   ],
   "source": [
    "tosee.shape"
   ]
  },
  {
   "cell_type": "code",
   "execution_count": 50,
   "metadata": {},
   "outputs": [],
   "source": [
    "from sklearn.naive_bayes import MultinomialNB, ComplementNB, BernoulliNB\n",
    "from sklearn.metrics import brier_score_loss as BS\n",
    "\n",
    "name = [\"Multinomial\",\"Complement\",\"Bournulli\"]\n",
    "#注意高斯朴素贝叶斯不接受稀疏矩阵\n",
    "models = [MultinomialNB(),ComplementNB(),BernoulliNB()]"
   ]
  },
  {
   "cell_type": "code",
   "execution_count": 2,
   "metadata": {},
   "outputs": [
    {
     "ename": "NameError",
     "evalue": "name 'name' is not defined",
     "output_type": "error",
     "traceback": [
      "\u001b[1;31m---------------------------------------------------------------------------\u001b[0m",
      "\u001b[1;31mNameError\u001b[0m                                 Traceback (most recent call last)",
      "\u001b[1;32m<ipython-input-2-986d40804483>\u001b[0m in \u001b[0;36m<module>\u001b[1;34m\u001b[0m\n\u001b[1;32m----> 1\u001b[1;33m \u001b[1;32mfor\u001b[0m \u001b[0mname\u001b[0m\u001b[1;33m,\u001b[0m\u001b[0mclf\u001b[0m \u001b[1;32min\u001b[0m \u001b[0mzip\u001b[0m\u001b[1;33m(\u001b[0m\u001b[0mname\u001b[0m\u001b[1;33m,\u001b[0m\u001b[0mmodels\u001b[0m\u001b[1;33m)\u001b[0m\u001b[1;33m:\u001b[0m\u001b[1;33m\u001b[0m\u001b[1;33m\u001b[0m\u001b[0m\n\u001b[0m\u001b[0;32m      2\u001b[0m     \u001b[0mclf\u001b[0m\u001b[1;33m.\u001b[0m\u001b[0mfit\u001b[0m\u001b[1;33m(\u001b[0m\u001b[0mXtrain_\u001b[0m\u001b[1;33m,\u001b[0m\u001b[0mYtrain\u001b[0m\u001b[1;33m)\u001b[0m\u001b[1;33m\u001b[0m\u001b[1;33m\u001b[0m\u001b[0m\n\u001b[0;32m      3\u001b[0m     \u001b[0my_pred\u001b[0m \u001b[1;33m=\u001b[0m \u001b[0mclf\u001b[0m\u001b[1;33m.\u001b[0m\u001b[0mpredict\u001b[0m\u001b[1;33m(\u001b[0m\u001b[0mXtest_\u001b[0m\u001b[1;33m)\u001b[0m\u001b[1;33m\u001b[0m\u001b[1;33m\u001b[0m\u001b[0m\n\u001b[0;32m      4\u001b[0m     \u001b[0mproba\u001b[0m \u001b[1;33m=\u001b[0m \u001b[0mclf\u001b[0m\u001b[1;33m.\u001b[0m\u001b[0mpredict_proba\u001b[0m\u001b[1;33m(\u001b[0m\u001b[0mXtest_\u001b[0m\u001b[1;33m)\u001b[0m\u001b[1;33m\u001b[0m\u001b[1;33m\u001b[0m\u001b[0m\n\u001b[0;32m      5\u001b[0m     \u001b[0mscore\u001b[0m \u001b[1;33m=\u001b[0m \u001b[0mclf\u001b[0m\u001b[1;33m.\u001b[0m\u001b[0mscore\u001b[0m\u001b[1;33m(\u001b[0m\u001b[0mXtest_\u001b[0m\u001b[1;33m,\u001b[0m\u001b[0mYtest\u001b[0m\u001b[1;33m)\u001b[0m\u001b[1;33m\u001b[0m\u001b[1;33m\u001b[0m\u001b[0m\n",
      "\u001b[1;31mNameError\u001b[0m: name 'name' is not defined"
     ]
    }
   ],
   "source": [
    "for name,clf in zip(name,models):\n",
    "    clf.fit(Xtrain_,Ytrain)\n",
    "    y_pred = clf.predict(Xtest_)\n",
    "    proba = clf.predict_proba(Xtest_)\n",
    "    score = clf.score(Xtest_,Ytest)\n",
    "    print(name)\n",
    "\n",
    "    #4个不同的标签取值下的布里尔分数\n",
    "    Bscore = []\n",
    "    for i in range(len(np.unique(Ytrain))):\n",
    "        bs = BS(Ytest,proba[:,i],pos_label=i)\n",
    "        Bscore.append(bs)\n",
    "        print(\"\\tBrier under {}:{:.3f}\".format(train.target_names[i],bs))\n",
    "\n",
    "    print(\"\\tAverage Brier:{:.3f}\".format(np.mean(Bscore)))\n",
    "    print(\"\\tAccuracy:{:.3f}\".format(score))\n",
    "    print(\"\\n\")"
   ]
  },
  {
   "cell_type": "code",
   "execution_count": 52,
   "metadata": {},
   "outputs": [],
   "source": [
    "from sklearn.calibration import CalibratedClassifierCV   # 概率校准"
   ]
  },
  {
   "cell_type": "code",
   "execution_count": null,
   "metadata": {},
   "outputs": [],
   "source": [
    "name = [\"Multinomial\"\n",
    "        ,\"Multinomial + Isotonic\"\n",
    "        ,\"Multinomial + Sigmoid\"\n",
    "        ,\"Complement\"\n",
    "        ,\"Complement + Isotonic\"\n",
    "        ,\"Complement + Sigmoid\"\n",
    "        ,\"Bernoulli\"\n",
    "        ,\"Bernoulli + Isotonic\"\n",
    "        ,\"Bernoulli + Sigmoid\"]\n",
    "models = [MultinomialNB()\n",
    "            ,CalibratedClassifierCV(MultinomialNB(), cv=2, method='isotonic')\n",
    "            ,CalibratedClassifierCV(MultinomialNB(), cv=2, method='sigmoid')\n",
    "            ,ComplementNB()\n",
    "            ,CalibratedClassifierCV(ComplementNB(), cv=2, method='isotonic')\n",
    "            ,CalibratedClassifierCV(ComplementNB(), cv=2, method='sigmoid')\n",
    "            ,BernoulliNB()\n",
    "            ,CalibratedClassifierCV(BernoulliNB(), cv=2, method='isotonic')\n",
    "            ,CalibratedClassifierCV(BernoulliNB(), cv=2, method='sigmoid')\n",
    "            ]\n",
    "for name,clf in zip(name,models):\n",
    "    clf.fit(Xtrain_,Ytrain)\n",
    "    y_pred = clf.predict(Xtest_)\n",
    "    proba = clf.predict_proba(Xtest_)\n",
    "    score = clf.score(Xtest_,Ytest)\n",
    "    print(name)\n",
    "    Bscore = []\n",
    "    for i in range(len(np.unique(Ytrain))):\n",
    "        bs = BS(Ytest,proba[:,i],pos_label=i)\n",
    "        Bscore.append(bs)\n",
    "    print(\"\\tBrier under {}:{:.3f}\".format(train.target_names[i],bs))\n",
    "    print(\"\\tAverage Brier:{:.3f}\".format(np.mean(Bscore)))\n",
    "    print(\"\\tAccuracy:{:.3f}\".format(score))\n",
    "    print(\"\\n\")"
   ]
  },
  {
   "cell_type": "markdown",
   "metadata": {},
   "source": [
    "可见，多项式分布下无论如何调整，算法的效果都不如补集朴素贝叶斯来的好，因此我们再分类的时候应该选择补集   \n",
    "朴素贝叶斯。对补集来说，sigmoid进行概率校准的模型综最优秀，准确率最高，非常理想。   \n",
    "对于机器学习而言，朴素贝叶斯不是也许不是最常用的算法，但作为概率预测算法中唯一一个真正依赖概率来进行计算   \n",
    "并且简单快捷的算法，还是很重要的。其在文本分类上的效果的确很好。由此可见，只要能够有足够的数据，NB就有意想不到   \n",
    "的效果。"
   ]
  }
 ],
 "metadata": {
  "kernelspec": {
   "display_name": "Python 3",
   "language": "python",
   "name": "python3"
  },
  "language_info": {
   "codemirror_mode": {
    "name": "ipython",
    "version": 3
   },
   "file_extension": ".py",
   "mimetype": "text/x-python",
   "name": "python",
   "nbconvert_exporter": "python",
   "pygments_lexer": "ipython3",
   "version": "3.8.8"
  }
 },
 "nbformat": 4,
 "nbformat_minor": 4
}

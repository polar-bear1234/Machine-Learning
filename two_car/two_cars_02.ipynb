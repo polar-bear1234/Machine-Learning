{
 "cells": [
  {
   "cell_type": "code",
   "execution_count": 1,
   "id": "685888a0-f0e9-4743-9705-f63a5ef4a79c",
   "metadata": {
    "tags": []
   },
   "outputs": [],
   "source": [
    "import numpy as np\n",
    "import pandas as pd\n",
    "import matplotlib.pyplot as plt\n",
    "import warnings\n",
    "from tqdm import tqdm\n",
    "import gc\n",
    "warnings.filterwarnings(\"ignore\")"
   ]
  },
  {
   "cell_type": "code",
   "execution_count": 2,
   "id": "3cc8f1c9-02fa-40cc-94a1-c7f3b330c325",
   "metadata": {},
   "outputs": [],
   "source": [
    "train = pd.read_csv(\"./Data/used_car_train_20200313.csv\", sep=\" \", encoding=\"utf-8\")\n",
    "test = pd.read_csv(\"./Data/used_car_testB_20200421.csv\", sep=\" \", encoding=\"utf-8\")\n",
    "\n",
    "all_data = pd.concat([train, test], axis=0, ignore_index=True)"
   ]
  },
  {
   "cell_type": "code",
   "execution_count": 3,
   "id": "32ae325f-f411-4fb9-98a5-d3bd070c1c67",
   "metadata": {},
   "outputs": [
    {
     "name": "stdout",
     "output_type": "stream",
     "text": [
      "Memory usage of dataframe is 49600128.00 MB\n",
      "Memory usage after optimization is: 13600260.00 MB\n",
      "Decreased by 72.6%\n"
     ]
    }
   ],
   "source": [
    "def reduce_mem_usage(df):\n",
    "    \"\"\" iterate through all the columns of a dataframe and modify the data type\n",
    "        to reduce memory usage.        \n",
    "    \"\"\"\n",
    "    start_mem = df.memory_usage().sum() \n",
    "    print('Memory usage of dataframe is {:.2f} MB'.format(start_mem))\n",
    "    \n",
    "    for col in df.columns:\n",
    "        col_type = df[col].dtype\n",
    "        \n",
    "        if col_type != object:\n",
    "            c_min = df[col].min()\n",
    "            c_max = df[col].max()\n",
    "            if str(col_type)[:3] == 'int':\n",
    "                if c_min > np.iinfo(np.int8).min and c_max < np.iinfo(np.int8).max:\n",
    "                    df[col] = df[col].astype(np.int8)\n",
    "                elif c_min > np.iinfo(np.int16).min and c_max < np.iinfo(np.int16).max:\n",
    "                    df[col] = df[col].astype(np.int16)\n",
    "                elif c_min > np.iinfo(np.int32).min and c_max < np.iinfo(np.int32).max:\n",
    "                    df[col] = df[col].astype(np.int32)\n",
    "                elif c_min > np.iinfo(np.int64).min and c_max < np.iinfo(np.int64).max:\n",
    "                    df[col] = df[col].astype(np.int64)  \n",
    "            else:\n",
    "                if c_min > np.finfo(np.float16).min and c_max < np.finfo(np.float16).max:\n",
    "                    df[col] = df[col].astype(np.float16)\n",
    "                elif c_min > np.finfo(np.float32).min and c_max < np.finfo(np.float32).max:\n",
    "                    df[col] = df[col].astype(np.float32)\n",
    "                else:\n",
    "                    df[col] = df[col].astype(np.float64)\n",
    "        else:\n",
    "            df[col] = df[col].astype('category')\n",
    "\n",
    "    end_mem = df.memory_usage().sum() \n",
    "    print('Memory usage after optimization is: {:.2f} MB'.format(end_mem))\n",
    "    print('Decreased by {:.1f}%'.format(100 * (start_mem - end_mem) / start_mem))\n",
    "    return df\n",
    "\n",
    "all_data = reduce_mem_usage(all_data)"
   ]
  },
  {
   "cell_type": "code",
   "execution_count": 4,
   "id": "53145b11-e639-48cf-a440-7079554f0250",
   "metadata": {},
   "outputs": [],
   "source": [
    "all_data[\"price\"] = all_data[\"price\"].fillna(-1).values\n",
    "all_data[\"notRepairedDamage\"] = all_data[\"notRepairedDamage\"].replace(\"-\", 0).astype(\"float32\")\n",
    "\n",
    "all_data.drop([\"seller\", \"offerType\"], axis=1, inplace=True)\n",
    "# 纠正power异常\n",
    "all_data.loc[:, \"power\"] = all_data[\"power\"].apply(lambda x:x if x <= 600 else 600)\n",
    "\n",
    "all_data['city'] = all_data['regionCode'].apply(lambda x : str(x)[:-3])\n",
    "all_data.loc[:, \"city\"] = pd.to_numeric(all_data[\"city\"], errors='coerce')\n",
    "del all_data[\"regionCode\"]"
   ]
  },
  {
   "cell_type": "code",
   "execution_count": 5,
   "id": "c84d0551-8dd9-4f7e-b6c2-a2013dd2208f",
   "metadata": {},
   "outputs": [],
   "source": [
    "# 时间处理\n",
    "regDate = pd.to_datetime(all_data[\"regDate\"], format=\"%Y%m%d\", errors=\"coerce\")\n",
    "creatDate = pd.to_datetime(all_data[\"creatDate\"], format=\"%Y%m%d\", errors=\"coerce\")\n",
    "time_now = pd.datetime.now()\n",
    "\n",
    "all_data[\"creatDate_year\"] = creatDate.dt.year\n",
    "all_data[\"creatDate_month\"] = creatDate.dt.month\n",
    "all_data[\"creatDate_day\"] = creatDate.dt.day\n",
    "all_data[\"regDate_year\"] = regDate.dt.year\n",
    "all_data[\"regDate_month\"] = regDate.dt.month\n",
    "all_data[\"regDate_day\"] = regDate.dt.day\n",
    "all_data[\"used_time1\"] = (creatDate - regDate).dt.days\n",
    "all_data[\"used_time2\"] = (time_now - creatDate).dt.days\n",
    "all_data[\"used_time3\"] = (time_now - regDate).dt.days\n",
    "\n",
    "all_data[\"regDate_dayofweek\"] = regDate.dt.dayofweek\n",
    "all_data[\"creatDate_dayofweek\"] = creatDate.dt.dayofweek"
   ]
  },
  {
   "cell_type": "code",
   "execution_count": 6,
   "id": "8b4473cb-ba00-4f0a-94bc-eed33fa47a5f",
   "metadata": {},
   "outputs": [],
   "source": [
    "# v_feat异常处理\n",
    "all_data.loc[:, \"v_0\"] = all_data.loc[:, \"v_0\"].apply(lambda x:x if x > 40 else 40)\n",
    "all_data.loc[:, \"v_1\"] = all_data.loc[:, \"v_1\"].apply(lambda x:-1 if x < 0 else 1)\n",
    "all_data.loc[:, \"v_2\"] = all_data.loc[:, \"v_2\"].apply(lambda x:x if x < 5 else 0)\n",
    "all_data.loc[:, \"v_5\"] = all_data.loc[:, \"v_5\"].apply(lambda x:0.25 if x < 0.2 else x)\n",
    "all_data.loc[:, \"v_6\"] = all_data.loc[:, \"v_6\"].apply(lambda x:0.1 if x < 0.05 else x)\n",
    "all_data.loc[:, \"v_7\"] = all_data.loc[:, \"v_7\"].apply(lambda x:0.15 if x > 0.5 else x)\n",
    "all_data.loc[:, \"v_11\"] = all_data.loc[:, \"v_11\"].apply(lambda x:0 if x > 5 else x)\n",
    "all_data.loc[:, \"v_13\"] = all_data.loc[:, \"v_13\"].apply(lambda x:0 if x > 5 else x)\n",
    "all_data.loc[:, \"v_14\"] = all_data.loc[:, \"v_14\"].apply(lambda x:0 if x > 5 else x)\n",
    "all_data.loc[:, \"v_14\"] = all_data.loc[:, \"v_14\"].apply(lambda x:-5 if x < -5 else x)"
   ]
  },
  {
   "cell_type": "code",
   "execution_count": 7,
   "id": "13b2c954-5244-453b-9a2a-27f7a56add1c",
   "metadata": {},
   "outputs": [],
   "source": [
    "#分桶操作,划分到区间内\n",
    "def cut_group(df,cols,num_bins=50):\n",
    "    for col in cols:\n",
    "        all_range = int(df[col].max()-df[col].min())\n",
    "        bin = [i*all_range/num_bins for i in range(all_range)]\n",
    "        df[col+'_bin'] = pd.cut(df[col], bin, labels=False)   # 使用cut方法进行分箱\n",
    "    return df\n",
    "\n",
    "#分桶操作\n",
    "cut_cols = ['used_time1', 'used_time2', 'used_time3']\n",
    "all_data = cut_group(all_data,cut_cols,50)\n",
    "\n",
    "#分桶操作\n",
    "# all_data = cut_group(all_data,['kilometer'],10)\n",
    "\n",
    "all_data = cut_group(all_data, [\"power\"], 30)\n",
    "\n",
    "all_data.drop(['power'], axis=1, inplace=True)"
   ]
  },
  {
   "cell_type": "markdown",
   "id": "b9fccc0b-1eac-4e06-8cbc-49203351a878",
   "metadata": {},
   "source": [
    "### 保存预处理数据"
   ]
  },
  {
   "cell_type": "code",
   "execution_count": 9,
   "id": "86610ef9-9266-4aca-9620-2db9201bda27",
   "metadata": {},
   "outputs": [],
   "source": [
    "all_data_01 = all_data.copy()  # 记录之前的数据"
   ]
  },
  {
   "cell_type": "code",
   "execution_count": 8,
   "id": "f6edeb3e-c686-431b-a37d-c1ec847f6f0c",
   "metadata": {},
   "outputs": [
    {
     "data": {
      "text/plain": [
       "(200000, 43)"
      ]
     },
     "execution_count": 8,
     "metadata": {},
     "output_type": "execute_result"
    }
   ],
   "source": [
    "all_data.shape"
   ]
  },
  {
   "cell_type": "code",
   "execution_count": 52,
   "id": "72122a9e-04ed-4021-bf28-20910ed045b3",
   "metadata": {},
   "outputs": [],
   "source": [
    "all_data = all_data_01.copy()"
   ]
  },
  {
   "cell_type": "code",
   "execution_count": 8,
   "id": "e6a75362-aa82-4324-81a8-7417e30c7bc0",
   "metadata": {},
   "outputs": [],
   "source": [
    "# 删除有共线性的特征\n",
    "# del_cols = ['v_8', 'v_4']\n",
    "# all_data.drop(del_cols, axis=1, inplace=True)"
   ]
  },
  {
   "cell_type": "markdown",
   "id": "53e5649f-41df-477f-bcf6-99928fd7b065",
   "metadata": {},
   "source": [
    "# 特征工程"
   ]
  },
  {
   "cell_type": "code",
   "execution_count": 10,
   "id": "e71867dc-9524-4188-b2b4-8357a168f046",
   "metadata": {},
   "outputs": [
    {
     "data": {
      "text/plain": [
       "Index(['SaleID', 'name', 'regDate', 'model', 'brand', 'bodyType', 'fuelType',\n",
       "       'gearbox', 'kilometer', 'notRepairedDamage', 'creatDate', 'price',\n",
       "       'v_0', 'v_1', 'v_2', 'v_3', 'v_4', 'v_5', 'v_6', 'v_7', 'v_8', 'v_9',\n",
       "       'v_10', 'v_11', 'v_12', 'v_13', 'v_14', 'city', 'creatDate_year',\n",
       "       'creatDate_month', 'creatDate_day', 'regDate_year', 'regDate_month',\n",
       "       'regDate_day', 'used_time1', 'used_time2', 'used_time3',\n",
       "       'regDate_dayofweek', 'creatDate_dayofweek', 'used_time1_bin',\n",
       "       'used_time2_bin', 'used_time3_bin', 'power_bin'],\n",
       "      dtype='object')"
      ]
     },
     "execution_count": 10,
     "metadata": {},
     "output_type": "execute_result"
    }
   ],
   "source": [
    "all_data.columns"
   ]
  },
  {
   "cell_type": "code",
   "execution_count": 10,
   "id": "b39b1f5b-d884-404c-a6af-77e1649238ab",
   "metadata": {
    "tags": []
   },
   "outputs": [],
   "source": [
    "# 统计频率特征\n",
    "count_features = [\n",
    "    'regDate',\n",
    "                  'model', 'brand', 'bodyType', 'fuelType',\n",
    "                  'gearbox', 'kilometer', 'regDate_year', 'city', \n",
    "                  'used_time1_bin', \n",
    "                  'power_bin',]\n",
    "for fea in count_features:\n",
    "    all_data.loc[:, fea+\"_count\"] = all_data[fea].map(all_data[fea].value_counts())"
   ]
  },
  {
   "cell_type": "code",
   "execution_count": 11,
   "id": "a830cd36-13b7-4947-8aba-b2dfae4ef4e9",
   "metadata": {
    "tags": []
   },
   "outputs": [
    {
     "data": {
      "text/plain": [
       "(200000, 54)"
      ]
     },
     "execution_count": 11,
     "metadata": {},
     "output_type": "execute_result"
    }
   ],
   "source": [
    "all_data.shape"
   ]
  },
  {
   "cell_type": "code",
   "execution_count": 12,
   "id": "e0864b05-c83e-413d-9964-3779e35edf8d",
   "metadata": {},
   "outputs": [],
   "source": [
    "# Target编码特征\n",
    "def target_feat(data, df, fea):\n",
    "    Train_gb = df.groupby(fea)\n",
    "    all_info = {}\n",
    "    for kind, kind_data in Train_gb:\n",
    "        info = {}\n",
    "        kind_data = kind_data[kind_data['price'] > 0]\n",
    "        info[fea + '_amount'] = len(kind_data)\n",
    "        info[fea + '_price_max'] = kind_data.price.max()\n",
    "        info[fea + '_price_median'] = kind_data.price.median()\n",
    "        info[fea + '_price_min'] = kind_data.price.min()\n",
    "        info[fea + '_price_sum'] = kind_data.price.sum()\n",
    "        info[fea + '_price_std'] = kind_data.price.std()\n",
    "        info[fea + '_price_skew'] = kind_data.price.skew()\n",
    "        info[fea + '_price_kurt'] = kind_data.price.kurt()\n",
    "        info[fea + '_price_average'] = round(kind_data.price.sum() / (len(kind_data) + 1), 2)\n",
    "        all_info[kind] = info\n",
    "    feat_fe = pd.DataFrame(all_info).T.reset_index().rename(columns={\"index\": fea})\n",
    "    data = data.merge(feat_fe, how='left', on=fea)\n",
    "    \n",
    "    return data\n",
    "\n",
    "train_data = all_data.loc[all_data[\"price\"] != -1, :]\n",
    "count_features = [\n",
    "    'model', 'bodyType', 'fuelType', \n",
    "                  'brand'\n",
    "                 ]\n",
    "# count_features = ['brand']\n",
    "for feat in count_features:\n",
    "    all_data = target_feat(all_data, train_data, feat)"
   ]
  },
  {
   "cell_type": "code",
   "execution_count": 13,
   "id": "7120d846-f631-4be5-8793-5617ae66b50e",
   "metadata": {},
   "outputs": [
    {
     "data": {
      "text/plain": [
       "(200000, 90)"
      ]
     },
     "execution_count": 13,
     "metadata": {},
     "output_type": "execute_result"
    }
   ],
   "source": [
    "all_data.shape"
   ]
  },
  {
   "cell_type": "code",
   "execution_count": 14,
   "id": "3ed40220-e6df-427e-abe8-ebe468b464c3",
   "metadata": {},
   "outputs": [],
   "source": [
    "# 根据分类变量统计连续型变量\n",
    "def cross_cat_num(df,num_col,cat_col):\n",
    "    for f1 in tqdm(cat_col):  # 对类别特征遍历\n",
    "        g = df.groupby(f1, as_index=False)\n",
    "        for f2 in tqdm(num_col):  # 对数值特征遍历\n",
    "            feat = g[f2].agg({\n",
    "                '{}_{}_max'.format(f1, f2): 'max', \n",
    "                '{}_{}_min'.format(f1, f2): 'min',\n",
    "                '{}_{}_median'.format(f1, f2): 'median',\n",
    "            })\n",
    "            df = df.merge(feat, on=f1, how='left')\n",
    "    return df"
   ]
  },
  {
   "cell_type": "code",
   "execution_count": 15,
   "id": "b80a458e-f1f2-41f0-ae8b-d8538cf1efa0",
   "metadata": {
    "collapsed": true,
    "jupyter": {
     "outputs_hidden": true
    },
    "tags": []
   },
   "outputs": [
    {
     "name": "stderr",
     "output_type": "stream",
     "text": [
      "  0%|          | 0/5 [00:00<?, ?it/s]\n",
      "  0%|          | 0/5 [00:00<?, ?it/s]\u001b[A\n",
      " 20%|██        | 1/5 [00:00<00:01,  2.58it/s]\u001b[A\n",
      " 40%|████      | 2/5 [00:00<00:01,  2.94it/s]\u001b[A\n",
      " 60%|██████    | 3/5 [00:01<00:00,  2.87it/s]\u001b[A\n",
      " 80%|████████  | 4/5 [00:01<00:00,  2.81it/s]\u001b[A\n",
      "100%|██████████| 5/5 [00:01<00:00,  2.75it/s]\u001b[A\n",
      " 20%|██        | 1/5 [00:01<00:07,  1.83s/it]\n",
      "  0%|          | 0/5 [00:00<?, ?it/s]\u001b[A\n",
      " 20%|██        | 1/5 [00:00<00:01,  3.20it/s]\u001b[A\n",
      " 40%|████      | 2/5 [00:00<00:00,  3.28it/s]\u001b[A\n",
      " 60%|██████    | 3/5 [00:00<00:00,  3.54it/s]\u001b[A\n",
      " 80%|████████  | 4/5 [00:01<00:00,  3.45it/s]\u001b[A\n",
      "100%|██████████| 5/5 [00:01<00:00,  3.49it/s]\u001b[A\n",
      " 40%|████      | 2/5 [00:03<00:04,  1.60s/it]\n",
      "  0%|          | 0/5 [00:00<?, ?it/s]\u001b[A\n",
      " 20%|██        | 1/5 [00:00<00:01,  3.65it/s]\u001b[A\n",
      " 40%|████      | 2/5 [00:00<00:00,  3.15it/s]\u001b[A\n",
      " 60%|██████    | 3/5 [00:00<00:00,  2.99it/s]\u001b[A\n",
      " 80%|████████  | 4/5 [00:01<00:00,  2.93it/s]\u001b[A\n",
      "100%|██████████| 5/5 [00:01<00:00,  2.88it/s]\u001b[A\n",
      " 60%|██████    | 3/5 [00:05<00:03,  1.67s/it]\n",
      "  0%|          | 0/5 [00:00<?, ?it/s]\u001b[A\n",
      " 20%|██        | 1/5 [00:00<00:01,  2.82it/s]\u001b[A\n",
      " 40%|████      | 2/5 [00:00<00:01,  2.52it/s]\u001b[A\n",
      " 60%|██████    | 3/5 [00:01<00:00,  2.32it/s]\u001b[A\n",
      " 80%|████████  | 4/5 [00:01<00:00,  2.48it/s]\u001b[A\n",
      "100%|██████████| 5/5 [00:01<00:00,  2.51it/s]\u001b[A\n",
      " 80%|████████  | 4/5 [00:07<00:01,  1.81s/it]\n",
      "  0%|          | 0/5 [00:00<?, ?it/s]\u001b[A\n",
      " 20%|██        | 1/5 [00:00<00:01,  2.92it/s]\u001b[A\n",
      " 40%|████      | 2/5 [00:00<00:01,  2.78it/s]\u001b[A\n",
      " 60%|██████    | 3/5 [00:01<00:00,  2.68it/s]\u001b[A\n",
      " 80%|████████  | 4/5 [00:01<00:00,  2.65it/s]\u001b[A\n",
      "100%|██████████| 5/5 [00:01<00:00,  2.70it/s]\u001b[A\n",
      "100%|██████████| 5/5 [00:08<00:00,  1.79s/it]\n"
     ]
    }
   ],
   "source": [
    "cross_cate_features = ['model','brand','regDate_year', 'power_bin', 'kilometer']\n",
    "cross_num_features = ['v_3','v_0','v_12','v_14', 'v_10']\n",
    "all_data = cross_cat_num(all_data, cross_num_features, cross_cate_features)"
   ]
  },
  {
   "cell_type": "code",
   "execution_count": 18,
   "id": "edd019ac-24e9-48ed-8bd3-49af2310c4db",
   "metadata": {},
   "outputs": [
    {
     "data": {
      "text/plain": [
       "(200000, 309)"
      ]
     },
     "execution_count": 18,
     "metadata": {},
     "output_type": "execute_result"
    }
   ],
   "source": [
    "all_data.shape"
   ]
  },
  {
   "cell_type": "code",
   "execution_count": 17,
   "id": "d46e4e89-f283-4364-9163-3f471d881a02",
   "metadata": {},
   "outputs": [
    {
     "name": "stdout",
     "output_type": "stream",
     "text": [
      "(200000, 309)\n"
     ]
    }
   ],
   "source": [
    "# # V 系列特征交叉\n",
    "epsilon = 1e-5\n",
    "func_dict = {\n",
    "    'add':lambda x, y:x + y, \n",
    "    'mins':lambda x, y:x - y,\n",
    "    'div':lambda x, y:x / (y + epsilon),\n",
    "    'multi':lambda x, y:x * y\n",
    "}\n",
    "def auto_features_make(data, func_dict, col_list):\n",
    "    for i in col_list:\n",
    "        for j in col_list:\n",
    "            for func_name, func in func_dict.items():\n",
    "                func_features = func(data[i], data[j])\n",
    "                col_func_features = \"_\".join([i, func_name, j])\n",
    "                data[col_func_features] = func_features\n",
    "    return data\n",
    "\n",
    "features_make = ['v_3','v_0','v_12','v_6','v_11','v_8']\n",
    "all_data = auto_features_make(all_data, func_dict, col_list=features_make)\n",
    "print(all_data.shape)\n",
    "\n",
    "# for i in ['v_' +str(t) for t in range(14)]:\n",
    "#     for j in ['v_' +str(k) for k in range(int(i[2:])+1,15)]:\n",
    "#         all_data[str(i)+'+'+str(j)] = all_data[str(i)]+all_data[str(j)]\n",
    "# print(all_data.shape)"
   ]
  },
  {
   "cell_type": "markdown",
   "id": "4b6a97fe-06a9-440b-8cd3-483069eaa76a",
   "metadata": {},
   "source": [
    "#### v系列补充特征"
   ]
  },
  {
   "cell_type": "code",
   "execution_count": 19,
   "id": "30c716da-505b-42aa-91de-dc946c45f8e9",
   "metadata": {
    "tags": []
   },
   "outputs": [
    {
     "name": "stdout",
     "output_type": "stream",
     "text": [
      "(200000, 435)\n"
     ]
    }
   ],
   "source": [
    "for i in ['model','brand', 'bodyType', 'fuelType','gearbox', 'power_bin',\n",
    "          'kilometer', 'notRepairedDamage', 'city']:\n",
    "    for j in ['v_' +str(i) for i in range(14)]:\n",
    "        all_data[str(i)+'*'+str(j)] = all_data[i]*all_data[j]  \n",
    "print(all_data.shape)"
   ]
  },
  {
   "cell_type": "code",
   "execution_count": 20,
   "id": "9f96b910-62d5-4548-aebc-9e0fc05d5a10",
   "metadata": {
    "tags": []
   },
   "outputs": [],
   "source": [
    "all_data[np.isinf(all_data)] = np.nan"
   ]
  },
  {
   "cell_type": "code",
   "execution_count": 21,
   "id": "cb0bb08e-7292-4667-8573-547c3ff2e3ea",
   "metadata": {},
   "outputs": [],
   "source": [
    "# 距离特征定量\n",
    "def genPower(df,col='kilometer'):\n",
    "    df[col+\"_genFeat1\"]=(df['kilometer'] > 5).astype(int)\n",
    "    df[col+\"_genFeat2\"]=(df['kilometer']> 10).astype(int)\n",
    "    df[col+\"_genFeat3\"]=(df['kilometer']> 15).astype(int)\n",
    "    return df\n",
    "all_data = genPower(all_data)"
   ]
  },
  {
   "cell_type": "code",
   "execution_count": 22,
   "id": "0562abfb-e085-4f13-90d4-2fbf964841d0",
   "metadata": {
    "tags": []
   },
   "outputs": [
    {
     "name": "stderr",
     "output_type": "stream",
     "text": [
      "100%|██████████| 3/3 [00:08<00:00,  3.00s/it]\n"
     ]
    }
   ],
   "source": [
    "# 类别特征交互\n",
    "from scipy.stats import entropy\n",
    "feat_cols = []\n",
    "for f_pair in tqdm([['model', 'brand'], ['model', 'city'], ['brand', 'city']]):#+pair\n",
    "    ### 共现次数\n",
    "    all_data['_'.join(f_pair) + '_count'] = all_data.groupby(f_pair)['SaleID'].transform('count')\n",
    "    \n",
    "    ### nunique、熵\n",
    "    all_data = all_data.merge(all_data.groupby(f_pair[0], as_index=False)[f_pair[1]].agg({\n",
    "        '{}_{}_nunique'.format(f_pair[0], f_pair[1]): 'nunique',\n",
    "        '{}_{}_ent'.format(f_pair[0], f_pair[1]): lambda x: entropy(x.value_counts() / x.shape[0])\n",
    "    }), on=f_pair[0], how='left')\n",
    "    \n",
    "    all_data = all_data.merge(all_data.groupby(f_pair[1], as_index=False)[f_pair[0]].agg({\n",
    "        '{}_{}_nunique'.format(f_pair[1], f_pair[0]): 'nunique',\n",
    "        '{}_{}_ent'.format(f_pair[1], f_pair[0]): lambda x: entropy(x.value_counts() / x.shape[0])\n",
    "    }), on=f_pair[1], how='left')\n",
    "    \n",
    "    ### 比例偏好\n",
    "    all_data['{}_in_{}_prop'.format(f_pair[0], f_pair[1])] = all_data['_'.join(f_pair) + '_count'] / all_data[f_pair[1] + '_count']\n",
    "    all_data['{}_in_{}_prop'.format(f_pair[1], f_pair[0])] = all_data['_'.join(f_pair) + '_count'] / all_data[f_pair[0] + '_count']\n",
    "    \n",
    "    feat_cols.extend([\n",
    "        '_'.join(f_pair) + '_count',\n",
    "        '{}_{}_nunique'.format(f_pair[0], f_pair[1]), '{}_{}_ent'.format(f_pair[0], f_pair[1]),\n",
    "        '{}_{}_nunique'.format(f_pair[1], f_pair[0]), '{}_{}_ent'.format(f_pair[1], f_pair[0]),\n",
    "        '{}_in_{}_prop'.format(f_pair[0], f_pair[1]), '{}_in_{}_prop'.format(f_pair[1], f_pair[0])\n",
    "    ])"
   ]
  },
  {
   "cell_type": "code",
   "execution_count": 25,
   "id": "d8a32d3a-be76-4a46-9b29-0ca466c23d6e",
   "metadata": {
    "tags": []
   },
   "outputs": [
    {
     "name": "stdout",
     "output_type": "stream",
     "text": [
      "(200000, 527)\n"
     ]
    }
   ],
   "source": [
    "print(all_data.shape)"
   ]
  },
  {
   "cell_type": "code",
   "execution_count": 24,
   "id": "cf4f1c9f-0da2-4ac1-9e87-8e864861206f",
   "metadata": {},
   "outputs": [],
   "source": [
    "one_hot_list = ['bodyType','fuelType','gearbox','notRepairedDamage','creatDate_year', \n",
    "                'creatDate_month','regDate_month','regDate_year']\n",
    "for col in one_hot_list:\n",
    "    one_hot = pd.get_dummies(all_data[col])\n",
    "    one_hot.columns = [col+'_'+str(i) for i in range(len(one_hot.columns))]\n",
    "    all_data = pd.concat([all_data, one_hot],axis=1)\n",
    "    \n",
    "# all_data.drop(one_hot_list, axis=1, inplace=True)"
   ]
  },
  {
   "cell_type": "code",
   "execution_count": 26,
   "id": "464a0463-c01c-4cc9-b09a-90ee0a991f40",
   "metadata": {
    "tags": []
   },
   "outputs": [],
   "source": [
    "# 填充缺失值 -- 众数\n",
    "from sklearn.impute import SimpleImputer\n",
    "imp_mode = SimpleImputer(strategy=\"most_frequent\")\n",
    "\n",
    "fill_features = [column for column in all_data.columns if all_data[column].isnull().sum() != 0]\n",
    "for feature in fill_features:\n",
    "    all_data.loc[:, feature] = imp_mode.fit_transform(all_data.loc[:, feature].values.reshape(-1, 1))"
   ]
  },
  {
   "cell_type": "code",
   "execution_count": 27,
   "id": "a87ad419-6cb2-45aa-9f59-e7792af109e1",
   "metadata": {},
   "outputs": [],
   "source": [
    "all_data_02 = all_data.copy()"
   ]
  },
  {
   "cell_type": "code",
   "execution_count": 72,
   "id": "43c41e7e-35da-4987-894b-12bc267d11cb",
   "metadata": {},
   "outputs": [
    {
     "data": {
      "text/plain": [
       "(200000, 249)"
      ]
     },
     "execution_count": 72,
     "metadata": {},
     "output_type": "execute_result"
    }
   ],
   "source": [
    "all_data = all_data_02.copy()\n",
    "all_data.shape"
   ]
  },
  {
   "cell_type": "markdown",
   "id": "e40a2fc6-726a-413a-b1cd-c359aee947cb",
   "metadata": {},
   "source": [
    "# 模型验证"
   ]
  },
  {
   "cell_type": "code",
   "execution_count": 28,
   "id": "8c948cbd-2451-4930-9cd1-2dedb314fa6f",
   "metadata": {},
   "outputs": [],
   "source": [
    "import lightgbm as lgb\n",
    "import xgboost as xgb\n",
    "from sklearn.model_selection import KFold\n",
    "from sklearn.model_selection import train_test_split\n",
    "from sklearn.metrics import mean_squared_error as MSE\n",
    "from sklearn.metrics import mean_absolute_error as MAE\n",
    "from sklearn.metrics import make_scorer\n",
    "from lofo import FLOFOImportance\n",
    "from sklearn.metrics import make_scorer"
   ]
  },
  {
   "cell_type": "code",
   "execution_count": 29,
   "id": "b71432b3-ec13-4898-bfad-3eeffb465344",
   "metadata": {},
   "outputs": [],
   "source": [
    "all_data1 = all_data.copy()\n",
    "\n",
    "# all_data1.drop(\"SaleID\", axis=1, inplace=True)"
   ]
  },
  {
   "cell_type": "code",
   "execution_count": 40,
   "id": "4516d616-0640-4f39-b7c6-0d1ddb3887d9",
   "metadata": {
    "tags": []
   },
   "outputs": [],
   "source": [
    "# 准备数据\n",
    "train_data = all_data1.loc[all_data1[\"price\"] != -1, :]\n",
    "train_y = train_data[\"price\"]\n",
    "train_data.drop(\"price\", axis=1, inplace=True)\n",
    "\n",
    "test_data = all_data1.loc[all_data[\"price\"] == -1, :]\n",
    "test_data.drop(\"price\", axis=1, inplace=True)\n",
    "\n",
    "train_y = np.log1p(train_y)"
   ]
  },
  {
   "cell_type": "code",
   "execution_count": 52,
   "id": "acd4acd3-03f3-49f3-872e-220db55f1f4e",
   "metadata": {
    "jupyter": {
     "source_hidden": true
    },
    "tags": []
   },
   "outputs": [],
   "source": [
    "train_columns = train_data.columns\n",
    "target_column = 'price'\n",
    "train_data[\"price\"] = train_y\n"
   ]
  },
  {
   "cell_type": "markdown",
   "id": "0920ee3d-3d79-487b-8bdc-fcf5ec74df6c",
   "metadata": {},
   "source": [
    "### lgb"
   ]
  },
  {
   "cell_type": "code",
   "execution_count": 25,
   "id": "71d90fbe-b4bf-4112-9249-371e91d8552d",
   "metadata": {},
   "outputs": [
    {
     "data": {
      "text/plain": [
       "(150000, 526)"
      ]
     },
     "execution_count": 25,
     "metadata": {},
     "output_type": "execute_result"
    }
   ],
   "source": []
  },
  {
   "cell_type": "code",
   "execution_count": null,
   "id": "0edcb317-6583-42cf-9971-7f0d9f32622b",
   "metadata": {},
   "outputs": [],
   "source": []
  },
  {
   "cell_type": "code",
   "execution_count": 42,
   "id": "9d67b9b8-7bb1-4a85-b73b-c683537d7b95",
   "metadata": {
    "tags": []
   },
   "outputs": [
    {
     "name": "stderr",
     "output_type": "stream",
     "text": [
      "0it [00:00, ?it/s]"
     ]
    },
    {
     "name": "stdout",
     "output_type": "stream",
     "text": [
      "Training until validation scores don't improve for 20 rounds\n",
      "[100]\ttraining's l1: 0.130296\tvalid_1's l1: 0.134409\n",
      "[200]\ttraining's l1: 0.118564\tvalid_1's l1: 0.124652\n",
      "[300]\ttraining's l1: 0.113247\tvalid_1's l1: 0.121249\n",
      "[400]\ttraining's l1: 0.109577\tvalid_1's l1: 0.119485\n",
      "[500]\ttraining's l1: 0.106712\tvalid_1's l1: 0.118296\n",
      "[600]\ttraining's l1: 0.104454\tvalid_1's l1: 0.117399\n",
      "[700]\ttraining's l1: 0.102185\tvalid_1's l1: 0.116843\n",
      "[800]\ttraining's l1: 0.10034\tvalid_1's l1: 0.11646\n",
      "[900]\ttraining's l1: 0.098477\tvalid_1's l1: 0.116093\n",
      "Did not meet early stopping. Best iteration is:\n",
      "[900]\ttraining's l1: 0.098477\tvalid_1's l1: 0.116093\n"
     ]
    },
    {
     "name": "stderr",
     "output_type": "stream",
     "text": [
      "1it [02:50, 170.01s/it]"
     ]
    },
    {
     "name": "stdout",
     "output_type": "stream",
     "text": [
      "Training until validation scores don't improve for 20 rounds\n",
      "[100]\ttraining's l1: 0.130622\tvalid_1's l1: 0.136295\n",
      "[200]\ttraining's l1: 0.118726\tvalid_1's l1: 0.126343\n",
      "[300]\ttraining's l1: 0.112924\tvalid_1's l1: 0.122429\n",
      "[400]\ttraining's l1: 0.109347\tvalid_1's l1: 0.120759\n",
      "[500]\ttraining's l1: 0.106523\tvalid_1's l1: 0.1197\n",
      "[600]\ttraining's l1: 0.103892\tvalid_1's l1: 0.118923\n",
      "[700]\ttraining's l1: 0.101977\tvalid_1's l1: 0.118342\n",
      "[800]\ttraining's l1: 0.100218\tvalid_1's l1: 0.117952\n",
      "[900]\ttraining's l1: 0.0987519\tvalid_1's l1: 0.117641\n",
      "Did not meet early stopping. Best iteration is:\n",
      "[900]\ttraining's l1: 0.0987519\tvalid_1's l1: 0.117641\n"
     ]
    },
    {
     "name": "stderr",
     "output_type": "stream",
     "text": [
      "2it [05:18, 157.44s/it]"
     ]
    },
    {
     "name": "stdout",
     "output_type": "stream",
     "text": [
      "Training until validation scores don't improve for 20 rounds\n",
      "[100]\ttraining's l1: 0.13049\tvalid_1's l1: 0.136213\n",
      "[200]\ttraining's l1: 0.118348\tvalid_1's l1: 0.126061\n",
      "[300]\ttraining's l1: 0.112868\tvalid_1's l1: 0.122528\n",
      "[400]\ttraining's l1: 0.10921\tvalid_1's l1: 0.120732\n",
      "[500]\ttraining's l1: 0.106347\tvalid_1's l1: 0.119714\n",
      "[600]\ttraining's l1: 0.103532\tvalid_1's l1: 0.118952\n",
      "[700]\ttraining's l1: 0.101503\tvalid_1's l1: 0.118426\n",
      "[800]\ttraining's l1: 0.0998012\tvalid_1's l1: 0.117946\n",
      "[900]\ttraining's l1: 0.098033\tvalid_1's l1: 0.117631\n",
      "Did not meet early stopping. Best iteration is:\n",
      "[900]\ttraining's l1: 0.098033\tvalid_1's l1: 0.117631\n"
     ]
    },
    {
     "name": "stderr",
     "output_type": "stream",
     "text": [
      "3it [07:50, 154.86s/it]"
     ]
    },
    {
     "name": "stdout",
     "output_type": "stream",
     "text": [
      "Training until validation scores don't improve for 20 rounds\n",
      "[100]\ttraining's l1: 0.131055\tvalid_1's l1: 0.132839\n",
      "[200]\ttraining's l1: 0.119326\tvalid_1's l1: 0.123537\n",
      "[300]\ttraining's l1: 0.113677\tvalid_1's l1: 0.120045\n",
      "[400]\ttraining's l1: 0.109945\tvalid_1's l1: 0.118317\n",
      "[500]\ttraining's l1: 0.107016\tvalid_1's l1: 0.117375\n",
      "[600]\ttraining's l1: 0.104435\tvalid_1's l1: 0.11653\n",
      "[700]\ttraining's l1: 0.102103\tvalid_1's l1: 0.116023\n",
      "[800]\ttraining's l1: 0.100262\tvalid_1's l1: 0.11558\n",
      "[900]\ttraining's l1: 0.0985699\tvalid_1's l1: 0.115232\n",
      "Did not meet early stopping. Best iteration is:\n",
      "[900]\ttraining's l1: 0.0985699\tvalid_1's l1: 0.115232\n"
     ]
    },
    {
     "name": "stderr",
     "output_type": "stream",
     "text": [
      "4it [10:22, 153.76s/it]"
     ]
    },
    {
     "name": "stdout",
     "output_type": "stream",
     "text": [
      "Training until validation scores don't improve for 20 rounds\n",
      "[100]\ttraining's l1: 0.130279\tvalid_1's l1: 0.135551\n",
      "[200]\ttraining's l1: 0.118647\tvalid_1's l1: 0.12563\n",
      "[300]\ttraining's l1: 0.113283\tvalid_1's l1: 0.122021\n",
      "[400]\ttraining's l1: 0.109751\tvalid_1's l1: 0.120199\n",
      "[500]\ttraining's l1: 0.10661\tvalid_1's l1: 0.118928\n",
      "[600]\ttraining's l1: 0.104121\tvalid_1's l1: 0.118049\n",
      "[700]\ttraining's l1: 0.101972\tvalid_1's l1: 0.117437\n",
      "[800]\ttraining's l1: 0.100016\tvalid_1's l1: 0.116994\n",
      "[900]\ttraining's l1: 0.0983964\tvalid_1's l1: 0.11667\n",
      "Did not meet early stopping. Best iteration is:\n",
      "[900]\ttraining's l1: 0.0983964\tvalid_1's l1: 0.11667\n"
     ]
    },
    {
     "name": "stderr",
     "output_type": "stream",
     "text": [
      "5it [13:20, 160.13s/it]\n"
     ]
    },
    {
     "data": {
      "text/plain": [
       "array([1255.32870581, 1925.12101199, 8400.12912683, ..., 5471.20921814,\n",
       "       4751.12938996, 5254.05666013])"
      ]
     },
     "execution_count": 42,
     "metadata": {},
     "output_type": "execute_result"
    }
   ],
   "source": [
    "params = {\n",
    "    'num_leaves': 50,\n",
    "    'objective': 'regression_l1',\n",
    "    'max_depth': -1,\n",
    "    'learning_rate': 0.1,\n",
    "    'min_split_gain': 0.1,       # 相当于xgboost中的gamma\n",
    "    'min_child_samples':2,\n",
    "    \"boosting\": \"gbdt\",\n",
    "    \"feature_fraction\": 1,      # 弱学习器随机采样比例，相当于subsamples\n",
    "    \"bagging_freq\": 1,            # k次执行一次采样\n",
    "    \"bagging_fraction\": 0.7,\n",
    "    \"bagging_seed\": 11,\n",
    "    \"lambda_l1\": 0.3,\n",
    "    # \"lambda_l2\": 3.5,\n",
    "    \"verbosity\": -1,\n",
    "    \"nthread\": 4,                 # 线程\n",
    "    'metric': 'mae',\n",
    "    \"random_state\": 2019,         # 随机种子\n",
    "          }\n",
    "categorical_features = ['bodyType','fuelType', 'gearbox', 'notRepairedDamage', 'regDate_year']\n",
    "# categorical_features = ['regDate', 'model', 'brand', 'bodyType', 'fuelType',\n",
    "#                         'gearbox', 'kilometer', 'regDate_year', 'city', 'used_time1_bin', \n",
    "#                         'power_bin', 'notRepairedDamage']\n",
    "folds = KFold(n_splits=5)\n",
    "Y_pred = np.zeros(test_data.shape[0]) \n",
    "for fold_, (tr_idx, val_idx) in tqdm(enumerate(folds.split(train_data))):\n",
    "    tr_data = lgb.Dataset(train_data.iloc[tr_idx], label=train_y.iloc[tr_idx])\n",
    "    val_data = lgb.Dataset(train_data.iloc[val_idx], label=train_y.iloc[val_idx])\n",
    "    num_round = 900\n",
    "    clf = lgb.train(params, \n",
    "                    tr_data,\n",
    "                    num_round,\n",
    "                    valid_sets=[tr_data, val_data],\n",
    "                    categorical_feature = categorical_features,\n",
    "                    verbose_eval=100,\n",
    "                    early_stopping_rounds=20)\n",
    "# ----------------------------------------------------------------------------验证\n",
    "    # Y_pred = clf.predict(train_data.iloc[val_idx])\n",
    "    # score_mae = MAE(train_y.iloc[val_idx], Y_pred)\n",
    "    # score_mse = MSE(train_y.iloc[val_idx], Y_pred)\n",
    "    # print(\"MAE:\",score_mae)\n",
    "    # print(\"MSE:\",score_mse)\n",
    "# ----------------------------------------------------------------------------预测----------\n",
    "    Y_pred += clf.predict(test_data, num_iteration=clf.best_iteration)/folds.n_splits    \n",
    "Y_pred = np.expm1(Y_pred)  \n",
    "Y_pred\n",
    " "
   ]
  },
  {
   "cell_type": "code",
   "execution_count": 37,
   "id": "0f2f155d-026d-43f1-bef3-1d14c621baf7",
   "metadata": {
    "tags": []
   },
   "outputs": [
    {
     "name": "stdout",
     "output_type": "stream",
     "text": [
      "(150000, 366)\n",
      "(150000,)\n"
     ]
    }
   ],
   "source": [
    "train_data = all_data1.loc[all_data1[\"price\"] != -1, :]\n",
    "train_y = train_data[\"price\"]\n",
    "train_data.drop([\"price\"], axis=1, inplace=True)\n",
    "\n",
    "print(train_data.shape)\n",
    "print(train_y.shape)"
   ]
  },
  {
   "cell_type": "code",
   "execution_count": 38,
   "id": "0e91fc0f-991f-4f33-a36c-d36a47610f0d",
   "metadata": {
    "collapsed": true,
    "jupyter": {
     "outputs_hidden": true
    },
    "tags": []
   },
   "outputs": [
    {
     "name": "stderr",
     "output_type": "stream",
     "text": [
      "0it [00:00, ?it/s]"
     ]
    },
    {
     "name": "stdout",
     "output_type": "stream",
     "text": [
      "Training until validation scores don't improve for 20 rounds\n",
      "[100]\ttraining's l1: 0.130348\tvalid_1's l1: 0.135229\n",
      "[200]\ttraining's l1: 0.118394\tvalid_1's l1: 0.125933\n",
      "[300]\ttraining's l1: 0.112693\tvalid_1's l1: 0.122916\n",
      "[400]\ttraining's l1: 0.108667\tvalid_1's l1: 0.121212\n",
      "[500]\ttraining's l1: 0.106103\tvalid_1's l1: 0.120392\n",
      "[600]\ttraining's l1: 0.103679\tvalid_1's l1: 0.119556\n",
      "[700]\ttraining's l1: 0.101924\tvalid_1's l1: 0.11916\n",
      "[800]\ttraining's l1: 0.100224\tvalid_1's l1: 0.118787\n",
      "[900]\ttraining's l1: 0.0989679\tvalid_1's l1: 0.118601\n",
      "Did not meet early stopping. Best iteration is:\n",
      "[900]\ttraining's l1: 0.0989679\tvalid_1's l1: 0.118601\n"
     ]
    },
    {
     "name": "stderr",
     "output_type": "stream",
     "text": [
      "1it [02:39, 159.79s/it]"
     ]
    },
    {
     "name": "stdout",
     "output_type": "stream",
     "text": [
      "Training until validation scores don't improve for 20 rounds\n",
      "[100]\ttraining's l1: 0.129988\tvalid_1's l1: 0.134309\n",
      "[200]\ttraining's l1: 0.118027\tvalid_1's l1: 0.125142\n",
      "[300]\ttraining's l1: 0.112499\tvalid_1's l1: 0.122281\n",
      "[400]\ttraining's l1: 0.108817\tvalid_1's l1: 0.120875\n",
      "[500]\ttraining's l1: 0.106041\tvalid_1's l1: 0.119998\n",
      "[600]\ttraining's l1: 0.103893\tvalid_1's l1: 0.119567\n",
      "[700]\ttraining's l1: 0.10176\tvalid_1's l1: 0.119074\n",
      "[800]\ttraining's l1: 0.100293\tvalid_1's l1: 0.118869\n",
      "[900]\ttraining's l1: 0.0988533\tvalid_1's l1: 0.118541\n",
      "Did not meet early stopping. Best iteration is:\n",
      "[900]\ttraining's l1: 0.0988533\tvalid_1's l1: 0.118541\n"
     ]
    },
    {
     "name": "stderr",
     "output_type": "stream",
     "text": [
      "2it [05:07, 152.55s/it]"
     ]
    },
    {
     "name": "stdout",
     "output_type": "stream",
     "text": [
      "Training until validation scores don't improve for 20 rounds\n",
      "[100]\ttraining's l1: 0.130041\tvalid_1's l1: 0.139447\n",
      "[200]\ttraining's l1: 0.118321\tvalid_1's l1: 0.129845\n",
      "[300]\ttraining's l1: 0.1125\tvalid_1's l1: 0.126542\n",
      "[400]\ttraining's l1: 0.107845\tvalid_1's l1: 0.124449\n",
      "[500]\ttraining's l1: 0.105205\tvalid_1's l1: 0.123518\n",
      "[600]\ttraining's l1: 0.102733\tvalid_1's l1: 0.122888\n",
      "[700]\ttraining's l1: 0.100271\tvalid_1's l1: 0.122507\n",
      "Early stopping, best iteration is:\n",
      "[751]\ttraining's l1: 0.0992822\tvalid_1's l1: 0.122323\n"
     ]
    },
    {
     "name": "stderr",
     "output_type": "stream",
     "text": [
      "3it [08:44, 182.00s/it]"
     ]
    },
    {
     "name": "stdout",
     "output_type": "stream",
     "text": [
      "Training until validation scores don't improve for 20 rounds\n",
      "[100]\ttraining's l1: 0.12946\tvalid_1's l1: 0.13643\n",
      "[200]\ttraining's l1: 0.117823\tvalid_1's l1: 0.127583\n",
      "[300]\ttraining's l1: 0.112554\tvalid_1's l1: 0.124616\n",
      "[400]\ttraining's l1: 0.108338\tvalid_1's l1: 0.122987\n",
      "[500]\ttraining's l1: 0.105066\tvalid_1's l1: 0.122031\n",
      "[600]\ttraining's l1: 0.102857\tvalid_1's l1: 0.121394\n",
      "[700]\ttraining's l1: 0.101511\tvalid_1's l1: 0.121129\n",
      "[800]\ttraining's l1: 0.099805\tvalid_1's l1: 0.120721\n",
      "Early stopping, best iteration is:\n",
      "[816]\ttraining's l1: 0.0995662\tvalid_1's l1: 0.120691\n"
     ]
    },
    {
     "name": "stderr",
     "output_type": "stream",
     "text": [
      "4it [11:01, 164.39s/it]"
     ]
    },
    {
     "name": "stdout",
     "output_type": "stream",
     "text": [
      "Training until validation scores don't improve for 20 rounds\n",
      "[100]\ttraining's l1: 0.129478\tvalid_1's l1: 0.136097\n",
      "[200]\ttraining's l1: 0.117513\tvalid_1's l1: 0.127355\n",
      "[300]\ttraining's l1: 0.111987\tvalid_1's l1: 0.12444\n",
      "[400]\ttraining's l1: 0.107752\tvalid_1's l1: 0.122785\n",
      "[500]\ttraining's l1: 0.105108\tvalid_1's l1: 0.121904\n",
      "[600]\ttraining's l1: 0.103197\tvalid_1's l1: 0.121492\n",
      "[700]\ttraining's l1: 0.101247\tvalid_1's l1: 0.120999\n",
      "[800]\ttraining's l1: 0.0999931\tvalid_1's l1: 0.120683\n",
      "[900]\ttraining's l1: 0.0985055\tvalid_1's l1: 0.120509\n",
      "Did not meet early stopping. Best iteration is:\n",
      "[900]\ttraining's l1: 0.0985055\tvalid_1's l1: 0.120509\n"
     ]
    },
    {
     "name": "stderr",
     "output_type": "stream",
     "text": [
      "5it [13:11, 158.22s/it]\n"
     ]
    },
    {
     "data": {
      "text/plain": [
       "array([ 7963.63069819,  1128.66118359,  9974.2894505 , ...,\n",
       "         995.41058179,  1753.81923948, 10056.91765468])"
      ]
     },
     "execution_count": 38,
     "metadata": {},
     "output_type": "execute_result"
    }
   ],
   "source": [
    "train_X, test_X, trainy, testy = train_test_split(train_data, train_y, test_size=0.3, random_state=0)\n",
    "trainyy = np.log1p(trainy)\n",
    "\n",
    "params = {\n",
    "    'num_leaves': 50, 'objective': 'regression_l1', 'max_depth': -1, 'learning_rate': 0.1,\n",
    "    'min_split_gain': 0.1, 'min_child_samples':2, \"boosting\": \"gbdt\", \"feature_fraction\": 1,     \n",
    "    \"bagging_freq\": 1, \"bagging_fraction\": 1, \"bagging_seed\": 11, \"lambda_l1\": 0.5,\n",
    "    \"lambda_l2\": 3.5,\"verbosity\": -1,\"nthread\": 4, 'metric': 'mae',\"random_state\": 2019\n",
    "         }\n",
    "# categorical_features = ['bodyType','fuelType', 'gearbox', \n",
    "#                         'notRepairedDamage',\n",
    "#                         'regDate_year']\n",
    "\n",
    "folds = KFold(n_splits=5)\n",
    "Ypred = np.zeros(test_X.shape[0]) \n",
    "for fold_, (tr_idx, val_idx) in tqdm(enumerate(folds.split(train_X))):\n",
    "    tr_data = lgb.Dataset(train_X.iloc[tr_idx], label=trainyy.iloc[tr_idx])\n",
    "    val_data = lgb.Dataset(train_X.iloc[val_idx], label=trainyy.iloc[val_idx])\n",
    "    num_round = 900\n",
    "    clf = lgb.train(params, tr_data, num_round,\n",
    "                    valid_sets=[tr_data, val_data],\n",
    "                    # categorical_feature = categorical_features,\n",
    "                    verbose_eval=100, early_stopping_rounds=20)\n",
    "# ----------------------------------------------------------------------------预测----------\n",
    "    Ypred += clf.predict(test_X, num_iteration=clf.best_iteration)/folds.n_splits    \n",
    "Ypred = np.expm1(Ypred)  \n",
    "Ypred\n",
    " "
   ]
  },
  {
   "cell_type": "code",
   "execution_count": 40,
   "id": "8b25cdbd-44a9-4f44-93f1-0f0d81d53334",
   "metadata": {},
   "outputs": [],
   "source": [
    "# testy = np.expm1(testy)"
   ]
  },
  {
   "cell_type": "code",
   "execution_count": 39,
   "id": "f006e27c-e4ea-47d3-b353-ec67dad12ea4",
   "metadata": {
    "tags": []
   },
   "outputs": [
    {
     "name": "stdout",
     "output_type": "stream",
     "text": [
      "MAE: 491.741683873357\n",
      "MSE: 1537121.17863959\n"
     ]
    }
   ],
   "source": [
    "score_mae = MAE(testy, Ypred)\n",
    "score_mse = MSE(testy, Ypred)\n",
    "print(\"MAE:\",score_mae)\n",
    "print(\"MSE:\",score_mse)"
   ]
  },
  {
   "cell_type": "markdown",
   "id": "d8fba140-2fc0-40df-829f-318321b23426",
   "metadata": {},
   "source": [
    "# CatBoost"
   ]
  },
  {
   "cell_type": "code",
   "execution_count": 39,
   "id": "b94f8981-ee50-47d6-b7a4-5da47042c0a5",
   "metadata": {
    "tags": []
   },
   "outputs": [],
   "source": [
    "from catboost import CatBoostRegressor as Cat"
   ]
  },
  {
   "cell_type": "code",
   "execution_count": 40,
   "id": "f6640397-c02f-4357-a655-ee33c96812c7",
   "metadata": {
    "collapsed": true,
    "jupyter": {
     "outputs_hidden": true
    },
    "tags": []
   },
   "outputs": [
    {
     "name": "stdout",
     "output_type": "stream",
     "text": [
      "0:\tlearn: 0.9018831\ttest: 0.9048925\tbest: 0.9048925 (0)\ttotal: 13.4s\tremaining: 44m 28s\n",
      "1:\tlearn: 0.8224443\ttest: 0.8251039\tbest: 0.8251039 (1)\ttotal: 26.6s\tremaining: 43m 51s\n",
      "2:\tlearn: 0.7499953\ttest: 0.7524761\tbest: 0.7524761 (2)\ttotal: 38.5s\tremaining: 42m 9s\n",
      "3:\tlearn: 0.6851059\ttest: 0.6871371\tbest: 0.6871371 (3)\ttotal: 50s\tremaining: 40m 51s\n",
      "4:\tlearn: 0.6265652\ttest: 0.6282873\tbest: 0.6282873 (4)\ttotal: 1m 1s\tremaining: 40m 15s\n"
     ]
    },
    {
     "ename": "KeyboardInterrupt",
     "evalue": "",
     "output_type": "error",
     "traceback": [
      "\u001b[1;31m---------------------------------------------------------------------------\u001b[0m",
      "\u001b[1;31mKeyboardInterrupt\u001b[0m                         Traceback (most recent call last)",
      "\u001b[1;32mC:\\Users\\ADMINI~1\\AppData\\Local\\Temp/ipykernel_12064/1146694331.py\u001b[0m in \u001b[0;36m<module>\u001b[1;34m\u001b[0m\n\u001b[0;32m     14\u001b[0m           'one_hot_max_size': 8}\n\u001b[0;32m     15\u001b[0m \u001b[0mmodel\u001b[0m \u001b[1;33m=\u001b[0m \u001b[0mCat\u001b[0m\u001b[1;33m(\u001b[0m\u001b[0miterations\u001b[0m\u001b[1;33m=\u001b[0m\u001b[1;36m200\u001b[0m\u001b[1;33m,\u001b[0m \u001b[0meval_metric\u001b[0m\u001b[1;33m=\u001b[0m\u001b[1;34m'MAE'\u001b[0m\u001b[1;33m,\u001b[0m \u001b[1;33m**\u001b[0m\u001b[0mparams\u001b[0m\u001b[1;33m)\u001b[0m\u001b[1;33m\u001b[0m\u001b[1;33m\u001b[0m\u001b[0m\n\u001b[1;32m---> 16\u001b[1;33m model.fit(train_X, trainyy, cat_features=cate_feats, \n\u001b[0m\u001b[0;32m     17\u001b[0m          eval_set=(test_X, testyy), use_best_model=True)\n\u001b[0;32m     18\u001b[0m \u001b[0mY_pred\u001b[0m \u001b[1;33m=\u001b[0m \u001b[0mmodel\u001b[0m\u001b[1;33m.\u001b[0m\u001b[0mpredict\u001b[0m\u001b[1;33m(\u001b[0m\u001b[0mtest_X\u001b[0m\u001b[1;33m)\u001b[0m\u001b[1;33m\u001b[0m\u001b[1;33m\u001b[0m\u001b[0m\n",
      "\u001b[1;32mC:\\JupyterLab\\resources\\jlab_server\\lib\\site-packages\\catboost\\core.py\u001b[0m in \u001b[0;36mfit\u001b[1;34m(self, X, y, cat_features, sample_weight, baseline, use_best_model, eval_set, verbose, logging_level, plot, column_description, verbose_eval, metric_period, silent, early_stopping_rounds, save_snapshot, snapshot_file, snapshot_interval, init_model, callbacks, log_cout, log_cerr)\u001b[0m\n\u001b[0;32m   5298\u001b[0m             \u001b[0mCatBoostRegressor\u001b[0m\u001b[1;33m.\u001b[0m\u001b[0m_check_is_compatible_loss\u001b[0m\u001b[1;33m(\u001b[0m\u001b[0mparams\u001b[0m\u001b[1;33m[\u001b[0m\u001b[1;34m'loss_function'\u001b[0m\u001b[1;33m]\u001b[0m\u001b[1;33m)\u001b[0m\u001b[1;33m\u001b[0m\u001b[1;33m\u001b[0m\u001b[0m\n\u001b[0;32m   5299\u001b[0m \u001b[1;33m\u001b[0m\u001b[0m\n\u001b[1;32m-> 5300\u001b[1;33m         return self._fit(X, y, cat_features, None, None, None, sample_weight, None, None, None, None, baseline,\n\u001b[0m\u001b[0;32m   5301\u001b[0m                          \u001b[0muse_best_model\u001b[0m\u001b[1;33m,\u001b[0m \u001b[0meval_set\u001b[0m\u001b[1;33m,\u001b[0m \u001b[0mverbose\u001b[0m\u001b[1;33m,\u001b[0m \u001b[0mlogging_level\u001b[0m\u001b[1;33m,\u001b[0m \u001b[0mplot\u001b[0m\u001b[1;33m,\u001b[0m \u001b[0mcolumn_description\u001b[0m\u001b[1;33m,\u001b[0m\u001b[1;33m\u001b[0m\u001b[1;33m\u001b[0m\u001b[0m\n\u001b[0;32m   5302\u001b[0m                          \u001b[0mverbose_eval\u001b[0m\u001b[1;33m,\u001b[0m \u001b[0mmetric_period\u001b[0m\u001b[1;33m,\u001b[0m \u001b[0msilent\u001b[0m\u001b[1;33m,\u001b[0m \u001b[0mearly_stopping_rounds\u001b[0m\u001b[1;33m,\u001b[0m\u001b[1;33m\u001b[0m\u001b[1;33m\u001b[0m\u001b[0m\n",
      "\u001b[1;32mC:\\JupyterLab\\resources\\jlab_server\\lib\\site-packages\\catboost\\core.py\u001b[0m in \u001b[0;36m_fit\u001b[1;34m(self, X, y, cat_features, text_features, embedding_features, pairs, sample_weight, group_id, group_weight, subgroup_id, pairs_weight, baseline, use_best_model, eval_set, verbose, logging_level, plot, column_description, verbose_eval, metric_period, silent, early_stopping_rounds, save_snapshot, snapshot_file, snapshot_interval, init_model, callbacks, log_cout, log_cerr)\u001b[0m\n\u001b[0;32m   2035\u001b[0m         \u001b[1;32mwith\u001b[0m \u001b[0mlog_fixup\u001b[0m\u001b[1;33m(\u001b[0m\u001b[0mlog_cout\u001b[0m\u001b[1;33m,\u001b[0m \u001b[0mlog_cerr\u001b[0m\u001b[1;33m)\u001b[0m\u001b[1;33m,\u001b[0m\u001b[0;31m \u001b[0m\u001b[0;31m\\\u001b[0m\u001b[1;33m\u001b[0m\u001b[1;33m\u001b[0m\u001b[0m\n\u001b[0;32m   2036\u001b[0m             \u001b[0mplot_wrapper\u001b[0m\u001b[1;33m(\u001b[0m\u001b[0mplot\u001b[0m\u001b[1;33m,\u001b[0m \u001b[1;33m[\u001b[0m\u001b[0m_get_train_dir\u001b[0m\u001b[1;33m(\u001b[0m\u001b[0mself\u001b[0m\u001b[1;33m.\u001b[0m\u001b[0mget_params\u001b[0m\u001b[1;33m(\u001b[0m\u001b[1;33m)\u001b[0m\u001b[1;33m)\u001b[0m\u001b[1;33m]\u001b[0m\u001b[1;33m)\u001b[0m\u001b[1;33m:\u001b[0m\u001b[1;33m\u001b[0m\u001b[1;33m\u001b[0m\u001b[0m\n\u001b[1;32m-> 2037\u001b[1;33m             self._train(\n\u001b[0m\u001b[0;32m   2038\u001b[0m                 \u001b[0mtrain_pool\u001b[0m\u001b[1;33m,\u001b[0m\u001b[1;33m\u001b[0m\u001b[1;33m\u001b[0m\u001b[0m\n\u001b[0;32m   2039\u001b[0m                 \u001b[0mtrain_params\u001b[0m\u001b[1;33m[\u001b[0m\u001b[1;34m\"eval_sets\"\u001b[0m\u001b[1;33m]\u001b[0m\u001b[1;33m,\u001b[0m\u001b[1;33m\u001b[0m\u001b[1;33m\u001b[0m\u001b[0m\n",
      "\u001b[1;32mC:\\JupyterLab\\resources\\jlab_server\\lib\\site-packages\\catboost\\core.py\u001b[0m in \u001b[0;36m_train\u001b[1;34m(self, train_pool, test_pool, params, allow_clear_pool, init_model)\u001b[0m\n\u001b[0;32m   1462\u001b[0m \u001b[1;33m\u001b[0m\u001b[0m\n\u001b[0;32m   1463\u001b[0m     \u001b[1;32mdef\u001b[0m \u001b[0m_train\u001b[0m\u001b[1;33m(\u001b[0m\u001b[0mself\u001b[0m\u001b[1;33m,\u001b[0m \u001b[0mtrain_pool\u001b[0m\u001b[1;33m,\u001b[0m \u001b[0mtest_pool\u001b[0m\u001b[1;33m,\u001b[0m \u001b[0mparams\u001b[0m\u001b[1;33m,\u001b[0m \u001b[0mallow_clear_pool\u001b[0m\u001b[1;33m,\u001b[0m \u001b[0minit_model\u001b[0m\u001b[1;33m)\u001b[0m\u001b[1;33m:\u001b[0m\u001b[1;33m\u001b[0m\u001b[1;33m\u001b[0m\u001b[0m\n\u001b[1;32m-> 1464\u001b[1;33m         \u001b[0mself\u001b[0m\u001b[1;33m.\u001b[0m\u001b[0m_object\u001b[0m\u001b[1;33m.\u001b[0m\u001b[0m_train\u001b[0m\u001b[1;33m(\u001b[0m\u001b[0mtrain_pool\u001b[0m\u001b[1;33m,\u001b[0m \u001b[0mtest_pool\u001b[0m\u001b[1;33m,\u001b[0m \u001b[0mparams\u001b[0m\u001b[1;33m,\u001b[0m \u001b[0mallow_clear_pool\u001b[0m\u001b[1;33m,\u001b[0m \u001b[0minit_model\u001b[0m\u001b[1;33m.\u001b[0m\u001b[0m_object\u001b[0m \u001b[1;32mif\u001b[0m \u001b[0minit_model\u001b[0m \u001b[1;32melse\u001b[0m \u001b[1;32mNone\u001b[0m\u001b[1;33m)\u001b[0m\u001b[1;33m\u001b[0m\u001b[1;33m\u001b[0m\u001b[0m\n\u001b[0m\u001b[0;32m   1465\u001b[0m         \u001b[0mself\u001b[0m\u001b[1;33m.\u001b[0m\u001b[0m_set_trained_model_attributes\u001b[0m\u001b[1;33m(\u001b[0m\u001b[1;33m)\u001b[0m\u001b[1;33m\u001b[0m\u001b[1;33m\u001b[0m\u001b[0m\n\u001b[0;32m   1466\u001b[0m \u001b[1;33m\u001b[0m\u001b[0m\n",
      "\u001b[1;32m_catboost.pyx\u001b[0m in \u001b[0;36m_catboost._CatBoost._train\u001b[1;34m()\u001b[0m\n",
      "\u001b[1;32m_catboost.pyx\u001b[0m in \u001b[0;36m_catboost._CatBoost._train\u001b[1;34m()\u001b[0m\n",
      "\u001b[1;31mKeyboardInterrupt\u001b[0m: "
     ]
    }
   ],
   "source": [
    "train_X, test_X, trainy, testy = train_test_split(train_data, train_y, test_size=0.3, random_state=0)\n",
    "trainyy = np.log1p(trainy)\n",
    "testyy = np.log1p(testy)\n",
    "cate_feats = ['model','brand','name','regDate', 'creatDate','bodyType', 'fuelType',\n",
    "            'gearbox', 'kilometer', 'regDate_year', 'city', 'used_time1_bin', \n",
    "            'power_bin', 'notRepairedDamage']\n",
    "params = {'learning_rate': 0.1, \n",
    "          'depth': 13, \n",
    "          'od_type': 'Iter', \n",
    "          'od_wait': 50, \n",
    "          'l2_leaf_reg': 5,\n",
    "          'random_seed': 11, \n",
    "          'rsm': 1,\n",
    "          'one_hot_max_size': 8}\n",
    "model = Cat(iterations=200, eval_metric='MAE', **params)\n",
    "model.fit(train_X, trainyy, cat_features=cate_feats, \n",
    "         eval_set=(test_X, testyy), use_best_model=True)\n",
    "Y_pred = model.predict(test_X)\n",
    "Y_pred= np.expm1(Y_pred) \n",
    "Y_pred"
   ]
  },
  {
   "cell_type": "code",
   "execution_count": 37,
   "id": "4a5a10a8-0696-4722-a2c5-564c2d214162",
   "metadata": {
    "tags": []
   },
   "outputs": [],
   "source": [
    "cate_feats = ['model','brand','name','regDate', 'creatDate','bodyType', 'fuelType',\n",
    "            'gearbox', 'kilometer', 'regDate_year', 'city', 'used_time1_bin', \n",
    "            'power_bin', 'notRepairedDamage']"
   ]
  },
  {
   "cell_type": "code",
   "execution_count": 38,
   "id": "6518e1e9-b1b0-4b76-ab83-32884d99a472",
   "metadata": {
    "tags": []
   },
   "outputs": [],
   "source": [
    "train_data[cate_feats] = train_data[cate_feats].astype('int')"
   ]
  },
  {
   "cell_type": "code",
   "execution_count": 38,
   "id": "54710d2b-13da-4dca-9300-4050ea8872b4",
   "metadata": {
    "collapsed": true,
    "jupyter": {
     "outputs_hidden": true
    },
    "tags": []
   },
   "outputs": [
    {
     "data": {
      "image/png": "[encoded data removed]",
      "text/plain": [
       "<Figure size 864x2880 with 1 Axes>"
      ]
     },
     "metadata": {
      "needs_background": "light"
     },
     "output_type": "display_data"
    }
   ],
   "source": [
    "from lightgbm import plot_importance\n",
    "fig, ax = plt.subplots(figsize=(12, 40))\n",
    "plot_importance(clf, ax=ax, max_num_features=90)\n",
    "plt.show()"
   ]
  },
  {
   "cell_type": "code",
   "execution_count": 56,
   "id": "39c6effc-0dc0-4dd3-b5a0-33d386f076f0",
   "metadata": {
    "collapsed": true,
    "jupyter": {
     "outputs_hidden": true
    },
    "tags": []
   },
   "outputs": [
    {
     "data": {
      "text/plain": [
       "[('price', 1.0),\n",
       " ('Ridge_feature', 0.966459101386487),\n",
       " ('v_12_add_v_0', 0.7836179701046292),\n",
       " ('v_0_add_v_12', 0.7836179701046292),\n",
       " ('v_0_mins_v_3', 0.7699762878180915),\n",
       " ('v_3_mins_v_0', 0.7699762878180915),\n",
       " ('v_3_multi_v_0', 0.7530715047062833),\n",
       " ('v_0_multi_v_3', 0.7530715047062833),\n",
       " ('v_12_mins_v_3', 0.7454305513466345),\n",
       " ('v_3_mins_v_12', 0.7454305513466345),\n",
       " ('v_3_multi_v_6', 0.7434105435314313),\n",
       " ('v_6_multi_v_3', 0.7434105435314313),\n",
       " ('v_3_mins_v_6', 0.7314282114819792),\n",
       " ('v_6_mins_v_3', 0.7314282114819792),\n",
       " ('v_3_add_v_3', 0.7309465715424538),\n",
       " ('v_3', 0.7309465715424538),\n",
       " ('v_6_add_v_3', 0.7304461054239424),\n",
       " ('v_3_add_v_6', 0.7304461054239424),\n",
       " ('v_0_multi_v_0', 0.7298893603386798),\n",
       " ('v_0_multi_v_12', 0.7271686714680172),\n",
       " ('v_12_multi_v_0', 0.7271686714680172),\n",
       " ('v_6_add_v_0', 0.7160861242579151),\n",
       " ('v_0_add_v_6', 0.7160861242579151),\n",
       " ('v_0', 0.7160557970931893),\n",
       " ('v_0_add_v_0', 0.7160557970931893),\n",
       " ('v_0_mins_v_6', 0.7160095296314942),\n",
       " ('v_6_mins_v_0', 0.7160095296314942),\n",
       " ('v_3_div_v_6', 0.7103631701353524),\n",
       " ('v_3_div_v_0', 0.707907886309287),\n",
       " ('v_6_multi_v_12', 0.7076265399603205),\n",
       " ('v_12_multi_v_6', 0.7076265399603205),\n",
       " ('v_12_add_v_6', 0.6932499706654822),\n",
       " ('v_6_add_v_12', 0.6932499706654822),\n",
       " ('v_12_add_v_12', 0.6928231554129707),\n",
       " ('v_12', 0.6928231554129707),\n",
       " ('v_12_mins_v_6', 0.6923846746298555),\n",
       " ('v_6_mins_v_12', 0.6923846746298555),\n",
       " ('v_0_div_v_0', 0.6871180488064698),\n",
       " ('v_0_mins_v_11', 0.6799722245420451),\n",
       " ('v_11_mins_v_0', 0.6799722245420451),\n",
       " ('v_12_div_v_6', 0.6706682279518121),\n",
       " ('v_12_div_v_0', 0.6568433312278783),\n",
       " ('v_11_add_v_3', 0.648260263550157),\n",
       " ('v_3_add_v_11', 0.648260263550157),\n",
       " ('v_11_mins_v_12', 0.6454095620125685),\n",
       " ('v_12_mins_v_11', 0.6454095620125685),\n",
       " ('regDate_year_v_14_median', 0.6303855482808673),\n",
       " ('regDate_year_v_14_max', 0.6226993199031715),\n",
       " ('regDate_year_v_12_median', 0.6123894483565998),\n",
       " ('regDate_year_v_0_median', 0.6107190187056297),\n",
       " ('regDate_year_v_3_median', 0.6051291818815231),\n",
       " ('regDate_year_v_0_max', 0.5972414130440388),\n",
       " ('regDate_year', 0.5876447114331811),\n",
       " ('power_bin', 0.5767913079092031),\n",
       " ('power_bin_v_12_median', 0.5432116169666582),\n",
       " ('v_2', 0.5414816578241958),\n",
       " ('power_bin_v_3_median', 0.53754372835494),\n",
       " ('power_bin_v_3_max', 0.532034920439462),\n",
       " ('power_bin_v_10_max', 0.5281054524826786),\n",
       " ('regDate_year_v_3_min', 0.5216038449629754),\n",
       " ('power_bin_v_0_median', 0.5183502102560541),\n",
       " ('v_12_multi_v_11', 0.5098069116652367),\n",
       " ('v_11_multi_v_12', 0.5098069116652367),\n",
       " ('power_bin_v_12_min', 0.5087350338748843),\n",
       " ('regDate_year_v_12_max', 0.508108709848797),\n",
       " ('v_11_multi_v_3', 0.5025690486383653),\n",
       " ('v_3_multi_v_11', 0.5025690486383653),\n",
       " ('model_v_0_median', 0.49543032655923),\n",
       " ('model_v_12_median', 0.4953831887423907),\n",
       " ('v_0_multi_v_6', 0.4725052420929105),\n",
       " ('v_6_multi_v_0', 0.4725052420929105),\n",
       " ('kilometer_v_12_median', 0.4674867242312952),\n",
       " ('kilometer_v_14_median', 0.4631083631062372),\n",
       " ('v_11_add_v_12', 0.45998275486416196),\n",
       " ('v_12_add_v_11', 0.45998275486416196),\n",
       " ('regDate_year_v_12_min', 0.4598733009853572),\n",
       " ('kilometer_v_3_median', 0.45850237885512474),\n",
       " ('kilometer_v_0_median', 0.45817705540475534),\n",
       " ('model_v_3_median', 0.4535201756814905),\n",
       " ('power_bin_v_10_min', 0.44729600414901344),\n",
       " ('power_bin_v_0_max', 0.4408311379999957),\n",
       " ('kilometer', 0.44051869062060955),\n",
       " ('v_11_multi_v_11', 0.44046073631458504),\n",
       " ('power_bin_v_10_median', 0.43971489263870484),\n",
       " ('brand_price_average', 0.4358491799641503),\n",
       " ('regDate_year_v_10_min', 0.4352339430769644),\n",
       " ('regDate_year_v_10_median', 0.434263291039669),\n",
       " ('brand_price_median', 0.42888601709195684),\n",
       " ('kilometer_v_12_min', 0.41413558053289307),\n",
       " ('v_12_multi_v_3', 0.41032131188597926),\n",
       " ('v_3_multi_v_12', 0.41032131188597926),\n",
       " ('v_3_mins_v_11', 0.4060954355188613),\n",
       " ('v_11_mins_v_3', 0.4060954355188613),\n",
       " ('kilometer_v_10_median', 0.40608498127201975),\n",
       " ('brand_price_std', 0.4045676237836697),\n",
       " ('kilometer_genFeat2', 0.4031922361186751),\n",
       " ('power_bin_count', 0.3939962183585499),\n",
       " ('kilometer_count', 0.39224749367393674),\n",
       " ('v_11_multi_v_0', 0.3919260531188918),\n",
       " ('v_0_multi_v_11', 0.3919260531188918),\n",
       " ('v_11_div_v_6', 0.38287433161953544),\n",
       " ('brand_v_0_median', 0.3824250354991421),\n",
       " ('kilometer_v_3_max', 0.3788335603426585),\n",
       " ('v_6_mins_v_11', 0.37602840292578943),\n",
       " ('v_11_mins_v_6', 0.37602840292578943),\n",
       " ('v_11', 0.3743994712215238),\n",
       " ('v_11_add_v_11', 0.3743994712215238),\n",
       " ('brand_v_12_median', 0.37394967527841166),\n",
       " ('v_6_add_v_11', 0.3727611617778275),\n",
       " ('v_11_add_v_6', 0.3727611617778275),\n",
       " ('kilometer_v_10_max', 0.36360482324977617),\n",
       " ('v_11_multi_v_6', 0.36305527355234807),\n",
       " ('v_6_multi_v_11', 0.36305527355234807),\n",
       " ('v_11_div_v_0', 0.3570492897453328),\n",
       " ('model_v_0_max', 0.3553314283316321),\n",
       " ('brand_v_3_median', 0.34244403531967804),\n",
       " ('kilometer_genFeat1', 0.3423779413846969),\n",
       " ('kilometer_v_0_max', 0.34193917989594874),\n",
       " ('v_11_add_v_0', 0.3417526048702579),\n",
       " ('v_0_add_v_11', 0.3417526048702579),\n",
       " ('model_v_12_min', 0.3398899551588113),\n",
       " ('model_v_14_min', 0.33733247159251534),\n",
       " ('gearbox_count', 0.3303534929368947),\n",
       " ('gearbox', 0.33035349293688815),\n",
       " ('power_bin_v_3_min', 0.3303368570994095),\n",
       " ('kilometer_v_12_max', 0.3269374859485434),\n",
       " ('regDate_year_count', 0.3183245285956696),\n",
       " ('model_v_10_min', 0.3177970194581329),\n",
       " ('brand_v_0_max', 0.31376255533073893),\n",
       " ('v_5', 0.30860475656998254),\n",
       " ('model_v_10_median', 0.297333154658797),\n",
       " ('power_bin_v_12_max', 0.2954202368502645),\n",
       " ('v_3_multi_v_3', 0.29362824204991433),\n",
       " ('v_12_multi_v_12', 0.2881648170909819),\n",
       " ('model_v_14_max', 0.2843257932347493),\n",
       " ('brand_price_max', 0.2816459945658103),\n",
       " ('brand_v_10_median', 0.2809885932714431),\n",
       " ('model_v_14_median', 0.2722350901329307),\n",
       " ('v_6_multi_v_6', 0.2685201848170667),\n",
       " ('brand_v_10_min', 0.25846901534289296),\n",
       " ('brand_v_12_max', 0.25651052783170963),\n",
       " ('v_6_add_v_6', 0.2533124744329405),\n",
       " ('v_6', 0.2533124744329405),\n",
       " ('kilometer_v_14_max', 0.24948395148049457),\n",
       " ('bodyType', 0.24860928280902728),\n",
       " ('v_10', 0.246174632566163),\n",
       " ('model_v_3_min', 0.24435828070622467),\n",
       " ('bodyType_count', 0.2442954614400696),\n",
       " ('power_bin_v_14_min', 0.24135346277901917),\n",
       " ('kilometer_v_3_min', 0.22967582664999872),\n",
       " ('kilometer_v_10_min', 0.22787220364643543),\n",
       " ('brand_v_14_min', 0.22692459492464975),\n",
       " ('regDate_year_v_3_max', 0.224198451206561),\n",
       " ('fuelType_count', 0.2174424462128364),\n",
       " ('power_bin_v_14_max', 0.21516754158084675),\n",
       " ('fuelType', 0.20951035667367088),\n",
       " ('v_6_div_v_6', 0.2070530385159412),\n",
       " ('v_9', 0.20620458761579621),\n",
       " ('brand_price_skew', 0.20198735683593214),\n",
       " ('model_v_12_max', 0.19845912059524043),\n",
       " ('model_v_10_max', 0.1895857616188996),\n",
       " ('regDate_year_v_10_max', 0.17878499618786922),\n",
       " ('v_3_add_v_12', 0.17861317990021022),\n",
       " ('v_12_add_v_3', 0.17861317990021022),\n",
       " ('brand_v_14_median', 0.17719755609976),\n",
       " ('power_bin_v_0_min', 0.16727675742309464),\n",
       " ('brand_v_3_min', 0.16365867320836927),\n",
       " ('brand_price_sum', 0.14943862942312514),\n",
       " ('brand_v_12_min', 0.14595733097629487),\n",
       " ('brand_price_kurt', 0.14032986398175115),\n",
       " ('model', 0.13693289370594516),\n",
       " ('v_0_mins_v_12', 0.135526603376621),\n",
       " ('v_12_mins_v_0', 0.135526603376621),\n",
       " ('brand_v_14_max', 0.13459867909649456),\n",
       " ('brand_v_3_max', 0.13263341681999927),\n",
       " ('model_v_3_max', 0.12208951388746012),\n",
       " ('regDate_year_v_14_min', 0.10998079260883381),\n",
       " ('v_3_div_v_11', 0.108313675558989),\n",
       " ('model_city_nunique', 0.10389034902027057),\n",
       " ('model_v_0_min', 0.08912533233418928),\n",
       " ('brand_model_ent', 0.07650777971107335),\n",
       " ('v_11_div_v_11', 0.07649541376670002),\n",
       " ('v_0_div_v_11', 0.07640171092727406),\n",
       " ('v_7', 0.07558817261491778),\n",
       " ('v_6_div_v_11', 0.07527796511450385),\n",
       " ('v_6_div_v_0', 0.07493958427876007),\n",
       " ('model_brand_count', 0.07075090623443106),\n",
       " ('model_in_brand_prop', 0.06692644619628331),\n",
       " ('model_count', 0.06230953320360406),\n",
       " ('v_0_div_v_6', 0.05903313774661493),\n",
       " ('model_in_city_prop', 0.04826096569797417),\n",
       " ('brand', 0.04379916003821462),\n",
       " ('regDate_month', 0.041585396341111816),\n",
       " ('model_city_count', 0.039661422337155146),\n",
       " ('power_bin_v_14_median', 0.039450604562288355),\n",
       " ('v_14', 0.036637040231761314),\n",
       " ('brand_city_nunique', 0.03125076708417476),\n",
       " ('v_12_div_v_11', 0.031009643376322536),\n",
       " ('regDate_dayofweek', 0.030987586231421803),\n",
       " ('brand_price_min', 0.029842118140365633),\n",
       " ('notRepairedDamage', 0.023817309009031427),\n",
       " ('brand_v_10_max', 0.023034927112008725),\n",
       " ('regDate_day', 0.019006093926515442),\n",
       " ('model_city_ent', 0.01863981288813879),\n",
       " ('brand_amount', 0.017661952838851604),\n",
       " ('brand_count', 0.017545710496727655),\n",
       " ('v_1', 0.015632131059906976),\n",
       " ('v_13', 0.014003047575202687),\n",
       " ('city_count', 0.012909566736204556),\n",
       " ('city', 0.012499013706279965),\n",
       " ('v_3_add_v_0', 0.012413806011048575),\n",
       " ('v_0_add_v_3', 0.012413806011048575),\n",
       " ('brand_city_ent', 0.010899460100414642),\n",
       " ('city_in_brand_prop', 0.010520005342653047),\n",
       " ('brand_in_model_prop', 0.010306878737981468),\n",
       " ('creatDate_dayofweek', 0.0074893194037481),\n",
       " ('city_brand_nunique', 0.006490003964203658),\n",
       " ('brand_model_nunique', 0.0063764981166774285),\n",
       " ('city_model_nunique', 0.005073922955948643),\n",
       " ('city_in_model_prop', 0.005043374913390913),\n",
       " ('model_brand_nunique', 0.0047812468666217686),\n",
       " ('brand_city_count', 0.004363629824605466),\n",
       " ('creatDate', 0.0029546790973413355),\n",
       " ('model_brand_ent', 0.0022949864549657965),\n",
       " ('brand_in_city_prop', 0.002247900086957667),\n",
       " ('name', 0.002029606992389904),\n",
       " ('city_model_ent', 0.0012815913523167328),\n",
       " ('v_11_div_v_3', 0.001213036036408293),\n",
       " ('v_3_div_v_3', 0.0011882655019755026),\n",
       " ('city_brand_ent', 0.0011659796959902148),\n",
       " ('v_3_div_v_12', 0.001129581350314404),\n",
       " ('v_0_div_v_3', 0.001098714584391406),\n",
       " ('v_6_div_v_3', 0.0010979511495106142),\n",
       " ('SaleID', 0.0010425891458416187),\n",
       " ('kilometer_v_14_min', 0.0008578127159457328),\n",
       " ('v_12_div_v_12', 0.0006159019459711063),\n",
       " ('v_0_div_v_12', 0.0004176436450013081),\n",
       " ('v_6_div_v_12', 0.00040468528032441923),\n",
       " ('v_11_div_v_12', 0.00019235615849414462),\n",
       " ('v_12_div_v_3', 7.453539573813266e-06),\n",
       " ('brand_v_0_min', nan),\n",
       " ('regDate_year_v_0_min', nan),\n",
       " ('kilometer_v_0_min', nan),\n",
       " ('v_3_mins_v_3', nan),\n",
       " ('v_0_mins_v_0', nan),\n",
       " ('v_12_mins_v_12', nan),\n",
       " ('v_6_mins_v_6', nan),\n",
       " ('v_11_mins_v_11', nan),\n",
       " ('kilometer_genFeat3', nan)]"
      ]
     },
     "execution_count": 56,
     "metadata": {},
     "output_type": "execute_result"
    }
   ],
   "source": [
    "train_data = all_data1.loc[all_data[\"price\"] != -1, :]\n",
    "correlation = train_data.corr().abs()\n",
    "X = correlation['price'].sort_values(ascending=False)\n",
    "\n",
    "[*zip(pd.DataFrame(X).index, X)]"
   ]
  },
  {
   "cell_type": "code",
   "execution_count": 30,
   "id": "0cf398ea-6514-4ea9-af53-20e5d72e36e9",
   "metadata": {
    "tags": []
   },
   "outputs": [
    {
     "name": "stdout",
     "output_type": "stream",
     "text": [
      "(200000, 527)\n",
      "(200000, 517)\n"
     ]
    }
   ],
   "source": [
    "# 删除共线性特征\n",
    "print(all_data1.shape)\n",
    "del_feat = [feat for feat in all_data1.columns if all_data1[feat].nunique() == 1]\n",
    "all_data1.drop(del_feat, axis=1, inplace=True)\n",
    "print(all_data1.shape)"
   ]
  },
  {
   "cell_type": "code",
   "execution_count": 36,
   "id": "b2b773b1-fb3f-425a-9b9e-c88187cd0518",
   "metadata": {},
   "outputs": [
    {
     "name": "stdout",
     "output_type": "stream",
     "text": [
      "(200000, 517)\n",
      "(200000, 367)\n"
     ]
    }
   ],
   "source": [
    "# 过滤掉相关性小于 0.1 的特征\n",
    "train_data = all_data1.loc[all_data[\"price\"] != -1, :]\n",
    "print(all_data1.shape)\n",
    "threshold = 0.08\n",
    "corr_matrix = train_data.corr().abs()\n",
    "drop_col = corr_matrix[corr_matrix[\"price\"] < threshold].index\n",
    "all_data1.drop(drop_col, axis=1, inplace=True)\n",
    "print(all_data1.shape)\n"
   ]
  },
  {
   "cell_type": "code",
   "execution_count": 42,
   "id": "861d41fe-99ec-4692-9bdc-eefb7e20bb3a",
   "metadata": {
    "jupyter": {
     "source_hidden": true
    },
    "tags": []
   },
   "outputs": [],
   "source": [
    "all_data1[np.isinf(all_data1)] = np.nan"
   ]
  },
  {
   "cell_type": "code",
   "execution_count": 43,
   "id": "fae4bd0a-94ee-488f-a526-be7f7b30acd8",
   "metadata": {
    "jupyter": {
     "source_hidden": true
    },
    "tags": []
   },
   "outputs": [],
   "source": [
    "# 填充缺失值 -- 众数\n",
    "from sklearn.impute import SimpleImputer\n",
    "imp_mode = SimpleImputer(strategy=\"most_frequent\")\n",
    "\n",
    "fill_features = [column for column in all_data1.columns if all_data1[column].isnull().sum() != 0]\n",
    "for feature in fill_features:\n",
    "    all_data1.loc[:, feature] = imp_mode.fit_transform(all_data1.loc[:, feature].values.reshape(-1, 1))"
   ]
  },
  {
   "cell_type": "code",
   "execution_count": 44,
   "id": "b0906748-bdd5-4307-bc28-a7130aa42572",
   "metadata": {
    "collapsed": true,
    "jupyter": {
     "outputs_hidden": true,
     "source_hidden": true
    },
    "tags": []
   },
   "outputs": [
    {
     "name": "stdout",
     "output_type": "stream",
     "text": [
      "(200000, 335)\n",
      "(200000, 335)\n"
     ]
    }
   ],
   "source": [
    "# 过滤掉方差为 0 的特征\n",
    "from sklearn.feature_selection import VarianceThreshold as VT\n",
    "print(all_data1.shape)\n",
    "selector = VT()\n",
    "all_data1 = selector.fit_transform(all_data1)\n",
    "print(all_data1.shape)"
   ]
  },
  {
   "cell_type": "code",
   "execution_count": 44,
   "id": "6bf4704d-7690-44c5-a134-4137e3a6d69a",
   "metadata": {},
   "outputs": [],
   "source": [
    "all_data_03 = all_data1.copy()  # 保存未归一化的数据"
   ]
  },
  {
   "cell_type": "code",
   "execution_count": 76,
   "id": "b2868f5f-092b-463b-8e2f-d490b2f17e4d",
   "metadata": {},
   "outputs": [],
   "source": [
    "all_data1 = all_data_03.copy()"
   ]
  },
  {
   "cell_type": "code",
   "execution_count": 79,
   "id": "b5f8eb9a-9ab7-4187-bfd6-4fda243c57dd",
   "metadata": {
    "tags": []
   },
   "outputs": [
    {
     "data": {
      "text/plain": [
       "(200000, 333)"
      ]
     },
     "execution_count": 79,
     "metadata": {},
     "output_type": "execute_result"
    }
   ],
   "source": [
    "all_data1.shape"
   ]
  },
  {
   "cell_type": "markdown",
   "id": "7787efcc-28fe-45a6-b52f-7779fc2fc004",
   "metadata": {},
   "source": [
    "## 归一化"
   ]
  },
  {
   "cell_type": "code",
   "execution_count": 23,
   "id": "21850af8-e201-4c31-933f-37d4dac2a399",
   "metadata": {
    "tags": []
   },
   "outputs": [
    {
     "name": "stdout",
     "output_type": "stream",
     "text": [
      "(200000, 43)\n"
     ]
    }
   ],
   "source": [
    "from sklearn import preprocessing\n",
    "features_columns = [col for col in all_data1.columns if col not in ['price']]\n",
    "Mmax = preprocessing.MinMaxScaler()\n",
    "Mmax = Mmax.fit(all_data1[features_columns])\n",
    "all_data_scaler = Mmax.transform(all_data1[features_columns])\n",
    "all_data_scaler = pd.DataFrame(all_data_scaler)\n",
    "all_data_scaler.columns = features_columns\n",
    "all_data_scaler['price'] = all_data['price'].values\n",
    "\n",
    "all_data1 = all_data_scaler.copy()\n",
    "print(all_data1.shape)"
   ]
  },
  {
   "cell_type": "markdown",
   "id": "e62853d3-990e-4c0b-a554-6e9346f7609a",
   "metadata": {},
   "source": [
    "# Lgb特征选择"
   ]
  },
  {
   "cell_type": "code",
   "execution_count": 43,
   "id": "66bbcdc3-f5f4-406d-8dde-6f6258fbe323",
   "metadata": {
    "jupyter": {
     "source_hidden": true
    },
    "tags": []
   },
   "outputs": [],
   "source": [
    "import lightgbm as lgb\n",
    "from sklearn.model_selection import train_test_split\n",
    "\n",
    "X_train, X_test, y_train, y_test = train_test_split(train_data, train_y, test_size=0.3, random_state=0)\n",
    "\n",
    "train_matrix = lgb.Dataset(X_train, label=y_train)\n",
    "test_matrix = lgb.Dataset(X_test, label=y_test)\n",
    "params = {\n",
    "    'num_leaves': 50,\n",
    "    'objective': 'regression_l1',\n",
    "    'max_depth': -1,\n",
    "    'learning_rate': 0.1,\n",
    "    'min_split_gain': 0.1,       # 相当于xgboost中的gamma\n",
    "    'min_child_samples':2,\n",
    "    \"boosting\": \"gbdt\",\n",
    "    \"feature_fraction\": 1,      # 弱学习器随机采样比例，相当于subsamples\n",
    "    \"bagging_freq\": 1,            # k次执行一次采样\n",
    "    \"bagging_fraction\": 0.7,\n",
    "    \"bagging_seed\": 11,\n",
    "    \"lambda_l1\": 0.3,\n",
    "    # \"lambda_l2\": 3.5,\n",
    "    \"verbosity\": -1,\n",
    "    \"nthread\": 4,                 # 线程\n",
    "    'metric': 'mae',\n",
    "    \"random_state\": 2019,   \n",
    "}\n",
    "num_round = 700\n",
    "clf = lgb.train(params, \n",
    "                  train_matrix, \n",
    "                  num_round, \n",
    "                  valid_sets= test_matrix, \n",
    "                  verbose_eval=100,\n",
    "                  early_stopping_rounds=20)\n",
    "\n",
    "def lgb_transform(data, model, topK):\n",
    "    \n",
    "    train_df = pd.DataFrame(data)\n",
    "    train_df.columns = range(data.shape[1])\n",
    "    \n",
    "    features_import = pd.DataFrame()\n",
    "    features_import['importance'] = model.feature_importance()\n",
    "    features_import['col'] = range(data.shape[1])\n",
    "    \n",
    "    features_import = features_import.sort_values(['importance'], ascending=0).head(topK)\n",
    "    \n",
    "    sel_col = list(features_import.col)\n",
    "    \n",
    "    train_sel = train_df[sel_col]\n",
    "\n",
    "    \n",
    "    return train_sel\n",
    "\n",
    "\n",
    "print('筛选前：', all_data1.shape)\n",
    "all_data1.drop('price', axis=1, inplace=True)\n",
    "all_data1 = lgb_transform(all_data1, clf, 300)\n",
    "all_data1['price'] = all_data['price'].values\n",
    "print('筛选后：', all_data1.shape)"
   ]
  },
  {
   "cell_type": "code",
   "execution_count": 30,
   "id": "5a6c2aa1-a8e8-4e3c-8b9e-b1270afdff54",
   "metadata": {
    "tags": []
   },
   "outputs": [
    {
     "data": {
      "text/plain": [
       "(200000, 771)"
      ]
     },
     "execution_count": 30,
     "metadata": {},
     "output_type": "execute_result"
    }
   ],
   "source": [
    "all_data1.shape"
   ]
  },
  {
   "cell_type": "code",
   "execution_count": 45,
   "id": "0d24a4e0-70cf-4a8e-8d74-7c7d8bfedcf6",
   "metadata": {},
   "outputs": [],
   "source": [
    "all_data11 = all_data1.copy()"
   ]
  },
  {
   "cell_type": "code",
   "execution_count": 98,
   "id": "dda5cb29-3638-4009-8834-5febe4126db4",
   "metadata": {},
   "outputs": [],
   "source": [
    "all_data1 = all_data11.copy()"
   ]
  },
  {
   "cell_type": "code",
   "execution_count": 97,
   "id": "92b8f2a6-4980-4a3c-84b7-14d33b5c7ff9",
   "metadata": {
    "tags": []
   },
   "outputs": [
    {
     "data": {
      "text/plain": [
       "(200000, 301)"
      ]
     },
     "execution_count": 97,
     "metadata": {},
     "output_type": "execute_result"
    }
   ],
   "source": [
    "all_data11.shape"
   ]
  },
  {
   "cell_type": "code",
   "execution_count": 22,
   "id": "839033be-ea1a-408d-ab26-f66dbe1406a6",
   "metadata": {},
   "outputs": [],
   "source": [
    "y = np.log1p(train_y)"
   ]
  },
  {
   "cell_type": "markdown",
   "id": "471e2035-4ae4-4ca4-85e8-dd6270f672af",
   "metadata": {},
   "source": [
    "### Ridge特征"
   ]
  },
  {
   "cell_type": "code",
   "execution_count": 23,
   "id": "a8b5aee5-da5d-43d9-8b1b-9cf861da7fc4",
   "metadata": {
    "tags": []
   },
   "outputs": [
    {
     "data": {
      "text/plain": [
       "array([1167.15324201, 2628.79438935, 7765.18241967, ..., 7634.57594441,\n",
       "       5105.78391776, 3683.3016052 ])"
      ]
     },
     "execution_count": 23,
     "metadata": {},
     "output_type": "execute_result"
    }
   ],
   "source": [
    "from sklearn.linear_model import Ridge, Lasso, LinearRegression as LR\n",
    "\n",
    "clf5 = Ridge(alpha=1.0)\n",
    "# clf5 = LR()\n",
    "clf5 = clf5.fit(train_data, y)\n",
    "\n",
    "# all_data2 = all_data1.drop(\"price\", axis=1, inplace=False)\n",
    "Ypred = clf5.predict(train_data)\n",
    "Ypred\n",
    "\n",
    "Ridge_feature = np.expm1(Ypred)\n",
    "len(Ridge_feature)\n",
    "\n",
    "Ridge_feature"
   ]
  },
  {
   "cell_type": "code",
   "execution_count": 88,
   "id": "e476b8ff-f646-45f0-855d-969e778829d0",
   "metadata": {},
   "outputs": [],
   "source": [
    "all_data1[\"price\"] = all_data[\"price\"].values"
   ]
  },
  {
   "cell_type": "code",
   "execution_count": 33,
   "id": "0be8b6d3-c5d5-472e-a8bc-f4732fab1d0b",
   "metadata": {
    "collapsed": true,
    "jupyter": {
     "outputs_hidden": true
    },
    "tags": []
   },
   "outputs": [
    {
     "ename": "ValueError",
     "evalue": "Length of values (150000) does not match length of index (200000)",
     "output_type": "error",
     "traceback": [
      "\u001b[1;31m---------------------------------------------------------------------------\u001b[0m",
      "\u001b[1;31mValueError\u001b[0m                                Traceback (most recent call last)",
      "\u001b[1;32mC:\\Users\\ADMINI~1\\AppData\\Local\\Temp/ipykernel_1848/1683902211.py\u001b[0m in \u001b[0;36m<module>\u001b[1;34m\u001b[0m\n\u001b[1;32m----> 1\u001b[1;33m \u001b[0mall_data1\u001b[0m\u001b[1;33m[\u001b[0m\u001b[1;34m\"Ridge_feature\"\u001b[0m\u001b[1;33m]\u001b[0m \u001b[1;33m=\u001b[0m \u001b[0mRidge_feature\u001b[0m\u001b[1;33m\u001b[0m\u001b[1;33m\u001b[0m\u001b[0m\n\u001b[0m\u001b[0;32m      2\u001b[0m \u001b[1;31m# all_data1[\"Y_pred\"] = Y_pred.values()\u001b[0m\u001b[1;33m\u001b[0m\u001b[1;33m\u001b[0m\u001b[1;33m\u001b[0m\u001b[0m\n\u001b[0;32m      3\u001b[0m \u001b[1;31m# all_data1[\"price\"] = all_data[\"price\"].values\u001b[0m\u001b[1;33m\u001b[0m\u001b[1;33m\u001b[0m\u001b[1;33m\u001b[0m\u001b[0m\n\u001b[0;32m      4\u001b[0m \u001b[1;31m# all_data_part2 = all_data1.copy()\u001b[0m\u001b[1;33m\u001b[0m\u001b[1;33m\u001b[0m\u001b[1;33m\u001b[0m\u001b[0m\n",
      "\u001b[1;32mC:\\JupyterLab\\resources\\jlab_server\\lib\\site-packages\\pandas\\core\\frame.py\u001b[0m in \u001b[0;36m__setitem__\u001b[1;34m(self, key, value)\u001b[0m\n\u001b[0;32m   3610\u001b[0m         \u001b[1;32melse\u001b[0m\u001b[1;33m:\u001b[0m\u001b[1;33m\u001b[0m\u001b[1;33m\u001b[0m\u001b[0m\n\u001b[0;32m   3611\u001b[0m             \u001b[1;31m# set column\u001b[0m\u001b[1;33m\u001b[0m\u001b[1;33m\u001b[0m\u001b[1;33m\u001b[0m\u001b[0m\n\u001b[1;32m-> 3612\u001b[1;33m             \u001b[0mself\u001b[0m\u001b[1;33m.\u001b[0m\u001b[0m_set_item\u001b[0m\u001b[1;33m(\u001b[0m\u001b[0mkey\u001b[0m\u001b[1;33m,\u001b[0m \u001b[0mvalue\u001b[0m\u001b[1;33m)\u001b[0m\u001b[1;33m\u001b[0m\u001b[1;33m\u001b[0m\u001b[0m\n\u001b[0m\u001b[0;32m   3613\u001b[0m \u001b[1;33m\u001b[0m\u001b[0m\n\u001b[0;32m   3614\u001b[0m     \u001b[1;32mdef\u001b[0m \u001b[0m_setitem_slice\u001b[0m\u001b[1;33m(\u001b[0m\u001b[0mself\u001b[0m\u001b[1;33m,\u001b[0m \u001b[0mkey\u001b[0m\u001b[1;33m:\u001b[0m \u001b[0mslice\u001b[0m\u001b[1;33m,\u001b[0m \u001b[0mvalue\u001b[0m\u001b[1;33m)\u001b[0m\u001b[1;33m:\u001b[0m\u001b[1;33m\u001b[0m\u001b[1;33m\u001b[0m\u001b[0m\n",
      "\u001b[1;32mC:\\JupyterLab\\resources\\jlab_server\\lib\\site-packages\\pandas\\core\\frame.py\u001b[0m in \u001b[0;36m_set_item\u001b[1;34m(self, key, value)\u001b[0m\n\u001b[0;32m   3782\u001b[0m         \u001b[0mensure\u001b[0m \u001b[0mhomogeneity\u001b[0m\u001b[1;33m.\u001b[0m\u001b[1;33m\u001b[0m\u001b[1;33m\u001b[0m\u001b[0m\n\u001b[0;32m   3783\u001b[0m         \"\"\"\n\u001b[1;32m-> 3784\u001b[1;33m         \u001b[0mvalue\u001b[0m \u001b[1;33m=\u001b[0m \u001b[0mself\u001b[0m\u001b[1;33m.\u001b[0m\u001b[0m_sanitize_column\u001b[0m\u001b[1;33m(\u001b[0m\u001b[0mvalue\u001b[0m\u001b[1;33m)\u001b[0m\u001b[1;33m\u001b[0m\u001b[1;33m\u001b[0m\u001b[0m\n\u001b[0m\u001b[0;32m   3785\u001b[0m \u001b[1;33m\u001b[0m\u001b[0m\n\u001b[0;32m   3786\u001b[0m         if (\n",
      "\u001b[1;32mC:\\JupyterLab\\resources\\jlab_server\\lib\\site-packages\\pandas\\core\\frame.py\u001b[0m in \u001b[0;36m_sanitize_column\u001b[1;34m(self, value)\u001b[0m\n\u001b[0;32m   4507\u001b[0m \u001b[1;33m\u001b[0m\u001b[0m\n\u001b[0;32m   4508\u001b[0m         \u001b[1;32mif\u001b[0m \u001b[0mis_list_like\u001b[0m\u001b[1;33m(\u001b[0m\u001b[0mvalue\u001b[0m\u001b[1;33m)\u001b[0m\u001b[1;33m:\u001b[0m\u001b[1;33m\u001b[0m\u001b[1;33m\u001b[0m\u001b[0m\n\u001b[1;32m-> 4509\u001b[1;33m             \u001b[0mcom\u001b[0m\u001b[1;33m.\u001b[0m\u001b[0mrequire_length_match\u001b[0m\u001b[1;33m(\u001b[0m\u001b[0mvalue\u001b[0m\u001b[1;33m,\u001b[0m \u001b[0mself\u001b[0m\u001b[1;33m.\u001b[0m\u001b[0mindex\u001b[0m\u001b[1;33m)\u001b[0m\u001b[1;33m\u001b[0m\u001b[1;33m\u001b[0m\u001b[0m\n\u001b[0m\u001b[0;32m   4510\u001b[0m         \u001b[1;32mreturn\u001b[0m \u001b[0msanitize_array\u001b[0m\u001b[1;33m(\u001b[0m\u001b[0mvalue\u001b[0m\u001b[1;33m,\u001b[0m \u001b[0mself\u001b[0m\u001b[1;33m.\u001b[0m\u001b[0mindex\u001b[0m\u001b[1;33m,\u001b[0m \u001b[0mcopy\u001b[0m\u001b[1;33m=\u001b[0m\u001b[1;32mTrue\u001b[0m\u001b[1;33m,\u001b[0m \u001b[0mallow_2d\u001b[0m\u001b[1;33m=\u001b[0m\u001b[1;32mTrue\u001b[0m\u001b[1;33m)\u001b[0m\u001b[1;33m\u001b[0m\u001b[1;33m\u001b[0m\u001b[0m\n\u001b[0;32m   4511\u001b[0m \u001b[1;33m\u001b[0m\u001b[0m\n",
      "\u001b[1;32mC:\\JupyterLab\\resources\\jlab_server\\lib\\site-packages\\pandas\\core\\common.py\u001b[0m in \u001b[0;36mrequire_length_match\u001b[1;34m(data, index)\u001b[0m\n\u001b[0;32m    529\u001b[0m     \"\"\"\n\u001b[0;32m    530\u001b[0m     \u001b[1;32mif\u001b[0m \u001b[0mlen\u001b[0m\u001b[1;33m(\u001b[0m\u001b[0mdata\u001b[0m\u001b[1;33m)\u001b[0m \u001b[1;33m!=\u001b[0m \u001b[0mlen\u001b[0m\u001b[1;33m(\u001b[0m\u001b[0mindex\u001b[0m\u001b[1;33m)\u001b[0m\u001b[1;33m:\u001b[0m\u001b[1;33m\u001b[0m\u001b[1;33m\u001b[0m\u001b[0m\n\u001b[1;32m--> 531\u001b[1;33m         raise ValueError(\n\u001b[0m\u001b[0;32m    532\u001b[0m             \u001b[1;34m\"Length of values \"\u001b[0m\u001b[1;33m\u001b[0m\u001b[1;33m\u001b[0m\u001b[0m\n\u001b[0;32m    533\u001b[0m             \u001b[1;34mf\"({len(data)}) \"\u001b[0m\u001b[1;33m\u001b[0m\u001b[1;33m\u001b[0m\u001b[0m\n",
      "\u001b[1;31mValueError\u001b[0m: Length of values (150000) does not match length of index (200000)"
     ]
    }
   ],
   "source": [
    "all_data1[\"Ridge_feature\"] = Ridge_feature \n",
    "# all_data1[\"Y_pred\"] = Y_pred.values()\n",
    "# all_data1[\"price\"] = all_data[\"price\"].values\n",
    "# all_data_part2 = all_data1.copy()"
   ]
  },
  {
   "cell_type": "code",
   "execution_count": 24,
   "id": "7bcd6645-a630-47e5-a287-73900e9ad9e9",
   "metadata": {},
   "outputs": [],
   "source": [
    "train_data[\"Ridge_feature\"] = Ridge_feature "
   ]
  },
  {
   "cell_type": "code",
   "execution_count": 49,
   "id": "695075b6-58c8-4f77-9c81-63e867592c39",
   "metadata": {},
   "outputs": [],
   "source": [
    "all_data1.drop(\"Ridge_feature\", axis=1, inplace=True)"
   ]
  },
  {
   "cell_type": "code",
   "execution_count": 68,
   "id": "af8943d2-0ab0-4f67-8453-13c349fa5423",
   "metadata": {},
   "outputs": [],
   "source": [
    "# 单独归一化\n",
    "# from sklearn import preprocessing\n",
    "# features_columns = ['Ridge_feature']\n",
    "# Mmax = preprocessing.MinMaxScaler()\n",
    "# Mmax = Mmax.fit(all_data1[features_columns])\n",
    "# all_data_scaler = Mmax.transform(all_data1[features_columns])\n",
    "# all_data_scaler = pd.DataFrame(all_data_scaler)\n",
    "# all_data_scaler.columns = features_columns\n",
    "# all_data_scaler['price'] = all_data['price'].values\n",
    "\n",
    "# all_data1 = all_data_scaler.copy()\n",
    "# print(all_data1.shape)\n",
    "\n",
    "all_data1[888] = ((all_data1[\"Ridge_feature\"] - np.min(all_data1[\"Ridge_feature\"])) / \n",
    "                        (np.max(all_data1[\"Ridge_feature\"]) - np.min(all_data1[\"Ridge_feature\"])))"
   ]
  },
  {
   "cell_type": "code",
   "execution_count": null,
   "id": "df862abf-b7ee-41ea-98ab-1841ccc3a014",
   "metadata": {
    "tags": []
   },
   "outputs": [],
   "source": []
  },
  {
   "cell_type": "code",
   "execution_count": 62,
   "id": "2315322d-542f-4e6c-b0ac-57ebb8f4bc79",
   "metadata": {
    "collapsed": true,
    "jupyter": {
     "outputs_hidden": true
    },
    "tags": []
   },
   "outputs": [
    {
     "ename": "NameError",
     "evalue": "name 'all_data1' is not defined",
     "output_type": "error",
     "traceback": [
      "\u001b[1;31m---------------------------------------------------------------------------\u001b[0m",
      "\u001b[1;31mNameError\u001b[0m                                 Traceback (most recent call last)",
      "\u001b[1;32mC:\\Users\\ADMINI~1\\AppData\\Local\\Temp/ipykernel_1764/480752054.py\u001b[0m in \u001b[0;36m<module>\u001b[1;34m\u001b[0m\n\u001b[0;32m      1\u001b[0m \u001b[1;32mimport\u001b[0m \u001b[0mgc\u001b[0m\u001b[1;33m\u001b[0m\u001b[1;33m\u001b[0m\u001b[0m\n\u001b[1;32m----> 2\u001b[1;33m \u001b[1;32mdel\u001b[0m \u001b[0mall_data1\u001b[0m\u001b[1;33m\u001b[0m\u001b[1;33m\u001b[0m\u001b[0m\n\u001b[0m\u001b[0;32m      3\u001b[0m \u001b[0mgc\u001b[0m\u001b[1;33m.\u001b[0m\u001b[0mcollect\u001b[0m\u001b[1;33m(\u001b[0m\u001b[1;33m)\u001b[0m\u001b[1;33m\u001b[0m\u001b[1;33m\u001b[0m\u001b[0m\n",
      "\u001b[1;31mNameError\u001b[0m: name 'all_data1' is not defined"
     ]
    }
   ],
   "source": [
    "import gc\n",
    "del all_data1\n",
    "gc.collect()"
   ]
  },
  {
   "cell_type": "markdown",
   "id": "d1d92202-1839-4c9d-94ba-162b9e9bcb44",
   "metadata": {
    "jupyter": {
     "outputs_hidden": true
    },
    "tags": []
   },
   "source": [
    "# 模型输出"
   ]
  },
  {
   "cell_type": "code",
   "execution_count": 43,
   "id": "9ec4002f-3659-420d-998e-f01c24c02856",
   "metadata": {},
   "outputs": [],
   "source": [
    "sample = pd.read_csv(\"./Data/used_car_sample_submit.csv\")\n",
    "sample[\"price\"] = Y_pred\n",
    "sample.to_csv(\"./Output_Data/Lgb_Pred9.csv\", index=None)"
   ]
  },
  {
   "cell_type": "markdown",
   "id": "b4ec90c7-fdcd-4d4e-9a1e-c8d631e3e250",
   "metadata": {
    "jupyter": {
     "outputs_hidden": true
    },
    "tags": []
   },
   "source": [
    "# PCA"
   ]
  },
  {
   "cell_type": "code",
   "execution_count": 39,
   "id": "38cd1b93-699d-4403-ad90-7b9d3290789f",
   "metadata": {
    "tags": []
   },
   "outputs": [
    {
     "name": "stdout",
     "output_type": "stream",
     "text": [
      "(200000, 775)\n",
      "(200000, 193)\n"
     ]
    }
   ],
   "source": [
    "from sklearn import decomposition\n",
    "\n",
    "pca = decomposition.PCA(n_components=0.999)\n",
    "print(all_data1.shape)\n",
    "all_data1.drop('price', axis=1, inplace=True)\n",
    "all_data1 = pca.fit_transform(all_data1)\n",
    "print(all_data1.shape)\n",
    "# all_data1['price'] = all_data['price'].values\n",
    "\n",
    "all_data1 = pd.DataFrame(all_data1)\n",
    "all_data1['price'] = all_data['price'].values"
   ]
  },
  {
   "cell_type": "markdown",
   "id": "89372d45-a17a-45f6-8bcd-150111ef80dd",
   "metadata": {},
   "source": [
    "# 高基数编码mean_encoding"
   ]
  },
  {
   "cell_type": "code",
   "execution_count": 35,
   "id": "76adc370-f94e-4f05-8f89-b28aeb5565fa",
   "metadata": {
    "collapsed": true,
    "jupyter": {
     "outputs_hidden": true
    },
    "tags": []
   },
   "outputs": [
    {
     "name": "stdout",
     "output_type": "stream",
     "text": [
      "Note: you may need to restart the kernel to use updated packages.\n"
     ]
    },
    {
     "name": "stderr",
     "output_type": "stream",
     "text": [
      "ERROR: Could not find a version that satisfies the requirement itertools (from versions: none)\n",
      "ERROR: No matching distribution found for itertools\n"
     ]
    }
   ],
   "source": [
    "pip install itertools"
   ]
  },
  {
   "cell_type": "code",
   "execution_count": 32,
   "id": "4f4f77a3-0b8c-4600-a7c2-11ee4f41a238",
   "metadata": {
    "jupyter": {
     "source_hidden": true
    },
    "tags": []
   },
   "outputs": [],
   "source": [
    "import numpy as np\n",
    "import pandas as pd\n",
    "from sklearn.model_selection import StratifiedKFold\n",
    "from itertools import product\n",
    " \n",
    "class MeanEncoder:\n",
    "    def __init__(self, categorical_features, n_splits=5, target_type='classification', prior_weight_func=None):\n",
    "        \"\"\"\n",
    "        :param categorical_features: list of str, the name of the categorical columns to encode\n",
    "        :param n_splits: the number of splits used in mean encoding\n",
    "        :param target_type: str, 'regression' or 'classification'\n",
    "        :param prior_weight_func:\n",
    "        a function that takes in the number of observations, and outputs prior weight\n",
    "        when a dict is passed, the default exponential decay function will be used:\n",
    "        k: the number of observations needed for the posterior to be weighted equally as the prior\n",
    "        f: larger f --> smaller slope\n",
    "        \"\"\"\n",
    " \n",
    "        self.categorical_features = categorical_features\n",
    "        self.n_splits = n_splits\n",
    "        self.learned_stats = {}\n",
    " \n",
    "        if target_type == 'classification':\n",
    "            self.target_type = target_type\n",
    "            self.target_values = []\n",
    "        else:\n",
    "            self.target_type = 'regression'\n",
    "            self.target_values = None\n",
    " \n",
    "        if isinstance(prior_weight_func, dict):\n",
    "            self.prior_weight_func = eval('lambda x: 1 / (1 + np.exp((x - k) / f))', dict(prior_weight_func, np=np))\n",
    "        elif callable(prior_weight_func):\n",
    "            self.prior_weight_func = prior_weight_func\n",
    "        else:\n",
    "            self.prior_weight_func = lambda x: 1 / (1 + np.exp((x - 2) / 1))\n",
    " \n",
    "    @staticmethod\n",
    "    def mean_encode_subroutine(X_train, y_train, X_test, variable, target, prior_weight_func):\n",
    "        X_train = X_train[[variable]].copy()\n",
    "        X_test = X_test[[variable]].copy()\n",
    " \n",
    "        if target is not None:\n",
    "            nf_name = '{}_pred_{}'.format(variable, target)\n",
    "            X_train['pred_temp'] = (y_train == target).astype(int)  # classification\n",
    "        else:\n",
    "            nf_name = '{}_pred'.format(variable)\n",
    "            X_train['pred_temp'] = y_train  # regression\n",
    "        prior = X_train['pred_temp'].mean()\n",
    " \n",
    "        col_avg_y = X_train.groupby(by=variable, axis=0)['pred_temp'].agg({'mean': 'mean', 'beta': 'size'})\n",
    "        col_avg_y['beta'] = prior_weight_func(col_avg_y['beta'])\n",
    "        col_avg_y[nf_name] = col_avg_y['beta'] * prior + (1 - col_avg_y['beta']) * col_avg_y['mean']\n",
    "        col_avg_y.drop(['beta', 'mean'], axis=1, inplace=True)\n",
    " \n",
    "        nf_train = X_train.join(col_avg_y, on=variable)[nf_name].values\n",
    "        nf_test = X_test.join(col_avg_y, on=variable).fillna(prior, inplace=False)[nf_name].values\n",
    " \n",
    "        return nf_train, nf_test, prior, col_avg_y\n",
    " \n",
    "    def fit_transform(self, X, y):\n",
    "        \"\"\"\n",
    "        :param X: pandas DataFrame, n_samples * n_features\n",
    "        :param y: pandas Series or numpy array, n_samples\n",
    "        :return X_new: the transformed pandas DataFrame containing mean-encoded categorical features\n",
    "        \"\"\"\n",
    "        X_new = X.copy()\n",
    "        if self.target_type == 'classification':\n",
    "            skf = StratifiedKFold(self.n_splits)\n",
    "        else:\n",
    "            skf = KFold(self.n_splits)\n",
    " \n",
    "        if self.target_type == 'classification':\n",
    "            self.target_values = sorted(set(y))\n",
    "            self.learned_stats = {'{}_pred_{}'.format(variable, target): [] for variable, target in\n",
    "                                  product(self.categorical_features, self.target_values)}\n",
    "            for variable, target in product(self.categorical_features, self.target_values):\n",
    "                nf_name = '{}_pred_{}'.format(variable, target)\n",
    "                X_new.loc[:, nf_name] = np.nan\n",
    "                for large_ind, small_ind in skf.split(y, y):\n",
    "                    nf_large, nf_small, prior, col_avg_y = MeanEncoder.mean_encode_subroutine(\n",
    "                        X_new.iloc[large_ind], y.iloc[large_ind], X_new.iloc[small_ind], variable, target, self.prior_weight_func)\n",
    "                    X_new.iloc[small_ind, -1] = nf_small\n",
    "                    self.learned_stats[nf_name].append((prior, col_avg_y))\n",
    "        else:\n",
    "            self.learned_stats = {'{}_pred'.format(variable): [] for variable in self.categorical_features}\n",
    "            for variable in self.categorical_features:\n",
    "                nf_name = '{}_pred'.format(variable)\n",
    "                X_new.loc[:, nf_name] = np.nan\n",
    "                for large_ind, small_ind in skf.split(y, y):\n",
    "                    nf_large, nf_small, prior, col_avg_y = MeanEncoder.mean_encode_subroutine(\n",
    "                        X_new.iloc[large_ind], y.iloc[large_ind], X_new.iloc[small_ind], variable, None, self.prior_weight_func)\n",
    "                    X_new.iloc[small_ind, -1] = nf_small\n",
    "                    self.learned_stats[nf_name].append((prior, col_avg_y))\n",
    "        return X_new\n",
    " \n",
    "    def transform(self, X):\n",
    "        \"\"\"\n",
    "        :param X: pandas DataFrame, n_samples * n_features\n",
    "        :return X_new: the transformed pandas DataFrame containing mean-encoded categorical features\n",
    "        \"\"\"\n",
    "        X_new = X.copy()\n",
    " \n",
    "        if self.target_type == 'classification':\n",
    "            for variable, target in product(self.categorical_features, self.target_values):\n",
    "                nf_name = '{}_pred_{}'.format(variable, target)\n",
    "                X_new[nf_name] = 0\n",
    "                for prior, col_avg_y in self.learned_stats[nf_name]:\n",
    "                    X_new[nf_name] += X_new[[variable]].join(col_avg_y, on=variable).fillna(prior, inplace=False)[\n",
    "                        nf_name]\n",
    "                X_new[nf_name] /= self.n_splits\n",
    "        else:\n",
    "            for variable in self.categorical_features:\n",
    "                nf_name = '{}_pred'.format(variable)\n",
    "                X_new[nf_name] = 0\n",
    "                for prior, col_avg_y in self.learned_stats[nf_name]:\n",
    "                    X_new[nf_name] += X_new[[variable]].join(col_avg_y, on=variable).fillna(prior, inplace=False)[\n",
    "                        nf_name]\n",
    "                X_new[nf_name] /= self.n_splits\n",
    " \n",
    "        return X_new"
   ]
  },
  {
   "cell_type": "code",
   "execution_count": 33,
   "id": "a6aef3de-f5f1-4f97-a41e-7ff0b15b1f64",
   "metadata": {},
   "outputs": [],
   "source": [
    "# 高基数定性特征：name汽车交易名称，brand汽车品牌，regionCode地区编码\n",
    "class_list = ['model','brand','name','regionCode']+['regDate', 'creatDate']\n",
    "MeanEnocodeFeature = class_list   # 声明需要平均数编码的特征\n",
    "ME = MeanEncoder(MeanEnocodeFeature,target_type='regression') # 声明平均数编码的类"
   ]
  },
  {
   "cell_type": "code",
   "execution_count": 34,
   "id": "57a9fb50-1786-4aaf-bb58-a6e540e82666",
   "metadata": {
    "collapsed": true,
    "jupyter": {
     "outputs_hidden": true
    },
    "tags": []
   },
   "outputs": [
    {
     "ename": "SpecificationError",
     "evalue": "nested renamer is not supported",
     "output_type": "error",
     "traceback": [
      "\u001b[1;31m---------------------------------------------------------------------------\u001b[0m",
      "\u001b[1;31mSpecificationError\u001b[0m                        Traceback (most recent call last)",
      "\u001b[1;32mC:\\Users\\ADMINI~1\\AppData\\Local\\Temp/ipykernel_8496/799599448.py\u001b[0m in \u001b[0;36m<module>\u001b[1;34m\u001b[0m\n\u001b[1;32m----> 1\u001b[1;33m \u001b[0mtrain_data\u001b[0m \u001b[1;33m=\u001b[0m \u001b[0mME\u001b[0m\u001b[1;33m.\u001b[0m\u001b[0mfit_transform\u001b[0m\u001b[1;33m(\u001b[0m\u001b[0mtrain_data\u001b[0m\u001b[1;33m,\u001b[0m\u001b[0mtrain_y\u001b[0m\u001b[1;33m)\u001b[0m   \u001b[1;31m# 对训练数据集的X和y进行拟合\u001b[0m\u001b[1;33m\u001b[0m\u001b[1;33m\u001b[0m\u001b[0m\n\u001b[0m",
      "\u001b[1;32mC:\\Users\\ADMINI~1\\AppData\\Local\\Temp/ipykernel_8496/429052898.py\u001b[0m in \u001b[0;36mfit_transform\u001b[1;34m(self, X, y)\u001b[0m\n\u001b[0;32m     88\u001b[0m                 \u001b[0mX_new\u001b[0m\u001b[1;33m.\u001b[0m\u001b[0mloc\u001b[0m\u001b[1;33m[\u001b[0m\u001b[1;33m:\u001b[0m\u001b[1;33m,\u001b[0m \u001b[0mnf_name\u001b[0m\u001b[1;33m]\u001b[0m \u001b[1;33m=\u001b[0m \u001b[0mnp\u001b[0m\u001b[1;33m.\u001b[0m\u001b[0mnan\u001b[0m\u001b[1;33m\u001b[0m\u001b[1;33m\u001b[0m\u001b[0m\n\u001b[0;32m     89\u001b[0m                 \u001b[1;32mfor\u001b[0m \u001b[0mlarge_ind\u001b[0m\u001b[1;33m,\u001b[0m \u001b[0msmall_ind\u001b[0m \u001b[1;32min\u001b[0m \u001b[0mskf\u001b[0m\u001b[1;33m.\u001b[0m\u001b[0msplit\u001b[0m\u001b[1;33m(\u001b[0m\u001b[0my\u001b[0m\u001b[1;33m,\u001b[0m \u001b[0my\u001b[0m\u001b[1;33m)\u001b[0m\u001b[1;33m:\u001b[0m\u001b[1;33m\u001b[0m\u001b[1;33m\u001b[0m\u001b[0m\n\u001b[1;32m---> 90\u001b[1;33m                     nf_large, nf_small, prior, col_avg_y = MeanEncoder.mean_encode_subroutine(\n\u001b[0m\u001b[0;32m     91\u001b[0m                         X_new.iloc[large_ind], y.iloc[large_ind], X_new.iloc[small_ind], variable, None, self.prior_weight_func)\n\u001b[0;32m     92\u001b[0m                     \u001b[0mX_new\u001b[0m\u001b[1;33m.\u001b[0m\u001b[0miloc\u001b[0m\u001b[1;33m[\u001b[0m\u001b[0msmall_ind\u001b[0m\u001b[1;33m,\u001b[0m \u001b[1;33m-\u001b[0m\u001b[1;36m1\u001b[0m\u001b[1;33m]\u001b[0m \u001b[1;33m=\u001b[0m \u001b[0mnf_small\u001b[0m\u001b[1;33m\u001b[0m\u001b[1;33m\u001b[0m\u001b[0m\n",
      "\u001b[1;32mC:\\Users\\ADMINI~1\\AppData\\Local\\Temp/ipykernel_8496/429052898.py\u001b[0m in \u001b[0;36mmean_encode_subroutine\u001b[1;34m(X_train, y_train, X_test, variable, target, prior_weight_func)\u001b[0m\n\u001b[0;32m     48\u001b[0m         \u001b[0mprior\u001b[0m \u001b[1;33m=\u001b[0m \u001b[0mX_train\u001b[0m\u001b[1;33m[\u001b[0m\u001b[1;34m'pred_temp'\u001b[0m\u001b[1;33m]\u001b[0m\u001b[1;33m.\u001b[0m\u001b[0mmean\u001b[0m\u001b[1;33m(\u001b[0m\u001b[1;33m)\u001b[0m\u001b[1;33m\u001b[0m\u001b[1;33m\u001b[0m\u001b[0m\n\u001b[0;32m     49\u001b[0m \u001b[1;33m\u001b[0m\u001b[0m\n\u001b[1;32m---> 50\u001b[1;33m         \u001b[0mcol_avg_y\u001b[0m \u001b[1;33m=\u001b[0m \u001b[0mX_train\u001b[0m\u001b[1;33m.\u001b[0m\u001b[0mgroupby\u001b[0m\u001b[1;33m(\u001b[0m\u001b[0mby\u001b[0m\u001b[1;33m=\u001b[0m\u001b[0mvariable\u001b[0m\u001b[1;33m,\u001b[0m \u001b[0maxis\u001b[0m\u001b[1;33m=\u001b[0m\u001b[1;36m0\u001b[0m\u001b[1;33m)\u001b[0m\u001b[1;33m[\u001b[0m\u001b[1;34m'pred_temp'\u001b[0m\u001b[1;33m]\u001b[0m\u001b[1;33m.\u001b[0m\u001b[0magg\u001b[0m\u001b[1;33m(\u001b[0m\u001b[1;33m{\u001b[0m\u001b[1;34m'mean'\u001b[0m\u001b[1;33m:\u001b[0m \u001b[1;34m'mean'\u001b[0m\u001b[1;33m,\u001b[0m \u001b[1;34m'beta'\u001b[0m\u001b[1;33m:\u001b[0m \u001b[1;34m'size'\u001b[0m\u001b[1;33m}\u001b[0m\u001b[1;33m)\u001b[0m\u001b[1;33m\u001b[0m\u001b[1;33m\u001b[0m\u001b[0m\n\u001b[0m\u001b[0;32m     51\u001b[0m         \u001b[0mcol_avg_y\u001b[0m\u001b[1;33m[\u001b[0m\u001b[1;34m'beta'\u001b[0m\u001b[1;33m]\u001b[0m \u001b[1;33m=\u001b[0m \u001b[0mprior_weight_func\u001b[0m\u001b[1;33m(\u001b[0m\u001b[0mcol_avg_y\u001b[0m\u001b[1;33m[\u001b[0m\u001b[1;34m'beta'\u001b[0m\u001b[1;33m]\u001b[0m\u001b[1;33m)\u001b[0m\u001b[1;33m\u001b[0m\u001b[1;33m\u001b[0m\u001b[0m\n\u001b[0;32m     52\u001b[0m         \u001b[0mcol_avg_y\u001b[0m\u001b[1;33m[\u001b[0m\u001b[0mnf_name\u001b[0m\u001b[1;33m]\u001b[0m \u001b[1;33m=\u001b[0m \u001b[0mcol_avg_y\u001b[0m\u001b[1;33m[\u001b[0m\u001b[1;34m'beta'\u001b[0m\u001b[1;33m]\u001b[0m \u001b[1;33m*\u001b[0m \u001b[0mprior\u001b[0m \u001b[1;33m+\u001b[0m \u001b[1;33m(\u001b[0m\u001b[1;36m1\u001b[0m \u001b[1;33m-\u001b[0m \u001b[0mcol_avg_y\u001b[0m\u001b[1;33m[\u001b[0m\u001b[1;34m'beta'\u001b[0m\u001b[1;33m]\u001b[0m\u001b[1;33m)\u001b[0m \u001b[1;33m*\u001b[0m \u001b[0mcol_avg_y\u001b[0m\u001b[1;33m[\u001b[0m\u001b[1;34m'mean'\u001b[0m\u001b[1;33m]\u001b[0m\u001b[1;33m\u001b[0m\u001b[1;33m\u001b[0m\u001b[0m\n",
      "\u001b[1;32mC:\\JupyterLab\\resources\\jlab_server\\lib\\site-packages\\pandas\\core\\groupby\\generic.py\u001b[0m in \u001b[0;36maggregate\u001b[1;34m(self, func, engine, engine_kwargs, *args, **kwargs)\u001b[0m\n\u001b[0;32m    247\u001b[0m             \u001b[1;31m# but not the class list / tuple itself.\u001b[0m\u001b[1;33m\u001b[0m\u001b[1;33m\u001b[0m\u001b[1;33m\u001b[0m\u001b[0m\n\u001b[0;32m    248\u001b[0m             \u001b[0mfunc\u001b[0m \u001b[1;33m=\u001b[0m \u001b[0mmaybe_mangle_lambdas\u001b[0m\u001b[1;33m(\u001b[0m\u001b[0mfunc\u001b[0m\u001b[1;33m)\u001b[0m\u001b[1;33m\u001b[0m\u001b[1;33m\u001b[0m\u001b[0m\n\u001b[1;32m--> 249\u001b[1;33m             \u001b[0mret\u001b[0m \u001b[1;33m=\u001b[0m \u001b[0mself\u001b[0m\u001b[1;33m.\u001b[0m\u001b[0m_aggregate_multiple_funcs\u001b[0m\u001b[1;33m(\u001b[0m\u001b[0mfunc\u001b[0m\u001b[1;33m)\u001b[0m\u001b[1;33m\u001b[0m\u001b[1;33m\u001b[0m\u001b[0m\n\u001b[0m\u001b[0;32m    250\u001b[0m             \u001b[1;32mif\u001b[0m \u001b[0mrelabeling\u001b[0m\u001b[1;33m:\u001b[0m\u001b[1;33m\u001b[0m\u001b[1;33m\u001b[0m\u001b[0m\n\u001b[0;32m    251\u001b[0m                 \u001b[1;31m# error: Incompatible types in assignment (expression has type\u001b[0m\u001b[1;33m\u001b[0m\u001b[1;33m\u001b[0m\u001b[1;33m\u001b[0m\u001b[0m\n",
      "\u001b[1;32mC:\\JupyterLab\\resources\\jlab_server\\lib\\site-packages\\pandas\\core\\groupby\\generic.py\u001b[0m in \u001b[0;36m_aggregate_multiple_funcs\u001b[1;34m(self, arg)\u001b[0m\n\u001b[0;32m    282\u001b[0m             \u001b[1;31m# have not shown a higher level one\u001b[0m\u001b[1;33m\u001b[0m\u001b[1;33m\u001b[0m\u001b[1;33m\u001b[0m\u001b[0m\n\u001b[0;32m    283\u001b[0m             \u001b[1;31m# GH 15931\u001b[0m\u001b[1;33m\u001b[0m\u001b[1;33m\u001b[0m\u001b[1;33m\u001b[0m\u001b[0m\n\u001b[1;32m--> 284\u001b[1;33m             \u001b[1;32mraise\u001b[0m \u001b[0mSpecificationError\u001b[0m\u001b[1;33m(\u001b[0m\u001b[1;34m\"nested renamer is not supported\"\u001b[0m\u001b[1;33m)\u001b[0m\u001b[1;33m\u001b[0m\u001b[1;33m\u001b[0m\u001b[0m\n\u001b[0m\u001b[0;32m    285\u001b[0m \u001b[1;33m\u001b[0m\u001b[0m\n\u001b[0;32m    286\u001b[0m         \u001b[1;32melif\u001b[0m \u001b[0many\u001b[0m\u001b[1;33m(\u001b[0m\u001b[0misinstance\u001b[0m\u001b[1;33m(\u001b[0m\u001b[0mx\u001b[0m\u001b[1;33m,\u001b[0m \u001b[1;33m(\u001b[0m\u001b[0mtuple\u001b[0m\u001b[1;33m,\u001b[0m \u001b[0mlist\u001b[0m\u001b[1;33m)\u001b[0m\u001b[1;33m)\u001b[0m \u001b[1;32mfor\u001b[0m \u001b[0mx\u001b[0m \u001b[1;32min\u001b[0m \u001b[0marg\u001b[0m\u001b[1;33m)\u001b[0m\u001b[1;33m:\u001b[0m\u001b[1;33m\u001b[0m\u001b[1;33m\u001b[0m\u001b[0m\n",
      "\u001b[1;31mSpecificationError\u001b[0m: nested renamer is not supported"
     ]
    }
   ],
   "source": [
    "train_data = ME.fit_transform(train_data,train_y)   # 对训练数据集的X和y进行拟合"
   ]
  },
  {
   "cell_type": "code",
   "execution_count": 35,
   "id": "77cfbc79-71c3-44ec-a6f4-7b8d5b2e9caf",
   "metadata": {
    "collapsed": true,
    "jupyter": {
     "outputs_hidden": true
    },
    "tags": []
   },
   "outputs": [
    {
     "ename": "SpecificationError",
     "evalue": "nested renamer is not supported",
     "output_type": "error",
     "traceback": [
      "\u001b[1;31m---------------------------------------------------------------------------\u001b[0m",
      "\u001b[1;31mSpecificationError\u001b[0m                        Traceback (most recent call last)",
      "\u001b[1;32mC:\\Users\\ADMINI~1\\AppData\\Local\\Temp/ipykernel_1052/764534496.py\u001b[0m in \u001b[0;36m<module>\u001b[1;34m\u001b[0m\n\u001b[1;32m----> 1\u001b[1;33m \u001b[0mtrain_data\u001b[0m \u001b[1;33m=\u001b[0m \u001b[0mME\u001b[0m\u001b[1;33m.\u001b[0m\u001b[0mfit_transform\u001b[0m\u001b[1;33m(\u001b[0m\u001b[0mtrain_data\u001b[0m\u001b[1;33m,\u001b[0m\u001b[0mtrain_y\u001b[0m\u001b[1;33m)\u001b[0m   \u001b[1;31m# 对训练数据集的X和y进行拟合\u001b[0m\u001b[1;33m\u001b[0m\u001b[1;33m\u001b[0m\u001b[0m\n\u001b[0m\u001b[0;32m      2\u001b[0m \u001b[0mtest_data\u001b[0m \u001b[1;33m=\u001b[0m \u001b[0mME\u001b[0m\u001b[1;33m.\u001b[0m\u001b[0mtransform\u001b[0m\u001b[1;33m(\u001b[0m\u001b[0mtest_data\u001b[0m\u001b[1;33m)\u001b[0m\u001b[1;31m#对测试集进行编码\u001b[0m\u001b[1;33m\u001b[0m\u001b[1;33m\u001b[0m\u001b[0m\n",
      "\u001b[1;32mC:\\Users\\ADMINI~1\\AppData\\Local\\Temp/ipykernel_1052/429052898.py\u001b[0m in \u001b[0;36mfit_transform\u001b[1;34m(self, X, y)\u001b[0m\n\u001b[0;32m     88\u001b[0m                 \u001b[0mX_new\u001b[0m\u001b[1;33m.\u001b[0m\u001b[0mloc\u001b[0m\u001b[1;33m[\u001b[0m\u001b[1;33m:\u001b[0m\u001b[1;33m,\u001b[0m \u001b[0mnf_name\u001b[0m\u001b[1;33m]\u001b[0m \u001b[1;33m=\u001b[0m \u001b[0mnp\u001b[0m\u001b[1;33m.\u001b[0m\u001b[0mnan\u001b[0m\u001b[1;33m\u001b[0m\u001b[1;33m\u001b[0m\u001b[0m\n\u001b[0;32m     89\u001b[0m                 \u001b[1;32mfor\u001b[0m \u001b[0mlarge_ind\u001b[0m\u001b[1;33m,\u001b[0m \u001b[0msmall_ind\u001b[0m \u001b[1;32min\u001b[0m \u001b[0mskf\u001b[0m\u001b[1;33m.\u001b[0m\u001b[0msplit\u001b[0m\u001b[1;33m(\u001b[0m\u001b[0my\u001b[0m\u001b[1;33m,\u001b[0m \u001b[0my\u001b[0m\u001b[1;33m)\u001b[0m\u001b[1;33m:\u001b[0m\u001b[1;33m\u001b[0m\u001b[1;33m\u001b[0m\u001b[0m\n\u001b[1;32m---> 90\u001b[1;33m                     nf_large, nf_small, prior, col_avg_y = MeanEncoder.mean_encode_subroutine(\n\u001b[0m\u001b[0;32m     91\u001b[0m                         X_new.iloc[large_ind], y.iloc[large_ind], X_new.iloc[small_ind], variable, None, self.prior_weight_func)\n\u001b[0;32m     92\u001b[0m                     \u001b[0mX_new\u001b[0m\u001b[1;33m.\u001b[0m\u001b[0miloc\u001b[0m\u001b[1;33m[\u001b[0m\u001b[0msmall_ind\u001b[0m\u001b[1;33m,\u001b[0m \u001b[1;33m-\u001b[0m\u001b[1;36m1\u001b[0m\u001b[1;33m]\u001b[0m \u001b[1;33m=\u001b[0m \u001b[0mnf_small\u001b[0m\u001b[1;33m\u001b[0m\u001b[1;33m\u001b[0m\u001b[0m\n",
      "\u001b[1;32mC:\\Users\\ADMINI~1\\AppData\\Local\\Temp/ipykernel_1052/429052898.py\u001b[0m in \u001b[0;36mmean_encode_subroutine\u001b[1;34m(X_train, y_train, X_test, variable, target, prior_weight_func)\u001b[0m\n\u001b[0;32m     48\u001b[0m         \u001b[0mprior\u001b[0m \u001b[1;33m=\u001b[0m \u001b[0mX_train\u001b[0m\u001b[1;33m[\u001b[0m\u001b[1;34m'pred_temp'\u001b[0m\u001b[1;33m]\u001b[0m\u001b[1;33m.\u001b[0m\u001b[0mmean\u001b[0m\u001b[1;33m(\u001b[0m\u001b[1;33m)\u001b[0m\u001b[1;33m\u001b[0m\u001b[1;33m\u001b[0m\u001b[0m\n\u001b[0;32m     49\u001b[0m \u001b[1;33m\u001b[0m\u001b[0m\n\u001b[1;32m---> 50\u001b[1;33m         \u001b[0mcol_avg_y\u001b[0m \u001b[1;33m=\u001b[0m \u001b[0mX_train\u001b[0m\u001b[1;33m.\u001b[0m\u001b[0mgroupby\u001b[0m\u001b[1;33m(\u001b[0m\u001b[0mby\u001b[0m\u001b[1;33m=\u001b[0m\u001b[0mvariable\u001b[0m\u001b[1;33m,\u001b[0m \u001b[0maxis\u001b[0m\u001b[1;33m=\u001b[0m\u001b[1;36m0\u001b[0m\u001b[1;33m)\u001b[0m\u001b[1;33m[\u001b[0m\u001b[1;34m'pred_temp'\u001b[0m\u001b[1;33m]\u001b[0m\u001b[1;33m.\u001b[0m\u001b[0magg\u001b[0m\u001b[1;33m(\u001b[0m\u001b[1;33m{\u001b[0m\u001b[1;34m'mean'\u001b[0m\u001b[1;33m:\u001b[0m \u001b[1;34m'mean'\u001b[0m\u001b[1;33m,\u001b[0m \u001b[1;34m'beta'\u001b[0m\u001b[1;33m:\u001b[0m \u001b[1;34m'size'\u001b[0m\u001b[1;33m}\u001b[0m\u001b[1;33m)\u001b[0m\u001b[1;33m\u001b[0m\u001b[1;33m\u001b[0m\u001b[0m\n\u001b[0m\u001b[0;32m     51\u001b[0m         \u001b[0mcol_avg_y\u001b[0m\u001b[1;33m[\u001b[0m\u001b[1;34m'beta'\u001b[0m\u001b[1;33m]\u001b[0m \u001b[1;33m=\u001b[0m \u001b[0mprior_weight_func\u001b[0m\u001b[1;33m(\u001b[0m\u001b[0mcol_avg_y\u001b[0m\u001b[1;33m[\u001b[0m\u001b[1;34m'beta'\u001b[0m\u001b[1;33m]\u001b[0m\u001b[1;33m)\u001b[0m\u001b[1;33m\u001b[0m\u001b[1;33m\u001b[0m\u001b[0m\n\u001b[0;32m     52\u001b[0m         \u001b[0mcol_avg_y\u001b[0m\u001b[1;33m[\u001b[0m\u001b[0mnf_name\u001b[0m\u001b[1;33m]\u001b[0m \u001b[1;33m=\u001b[0m \u001b[0mcol_avg_y\u001b[0m\u001b[1;33m[\u001b[0m\u001b[1;34m'beta'\u001b[0m\u001b[1;33m]\u001b[0m \u001b[1;33m*\u001b[0m \u001b[0mprior\u001b[0m \u001b[1;33m+\u001b[0m \u001b[1;33m(\u001b[0m\u001b[1;36m1\u001b[0m \u001b[1;33m-\u001b[0m \u001b[0mcol_avg_y\u001b[0m\u001b[1;33m[\u001b[0m\u001b[1;34m'beta'\u001b[0m\u001b[1;33m]\u001b[0m\u001b[1;33m)\u001b[0m \u001b[1;33m*\u001b[0m \u001b[0mcol_avg_y\u001b[0m\u001b[1;33m[\u001b[0m\u001b[1;34m'mean'\u001b[0m\u001b[1;33m]\u001b[0m\u001b[1;33m\u001b[0m\u001b[1;33m\u001b[0m\u001b[0m\n",
      "\u001b[1;32mC:\\JupyterLab\\resources\\jlab_server\\lib\\site-packages\\pandas\\core\\groupby\\generic.py\u001b[0m in \u001b[0;36maggregate\u001b[1;34m(self, func, engine, engine_kwargs, *args, **kwargs)\u001b[0m\n\u001b[0;32m    247\u001b[0m             \u001b[1;31m# but not the class list / tuple itself.\u001b[0m\u001b[1;33m\u001b[0m\u001b[1;33m\u001b[0m\u001b[1;33m\u001b[0m\u001b[0m\n\u001b[0;32m    248\u001b[0m             \u001b[0mfunc\u001b[0m \u001b[1;33m=\u001b[0m \u001b[0mmaybe_mangle_lambdas\u001b[0m\u001b[1;33m(\u001b[0m\u001b[0mfunc\u001b[0m\u001b[1;33m)\u001b[0m\u001b[1;33m\u001b[0m\u001b[1;33m\u001b[0m\u001b[0m\n\u001b[1;32m--> 249\u001b[1;33m             \u001b[0mret\u001b[0m \u001b[1;33m=\u001b[0m \u001b[0mself\u001b[0m\u001b[1;33m.\u001b[0m\u001b[0m_aggregate_multiple_funcs\u001b[0m\u001b[1;33m(\u001b[0m\u001b[0mfunc\u001b[0m\u001b[1;33m)\u001b[0m\u001b[1;33m\u001b[0m\u001b[1;33m\u001b[0m\u001b[0m\n\u001b[0m\u001b[0;32m    250\u001b[0m             \u001b[1;32mif\u001b[0m \u001b[0mrelabeling\u001b[0m\u001b[1;33m:\u001b[0m\u001b[1;33m\u001b[0m\u001b[1;33m\u001b[0m\u001b[0m\n\u001b[0;32m    251\u001b[0m                 \u001b[1;31m# error: Incompatible types in assignment (expression has type\u001b[0m\u001b[1;33m\u001b[0m\u001b[1;33m\u001b[0m\u001b[1;33m\u001b[0m\u001b[0m\n",
      "\u001b[1;32mC:\\JupyterLab\\resources\\jlab_server\\lib\\site-packages\\pandas\\core\\groupby\\generic.py\u001b[0m in \u001b[0;36m_aggregate_multiple_funcs\u001b[1;34m(self, arg)\u001b[0m\n\u001b[0;32m    282\u001b[0m             \u001b[1;31m# have not shown a higher level one\u001b[0m\u001b[1;33m\u001b[0m\u001b[1;33m\u001b[0m\u001b[1;33m\u001b[0m\u001b[0m\n\u001b[0;32m    283\u001b[0m             \u001b[1;31m# GH 15931\u001b[0m\u001b[1;33m\u001b[0m\u001b[1;33m\u001b[0m\u001b[1;33m\u001b[0m\u001b[0m\n\u001b[1;32m--> 284\u001b[1;33m             \u001b[1;32mraise\u001b[0m \u001b[0mSpecificationError\u001b[0m\u001b[1;33m(\u001b[0m\u001b[1;34m\"nested renamer is not supported\"\u001b[0m\u001b[1;33m)\u001b[0m\u001b[1;33m\u001b[0m\u001b[1;33m\u001b[0m\u001b[0m\n\u001b[0m\u001b[0;32m    285\u001b[0m \u001b[1;33m\u001b[0m\u001b[0m\n\u001b[0;32m    286\u001b[0m         \u001b[1;32melif\u001b[0m \u001b[0many\u001b[0m\u001b[1;33m(\u001b[0m\u001b[0misinstance\u001b[0m\u001b[1;33m(\u001b[0m\u001b[0mx\u001b[0m\u001b[1;33m,\u001b[0m \u001b[1;33m(\u001b[0m\u001b[0mtuple\u001b[0m\u001b[1;33m,\u001b[0m \u001b[0mlist\u001b[0m\u001b[1;33m)\u001b[0m\u001b[1;33m)\u001b[0m \u001b[1;32mfor\u001b[0m \u001b[0mx\u001b[0m \u001b[1;32min\u001b[0m \u001b[0marg\u001b[0m\u001b[1;33m)\u001b[0m\u001b[1;33m:\u001b[0m\u001b[1;33m\u001b[0m\u001b[1;33m\u001b[0m\u001b[0m\n",
      "\u001b[1;31mSpecificationError\u001b[0m: nested renamer is not supported"
     ]
    }
   ],
   "source": [
    "test_data = ME.transform(test_data)#对测试集进行编码"
   ]
  },
  {
   "cell_type": "code",
   "execution_count": 26,
   "id": "37a23a7b-72d6-4c98-a127-e2fc9c3cd82d",
   "metadata": {},
   "outputs": [],
   "source": [
    "from mlxtend.feature_selection import SequentialFeatureSelector as SFS\n",
    "from sklearn.linear_model import LinearRegression\n",
    "sfs = SFS(LinearRegression(),\n",
    "           k_features=500,\n",
    "           forward=True,\n",
    "           floating=False,\n",
    "           scoring = 'r2',\n",
    "           cv = 0)"
   ]
  },
  {
   "cell_type": "code",
   "execution_count": 27,
   "id": "d79360d5-d84f-47e5-b1f8-c13d56ed977f",
   "metadata": {
    "collapsed": true,
    "jupyter": {
     "outputs_hidden": true
    },
    "tags": []
   },
   "outputs": [
    {
     "name": "stderr",
     "output_type": "stream",
     "text": [
      "\n",
      "STOPPING EARLY DUE TO KEYBOARD INTERRUPT..."
     ]
    },
    {
     "data": {
      "text/plain": [
       "('kilometer',\n",
       " 'notRepairedDamage',\n",
       " 'fuelType_count',\n",
       " 'model_price_std',\n",
       " 'model_price_skew',\n",
       " 'model_v_3_max',\n",
       " 'model_v_0_median',\n",
       " 'brand_v_14_max',\n",
       " 'regDate_year_v_12_median',\n",
       " 'power_bin_v_0_min',\n",
       " 'kilometer_v_0_min',\n",
       " 'v_3_mins_v_3',\n",
       " 'v_3_div_v_11',\n",
       " 'v_3_multi_v_11',\n",
       " 'v_3_div_v_8',\n",
       " 'v_3_multi_v_8',\n",
       " 'v_0_multi_v_3',\n",
       " 'v_0_add_v_0',\n",
       " 'v_0_mins_v_0',\n",
       " 'v_0_div_v_0',\n",
       " 'v_0_multi_v_0',\n",
       " 'v_12_mins_v_3',\n",
       " 'v_12_multi_v_12',\n",
       " 'v_12_div_v_11',\n",
       " 'v_6_mins_v_6',\n",
       " 'v_6_add_v_11',\n",
       " 'v_6_mins_v_8',\n",
       " 'v_11_mins_v_11',\n",
       " 'v_8_multi_v_3',\n",
       " 'v_8_div_v_0',\n",
       " 'v_8_div_v_6',\n",
       " 'v_8_div_v_11',\n",
       " 'v_8_div_v_8',\n",
       " 'v_8_multi_v_8',\n",
       " 'model*v_3',\n",
       " 'model*v_13',\n",
       " 'brand*v_11',\n",
       " 'bodyType*v_4',\n",
       " 'bodyType*v_13',\n",
       " 'fuelType*v_10',\n",
       " 'gearbox*v_3',\n",
       " 'power_bin*v_3',\n",
       " 'power_bin*v_4',\n",
       " 'power_bin*v_7',\n",
       " 'power_bin*v_10',\n",
       " 'power_bin*v_13',\n",
       " 'kilometer*v_0',\n",
       " 'kilometer*v_1',\n",
       " 'kilometer*v_6',\n",
       " 'kilometer*v_9',\n",
       " 'kilometer*v_13',\n",
       " 'notRepairedDamage*v_2',\n",
       " 'notRepairedDamage*v_6',\n",
       " 'notRepairedDamage*v_10',\n",
       " 'model_brand_nunique',\n",
       " 'bodyType_3',\n",
       " 'bodyType_6',\n",
       " 'notRepairedDamage_1',\n",
       " 'regDate_year_24')"
      ]
     },
     "execution_count": 27,
     "metadata": {},
     "output_type": "execute_result"
    }
   ],
   "source": [
    "sfs.fit(train_data, train_y)\n",
    "sfs.k_feature_names_ "
   ]
  },
  {
   "cell_type": "code",
   "execution_count": 26,
   "id": "66ebaedb-41db-4f84-9579-84e6897b8658",
   "metadata": {},
   "outputs": [
    {
     "data": {
      "image/png": "[encoded data removed]",
      "text/plain": [
       "<Figure size 432x288 with 1 Axes>"
      ]
     },
     "metadata": {
      "needs_background": "light"
     },
     "output_type": "display_data"
    }
   ],
   "source": [
    "# 画出来，可以看到边际效益\n",
    "from mlxtend.plotting import plot_sequential_feature_selection as plot_sfs\n",
    "import matplotlib.pyplot as plt\n",
    "fig1 = plot_sfs(sfs.get_metric_dict(), kind='std_dev')\n",
    "plt.grid()\n",
    "plt.show()"
   ]
  },
  {
   "cell_type": "code",
   "execution_count": 28,
   "id": "281c740b-fb30-4884-b51e-b365537114ed",
   "metadata": {},
   "outputs": [
    {
     "data": {
      "text/plain": [
       "(200000, 80)"
      ]
     },
     "execution_count": 28,
     "metadata": {},
     "output_type": "execute_result"
    }
   ],
   "source": [
    "all_data1 = all_data[['regDate',\n",
    "                     'model',\n",
    "                     'brand',\n",
    "                     'bodyType',\n",
    "                     'gearbox',\n",
    "                     'kilometer',\n",
    "                     'v_0',\n",
    "                     'v_2',\n",
    "                     'v_3',\n",
    "                     'v_4',\n",
    "                     'v_5',\n",
    "                     'v_6',\n",
    "                     'v_8',\n",
    "                     'v_9',\n",
    "                     'v_12',\n",
    "                     'v_13',\n",
    "                     'v_14',\n",
    "                     'city',\n",
    "                     'regDate_year',\n",
    "                     'power_bin', 'price','kilometer',\n",
    "                     'notRepairedDamage',\n",
    "                     'fuelType_count',\n",
    "                     'model_price_std',\n",
    "                     'model_price_skew',\n",
    "                     'model_v_3_max',\n",
    "                     'model_v_0_median',\n",
    "                     'brand_v_14_max',\n",
    "                     'regDate_year_v_12_median',\n",
    "                     'power_bin_v_0_min',\n",
    "                     'kilometer_v_0_min',\n",
    "                     'v_3_mins_v_3',\n",
    "                     'v_3_div_v_11',\n",
    "                     'v_3_multi_v_11',\n",
    "                     'v_3_div_v_8',\n",
    "                     'v_3_multi_v_8',\n",
    "                     'v_0_multi_v_3',\n",
    "                     'v_0_add_v_0',\n",
    "                     'v_0_mins_v_0',\n",
    "                     'v_0_div_v_0',\n",
    "                     'v_0_multi_v_0',\n",
    "                     'v_12_mins_v_3',\n",
    "                     'v_12_multi_v_12',\n",
    "                     'v_12_div_v_11',\n",
    "                     'v_6_mins_v_6',\n",
    "                     'v_6_add_v_11',\n",
    "                     'v_6_mins_v_8',\n",
    "                     'v_11_mins_v_11',\n",
    "                     'v_8_multi_v_3',\n",
    "                     'v_8_div_v_0',\n",
    "                     'v_8_div_v_6',\n",
    "                     'v_8_div_v_11',\n",
    "                     'v_8_div_v_8',\n",
    "                     'v_8_multi_v_8',\n",
    "                     'model*v_3',\n",
    "                     'model*v_13',\n",
    "                     'brand*v_11',\n",
    "                     'bodyType*v_4',\n",
    "                     'bodyType*v_13',\n",
    "                     'fuelType*v_10',\n",
    "                     'gearbox*v_3',\n",
    "                     'power_bin*v_3',\n",
    "                     'power_bin*v_4',\n",
    "                     'power_bin*v_7',\n",
    "                     'power_bin*v_10',\n",
    "                     'power_bin*v_13',\n",
    "                     'kilometer*v_0',\n",
    "                     'kilometer*v_1',\n",
    "                     'kilometer*v_6',\n",
    "                     'kilometer*v_9',\n",
    "                     'kilometer*v_13',\n",
    "                     'notRepairedDamage*v_2',\n",
    "                     'notRepairedDamage*v_6',\n",
    "                     'notRepairedDamage*v_10',\n",
    "                     'model_brand_nunique',\n",
    "                     'bodyType_3',\n",
    "                     'bodyType_6',\n",
    "                     'notRepairedDamage_1',\n",
    "                     'regDate_year_24']].copy()\n",
    "all_data1.shape"
   ]
  }
 ],
 "metadata": {
  "kernelspec": {
   "display_name": "Python 3",
   "language": "python",
   "name": "python3"
  },
  "language_info": {
   "codemirror_mode": {
    "name": "ipython",
    "version": 3
   },
   "file_extension": ".py",
   "mimetype": "text/x-python",
   "name": "python",
   "nbconvert_exporter": "python",
   "pygments_lexer": "ipython3",
   "version": "3.8.8"
  }
 },
 "nbformat": 4,
 "nbformat_minor": 5
}

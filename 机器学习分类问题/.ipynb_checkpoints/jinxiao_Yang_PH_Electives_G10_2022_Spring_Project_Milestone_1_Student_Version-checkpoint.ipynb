{
  "nbformat": 4,
  "nbformat_minor": 0,
  "metadata": {
    "colab": {
      "name": "jinxiao Yang - PH Electives G10 2022 Spring Project Milestone #1 - Student Version.ipynb",
      "provenance": [],
      "collapsed_sections": []
    },
    "kernelspec": {
      "name": "python3",
      "display_name": "Python 3"
    },
    "language_info": {
      "name": "python"
    }
  },
  "cells": [
    {
      "cell_type": "markdown",
      "metadata": {
        "id": "1sSo8VC5rjcd"
      },
      "source": [
        "# AI Project\n",
        "***\n",
        "## Administration and Rules:\n",
        "\n",
        "Greetings, this is the first project in our project series. Generally, projects are larger problem sets, and contain more open-ended questions. You will be given some general guidelines and are allowed to explore more freely.\n",
        "\n",
        "* **Guideline** In your submitted version\n",
        "    * This project is divided into 5 parts.\n",
        "        * For each part, you will be given a separate deadline.\n",
        "        * Upon the deadline of each part, a sample analysis of this previous part will be released for you as your starting point for the next parts. (Think of this as Checkpoints in gaming)\n",
        "        * So, start early!\n",
        "\n",
        "    \n",
        "* **How to submit:**\n",
        "    * Submit on Google Classroom"
      ]
    },
    {
      "cell_type": "markdown",
      "metadata": {
        "id": "tz8i_Mearjci"
      },
      "source": [
        "***\n",
        "## Introduction\n",
        "In this project, you will be using a dataset called \"Ghouls Goblins and Ghosts\"\n",
        "\n",
        "### Context\n",
        "After a month of making scientific observations and taking careful measurements, we’ve determined that 900 ghouls, ghosts, and goblins are infesting our halls and frightening our fellow teachers and students here at Pinghe School. When trying garlic, asking politely, and using reverse psychology didn't work, it became clear that machine learning is the only answer to banishing our unwanted guests.\n",
        "\n",
        "![halloween-660x.png](https://i.loli.net/2020/05/24/WeOE4TFNJp3DQnm.png)\n",
        "\n",
        "So now the hour has come to put the data we’ve collected in your hands. We’ve managed to identify 371 of the ghastly creatures, but need your help to vanquish the rest. And only an accurate classification algorithm can thwart them. Use bone length measurements, severity of rot, extent of soullessness, and other characteristics to distinguish (and extinguish) the intruders. Are you ghost-busters up for the challenge?\n",
        "\n",
        "### Dataset\n",
        "Dataset file:\n",
        "* Train: https://drive.google.com/file/d/1A7kgIjEruZv3qWbNl5kWzP5xRQbZmou5/view?usp=sharing\n",
        "* Test: https://drive.google.com/file/d/1UhYjXWwH5L4BzUPWB9Iq5wO05_2SyMdm/view?usp=sharing\n",
        "\n",
        "File descriptions\n",
        "* `train.csv` - the training set, which contains both features and labels (target variables)\n",
        "* `test.csv` - the test set, which contains only features and your job is to predict the types\n",
        "\n",
        "Data fields\n",
        "* id - id of the creature\n",
        "* bone_length - average length of bone in the creature, normalized between 0 and 1\n",
        "* rotting_flesh - percentage of rotting flesh in the creature\n",
        "* hair_length - average hair length, normalized between 0 and 1\n",
        "* has_soul - percentage of soul in the creature\n",
        "* color - dominant color of the creature: 'white','black','clear','blue','green','blood'\n",
        "* type - target variable: 'Ghost', 'Goblin', and 'Ghoul'\n",
        "\n",
        "### Goal\n",
        "Predict the types of the spooky creatures!"
      ]
    },
    {
      "cell_type": "markdown",
      "metadata": {
        "id": "qs9rL8pRdEeo"
      },
      "source": [
        "***\n",
        "## Project Milestone 0 - Starter\n",
        "\n",
        "Make sure you can run this starter"
      ]
    },
    {
      "cell_type": "code",
      "metadata": {
        "id": "lf7xWJfPdRPV"
      },
      "source": [
        "# Import libraries\n",
        "import numpy as np\n",
        "import pandas as pd"
      ],
      "execution_count": 2,
      "outputs": []
    },
    {
      "cell_type": "markdown",
      "metadata": {
        "id": "Z5o038XXd0dp"
      },
      "source": [
        "In google colab, loading data is a little bit different, we need to first mount the drive"
      ]
    },
    {
      "cell_type": "code",
      "metadata": {
        "colab": {
          "base_uri": "https://localhost:8080/"
        },
        "id": "Fs1YoazpddRZ",
        "outputId": "0192d02e-b600-49b6-927c-9f1af72e1b80"
      },
      "source": [
        "# Mount the drive\n",
        "from google.colab import drive\n",
        "drive.mount('/content/drive')"
      ],
      "execution_count": 3,
      "outputs": [
        {
          "output_type": "stream",
          "name": "stdout",
          "text": [
            "Mounted at /content/drive\n"
          ]
        }
      ]
    },
    {
      "cell_type": "markdown",
      "metadata": {
        "id": "hczkcUhMd-2D"
      },
      "source": [
        "Save a shortcut copy of the dataset onto your own drive\n",
        "* Data: https://drive.google.com/file/d/1A7kgIjEruZv3qWbNl5kWzP5xRQbZmou5/view?usp=sharing"
      ]
    },
    {
      "cell_type": "code",
      "metadata": {
        "colab": {
          "base_uri": "https://localhost:8080/",
          "height": 206
        },
        "id": "KxEQlieveMF9",
        "outputId": "2022f4bd-33d5-4690-c984-775786e34b32"
      },
      "source": [
        "# Load dataset\n",
        "\n",
        "df = pd.read_csv('/content/drive/MyDrive/train.csv')\n",
        "df.head()"
      ],
      "execution_count": 4,
      "outputs": [
        {
          "output_type": "execute_result",
          "data": {
            "text/plain": [
              "   id  bone_length  rotting_flesh  hair_length  has_soul  color    type\n",
              "0   0     0.354512       0.350839     0.465761  0.781142  clear   Ghoul\n",
              "1   1     0.575560       0.425868     0.531401  0.439899  green  Goblin\n",
              "2   2     0.467875       0.354330     0.811616  0.791225  black   Ghoul\n",
              "3   4     0.776652       0.508723     0.636766  0.884464  black   Ghoul\n",
              "4   5     0.566117       0.875862     0.418594  0.636438  green   Ghost"
            ],
            "text/html": [
              "\n",
              "  <div id=\"df-b2cdc63f-5b36-4793-831a-285a2297fc28\">\n",
              "    <div class=\"colab-df-container\">\n",
              "      <div>\n",
              "<style scoped>\n",
              "    .dataframe tbody tr th:only-of-type {\n",
              "        vertical-align: middle;\n",
              "    }\n",
              "\n",
              "    .dataframe tbody tr th {\n",
              "        vertical-align: top;\n",
              "    }\n",
              "\n",
              "    .dataframe thead th {\n",
              "        text-align: right;\n",
              "    }\n",
              "</style>\n",
              "<table border=\"1\" class=\"dataframe\">\n",
              "  <thead>\n",
              "    <tr style=\"text-align: right;\">\n",
              "      <th></th>\n",
              "      <th>id</th>\n",
              "      <th>bone_length</th>\n",
              "      <th>rotting_flesh</th>\n",
              "      <th>hair_length</th>\n",
              "      <th>has_soul</th>\n",
              "      <th>color</th>\n",
              "      <th>type</th>\n",
              "    </tr>\n",
              "  </thead>\n",
              "  <tbody>\n",
              "    <tr>\n",
              "      <th>0</th>\n",
              "      <td>0</td>\n",
              "      <td>0.354512</td>\n",
              "      <td>0.350839</td>\n",
              "      <td>0.465761</td>\n",
              "      <td>0.781142</td>\n",
              "      <td>clear</td>\n",
              "      <td>Ghoul</td>\n",
              "    </tr>\n",
              "    <tr>\n",
              "      <th>1</th>\n",
              "      <td>1</td>\n",
              "      <td>0.575560</td>\n",
              "      <td>0.425868</td>\n",
              "      <td>0.531401</td>\n",
              "      <td>0.439899</td>\n",
              "      <td>green</td>\n",
              "      <td>Goblin</td>\n",
              "    </tr>\n",
              "    <tr>\n",
              "      <th>2</th>\n",
              "      <td>2</td>\n",
              "      <td>0.467875</td>\n",
              "      <td>0.354330</td>\n",
              "      <td>0.811616</td>\n",
              "      <td>0.791225</td>\n",
              "      <td>black</td>\n",
              "      <td>Ghoul</td>\n",
              "    </tr>\n",
              "    <tr>\n",
              "      <th>3</th>\n",
              "      <td>4</td>\n",
              "      <td>0.776652</td>\n",
              "      <td>0.508723</td>\n",
              "      <td>0.636766</td>\n",
              "      <td>0.884464</td>\n",
              "      <td>black</td>\n",
              "      <td>Ghoul</td>\n",
              "    </tr>\n",
              "    <tr>\n",
              "      <th>4</th>\n",
              "      <td>5</td>\n",
              "      <td>0.566117</td>\n",
              "      <td>0.875862</td>\n",
              "      <td>0.418594</td>\n",
              "      <td>0.636438</td>\n",
              "      <td>green</td>\n",
              "      <td>Ghost</td>\n",
              "    </tr>\n",
              "  </tbody>\n",
              "</table>\n",
              "</div>\n",
              "      <button class=\"colab-df-convert\" onclick=\"convertToInteractive('df-b2cdc63f-5b36-4793-831a-285a2297fc28')\"\n",
              "              title=\"Convert this dataframe to an interactive table.\"\n",
              "              style=\"display:none;\">\n",
              "        \n",
              "  <svg xmlns=\"http://www.w3.org/2000/svg\" height=\"24px\"viewBox=\"0 0 24 24\"\n",
              "       width=\"24px\">\n",
              "    <path d=\"M0 0h24v24H0V0z\" fill=\"none\"/>\n",
              "    <path d=\"M18.56 5.44l.94 2.06.94-2.06 2.06-.94-2.06-.94-.94-2.06-.94 2.06-2.06.94zm-11 1L8.5 8.5l.94-2.06 2.06-.94-2.06-.94L8.5 2.5l-.94 2.06-2.06.94zm10 10l.94 2.06.94-2.06 2.06-.94-2.06-.94-.94-2.06-.94 2.06-2.06.94z\"/><path d=\"M17.41 7.96l-1.37-1.37c-.4-.4-.92-.59-1.43-.59-.52 0-1.04.2-1.43.59L10.3 9.45l-7.72 7.72c-.78.78-.78 2.05 0 2.83L4 21.41c.39.39.9.59 1.41.59.51 0 1.02-.2 1.41-.59l7.78-7.78 2.81-2.81c.8-.78.8-2.07 0-2.86zM5.41 20L4 18.59l7.72-7.72 1.47 1.35L5.41 20z\"/>\n",
              "  </svg>\n",
              "      </button>\n",
              "      \n",
              "  <style>\n",
              "    .colab-df-container {\n",
              "      display:flex;\n",
              "      flex-wrap:wrap;\n",
              "      gap: 12px;\n",
              "    }\n",
              "\n",
              "    .colab-df-convert {\n",
              "      background-color: #E8F0FE;\n",
              "      border: none;\n",
              "      border-radius: 50%;\n",
              "      cursor: pointer;\n",
              "      display: none;\n",
              "      fill: #1967D2;\n",
              "      height: 32px;\n",
              "      padding: 0 0 0 0;\n",
              "      width: 32px;\n",
              "    }\n",
              "\n",
              "    .colab-df-convert:hover {\n",
              "      background-color: #E2EBFA;\n",
              "      box-shadow: 0px 1px 2px rgba(60, 64, 67, 0.3), 0px 1px 3px 1px rgba(60, 64, 67, 0.15);\n",
              "      fill: #174EA6;\n",
              "    }\n",
              "\n",
              "    [theme=dark] .colab-df-convert {\n",
              "      background-color: #3B4455;\n",
              "      fill: #D2E3FC;\n",
              "    }\n",
              "\n",
              "    [theme=dark] .colab-df-convert:hover {\n",
              "      background-color: #434B5C;\n",
              "      box-shadow: 0px 1px 3px 1px rgba(0, 0, 0, 0.15);\n",
              "      filter: drop-shadow(0px 1px 2px rgba(0, 0, 0, 0.3));\n",
              "      fill: #FFFFFF;\n",
              "    }\n",
              "  </style>\n",
              "\n",
              "      <script>\n",
              "        const buttonEl =\n",
              "          document.querySelector('#df-b2cdc63f-5b36-4793-831a-285a2297fc28 button.colab-df-convert');\n",
              "        buttonEl.style.display =\n",
              "          google.colab.kernel.accessAllowed ? 'block' : 'none';\n",
              "\n",
              "        async function convertToInteractive(key) {\n",
              "          const element = document.querySelector('#df-b2cdc63f-5b36-4793-831a-285a2297fc28');\n",
              "          const dataTable =\n",
              "            await google.colab.kernel.invokeFunction('convertToInteractive',\n",
              "                                                     [key], {});\n",
              "          if (!dataTable) return;\n",
              "\n",
              "          const docLinkHtml = 'Like what you see? Visit the ' +\n",
              "            '<a target=\"_blank\" href=https://colab.research.google.com/notebooks/data_table.ipynb>data table notebook</a>'\n",
              "            + ' to learn more about interactive tables.';\n",
              "          element.innerHTML = '';\n",
              "          dataTable['output_type'] = 'display_data';\n",
              "          await google.colab.output.renderOutput(dataTable, element);\n",
              "          const docLink = document.createElement('div');\n",
              "          docLink.innerHTML = docLinkHtml;\n",
              "          element.appendChild(docLink);\n",
              "        }\n",
              "      </script>\n",
              "    </div>\n",
              "  </div>\n",
              "  "
            ]
          },
          "metadata": {},
          "execution_count": 4
        }
      ]
    },
    {
      "cell_type": "markdown",
      "metadata": {
        "id": "n9H2LG68fElc"
      },
      "source": [
        "## Congratulations to have successfully run the Project Starter!"
      ]
    },
    {
      "cell_type": "markdown",
      "metadata": {
        "id": "UTjjrJ9drjcj"
      },
      "source": [
        "***\n",
        "## Project Milestone #1 (31 points)\n",
        "\n",
        "\n",
        "This is the first portion of the project, you are asked to explore the dataset using the tools we have learned in class so far."
      ]
    },
    {
      "cell_type": "markdown",
      "metadata": {
        "id": "8nb3TH8irjck"
      },
      "source": [
        "### Question 1.1 (7 points)\n",
        "Get started:\n",
        "* Import the libraries **(2 point)**\n",
        "* Import the data: both the training set and the test set **(2 point)**\n",
        "* Take a quick look at the dataset, are there any missing values? **(3 points)**"
      ]
    },
    {
      "cell_type": "code",
      "metadata": {
        "id": "faGhX2aJrjck"
      },
      "source": [
        "# Import the libraries, expand the list as needed\n",
        "import numpy as np\n",
        "import pandas as pd\n"
      ],
      "execution_count": 5,
      "outputs": []
    },
    {
      "cell_type": "markdown",
      "metadata": {
        "id": "w9u4bBeurMFA"
      },
      "source": [
        "#### Import the training set**(1 point)**\n",
        "Dataset file:\n",
        "* Train: https://drive.google.com/file/d/1A7kgIjEruZv3qWbNl5kWzP5xRQbZmou5/view?usp=sharing"
      ]
    },
    {
      "cell_type": "code",
      "metadata": {
        "id": "wtw77rnhujBr",
        "colab": {
          "base_uri": "https://localhost:8080/"
        },
        "outputId": "4f4d9b28-e582-4ee1-f4bd-50ce67551487"
      },
      "source": [
        "# Mount the drive\n",
        "from google.colab import drive\n",
        "drive.mount('/content/drive')"
      ],
      "execution_count": 6,
      "outputs": [
        {
          "output_type": "stream",
          "name": "stdout",
          "text": [
            "Drive already mounted at /content/drive; to attempt to forcibly remount, call drive.mount(\"/content/drive\", force_remount=True).\n"
          ]
        }
      ]
    },
    {
      "cell_type": "code",
      "metadata": {
        "id": "sE9lNak5rjcl",
        "colab": {
          "base_uri": "https://localhost:8080/",
          "height": 224
        },
        "outputId": "5ce5ef4f-7c5a-4582-e787-0c644c4811f6"
      },
      "source": [
        "# Read in the training set\n",
        "df = pd.read_csv('/content/drive/MyDrive/train.csv')\n",
        "\n",
        "\n",
        "# print the shapes of the training set\n",
        "print(df.shape)\n",
        "\n",
        "\n",
        "# show the head of the training set\n",
        "df.head()"
      ],
      "execution_count": 9,
      "outputs": [
        {
          "output_type": "stream",
          "name": "stdout",
          "text": [
            "(371, 7)\n"
          ]
        },
        {
          "output_type": "execute_result",
          "data": {
            "text/plain": [
              "   id  bone_length  rotting_flesh  hair_length  has_soul  color    type\n",
              "0   0     0.354512       0.350839     0.465761  0.781142  clear   Ghoul\n",
              "1   1     0.575560       0.425868     0.531401  0.439899  green  Goblin\n",
              "2   2     0.467875       0.354330     0.811616  0.791225  black   Ghoul\n",
              "3   4     0.776652       0.508723     0.636766  0.884464  black   Ghoul\n",
              "4   5     0.566117       0.875862     0.418594  0.636438  green   Ghost"
            ],
            "text/html": [
              "\n",
              "  <div id=\"df-91c0d525-1739-4549-938d-87dc99bba9ab\">\n",
              "    <div class=\"colab-df-container\">\n",
              "      <div>\n",
              "<style scoped>\n",
              "    .dataframe tbody tr th:only-of-type {\n",
              "        vertical-align: middle;\n",
              "    }\n",
              "\n",
              "    .dataframe tbody tr th {\n",
              "        vertical-align: top;\n",
              "    }\n",
              "\n",
              "    .dataframe thead th {\n",
              "        text-align: right;\n",
              "    }\n",
              "</style>\n",
              "<table border=\"1\" class=\"dataframe\">\n",
              "  <thead>\n",
              "    <tr style=\"text-align: right;\">\n",
              "      <th></th>\n",
              "      <th>id</th>\n",
              "      <th>bone_length</th>\n",
              "      <th>rotting_flesh</th>\n",
              "      <th>hair_length</th>\n",
              "      <th>has_soul</th>\n",
              "      <th>color</th>\n",
              "      <th>type</th>\n",
              "    </tr>\n",
              "  </thead>\n",
              "  <tbody>\n",
              "    <tr>\n",
              "      <th>0</th>\n",
              "      <td>0</td>\n",
              "      <td>0.354512</td>\n",
              "      <td>0.350839</td>\n",
              "      <td>0.465761</td>\n",
              "      <td>0.781142</td>\n",
              "      <td>clear</td>\n",
              "      <td>Ghoul</td>\n",
              "    </tr>\n",
              "    <tr>\n",
              "      <th>1</th>\n",
              "      <td>1</td>\n",
              "      <td>0.575560</td>\n",
              "      <td>0.425868</td>\n",
              "      <td>0.531401</td>\n",
              "      <td>0.439899</td>\n",
              "      <td>green</td>\n",
              "      <td>Goblin</td>\n",
              "    </tr>\n",
              "    <tr>\n",
              "      <th>2</th>\n",
              "      <td>2</td>\n",
              "      <td>0.467875</td>\n",
              "      <td>0.354330</td>\n",
              "      <td>0.811616</td>\n",
              "      <td>0.791225</td>\n",
              "      <td>black</td>\n",
              "      <td>Ghoul</td>\n",
              "    </tr>\n",
              "    <tr>\n",
              "      <th>3</th>\n",
              "      <td>4</td>\n",
              "      <td>0.776652</td>\n",
              "      <td>0.508723</td>\n",
              "      <td>0.636766</td>\n",
              "      <td>0.884464</td>\n",
              "      <td>black</td>\n",
              "      <td>Ghoul</td>\n",
              "    </tr>\n",
              "    <tr>\n",
              "      <th>4</th>\n",
              "      <td>5</td>\n",
              "      <td>0.566117</td>\n",
              "      <td>0.875862</td>\n",
              "      <td>0.418594</td>\n",
              "      <td>0.636438</td>\n",
              "      <td>green</td>\n",
              "      <td>Ghost</td>\n",
              "    </tr>\n",
              "  </tbody>\n",
              "</table>\n",
              "</div>\n",
              "      <button class=\"colab-df-convert\" onclick=\"convertToInteractive('df-91c0d525-1739-4549-938d-87dc99bba9ab')\"\n",
              "              title=\"Convert this dataframe to an interactive table.\"\n",
              "              style=\"display:none;\">\n",
              "        \n",
              "  <svg xmlns=\"http://www.w3.org/2000/svg\" height=\"24px\"viewBox=\"0 0 24 24\"\n",
              "       width=\"24px\">\n",
              "    <path d=\"M0 0h24v24H0V0z\" fill=\"none\"/>\n",
              "    <path d=\"M18.56 5.44l.94 2.06.94-2.06 2.06-.94-2.06-.94-.94-2.06-.94 2.06-2.06.94zm-11 1L8.5 8.5l.94-2.06 2.06-.94-2.06-.94L8.5 2.5l-.94 2.06-2.06.94zm10 10l.94 2.06.94-2.06 2.06-.94-2.06-.94-.94-2.06-.94 2.06-2.06.94z\"/><path d=\"M17.41 7.96l-1.37-1.37c-.4-.4-.92-.59-1.43-.59-.52 0-1.04.2-1.43.59L10.3 9.45l-7.72 7.72c-.78.78-.78 2.05 0 2.83L4 21.41c.39.39.9.59 1.41.59.51 0 1.02-.2 1.41-.59l7.78-7.78 2.81-2.81c.8-.78.8-2.07 0-2.86zM5.41 20L4 18.59l7.72-7.72 1.47 1.35L5.41 20z\"/>\n",
              "  </svg>\n",
              "      </button>\n",
              "      \n",
              "  <style>\n",
              "    .colab-df-container {\n",
              "      display:flex;\n",
              "      flex-wrap:wrap;\n",
              "      gap: 12px;\n",
              "    }\n",
              "\n",
              "    .colab-df-convert {\n",
              "      background-color: #E8F0FE;\n",
              "      border: none;\n",
              "      border-radius: 50%;\n",
              "      cursor: pointer;\n",
              "      display: none;\n",
              "      fill: #1967D2;\n",
              "      height: 32px;\n",
              "      padding: 0 0 0 0;\n",
              "      width: 32px;\n",
              "    }\n",
              "\n",
              "    .colab-df-convert:hover {\n",
              "      background-color: #E2EBFA;\n",
              "      box-shadow: 0px 1px 2px rgba(60, 64, 67, 0.3), 0px 1px 3px 1px rgba(60, 64, 67, 0.15);\n",
              "      fill: #174EA6;\n",
              "    }\n",
              "\n",
              "    [theme=dark] .colab-df-convert {\n",
              "      background-color: #3B4455;\n",
              "      fill: #D2E3FC;\n",
              "    }\n",
              "\n",
              "    [theme=dark] .colab-df-convert:hover {\n",
              "      background-color: #434B5C;\n",
              "      box-shadow: 0px 1px 3px 1px rgba(0, 0, 0, 0.15);\n",
              "      filter: drop-shadow(0px 1px 2px rgba(0, 0, 0, 0.3));\n",
              "      fill: #FFFFFF;\n",
              "    }\n",
              "  </style>\n",
              "\n",
              "      <script>\n",
              "        const buttonEl =\n",
              "          document.querySelector('#df-91c0d525-1739-4549-938d-87dc99bba9ab button.colab-df-convert');\n",
              "        buttonEl.style.display =\n",
              "          google.colab.kernel.accessAllowed ? 'block' : 'none';\n",
              "\n",
              "        async function convertToInteractive(key) {\n",
              "          const element = document.querySelector('#df-91c0d525-1739-4549-938d-87dc99bba9ab');\n",
              "          const dataTable =\n",
              "            await google.colab.kernel.invokeFunction('convertToInteractive',\n",
              "                                                     [key], {});\n",
              "          if (!dataTable) return;\n",
              "\n",
              "          const docLinkHtml = 'Like what you see? Visit the ' +\n",
              "            '<a target=\"_blank\" href=https://colab.research.google.com/notebooks/data_table.ipynb>data table notebook</a>'\n",
              "            + ' to learn more about interactive tables.';\n",
              "          element.innerHTML = '';\n",
              "          dataTable['output_type'] = 'display_data';\n",
              "          await google.colab.output.renderOutput(dataTable, element);\n",
              "          const docLink = document.createElement('div');\n",
              "          docLink.innerHTML = docLinkHtml;\n",
              "          element.appendChild(docLink);\n",
              "        }\n",
              "      </script>\n",
              "    </div>\n",
              "  </div>\n",
              "  "
            ]
          },
          "metadata": {},
          "execution_count": 9
        }
      ]
    },
    {
      "cell_type": "code",
      "metadata": {
        "id": "tooi9sQlrjcm",
        "colab": {
          "base_uri": "https://localhost:8080/"
        },
        "outputId": "59fea21a-815d-46e3-8030-f825df18ec71"
      },
      "source": [
        "# Let's check if there are any missing Values\n",
        "np.any(df.isna()) "
      ],
      "execution_count": 11,
      "outputs": [
        {
          "output_type": "execute_result",
          "data": {
            "text/plain": [
              "False"
            ]
          },
          "metadata": {},
          "execution_count": 11
        }
      ]
    },
    {
      "cell_type": "markdown",
      "metadata": {
        "id": "Z1A8RxGKrjcm"
      },
      "source": [
        "**Answer:** Our data set does not have any missing nor null/na values. We are good to proceed."
      ]
    },
    {
      "cell_type": "markdown",
      "metadata": {
        "id": "50WmD36Grjcr"
      },
      "source": [
        "### Question 1.2 **(12 points)**\n",
        "* What types of data are the features? Which are Quantitative and which are Qualitative? **(2 points)**\n",
        "* For the qualitative feature(s), perform a One-hot-encoding to transform it into separate columns for each category. Augment these new columns into the your `DataFrame` as new features. **(6 points)**\n",
        "* Drop features that you think are either irrelavant or redundant and store features and types into separate variables (for both train and test set), so 3 variables in total (you do not observe targets for the test set). **(4 points)**"
      ]
    },
    {
      "cell_type": "markdown",
      "metadata": {
        "id": "nwz6WH2trjcr"
      },
      "source": [
        "#### What types of data are the features? Which are Quantitative and which are Qualitative? **(2 points)**\n",
        "\n",
        "**Answer:** From our previous exploration, the `Color` variable is categorical while the other features are all quantitative. Next, let's encode the `'Color'` feature before visualization. Right now, we will use a LabelEncoder to change the colors from text to integers of 0, 1, 2, 3, 4, 5"
      ]
    },
    {
      "cell_type": "markdown",
      "metadata": {
        "id": "fR13LQ-usgme"
      },
      "source": [
        "#### For the qualitative feature(s), perform a One-hot-encoding to transform it into separate columns for each category. Augment these new columns into the your `DataFrame` as new features. **(6 points)**"
      ]
    },
    {
      "cell_type": "code",
      "metadata": {
        "id": "Rucq7BRfrjcs"
      },
      "source": [
        "# Let's do a one-hot encoding for the Color variable\n",
        "from sklearn.preprocessing import LabelEncoder\n",
        "le = LabelEncoder()\n",
        "enc=le.fit(df['color'].unique())\n",
        "df['color_encode']=enc.transform(df[\"color\"]) \n"
      ],
      "execution_count": 13,
      "outputs": []
    },
    {
      "cell_type": "code",
      "metadata": {
        "id": "1MJFxObWv-j7"
      },
      "source": [
        "# use pd.concat to get augmented DataFrame\n",
        "pd.concatv"
      ],
      "execution_count": null,
      "outputs": []
    },
    {
      "cell_type": "markdown",
      "metadata": {
        "id": "gCB3v5vzrjcs"
      },
      "source": [
        "**Answer:** we have finished one-hot-encoding for the `Color` variable"
      ]
    },
    {
      "cell_type": "markdown",
      "metadata": {
        "id": "tVka9t9stGLK"
      },
      "source": [
        "####  Drop features that you think are either irrelavant or redundant and store features and types into separate variables, so you should have two variables ready `train_features` and `train_target`. **(4 points)**"
      ]
    },
    {
      "cell_type": "code",
      "metadata": {
        "id": "vb6Ri_tQrjct"
      },
      "source": [
        "# First define your target variable y\n",
        "\n",
        "\n"
      ],
      "execution_count": null,
      "outputs": []
    },
    {
      "cell_type": "markdown",
      "metadata": {
        "id": "RuMyXguYwjLs"
      },
      "source": [
        "Your training features `train_features` should look like this\n",
        "![image.png](https://i.loli.net/2021/04/29/PjbAqUVOzvcRDX2.png)"
      ]
    },
    {
      "cell_type": "code",
      "metadata": {
        "id": "QgvAsWmdrjct"
      },
      "source": [
        "# Let's drop the 'id' and 'color' column as it doesn't help our classification\n",
        "\n"
      ],
      "execution_count": null,
      "outputs": []
    },
    {
      "cell_type": "markdown",
      "metadata": {
        "id": "Mqs4gEXOrjct"
      },
      "source": [
        "**Answer:**\n",
        "* We have finished processing our feature variables for the training set.\n",
        "* We have also stored training targets into a separate variable."
      ]
    },
    {
      "cell_type": "markdown",
      "metadata": {
        "id": "pO7Q_SCIrjct"
      },
      "source": [
        "### Question 1.3 **(12 points)**\n",
        "In this part of the project, let's treat this as separate binary classification problems first. Suppose that now we are only interested in identifying all the `Ghosts`. Then effectively, we can think of the problem as having just two classes: Ghosts and Non-Ghosts.\n",
        "\n",
        "Repeat this process for each type and we effectively have done the so-called One-vs-all multi-class classification method.\n",
        "\n",
        "\n",
        "Let's first perform a Logistic Regression for the `Ghost` vs `Other` problem. Follow the steps:\n",
        "* Transform your target variables into 0s and 1s - 1 for `Ghost`, 0 for `Other` **(4 Points)**\n",
        "* Run a Logistic Regression **(8 Points)**\n",
        "    * Pick accuracy as the model evaluation metrics\n",
        "    * Construct a validation set / method, explain why you pick this validation method.\n",
        "    * Calculate and output the evaluation metrics on the validation set / method."
      ]
    },
    {
      "cell_type": "markdown",
      "metadata": {
        "id": "yeo161ivyBs7"
      },
      "source": [
        "#### Transform your target variables into 0s and 1s - 1 for `Ghost`, 0 for `Other` **(4 Points)**\n",
        "\n",
        "Make a new target variable called `train_target_ghost`, where\n",
        "* 1: if type = 'Ghost'\n",
        "* 0: otherwise\n",
        "\n",
        "**Hint: you can use Selection method in Pandas to achieve this**\n",
        "\n",
        "Your `train_target_ghost` should look like this:\n",
        "\n",
        "![image.png](https://i.loli.net/2021/04/29/gAhWN1rVEToxkDX.png)"
      ]
    },
    {
      "cell_type": "code",
      "metadata": {
        "id": "TRkQN1LIrjct"
      },
      "source": [
        "# Next we need to process the target variables.\n",
        "# Note that we now only care about whether the creature is a Ghost or not - Binary Classification\n",
        "# Hint: you can use Selection method in Pandas to achieve this\n",
        "\n"
      ],
      "execution_count": null,
      "outputs": []
    },
    {
      "cell_type": "markdown",
      "metadata": {
        "id": "TiLYpUwirjcu"
      },
      "source": [
        "**Answer:** we have transformed targets into 0 and 1 with `Ghost` being the positive case."
      ]
    },
    {
      "cell_type": "markdown",
      "metadata": {
        "id": "0URwwYL8t9dC"
      },
      "source": [
        "#### Split the training set into training vs validation set using the train_test split method\n",
        "\n",
        "You should have 4 variables ready:\n",
        "* X_train\n",
        "* X_valid\n",
        "* y_train_ghost\n",
        "* y_valid_ghost"
      ]
    },
    {
      "cell_type": "code",
      "metadata": {
        "id": "KwXuito0uGZ3"
      },
      "source": [
        "# split the dataset \n",
        "\n"
      ],
      "execution_count": null,
      "outputs": []
    },
    {
      "cell_type": "markdown",
      "metadata": {
        "id": "nKJPjAK6uMbJ"
      },
      "source": [
        "#### Run a Logistic Regression **(8 Points)**\n",
        "* Pick accuracy as the model evaluation metrics\n",
        "* Calculate and output the evaluation metrics on the validation set / method."
      ]
    },
    {
      "cell_type": "code",
      "metadata": {
        "id": "8FYh9ZIerjcu"
      },
      "source": [
        "# Run a standard logistic regression\n",
        "\n",
        "\n",
        "\n",
        "# Make model predictions on the validation set\n",
        "\n",
        "\n",
        "\n",
        "# Let's pick accuracy for our metrics\n",
        "# calculate accuracy on the validation data\n",
        "\n"
      ],
      "execution_count": null,
      "outputs": []
    }
  ]
}
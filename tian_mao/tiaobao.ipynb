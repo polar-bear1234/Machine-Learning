{
 "cells": [
  {
   "cell_type": "code",
   "execution_count": 1,
   "metadata": {},
   "outputs": [],
   "source": [
    "# 导入工具包\n",
    "import numpy as np\n",
    "import pandas as pd\n",
    "import matplotlib.pyplot as plt\n",
    "import seaborn as sns\n",
    "from scipy import stats\n",
    "\n",
    "import warnings\n",
    "warnings.filterwarnings(\"ignore\")\n",
    "\n",
    "%matplotlib inline"
   ]
  },
  {
   "cell_type": "code",
   "execution_count": 2,
   "metadata": {},
   "outputs": [],
   "source": [
    "# 数据读取\n",
    "test_data = pd.read_csv('./data_format1/test_format1.csv')\n",
    "train_data = pd.read_csv('./data_format1/train_format1.csv')\n",
    "user_info = pd.read_csv('./data_format1/user_info_format1.csv')   # 特征表\n",
    "user_log = pd.read_csv('./data_format1/user_log_format1.csv')     # 日志信息"
   ]
  },
  {
   "cell_type": "code",
   "execution_count": 3,
   "metadata": {},
   "outputs": [
    {
     "name": "stdout",
     "output_type": "stream",
     "text": [
      "Index(['user_id', 'merchant_id', 'label'], dtype='object')\n",
      "Index(['user_id', 'merchant_id', 'prob'], dtype='object')\n",
      "Index(['user_id', 'age_range', 'gender'], dtype='object')\n",
      "Index(['user_id', 'item_id', 'cat_id', 'seller_id', 'brand_id', 'time_stamp',\n",
      "       'action_type'],\n",
      "      dtype='object')\n"
     ]
    }
   ],
   "source": [
    "print(train_data.columns)\n",
    "print(test_data.columns)\n",
    "print(user_info.columns)\n",
    "print(user_log.columns)"
   ]
  },
  {
   "cell_type": "code",
   "execution_count": 4,
   "metadata": {},
   "outputs": [
    {
     "name": "stdout",
     "output_type": "stream",
     "text": [
      "(260864, 3)\n",
      "(261477, 3)\n",
      "(424170, 3)\n",
      "(54925330, 7)\n"
     ]
    }
   ],
   "source": [
    "print(train_data.shape)\n",
    "print(test_data.shape)\n",
    "print(user_info.shape)\n",
    "print(user_log.shape)"
   ]
  },
  {
   "cell_type": "code",
   "execution_count": 5,
   "metadata": {},
   "outputs": [
    {
     "name": "stdout",
     "output_type": "stream",
     "text": [
      "<class 'pandas.core.frame.DataFrame'>\n",
      "RangeIndex: 260864 entries, 0 to 260863\n",
      "Data columns (total 3 columns):\n",
      "user_id        260864 non-null int64\n",
      "merchant_id    260864 non-null int64\n",
      "label          260864 non-null int64\n",
      "dtypes: int64(3)\n",
      "memory usage: 6.0 MB\n",
      "None\n",
      "**************************************************\n",
      "<class 'pandas.core.frame.DataFrame'>\n",
      "RangeIndex: 261477 entries, 0 to 261476\n",
      "Data columns (total 3 columns):\n",
      "user_id        261477 non-null int64\n",
      "merchant_id    261477 non-null int64\n",
      "prob           0 non-null float64\n",
      "dtypes: float64(1), int64(2)\n",
      "memory usage: 6.0 MB\n",
      "None\n",
      "**************************************************\n",
      "<class 'pandas.core.frame.DataFrame'>\n",
      "RangeIndex: 424170 entries, 0 to 424169\n",
      "Data columns (total 3 columns):\n",
      "user_id      424170 non-null int64\n",
      "age_range    421953 non-null float64\n",
      "gender       417734 non-null float64\n",
      "dtypes: float64(2), int64(1)\n",
      "memory usage: 9.7 MB\n",
      "None\n",
      "**************************************************\n",
      "<class 'pandas.core.frame.DataFrame'>\n",
      "RangeIndex: 54925330 entries, 0 to 54925329\n",
      "Data columns (total 7 columns):\n",
      "user_id        int64\n",
      "item_id        int64\n",
      "cat_id         int64\n",
      "seller_id      int64\n",
      "brand_id       float64\n",
      "time_stamp     int64\n",
      "action_type    int64\n",
      "dtypes: float64(1), int64(6)\n",
      "memory usage: 2.9 GB\n",
      "None\n"
     ]
    }
   ],
   "source": [
    "print(train_data.info())\n",
    "print('*'*50)\n",
    "print(test_data.info())\n",
    "print('*'*50)\n",
    "print(user_info.info())   # 特征表有缺失\n",
    "print('*'*50)\n",
    "print(user_log.info())    # 日志有缺失"
   ]
  },
  {
   "cell_type": "code",
   "execution_count": 6,
   "metadata": {},
   "outputs": [
    {
     "name": "stdout",
     "output_type": "stream",
     "text": [
      "age_range 0.005226677982884221\n",
      "gender 0.01517316170403376\n",
      "====================================================================================================\n",
      "cat_id 0.0\n",
      "seller_id 0.0\n",
      "brand_id 0.0016570678774255885\n",
      "time_stamp 0.0\n",
      "action_type 0.0\n"
     ]
    }
   ],
   "source": [
    "column1 = ['age_range','gender']\n",
    "column2 = ['cat_id','seller_id','brand_id','time_stamp','action_type']\n",
    "for column in column1:\n",
    "    print(column,user_info[column].isnull().sum()/user_info.shape[0])\n",
    "print('='*100)\n",
    "for column in column2:\n",
    "    print(column,user_log[column].isnull().sum()/user_log.shape[0])"
   ]
  },
  {
   "cell_type": "code",
   "execution_count": 7,
   "metadata": {},
   "outputs": [
    {
     "name": "stdout",
     "output_type": "stream",
     "text": [
      "           user_id\n",
      "age_range         \n",
      "0.0          92914\n",
      "1.0             24\n",
      "2.0          52871\n",
      "3.0         111654\n",
      "4.0          79991\n",
      "5.0          40777\n",
      "6.0          35464\n",
      "7.0           6992\n",
      "8.0           1266\n",
      "        user_id\n",
      "gender         \n",
      "0.0      285638\n",
      "1.0      121670\n",
      "2.0       10426\n",
      "       user_id\n",
      "label         \n",
      "0       244912\n",
      "1        15952\n"
     ]
    }
   ],
   "source": [
    "print(user_info.groupby(['age_range'])[['user_id']].count())\n",
    "print(user_info.groupby(['gender'])[['user_id']].count())\n",
    "print(train_data.groupby(['label'])[['user_id']].count())"
   ]
  },
  {
   "cell_type": "markdown",
   "metadata": {},
   "source": [
    "# 数据合并、预处理"
   ]
  },
  {
   "cell_type": "code",
   "execution_count": 8,
   "metadata": {},
   "outputs": [],
   "source": [
    "train = train_data.copy()\n",
    "test = test_data.copy()\n",
    "info = user_info.copy()  # 特征\n",
    "log = user_log.copy()   # 日志"
   ]
  },
  {
   "cell_type": "code",
   "execution_count": 9,
   "metadata": {},
   "outputs": [
    {
     "name": "stdout",
     "output_type": "stream",
     "text": [
      "(260864, 3)\n",
      "(261477, 3)\n",
      "(424170, 3)\n",
      "(54925330, 7)\n"
     ]
    }
   ],
   "source": [
    "print(train.shape)\n",
    "print(test.shape)\n",
    "print(info.shape)\n",
    "print(log.shape)"
   ]
  },
  {
   "cell_type": "code",
   "execution_count": 10,
   "metadata": {},
   "outputs": [],
   "source": [
    "test.drop('prob',axis=1,inplace=True)"
   ]
  },
  {
   "cell_type": "code",
   "execution_count": 11,
   "metadata": {},
   "outputs": [],
   "source": [
    "all_data = train.append(test)"
   ]
  },
  {
   "cell_type": "code",
   "execution_count": 12,
   "metadata": {},
   "outputs": [
    {
     "name": "stdout",
     "output_type": "stream",
     "text": [
      "(522341, 3)\n"
     ]
    }
   ],
   "source": [
    "print(all_data.shape)"
   ]
  },
  {
   "cell_type": "code",
   "execution_count": 13,
   "metadata": {},
   "outputs": [
    {
     "data": {
      "text/html": [
       "<div>\n",
       "<style scoped>\n",
       "    .dataframe tbody tr th:only-of-type {\n",
       "        vertical-align: middle;\n",
       "    }\n",
       "\n",
       "    .dataframe tbody tr th {\n",
       "        vertical-align: top;\n",
       "    }\n",
       "\n",
       "    .dataframe thead th {\n",
       "        text-align: right;\n",
       "    }\n",
       "</style>\n",
       "<table border=\"1\" class=\"dataframe\">\n",
       "  <thead>\n",
       "    <tr style=\"text-align: right;\">\n",
       "      <th></th>\n",
       "      <th>label</th>\n",
       "      <th>merchant_id</th>\n",
       "      <th>user_id</th>\n",
       "    </tr>\n",
       "  </thead>\n",
       "  <tbody>\n",
       "    <tr>\n",
       "      <th>0</th>\n",
       "      <td>0.0</td>\n",
       "      <td>3906</td>\n",
       "      <td>34176</td>\n",
       "    </tr>\n",
       "    <tr>\n",
       "      <th>1</th>\n",
       "      <td>0.0</td>\n",
       "      <td>121</td>\n",
       "      <td>34176</td>\n",
       "    </tr>\n",
       "    <tr>\n",
       "      <th>2</th>\n",
       "      <td>1.0</td>\n",
       "      <td>4356</td>\n",
       "      <td>34176</td>\n",
       "    </tr>\n",
       "    <tr>\n",
       "      <th>3</th>\n",
       "      <td>0.0</td>\n",
       "      <td>2217</td>\n",
       "      <td>34176</td>\n",
       "    </tr>\n",
       "    <tr>\n",
       "      <th>4</th>\n",
       "      <td>0.0</td>\n",
       "      <td>4818</td>\n",
       "      <td>230784</td>\n",
       "    </tr>\n",
       "  </tbody>\n",
       "</table>\n",
       "</div>"
      ],
      "text/plain": [
       "   label  merchant_id  user_id\n",
       "0    0.0         3906    34176\n",
       "1    0.0          121    34176\n",
       "2    1.0         4356    34176\n",
       "3    0.0         2217    34176\n",
       "4    0.0         4818   230784"
      ]
     },
     "execution_count": 13,
     "metadata": {},
     "output_type": "execute_result"
    }
   ],
   "source": [
    "all_data.head()"
   ]
  },
  {
   "cell_type": "code",
   "execution_count": 14,
   "metadata": {},
   "outputs": [
    {
     "name": "stdout",
     "output_type": "stream",
     "text": [
      "(522341, 5)\n"
     ]
    }
   ],
   "source": [
    "all_data = all_data.merge(info,on=['user_id'],how='left')  # 以左边的user_id为基准合并，右边如果没有用NaN填补\n",
    "\n",
    "print(all_data.shape)"
   ]
  },
  {
   "cell_type": "code",
   "execution_count": 15,
   "metadata": {},
   "outputs": [
    {
     "name": "stdout",
     "output_type": "stream",
     "text": [
      "<class 'pandas.core.frame.DataFrame'>\n",
      "Int64Index: 522341 entries, 0 to 522340\n",
      "Data columns (total 5 columns):\n",
      "label          260864 non-null float64\n",
      "merchant_id    522341 non-null int64\n",
      "user_id        522341 non-null int64\n",
      "age_range      519763 non-null float64\n",
      "gender         514796 non-null float64\n",
      "dtypes: float64(3), int64(2)\n",
      "memory usage: 23.9 MB\n"
     ]
    }
   ],
   "source": [
    "all_data.info()"
   ]
  },
  {
   "cell_type": "markdown",
   "metadata": {},
   "source": [
    "## 处理行为日志"
   ]
  },
  {
   "cell_type": "code",
   "execution_count": 16,
   "metadata": {},
   "outputs": [],
   "source": [
    "list_join_func = lambda x:\" \".join([str(i) for i in x])\n",
    "\n",
    "agg_dict = {'item_id':list_join_func,\n",
    "           'cat_id':list_join_func,\n",
    "           'seller_id':list_join_func,\n",
    "           'brand_id':list_join_func,\n",
    "           'time_stamp':list_join_func,\n",
    "           'action_type':list_join_func}\n",
    "rename_dict = {'item_id' : 'item_path',\n",
    "            'cat_id' : 'cat_path',\n",
    "            'seller_id' : 'seller_path',\n",
    "            'brand_id' : 'brand_path',\n",
    "            'time_stamp' : 'time_stamp_path',\n",
    "            'action_type' : 'action_type_path'}"
   ]
  },
  {
   "cell_type": "code",
   "execution_count": 17,
   "metadata": {},
   "outputs": [],
   "source": [
    "log_path1 = log.groupby(['user_id']).agg(agg_dict).reset_index().rename(columns=rename_dict)"
   ]
  },
  {
   "cell_type": "code",
   "execution_count": 18,
   "metadata": {},
   "outputs": [
    {
     "data": {
      "text/html": [
       "<div>\n",
       "<style scoped>\n",
       "    .dataframe tbody tr th:only-of-type {\n",
       "        vertical-align: middle;\n",
       "    }\n",
       "\n",
       "    .dataframe tbody tr th {\n",
       "        vertical-align: top;\n",
       "    }\n",
       "\n",
       "    .dataframe thead th {\n",
       "        text-align: right;\n",
       "    }\n",
       "</style>\n",
       "<table border=\"1\" class=\"dataframe\">\n",
       "  <thead>\n",
       "    <tr style=\"text-align: right;\">\n",
       "      <th></th>\n",
       "      <th>user_id</th>\n",
       "      <th>item_path</th>\n",
       "      <th>cat_path</th>\n",
       "      <th>seller_path</th>\n",
       "      <th>brand_path</th>\n",
       "      <th>time_stamp_path</th>\n",
       "      <th>action_type_path</th>\n",
       "    </tr>\n",
       "  </thead>\n",
       "  <tbody>\n",
       "    <tr>\n",
       "      <th>0</th>\n",
       "      <td>1</td>\n",
       "      <td>112203 556107 411984 112203 112203 112203 1110...</td>\n",
       "      <td>1252 1252 1252 1252 1252 1252 992 992 992 992 ...</td>\n",
       "      <td>4026 739 4177 4026 4026 4026 1019 1019 1019 10...</td>\n",
       "      <td>1469.0 6822.0 1960.0 1469.0 1469.0 1469.0 6805...</td>\n",
       "      <td>1018 1018 1018 1018 1021 1021 1111 1111 1111 1...</td>\n",
       "      <td>0 0 0 0 2 0 0 0 0 0 0 2 2 2 2 0 0 0 0 0 0 0 0 ...</td>\n",
       "    </tr>\n",
       "    <tr>\n",
       "      <th>1</th>\n",
       "      <td>2</td>\n",
       "      <td>239288 751744 431502 864941 85520 765891 41934...</td>\n",
       "      <td>602 602 737 737 737 737 737 737 737 602 1213 6...</td>\n",
       "      <td>420 420 1974 1974 1974 1974 1974 1974 1974 420...</td>\n",
       "      <td>4953.0 4953.0 8321.0 8321.0 8321.0 8321.0 8321...</td>\n",
       "      <td>626 626 817 817 817 817 817 817 817 626 626 62...</td>\n",
       "      <td>0 0 0 0 0 0 0 0 0 0 0 0 0 2 0 0 0 0 0 0 0 0 3 ...</td>\n",
       "    </tr>\n",
       "    <tr>\n",
       "      <th>2</th>\n",
       "      <td>3</td>\n",
       "      <td>863889 828013 734838 909738 203050 763658 6641...</td>\n",
       "      <td>662 662 656 662 606 656 1467 656 1134 1134 113...</td>\n",
       "      <td>2372 139 947 883 2313 947 947 2957 4461 4461 4...</td>\n",
       "      <td>7862.0 3228.0 305.0 1647.0 3322.0 305.0 305.0 ...</td>\n",
       "      <td>921 921 1111 915 1111 1111 1111 1111 820 819 8...</td>\n",
       "      <td>0 0 0 0 2 0 0 0 0 0 2 0 0 0 0 0 0 0 0 0 0 0 0 ...</td>\n",
       "    </tr>\n",
       "    <tr>\n",
       "      <th>3</th>\n",
       "      <td>4</td>\n",
       "      <td>1019133 185328 606202 1019133 830140 836727 24...</td>\n",
       "      <td>748 748 748 748 748 612 1577 1505 1505 1505 15...</td>\n",
       "      <td>434 1607 1607 434 1607 1221 1221 1221 1221 122...</td>\n",
       "      <td>8010.0 3843.0 3843.0 8010.0 3843.0 7734.0 7734...</td>\n",
       "      <td>1101 1101 1101 1101 1101 527 527 527 527 527 5...</td>\n",
       "      <td>0 0 0 0 0 0 0 0 0 0 0 0 0 0 0 0 0 0 0 0 0 0 0 ...</td>\n",
       "    </tr>\n",
       "    <tr>\n",
       "      <th>4</th>\n",
       "      <td>5</td>\n",
       "      <td>597305 99491 698879 996987 52951 941292 597305...</td>\n",
       "      <td>1577 1658 407 737 1326 389 1577 1147 407 407 4...</td>\n",
       "      <td>2676 186 3163 3969 3067 414 2676 1961 3163 316...</td>\n",
       "      <td>3997.0 7591.0 3881.0 483.0 4744.0 4299.0 3997....</td>\n",
       "      <td>1111 1111 1111 1111 1111 1111 1111 1111 1111 1...</td>\n",
       "      <td>0 0 0 0 0 0 0 0 2 2 2 0 0 0 2 2 0 0 0 0 0 0 0 ...</td>\n",
       "    </tr>\n",
       "  </tbody>\n",
       "</table>\n",
       "</div>"
      ],
      "text/plain": [
       "   user_id                                          item_path  \\\n",
       "0        1  112203 556107 411984 112203 112203 112203 1110...   \n",
       "1        2  239288 751744 431502 864941 85520 765891 41934...   \n",
       "2        3  863889 828013 734838 909738 203050 763658 6641...   \n",
       "3        4  1019133 185328 606202 1019133 830140 836727 24...   \n",
       "4        5  597305 99491 698879 996987 52951 941292 597305...   \n",
       "\n",
       "                                            cat_path  \\\n",
       "0  1252 1252 1252 1252 1252 1252 992 992 992 992 ...   \n",
       "1  602 602 737 737 737 737 737 737 737 602 1213 6...   \n",
       "2  662 662 656 662 606 656 1467 656 1134 1134 113...   \n",
       "3  748 748 748 748 748 612 1577 1505 1505 1505 15...   \n",
       "4  1577 1658 407 737 1326 389 1577 1147 407 407 4...   \n",
       "\n",
       "                                         seller_path  \\\n",
       "0  4026 739 4177 4026 4026 4026 1019 1019 1019 10...   \n",
       "1  420 420 1974 1974 1974 1974 1974 1974 1974 420...   \n",
       "2  2372 139 947 883 2313 947 947 2957 4461 4461 4...   \n",
       "3  434 1607 1607 434 1607 1221 1221 1221 1221 122...   \n",
       "4  2676 186 3163 3969 3067 414 2676 1961 3163 316...   \n",
       "\n",
       "                                          brand_path  \\\n",
       "0  1469.0 6822.0 1960.0 1469.0 1469.0 1469.0 6805...   \n",
       "1  4953.0 4953.0 8321.0 8321.0 8321.0 8321.0 8321...   \n",
       "2  7862.0 3228.0 305.0 1647.0 3322.0 305.0 305.0 ...   \n",
       "3  8010.0 3843.0 3843.0 8010.0 3843.0 7734.0 7734...   \n",
       "4  3997.0 7591.0 3881.0 483.0 4744.0 4299.0 3997....   \n",
       "\n",
       "                                     time_stamp_path  \\\n",
       "0  1018 1018 1018 1018 1021 1021 1111 1111 1111 1...   \n",
       "1  626 626 817 817 817 817 817 817 817 626 626 62...   \n",
       "2  921 921 1111 915 1111 1111 1111 1111 820 819 8...   \n",
       "3  1101 1101 1101 1101 1101 527 527 527 527 527 5...   \n",
       "4  1111 1111 1111 1111 1111 1111 1111 1111 1111 1...   \n",
       "\n",
       "                                    action_type_path  \n",
       "0  0 0 0 0 2 0 0 0 0 0 0 2 2 2 2 0 0 0 0 0 0 0 0 ...  \n",
       "1  0 0 0 0 0 0 0 0 0 0 0 0 0 2 0 0 0 0 0 0 0 0 3 ...  \n",
       "2  0 0 0 0 2 0 0 0 0 0 2 0 0 0 0 0 0 0 0 0 0 0 0 ...  \n",
       "3  0 0 0 0 0 0 0 0 0 0 0 0 0 0 0 0 0 0 0 0 0 0 0 ...  \n",
       "4  0 0 0 0 0 0 0 0 2 2 2 0 0 0 2 2 0 0 0 0 0 0 0 ...  "
      ]
     },
     "execution_count": 18,
     "metadata": {},
     "output_type": "execute_result"
    }
   ],
   "source": [
    "log_path1.head()"
   ]
  },
  {
   "cell_type": "code",
   "execution_count": 19,
   "metadata": {},
   "outputs": [
    {
     "data": {
      "text/plain": [
       "(424170, 7)"
      ]
     },
     "execution_count": 19,
     "metadata": {},
     "output_type": "execute_result"
    }
   ],
   "source": [
    "log_path1.shape"
   ]
  },
  {
   "cell_type": "code",
   "execution_count": 20,
   "metadata": {},
   "outputs": [],
   "source": [
    "log_path1 = log_path1.sort_values(['user_id'])"
   ]
  },
  {
   "cell_type": "markdown",
   "metadata": {},
   "source": [
    "# 这是合并后的完整数据"
   ]
  },
  {
   "cell_type": "code",
   "execution_count": 21,
   "metadata": {},
   "outputs": [],
   "source": [
    "all_data_path = all_data.merge(log_path1,on='user_id')"
   ]
  },
  {
   "cell_type": "code",
   "execution_count": 22,
   "metadata": {},
   "outputs": [
    {
     "data": {
      "text/plain": [
       "(522341, 11)"
      ]
     },
     "execution_count": 22,
     "metadata": {},
     "output_type": "execute_result"
    }
   ],
   "source": [
    "all_data_path.shape"
   ]
  },
  {
   "cell_type": "code",
   "execution_count": 23,
   "metadata": {},
   "outputs": [
    {
     "data": {
      "text/html": [
       "<div>\n",
       "<style scoped>\n",
       "    .dataframe tbody tr th:only-of-type {\n",
       "        vertical-align: middle;\n",
       "    }\n",
       "\n",
       "    .dataframe tbody tr th {\n",
       "        vertical-align: top;\n",
       "    }\n",
       "\n",
       "    .dataframe thead th {\n",
       "        text-align: right;\n",
       "    }\n",
       "</style>\n",
       "<table border=\"1\" class=\"dataframe\">\n",
       "  <thead>\n",
       "    <tr style=\"text-align: right;\">\n",
       "      <th></th>\n",
       "      <th>label</th>\n",
       "      <th>merchant_id</th>\n",
       "      <th>user_id</th>\n",
       "      <th>age_range</th>\n",
       "      <th>gender</th>\n",
       "      <th>item_path</th>\n",
       "      <th>cat_path</th>\n",
       "      <th>seller_path</th>\n",
       "      <th>brand_path</th>\n",
       "      <th>time_stamp_path</th>\n",
       "      <th>action_type_path</th>\n",
       "    </tr>\n",
       "  </thead>\n",
       "  <tbody>\n",
       "    <tr>\n",
       "      <th>0</th>\n",
       "      <td>0.0</td>\n",
       "      <td>3906</td>\n",
       "      <td>34176</td>\n",
       "      <td>6.0</td>\n",
       "      <td>0.0</td>\n",
       "      <td>790010 231901 478025 100290 655967 986148 8547...</td>\n",
       "      <td>1467 662 662 662 420 276 1553 1238 821 1208 82...</td>\n",
       "      <td>4231 1945 3700 2179 1875 3001 1815 331 3906 43...</td>\n",
       "      <td>3589.0 2758.0 2204.0 6741.0 2714.0 5738.0 7169...</td>\n",
       "      <td>1026 818 818 818 1110 1110 1110 1110 1110 1110...</td>\n",
       "      <td>0 0 0 0 0 0 0 0 0 0 0 0 0 0 0 0 0 0 0 0 0 0 0 ...</td>\n",
       "    </tr>\n",
       "    <tr>\n",
       "      <th>1</th>\n",
       "      <td>0.0</td>\n",
       "      <td>121</td>\n",
       "      <td>34176</td>\n",
       "      <td>6.0</td>\n",
       "      <td>0.0</td>\n",
       "      <td>790010 231901 478025 100290 655967 986148 8547...</td>\n",
       "      <td>1467 662 662 662 420 276 1553 1238 821 1208 82...</td>\n",
       "      <td>4231 1945 3700 2179 1875 3001 1815 331 3906 43...</td>\n",
       "      <td>3589.0 2758.0 2204.0 6741.0 2714.0 5738.0 7169...</td>\n",
       "      <td>1026 818 818 818 1110 1110 1110 1110 1110 1110...</td>\n",
       "      <td>0 0 0 0 0 0 0 0 0 0 0 0 0 0 0 0 0 0 0 0 0 0 0 ...</td>\n",
       "    </tr>\n",
       "    <tr>\n",
       "      <th>2</th>\n",
       "      <td>1.0</td>\n",
       "      <td>4356</td>\n",
       "      <td>34176</td>\n",
       "      <td>6.0</td>\n",
       "      <td>0.0</td>\n",
       "      <td>790010 231901 478025 100290 655967 986148 8547...</td>\n",
       "      <td>1467 662 662 662 420 276 1553 1238 821 1208 82...</td>\n",
       "      <td>4231 1945 3700 2179 1875 3001 1815 331 3906 43...</td>\n",
       "      <td>3589.0 2758.0 2204.0 6741.0 2714.0 5738.0 7169...</td>\n",
       "      <td>1026 818 818 818 1110 1110 1110 1110 1110 1110...</td>\n",
       "      <td>0 0 0 0 0 0 0 0 0 0 0 0 0 0 0 0 0 0 0 0 0 0 0 ...</td>\n",
       "    </tr>\n",
       "    <tr>\n",
       "      <th>3</th>\n",
       "      <td>0.0</td>\n",
       "      <td>2217</td>\n",
       "      <td>34176</td>\n",
       "      <td>6.0</td>\n",
       "      <td>0.0</td>\n",
       "      <td>790010 231901 478025 100290 655967 986148 8547...</td>\n",
       "      <td>1467 662 662 662 420 276 1553 1238 821 1208 82...</td>\n",
       "      <td>4231 1945 3700 2179 1875 3001 1815 331 3906 43...</td>\n",
       "      <td>3589.0 2758.0 2204.0 6741.0 2714.0 5738.0 7169...</td>\n",
       "      <td>1026 818 818 818 1110 1110 1110 1110 1110 1110...</td>\n",
       "      <td>0 0 0 0 0 0 0 0 0 0 0 0 0 0 0 0 0 0 0 0 0 0 0 ...</td>\n",
       "    </tr>\n",
       "    <tr>\n",
       "      <th>4</th>\n",
       "      <td>0.0</td>\n",
       "      <td>4818</td>\n",
       "      <td>230784</td>\n",
       "      <td>0.0</td>\n",
       "      <td>0.0</td>\n",
       "      <td>430968 185046 316409 713880 498279 503629 9596...</td>\n",
       "      <td>115 737 407 407 407 407 407 407 407 407 407 11...</td>\n",
       "      <td>376 3904 3556 3556 3556 3556 3556 3556 3556 35...</td>\n",
       "      <td>4167.0 3876.0 1236.0 1236.0 1236.0 1236.0 1236...</td>\n",
       "      <td>701 622 630 630 630 630 630 630 630 630 630 70...</td>\n",
       "      <td>0 0 0 0 0 0 0 0 0 0 2 0 2 0 2 2 0 2 2 0 0 0 0 ...</td>\n",
       "    </tr>\n",
       "  </tbody>\n",
       "</table>\n",
       "</div>"
      ],
      "text/plain": [
       "   label  merchant_id  user_id  age_range  gender  \\\n",
       "0    0.0         3906    34176        6.0     0.0   \n",
       "1    0.0          121    34176        6.0     0.0   \n",
       "2    1.0         4356    34176        6.0     0.0   \n",
       "3    0.0         2217    34176        6.0     0.0   \n",
       "4    0.0         4818   230784        0.0     0.0   \n",
       "\n",
       "                                           item_path  \\\n",
       "0  790010 231901 478025 100290 655967 986148 8547...   \n",
       "1  790010 231901 478025 100290 655967 986148 8547...   \n",
       "2  790010 231901 478025 100290 655967 986148 8547...   \n",
       "3  790010 231901 478025 100290 655967 986148 8547...   \n",
       "4  430968 185046 316409 713880 498279 503629 9596...   \n",
       "\n",
       "                                            cat_path  \\\n",
       "0  1467 662 662 662 420 276 1553 1238 821 1208 82...   \n",
       "1  1467 662 662 662 420 276 1553 1238 821 1208 82...   \n",
       "2  1467 662 662 662 420 276 1553 1238 821 1208 82...   \n",
       "3  1467 662 662 662 420 276 1553 1238 821 1208 82...   \n",
       "4  115 737 407 407 407 407 407 407 407 407 407 11...   \n",
       "\n",
       "                                         seller_path  \\\n",
       "0  4231 1945 3700 2179 1875 3001 1815 331 3906 43...   \n",
       "1  4231 1945 3700 2179 1875 3001 1815 331 3906 43...   \n",
       "2  4231 1945 3700 2179 1875 3001 1815 331 3906 43...   \n",
       "3  4231 1945 3700 2179 1875 3001 1815 331 3906 43...   \n",
       "4  376 3904 3556 3556 3556 3556 3556 3556 3556 35...   \n",
       "\n",
       "                                          brand_path  \\\n",
       "0  3589.0 2758.0 2204.0 6741.0 2714.0 5738.0 7169...   \n",
       "1  3589.0 2758.0 2204.0 6741.0 2714.0 5738.0 7169...   \n",
       "2  3589.0 2758.0 2204.0 6741.0 2714.0 5738.0 7169...   \n",
       "3  3589.0 2758.0 2204.0 6741.0 2714.0 5738.0 7169...   \n",
       "4  4167.0 3876.0 1236.0 1236.0 1236.0 1236.0 1236...   \n",
       "\n",
       "                                     time_stamp_path  \\\n",
       "0  1026 818 818 818 1110 1110 1110 1110 1110 1110...   \n",
       "1  1026 818 818 818 1110 1110 1110 1110 1110 1110...   \n",
       "2  1026 818 818 818 1110 1110 1110 1110 1110 1110...   \n",
       "3  1026 818 818 818 1110 1110 1110 1110 1110 1110...   \n",
       "4  701 622 630 630 630 630 630 630 630 630 630 70...   \n",
       "\n",
       "                                    action_type_path  \n",
       "0  0 0 0 0 0 0 0 0 0 0 0 0 0 0 0 0 0 0 0 0 0 0 0 ...  \n",
       "1  0 0 0 0 0 0 0 0 0 0 0 0 0 0 0 0 0 0 0 0 0 0 0 ...  \n",
       "2  0 0 0 0 0 0 0 0 0 0 0 0 0 0 0 0 0 0 0 0 0 0 0 ...  \n",
       "3  0 0 0 0 0 0 0 0 0 0 0 0 0 0 0 0 0 0 0 0 0 0 0 ...  \n",
       "4  0 0 0 0 0 0 0 0 0 0 2 0 2 0 2 2 0 2 2 0 0 0 0 ...  "
      ]
     },
     "execution_count": 23,
     "metadata": {},
     "output_type": "execute_result"
    }
   ],
   "source": [
    "all_data_path.head()"
   ]
  },
  {
   "cell_type": "code",
   "execution_count": 24,
   "metadata": {},
   "outputs": [
    {
     "data": {
      "text/plain": [
       "label               261477\n",
       "merchant_id              0\n",
       "user_id                  0\n",
       "age_range             2578\n",
       "gender                7545\n",
       "item_path                0\n",
       "cat_path                 0\n",
       "seller_path              0\n",
       "brand_path               0\n",
       "time_stamp_path          0\n",
       "action_type_path         0\n",
       "dtype: int64"
      ]
     },
     "execution_count": 24,
     "metadata": {},
     "output_type": "execute_result"
    }
   ],
   "source": [
    "all_data_path.isnull().sum()"
   ]
  },
  {
   "cell_type": "markdown",
   "metadata": {},
   "source": [
    "# 特征工程"
   ]
  },
  {
   "cell_type": "code",
   "execution_count": 25,
   "metadata": {},
   "outputs": [],
   "source": [
    "all_data1 = all_data_path.copy()    # \"user_id\"第一份完整的数据"
   ]
  },
  {
   "cell_type": "code",
   "execution_count": 26,
   "metadata": {},
   "outputs": [],
   "source": [
    "# 构造特征的函数\n",
    "# ------------------------------------------------------\n",
    "# 统计数据不去重\n",
    "def cnt_(x):\n",
    "    try:\n",
    "        return len(x.split(' '))\n",
    "    except:\n",
    "        return -1\n",
    "def user_cnt(df_data,single_col,name):\n",
    "    df_data[name] = df_data[single_col].apply(cnt_)\n",
    "    return df_data\n",
    "# ------------------------------------------------------\n",
    "# 统计数据并去重\n",
    "def nunique_(x):\n",
    "    try:\n",
    "        return len(set(x.split(' ')))\n",
    "    except:\n",
    "        return -1\n",
    "def user_nunique(df_data,single_col,name):\n",
    "    df_data[name] = df_data[single_col].apply(nunique_)\n",
    "    return df_data\n",
    "# --------------------------------------------------------\n",
    "# 统计用户最早操作时间\n",
    "def _min(x):\n",
    "    try:\n",
    "        return np.min([int(i) for i in x.split(' ')])\n",
    "    except:\n",
    "        return -1\n",
    "def user_min(df_data,single_col,name):\n",
    "    df_data[name] = df_data[single_col].apply(_min)\n",
    "    return df_data\n",
    "# 统计用户最晚操作时间\n",
    "def _max(x):\n",
    "    try:\n",
    "        return np.max([int(i) for i in x.split(' ')])\n",
    "    except:\n",
    "        return -1\n",
    "def user_max(df_data,single_col,name):\n",
    "    df_data[name] = df_data[single_col].apply(_max)\n",
    "    return df_data\n",
    "# 统计用户最早最晚操作时间差\n",
    "def _std(x):\n",
    "    try:\n",
    "        return np.std([float(i) for i in x.split(' ')])\n",
    "    except:\n",
    "        return -1\n",
    "def user_std(df_data,single_col,name):\n",
    "    df_data[name] = df_data[single_col].apply(_std)\n",
    "    return df_data\n",
    "# 统计用户操作最早和最晚相差天数\n",
    "def int_to_datatime(x):\n",
    "    x = str(x)\n",
    "    x = '2020-'+x[:-2]+'-'+x[-2:]\n",
    "    return pd.to_datatime(x,errors='ignore')\n",
    "def time_range(df_data, max_date_col,min_date_col,name):\n",
    "    max_date = list(map(int_to_datetime,copy.deepcopy(df_data[max_date_col])))\n",
    "    min_date = list(map(int_to_datetime,copy.deepcopy(df_data[min_date_col])))\n",
    "    ns_to_day = 1e9*60*60*24\n",
    "    ans = []\n",
    "    for i in range(len(max_date)):\n",
    "        ans.append((max_date[i]-min_date[i]).value/ns_to_day)\n",
    "    df_data[name] = ans\n",
    "    return df_data\n",
    "\n",
    "# 统计topN的数据\n",
    "def most_n(x,n):\n",
    "    try:\n",
    "        return Counter(x.split(' ')).most_common(n)[n-1][0]\n",
    "    except:\n",
    "        return -1\n",
    "def user_most_n(df_data,single_col,name,n=1):\n",
    "    func = lambda x:most_n(x,n)\n",
    "    df_data[name] = df_data[single_col].apply(func)\n",
    "    return df_data\n",
    "# 统计topN数据的总数\n",
    "def most_n_cnt(x,n):\n",
    "    try:\n",
    "        return Counter(x.split(' ')).most_common(n)[n-1][1]\n",
    "    except:\n",
    "        return -1\n",
    "def user_most_n_cnt(df_data,single_col,name,n=1):\n",
    "    func = lambda x:most_n_cnt(x,n)\n",
    "    df_data[name] = df_data[single_col].apply(func)\n",
    "    return df_data\n",
    "# 统计每个用户不同行为的次数\n",
    "def user_action_cnt(df_data,col_action,action_type,name):\n",
    "    func = lambda x:len([i for i in x.split(' ') if i == action_type])\n",
    "    df_data[name+'_'+action_type] = df_data[col_action].apply(func)\n",
    "    return df_data\n",
    "# 用户针对此商家 之前的打分\n",
    "def user_merchant_mark(df_data,merchant_id,seller_path,action_type_path,action_type):\n",
    "    seller_len = len(df_data[seller_path].split(' '))\n",
    "    data_dict = {}\n",
    "    data_dict[seller_path] = df_data[seller_path].split(' ')             # 键是商家店铺，值是商家店铺id列表\n",
    "    data_dict[action_type_path] = df_data[action_type_path].split(' ')   # 键是用户行为，值是用户行为方式列表\n",
    "    mark = 0\n",
    "    for i_ in range(seller_len):\n",
    "        if data_dict[seller_path][i_] == str(df_data[merchant_id]):      # 对应商家\n",
    "            if data_dict[action_type_path][i_] == action_type:           # 对应行为\n",
    "                mark += 1\n",
    "    return mark\n",
    "def user_merchant_mark_all(df_data,merchant_id,seller_path,action_type_path,action_type,name):\n",
    "    df_data[name+'_'+action_type] = df_data.apply(lambda x:user_merchant_mark(x,merchant_id,seller_path,action_type_path,action_type),axis=1)\n",
    "    return df_data\n"
   ]
  },
  {
   "cell_type": "code",
   "execution_count": 27,
   "metadata": {},
   "outputs": [],
   "source": [
    "# 统计用户特征\n",
    "# 1.用户对多少种物品进行操作\n",
    "all_data1 = user_nunique(all_data1,'item_path','user_item_counts')\n",
    "# 2,用户对多少种类目进行操作\n",
    "all_data1 = user_nunique(all_data1,'cat_path','user_item_counts')\n",
    "\n",
    "# 3.用户总共对多少个商店进行过操作(不去重)\n",
    "all_data1 = user_cnt(all_data1,'seller_path','user_seller_counts')\n",
    "all_data1 = user_cnt(all_data1,'seller_path','user_seller_unique_counts')\n",
    "# 4.用户对多少个品牌进行了操作\n",
    "all_data1 = user_nunique(all_data1,'brand_path','user_brand_counts')\n",
    "# 5.用户活跃的天数\n",
    "all_data1 = user_nunique(all_data1,'time_stamp_path','user_day_activity_counts')\n",
    "# 6.用户有几种行为\n",
    "all_data1 = user_nunique(all_data1,'action_type_path','user_action_type_counts')\n",
    "#----------------------------------------------------------------------------\n",
    "# 7.用户最早操作时间\n",
    "all_data1 = user_min(all_data1,'time_stamp_path','user_time_stamp_min')\n",
    "# 8.用户最晚操作时间\n",
    "all_data1 = user_max(all_data1,'time_stamp_path','user_time_stamp_max')\n",
    "# 9.用户最早最晚操作标准差\n",
    "all_data1 = user_std(all_data1,'time_stamp_path','user_time_stamp_std')\n",
    "# 10.统计用户最早最晚操作相差的天数\n",
    "#all_data1 = user_range(all_data1,'user_time_stamp_max','user_time_stamp_min','user_time_stamp_range')\n",
    "# ------------------------------------------------------------------------------\n",
    "# 用户最喜欢操作的类目，点击、加购物车、分享收藏\n",
    "all_data1 = user_most_n(all_data1,'cat_path','user_cat_most_1',n = 1)\n",
    "all_data1 = user_most_n_cnt(all_data1,'cat_path','user_cat_most_1_cnt',n=1)\n",
    "# 用户最喜欢的店铺，操作次数\n",
    "all_data1 = user_most_n(all_data1,'seller_path','user_seller_most_1',n=1)\n",
    "all_data1 = user_most_n_cnt(all_data1,'seller_path','user_seller_most_1_cnt',n=1)\n",
    "# 用户最喜欢的品牌，操作次数\n",
    "all_data1 = user_most_n(all_data1,'brand_path','user_brand_most_1',n=1)\n",
    "all_data1 = user_most_n_cnt(all_data1,'brand_path','user_brand_most_1_cnt',n=1)\n",
    "# 用户最喜欢的操作方式，操作次数\n",
    "all_data1 = user_most_n(all_data1,'action_type_path','action_most_1',n=1)\n",
    "all_data1 = user_most_n_cnt(all_data1,'action_type_path','action_most_1_cnt',n=1)\n",
    "# -----------------------------------------------------------------------------------\n",
    "# 统计用户点击、加入购物车、购买、收藏的次数\n",
    "all_data1 = user_action_cnt(all_data1,'action_type_path','0','user_cnt')\n",
    "all_data1 = user_action_cnt(all_data1,'action_type_path','1','user_cnt')\n",
    "all_data1 = user_action_cnt(all_data1,'action_type_path','2','user_cnt')\n",
    "all_data1 = user_action_cnt(all_data1,'action_type_path','3','user_cnt')\n",
    "# ---------------------------------------------------------------------------------\n",
    "# 对性别和年龄进行独热编码\n",
    "age_range = pd.get_dummies(all_data1['age_range'],prefix='age')\n",
    "gender_range = pd.get_dummies(all_data1['gender'],prefix='gender')\n",
    "all_data1 = all_data1.join(age_range)\n",
    "all_data1 = all_data1.join(gender_range)\n"
   ]
  },
  {
   "cell_type": "code",
   "execution_count": 28,
   "metadata": {},
   "outputs": [],
   "source": [
    "all_data11 = all_data1.copy()"
   ]
  },
  {
   "cell_type": "markdown",
   "metadata": {},
   "source": [
    "# 店铺特征统计"
   ]
  },
  {
   "cell_type": "code",
   "execution_count": 31,
   "metadata": {},
   "outputs": [],
   "source": [
    "list_join_func = lambda x:' '.join([str(i) for i in x])\n",
    "agg_dict_seller = {\n",
    "    'user_id':list_join_func,\n",
    "    'item_id':list_join_func,\n",
    "    'cat_id':list_join_func,\n",
    "    'brand_id':list_join_func,\n",
    "    'time_stamp':list_join_func,\n",
    "    'action_type':list_join_func\n",
    "}\n",
    "rename_dict_seller = {\n",
    "            'user_id':'user_path',\n",
    "            'item_id' : 'item_path',\n",
    "            'cat_id' : 'cat_path',\n",
    "            'brand_id' : 'brand_path',\n",
    "            'time_stamp' : 'time_stamp_path',\n",
    "            'action_type' : 'action_type_path'  \n",
    "}\n",
    "log_path_2 = log.groupby('seller_id').agg(agg_dict_seller).reset_index().rename(columns=rename_dict_seller)"
   ]
  },
  {
   "cell_type": "code",
   "execution_count": 44,
   "metadata": {},
   "outputs": [],
   "source": [
    "log_path_2.to_csv('log_path_2')"
   ]
  },
  {
   "cell_type": "code",
   "execution_count": 47,
   "metadata": {},
   "outputs": [],
   "source": [
    "# all_data2 = all_data.merge(log_path_2,on='seller_id')"
   ]
  },
  {
   "cell_type": "code",
   "execution_count": null,
   "metadata": {},
   "outputs": [],
   "source": [
    "all_data2.to_csv('all_data2')"
   ]
  },
  {
   "cell_type": "code",
   "execution_count": null,
   "metadata": {},
   "outputs": [],
   "source": []
  },
  {
   "cell_type": "markdown",
   "metadata": {},
   "source": [
    "# all_data_2是以seller_id为基准合并后的完整的数据集"
   ]
  },
  {
   "cell_type": "code",
   "execution_count": 32,
   "metadata": {},
   "outputs": [],
   "source": [
    "# 店铺统计特征\n",
    "all_data2_test = log_path_2.copy()"
   ]
  },
  {
   "cell_type": "code",
   "execution_count": 33,
   "metadata": {},
   "outputs": [],
   "source": [
    "# 1.商店被操作的总次数\n",
    "all_data2_test = user_cnt(all_data2_test,'user_path','seller_user_counts')\n",
    "# 2.商店被不同用户操作的次数\n",
    "all_data2_test = user_nunique(all_data2_test,'user_path','seller_user_unique_counts')\n",
    "# 3.商店中有多少种不同的商品\n",
    "all_data2_test = user_nunique(all_data2_test,'item_path','seller_item_unique_counts')\n",
    "# 4.商店中有多少类不同过得商品\n",
    "all_data2_test = user_nunique(all_data2_test,'cat_path','seller_cat_unique_counts')\n",
    "# 5.商店中有多少不同的品牌\n",
    "all_data2_test = user_nunique(all_data2_test,'brand_path','seller_brand_unique_counts')\n",
    "# 6.商店中活跃的天数\n",
    "all_data2_test = user_nunique(all_data2_test,'time_stamp_path','seller_day_active_counts')\n",
    "\n",
    "# 7.最晚时间\n",
    "all_data2_test = user_max(all_data2_test,'time_stamp_path','seller_time_stamp_max')\n",
    "# 8.最早时间\n",
    "all_data2_test = user_min(all_data2_test,'time_stamp_path','seller_time_stamp_min')\n",
    "# 9.活跃天数标准差\n",
    "all_data2_test = user_std(all_data2_test,'time_stamp_path','seller_time_stamp_std')\n",
    "# 10.最早和最晚相差时间\n",
    "# all_data2_test = user_range(all_data2_test,'seller_time_stamp_max','seller_time_stamp_min','seller_time_stamp_range_day')\n",
    "\n",
    "# 11.统计商店被点击的次数之和\n",
    "all_data2_test = user_action_cnt(all_data2_test,'action_type_path','0','seller_cnt')\n",
    "all_data2_test = user_action_cnt(all_data2_test,'action_type_path','1','seller_cnt')\n",
    "all_data2_test = user_action_cnt(all_data2_test,'action_type_path','2','seller_cnt')\n",
    "all_data2_test = user_action_cnt(all_data2_test,'action_type_path','3','seller_cnt')\n",
    "\n",
    "\n",
    "# 购买两次以上的买家总数"
   ]
  },
  {
   "cell_type": "code",
   "execution_count": 34,
   "metadata": {},
   "outputs": [
    {
     "data": {
      "text/plain": [
       "(4995, 20)"
      ]
     },
     "execution_count": 34,
     "metadata": {},
     "output_type": "execute_result"
    }
   ],
   "source": [
    "all_data2_test.shape"
   ]
  },
  {
   "cell_type": "code",
   "execution_count": null,
   "metadata": {},
   "outputs": [],
   "source": [
    "all_data1.shape"
   ]
  },
  {
   "cell_type": "markdown",
   "metadata": {},
   "source": [
    "# 用户+商家综合特征"
   ]
  },
  {
   "cell_type": "code",
   "execution_count": 35,
   "metadata": {},
   "outputs": [],
   "source": [
    "# 用户对此商家有多少次0,1,2,3动作\n",
    "all_data1 = user_merchant_mark_all(all_data1,'merchant_id','seller_path','action_type_path','0','user_merchant_action')\n",
    "all_data1 = user_merchant_mark_all(all_data1,'merchant_id','seller_path','action_type_path','1','user_merchant_action')\n",
    "all_data1 = user_merchant_mark_all(all_data1,'merchant_id','seller_path','action_type_path','2','user_merchant_action')\n",
    "all_data1 = user_merchant_mark_all(all_data1,'merchant_id','seller_path','action_type_path','3','user_merchant_action')\n"
   ]
  },
  {
   "cell_type": "code",
   "execution_count": 36,
   "metadata": {},
   "outputs": [
    {
     "data": {
      "text/plain": [
       "Index(['label', 'merchant_id', 'user_id', 'age_range', 'gender', 'item_path',\n",
       "       'cat_path', 'seller_path', 'brand_path', 'time_stamp_path',\n",
       "       'action_type_path', 'user_item_counts', 'user_seller_counts',\n",
       "       'user_seller_unique_counts', 'user_brand_counts',\n",
       "       'user_day_activity_counts', 'user_action_type_counts',\n",
       "       'user_time_stamp_min', 'user_time_stamp_max', 'user_time_stamp_std',\n",
       "       'user_cat_most_1', 'user_cat_most_1_cnt', 'user_seller_most_1',\n",
       "       'user_seller_most_1_cnt', 'user_brand_most_1', 'user_brand_most_1_cnt',\n",
       "       'action_most_1', 'action_most_1_cnt', 'user_cnt_0', 'user_cnt_1',\n",
       "       'user_cnt_2', 'user_cnt_3', 'age_0.0', 'age_1.0', 'age_2.0', 'age_3.0',\n",
       "       'age_4.0', 'age_5.0', 'age_6.0', 'age_7.0', 'age_8.0', 'gender_0.0',\n",
       "       'gender_1.0', 'gender_2.0', 'user_merchant_action_0',\n",
       "       'user_merchant_action_1', 'user_merchant_action_2',\n",
       "       'user_merchant_action_3'],\n",
       "      dtype='object')"
      ]
     },
     "execution_count": 36,
     "metadata": {},
     "output_type": "execute_result"
    }
   ],
   "source": [
    "all_data1.columns"
   ]
  },
  {
   "cell_type": "code",
   "execution_count": 37,
   "metadata": {},
   "outputs": [
    {
     "data": {
      "text/plain": [
       "Index(['seller_id', 'user_path', 'item_path', 'cat_path', 'brand_path',\n",
       "       'time_stamp_path', 'action_type_path', 'seller_user_counts',\n",
       "       'seller_user_unique_counts', 'seller_item_unique_counts',\n",
       "       'seller_cat_unique_counts', 'seller_brand_unique_counts',\n",
       "       'seller_day_active_counts', 'seller_time_stamp_max',\n",
       "       'seller_time_stamp_min', 'seller_time_stamp_std', 'seller_cnt_0',\n",
       "       'seller_cnt_1', 'seller_cnt_2', 'seller_cnt_3'],\n",
       "      dtype='object')"
      ]
     },
     "execution_count": 37,
     "metadata": {},
     "output_type": "execute_result"
    }
   ],
   "source": [
    "all_data2_test.columns"
   ]
  },
  {
   "cell_type": "code",
   "execution_count": 38,
   "metadata": {},
   "outputs": [],
   "source": [
    "all_data2_test = all_data2_test.rename(columns={'seller_id':'merchant_id'})"
   ]
  },
  {
   "cell_type": "code",
   "execution_count": null,
   "metadata": {},
   "outputs": [],
   "source": [
    "# 1.用户在商铺购买商品总数\n",
    "\n",
    "# 2.用户在商铺购买商铺类别数目\n",
    "# 3.用户在商铺中购买品牌总数\n",
    "\n",
    "# 4.用户在商铺中出现的月份\n",
    "# 5.用户在商铺中出现的天数\n",
    "# 6.用户在商铺中每月访问的次数\n",
    "\n",
    "# 8.用户在商铺中点击、加购物车、购买、收藏数量统计"
   ]
  },
  {
   "cell_type": "markdown",
   "metadata": {},
   "source": [
    "# 将构建好的特征进行合并"
   ]
  },
  {
   "cell_type": "code",
   "execution_count": 39,
   "metadata": {},
   "outputs": [],
   "source": [
    "all_data3 = all_data1.merge(all_data2_test,on='merchant_id',how='left')"
   ]
  },
  {
   "cell_type": "code",
   "execution_count": 66,
   "metadata": {},
   "outputs": [
    {
     "data": {
      "text/plain": [
       "label                         261477\n",
       "merchant_id                        0\n",
       "user_id                            0\n",
       "age_range                       2578\n",
       "gender                          7545\n",
       "item_path_x                        0\n",
       "cat_path_x                         0\n",
       "seller_path                        0\n",
       "brand_path_x                       0\n",
       "time_stamp_path_x                  0\n",
       "action_type_path_x                 0\n",
       "user_item_counts                   0\n",
       "user_seller_counts                 0\n",
       "user_seller_unique_counts          0\n",
       "user_brand_counts                  0\n",
       "user_day_activity_counts           0\n",
       "user_action_type_counts            0\n",
       "user_time_stamp_min                0\n",
       "user_time_stamp_max                0\n",
       "user_time_stamp_std                0\n",
       "user_cat_most_1                    0\n",
       "user_cat_most_1_cnt                0\n",
       "user_seller_most_1                 0\n",
       "user_seller_most_1_cnt             0\n",
       "user_brand_most_1                  0\n",
       "user_brand_most_1_cnt              0\n",
       "action_most_1                      0\n",
       "action_most_1_cnt                  0\n",
       "user_cnt_0                         0\n",
       "user_cnt_1                         0\n",
       "                               ...  \n",
       "age_5.0                            0\n",
       "age_6.0                            0\n",
       "age_7.0                            0\n",
       "age_8.0                            0\n",
       "gender_0.0                         0\n",
       "gender_1.0                         0\n",
       "gender_2.0                         0\n",
       "user_merchant_action_0             0\n",
       "user_merchant_action_1             0\n",
       "user_merchant_action_2             0\n",
       "user_merchant_action_3             0\n",
       "user_path                          0\n",
       "item_path_y                        0\n",
       "cat_path_y                         0\n",
       "brand_path_y                       0\n",
       "time_stamp_path_y                  0\n",
       "action_type_path_y                 0\n",
       "seller_user_counts                 0\n",
       "seller_user_unique_counts          0\n",
       "seller_item_unique_counts          0\n",
       "seller_cat_unique_counts           0\n",
       "seller_brand_unique_counts         0\n",
       "seller_day_active_counts           0\n",
       "seller_time_stamp_max              0\n",
       "seller_time_stamp_min              0\n",
       "seller_time_stamp_std              0\n",
       "seller_cnt_0                       0\n",
       "seller_cnt_1                       0\n",
       "seller_cnt_2                       0\n",
       "seller_cnt_3                       0\n",
       "Length: 67, dtype: int64"
      ]
     },
     "execution_count": 66,
     "metadata": {},
     "output_type": "execute_result"
    }
   ],
   "source": [
    "all_data3.isnull().sum()"
   ]
  },
  {
   "cell_type": "code",
   "execution_count": 67,
   "metadata": {},
   "outputs": [
    {
     "ename": "OSError",
     "evalue": "[Errno 28] No space left on device",
     "output_type": "error",
     "traceback": [
      "\u001b[1;31m---------------------------------------------------------------------------\u001b[0m",
      "\u001b[1;31mOSError\u001b[0m                                   Traceback (most recent call last)",
      "\u001b[1;32m<ipython-input-67-3a237ac7b3d1>\u001b[0m in \u001b[0;36m<module>\u001b[1;34m\u001b[0m\n\u001b[1;32m----> 1\u001b[1;33m \u001b[0mall_data3\u001b[0m\u001b[1;33m.\u001b[0m\u001b[0mto_csv\u001b[0m\u001b[1;33m(\u001b[0m\u001b[1;34m'all_data3'\u001b[0m\u001b[1;33m)\u001b[0m\u001b[1;33m\u001b[0m\u001b[1;33m\u001b[0m\u001b[0m\n\u001b[0m",
      "\u001b[1;32mC:\\ProgramData\\Anaconda3\\lib\\site-packages\\pandas\\core\\generic.py\u001b[0m in \u001b[0;36mto_csv\u001b[1;34m(self, path_or_buf, sep, na_rep, float_format, columns, header, index, index_label, mode, encoding, compression, quoting, quotechar, line_terminator, chunksize, tupleize_cols, date_format, doublequote, escapechar, decimal)\u001b[0m\n\u001b[0;32m   3018\u001b[0m                                  \u001b[0mdoublequote\u001b[0m\u001b[1;33m=\u001b[0m\u001b[0mdoublequote\u001b[0m\u001b[1;33m,\u001b[0m\u001b[1;33m\u001b[0m\u001b[1;33m\u001b[0m\u001b[0m\n\u001b[0;32m   3019\u001b[0m                                  escapechar=escapechar, decimal=decimal)\n\u001b[1;32m-> 3020\u001b[1;33m         \u001b[0mformatter\u001b[0m\u001b[1;33m.\u001b[0m\u001b[0msave\u001b[0m\u001b[1;33m(\u001b[0m\u001b[1;33m)\u001b[0m\u001b[1;33m\u001b[0m\u001b[1;33m\u001b[0m\u001b[0m\n\u001b[0m\u001b[0;32m   3021\u001b[0m \u001b[1;33m\u001b[0m\u001b[0m\n\u001b[0;32m   3022\u001b[0m         \u001b[1;32mif\u001b[0m \u001b[0mpath_or_buf\u001b[0m \u001b[1;32mis\u001b[0m \u001b[1;32mNone\u001b[0m\u001b[1;33m:\u001b[0m\u001b[1;33m\u001b[0m\u001b[1;33m\u001b[0m\u001b[0m\n",
      "\u001b[1;32mC:\\ProgramData\\Anaconda3\\lib\\site-packages\\pandas\\io\\formats\\csvs.py\u001b[0m in \u001b[0;36msave\u001b[1;34m(self)\u001b[0m\n\u001b[0;32m    170\u001b[0m                 \u001b[0mself\u001b[0m\u001b[1;33m.\u001b[0m\u001b[0mwriter\u001b[0m \u001b[1;33m=\u001b[0m \u001b[0mUnicodeWriter\u001b[0m\u001b[1;33m(\u001b[0m\u001b[0mf\u001b[0m\u001b[1;33m,\u001b[0m \u001b[1;33m**\u001b[0m\u001b[0mwriter_kwargs\u001b[0m\u001b[1;33m)\u001b[0m\u001b[1;33m\u001b[0m\u001b[1;33m\u001b[0m\u001b[0m\n\u001b[0;32m    171\u001b[0m \u001b[1;33m\u001b[0m\u001b[0m\n\u001b[1;32m--> 172\u001b[1;33m             \u001b[0mself\u001b[0m\u001b[1;33m.\u001b[0m\u001b[0m_save\u001b[0m\u001b[1;33m(\u001b[0m\u001b[1;33m)\u001b[0m\u001b[1;33m\u001b[0m\u001b[1;33m\u001b[0m\u001b[0m\n\u001b[0m\u001b[0;32m    173\u001b[0m \u001b[1;33m\u001b[0m\u001b[0m\n\u001b[0;32m    174\u001b[0m         \u001b[1;32mfinally\u001b[0m\u001b[1;33m:\u001b[0m\u001b[1;33m\u001b[0m\u001b[1;33m\u001b[0m\u001b[0m\n",
      "\u001b[1;32mC:\\ProgramData\\Anaconda3\\lib\\site-packages\\pandas\\io\\formats\\csvs.py\u001b[0m in \u001b[0;36m_save\u001b[1;34m(self)\u001b[0m\n\u001b[0;32m    286\u001b[0m                 \u001b[1;32mbreak\u001b[0m\u001b[1;33m\u001b[0m\u001b[1;33m\u001b[0m\u001b[0m\n\u001b[0;32m    287\u001b[0m \u001b[1;33m\u001b[0m\u001b[0m\n\u001b[1;32m--> 288\u001b[1;33m             \u001b[0mself\u001b[0m\u001b[1;33m.\u001b[0m\u001b[0m_save_chunk\u001b[0m\u001b[1;33m(\u001b[0m\u001b[0mstart_i\u001b[0m\u001b[1;33m,\u001b[0m \u001b[0mend_i\u001b[0m\u001b[1;33m)\u001b[0m\u001b[1;33m\u001b[0m\u001b[1;33m\u001b[0m\u001b[0m\n\u001b[0m\u001b[0;32m    289\u001b[0m \u001b[1;33m\u001b[0m\u001b[0m\n\u001b[0;32m    290\u001b[0m     \u001b[1;32mdef\u001b[0m \u001b[0m_save_chunk\u001b[0m\u001b[1;33m(\u001b[0m\u001b[0mself\u001b[0m\u001b[1;33m,\u001b[0m \u001b[0mstart_i\u001b[0m\u001b[1;33m,\u001b[0m \u001b[0mend_i\u001b[0m\u001b[1;33m)\u001b[0m\u001b[1;33m:\u001b[0m\u001b[1;33m\u001b[0m\u001b[1;33m\u001b[0m\u001b[0m\n",
      "\u001b[1;32mC:\\ProgramData\\Anaconda3\\lib\\site-packages\\pandas\\io\\formats\\csvs.py\u001b[0m in \u001b[0;36m_save_chunk\u001b[1;34m(self, start_i, end_i)\u001b[0m\n\u001b[0;32m    313\u001b[0m \u001b[1;33m\u001b[0m\u001b[0m\n\u001b[0;32m    314\u001b[0m         libwriters.write_csv_rows(self.data, ix, self.nlevels,\n\u001b[1;32m--> 315\u001b[1;33m                                   self.cols, self.writer)\n\u001b[0m",
      "\u001b[1;32mpandas/_libs/writers.pyx\u001b[0m in \u001b[0;36mpandas._libs.writers.write_csv_rows\u001b[1;34m()\u001b[0m\n",
      "\u001b[1;31mOSError\u001b[0m: [Errno 28] No space left on device"
     ]
    }
   ],
   "source": [
    "all_data3.to_csv('all_data3')"
   ]
  },
  {
   "cell_type": "markdown",
   "metadata": {},
   "source": [
    "# all_data3即就是最终的特征"
   ]
  },
  {
   "cell_type": "markdown",
   "metadata": {},
   "source": [
    "## 利用词袋模型统计特征"
   ]
  },
  {
   "cell_type": "code",
   "execution_count": 69,
   "metadata": {},
   "outputs": [
    {
     "ename": "KeyError",
     "evalue": "'item_path'",
     "output_type": "error",
     "traceback": [
      "\u001b[1;31m---------------------------------------------------------------------------\u001b[0m",
      "\u001b[1;31mKeyError\u001b[0m                                  Traceback (most recent call last)",
      "\u001b[1;32mC:\\ProgramData\\Anaconda3\\lib\\site-packages\\pandas\\core\\indexes\\base.py\u001b[0m in \u001b[0;36mget_loc\u001b[1;34m(self, key, method, tolerance)\u001b[0m\n\u001b[0;32m   2656\u001b[0m             \u001b[1;32mtry\u001b[0m\u001b[1;33m:\u001b[0m\u001b[1;33m\u001b[0m\u001b[1;33m\u001b[0m\u001b[0m\n\u001b[1;32m-> 2657\u001b[1;33m                 \u001b[1;32mreturn\u001b[0m \u001b[0mself\u001b[0m\u001b[1;33m.\u001b[0m\u001b[0m_engine\u001b[0m\u001b[1;33m.\u001b[0m\u001b[0mget_loc\u001b[0m\u001b[1;33m(\u001b[0m\u001b[0mkey\u001b[0m\u001b[1;33m)\u001b[0m\u001b[1;33m\u001b[0m\u001b[1;33m\u001b[0m\u001b[0m\n\u001b[0m\u001b[0;32m   2658\u001b[0m             \u001b[1;32mexcept\u001b[0m \u001b[0mKeyError\u001b[0m\u001b[1;33m:\u001b[0m\u001b[1;33m\u001b[0m\u001b[1;33m\u001b[0m\u001b[0m\n",
      "\u001b[1;32mpandas/_libs/index.pyx\u001b[0m in \u001b[0;36mpandas._libs.index.IndexEngine.get_loc\u001b[1;34m()\u001b[0m\n",
      "\u001b[1;32mpandas/_libs/index.pyx\u001b[0m in \u001b[0;36mpandas._libs.index.IndexEngine.get_loc\u001b[1;34m()\u001b[0m\n",
      "\u001b[1;32mpandas/_libs/hashtable_class_helper.pxi\u001b[0m in \u001b[0;36mpandas._libs.hashtable.PyObjectHashTable.get_item\u001b[1;34m()\u001b[0m\n",
      "\u001b[1;32mpandas/_libs/hashtable_class_helper.pxi\u001b[0m in \u001b[0;36mpandas._libs.hashtable.PyObjectHashTable.get_item\u001b[1;34m()\u001b[0m\n",
      "\u001b[1;31mKeyError\u001b[0m: 'item_path'",
      "\nDuring handling of the above exception, another exception occurred:\n",
      "\u001b[1;31mKeyError\u001b[0m                                  Traceback (most recent call last)",
      "\u001b[1;32m<ipython-input-69-4bf3c70af6b0>\u001b[0m in \u001b[0;36m<module>\u001b[1;34m\u001b[0m\n\u001b[0;32m      9\u001b[0m \u001b[0mcolumns_list\u001b[0m \u001b[1;33m=\u001b[0m \u001b[1;33m[\u001b[0m\u001b[1;34m'seller_path'\u001b[0m\u001b[1;33m,\u001b[0m\u001b[1;34m'item_path'\u001b[0m\u001b[1;33m,\u001b[0m\u001b[1;34m'brand_path'\u001b[0m\u001b[1;33m,\u001b[0m\u001b[1;34m'time_stamp_path'\u001b[0m\u001b[1;33m,\u001b[0m\u001b[1;34m'action_type_path'\u001b[0m\u001b[1;33m]\u001b[0m\u001b[1;33m\u001b[0m\u001b[1;33m\u001b[0m\u001b[0m\n\u001b[0;32m     10\u001b[0m \u001b[1;32mfor\u001b[0m \u001b[0mi\u001b[0m\u001b[1;33m,\u001b[0m\u001b[0mcol\u001b[0m \u001b[1;32min\u001b[0m \u001b[0menumerate\u001b[0m\u001b[1;33m(\u001b[0m\u001b[0mcolumns_list\u001b[0m\u001b[1;33m)\u001b[0m\u001b[1;33m:\u001b[0m\u001b[1;33m\u001b[0m\u001b[1;33m\u001b[0m\u001b[0m\n\u001b[1;32m---> 11\u001b[1;33m     \u001b[0mtfidfVec\u001b[0m\u001b[1;33m.\u001b[0m\u001b[0mfit\u001b[0m\u001b[1;33m(\u001b[0m\u001b[0mall_data3\u001b[0m\u001b[1;33m[\u001b[0m\u001b[0mcol\u001b[0m\u001b[1;33m]\u001b[0m\u001b[1;33m)\u001b[0m\u001b[1;33m\u001b[0m\u001b[1;33m\u001b[0m\u001b[0m\n\u001b[0m\u001b[0;32m     12\u001b[0m     \u001b[0mdata_\u001b[0m \u001b[1;33m=\u001b[0m \u001b[0mtfidfVec\u001b[0m\u001b[1;33m.\u001b[0m\u001b[0mtransform\u001b[0m\u001b[1;33m(\u001b[0m\u001b[0mall_data3\u001b[0m\u001b[1;33m[\u001b[0m\u001b[0mcol\u001b[0m\u001b[1;33m]\u001b[0m\u001b[1;33m)\u001b[0m\u001b[1;33m\u001b[0m\u001b[1;33m\u001b[0m\u001b[0m\n\u001b[0;32m     13\u001b[0m     \u001b[1;32mif\u001b[0m \u001b[0mi\u001b[0m \u001b[1;33m==\u001b[0m \u001b[1;36m0\u001b[0m\u001b[1;33m:\u001b[0m\u001b[1;33m\u001b[0m\u001b[1;33m\u001b[0m\u001b[0m\n",
      "\u001b[1;32mC:\\ProgramData\\Anaconda3\\lib\\site-packages\\pandas\\core\\frame.py\u001b[0m in \u001b[0;36m__getitem__\u001b[1;34m(self, key)\u001b[0m\n\u001b[0;32m   2925\u001b[0m             \u001b[1;32mif\u001b[0m \u001b[0mself\u001b[0m\u001b[1;33m.\u001b[0m\u001b[0mcolumns\u001b[0m\u001b[1;33m.\u001b[0m\u001b[0mnlevels\u001b[0m \u001b[1;33m>\u001b[0m \u001b[1;36m1\u001b[0m\u001b[1;33m:\u001b[0m\u001b[1;33m\u001b[0m\u001b[1;33m\u001b[0m\u001b[0m\n\u001b[0;32m   2926\u001b[0m                 \u001b[1;32mreturn\u001b[0m \u001b[0mself\u001b[0m\u001b[1;33m.\u001b[0m\u001b[0m_getitem_multilevel\u001b[0m\u001b[1;33m(\u001b[0m\u001b[0mkey\u001b[0m\u001b[1;33m)\u001b[0m\u001b[1;33m\u001b[0m\u001b[1;33m\u001b[0m\u001b[0m\n\u001b[1;32m-> 2927\u001b[1;33m             \u001b[0mindexer\u001b[0m \u001b[1;33m=\u001b[0m \u001b[0mself\u001b[0m\u001b[1;33m.\u001b[0m\u001b[0mcolumns\u001b[0m\u001b[1;33m.\u001b[0m\u001b[0mget_loc\u001b[0m\u001b[1;33m(\u001b[0m\u001b[0mkey\u001b[0m\u001b[1;33m)\u001b[0m\u001b[1;33m\u001b[0m\u001b[1;33m\u001b[0m\u001b[0m\n\u001b[0m\u001b[0;32m   2928\u001b[0m             \u001b[1;32mif\u001b[0m \u001b[0mis_integer\u001b[0m\u001b[1;33m(\u001b[0m\u001b[0mindexer\u001b[0m\u001b[1;33m)\u001b[0m\u001b[1;33m:\u001b[0m\u001b[1;33m\u001b[0m\u001b[1;33m\u001b[0m\u001b[0m\n\u001b[0;32m   2929\u001b[0m                 \u001b[0mindexer\u001b[0m \u001b[1;33m=\u001b[0m \u001b[1;33m[\u001b[0m\u001b[0mindexer\u001b[0m\u001b[1;33m]\u001b[0m\u001b[1;33m\u001b[0m\u001b[1;33m\u001b[0m\u001b[0m\n",
      "\u001b[1;32mC:\\ProgramData\\Anaconda3\\lib\\site-packages\\pandas\\core\\indexes\\base.py\u001b[0m in \u001b[0;36mget_loc\u001b[1;34m(self, key, method, tolerance)\u001b[0m\n\u001b[0;32m   2657\u001b[0m                 \u001b[1;32mreturn\u001b[0m \u001b[0mself\u001b[0m\u001b[1;33m.\u001b[0m\u001b[0m_engine\u001b[0m\u001b[1;33m.\u001b[0m\u001b[0mget_loc\u001b[0m\u001b[1;33m(\u001b[0m\u001b[0mkey\u001b[0m\u001b[1;33m)\u001b[0m\u001b[1;33m\u001b[0m\u001b[1;33m\u001b[0m\u001b[0m\n\u001b[0;32m   2658\u001b[0m             \u001b[1;32mexcept\u001b[0m \u001b[0mKeyError\u001b[0m\u001b[1;33m:\u001b[0m\u001b[1;33m\u001b[0m\u001b[1;33m\u001b[0m\u001b[0m\n\u001b[1;32m-> 2659\u001b[1;33m                 \u001b[1;32mreturn\u001b[0m \u001b[0mself\u001b[0m\u001b[1;33m.\u001b[0m\u001b[0m_engine\u001b[0m\u001b[1;33m.\u001b[0m\u001b[0mget_loc\u001b[0m\u001b[1;33m(\u001b[0m\u001b[0mself\u001b[0m\u001b[1;33m.\u001b[0m\u001b[0m_maybe_cast_indexer\u001b[0m\u001b[1;33m(\u001b[0m\u001b[0mkey\u001b[0m\u001b[1;33m)\u001b[0m\u001b[1;33m)\u001b[0m\u001b[1;33m\u001b[0m\u001b[1;33m\u001b[0m\u001b[0m\n\u001b[0m\u001b[0;32m   2660\u001b[0m         \u001b[0mindexer\u001b[0m \u001b[1;33m=\u001b[0m \u001b[0mself\u001b[0m\u001b[1;33m.\u001b[0m\u001b[0mget_indexer\u001b[0m\u001b[1;33m(\u001b[0m\u001b[1;33m[\u001b[0m\u001b[0mkey\u001b[0m\u001b[1;33m]\u001b[0m\u001b[1;33m,\u001b[0m \u001b[0mmethod\u001b[0m\u001b[1;33m=\u001b[0m\u001b[0mmethod\u001b[0m\u001b[1;33m,\u001b[0m \u001b[0mtolerance\u001b[0m\u001b[1;33m=\u001b[0m\u001b[0mtolerance\u001b[0m\u001b[1;33m)\u001b[0m\u001b[1;33m\u001b[0m\u001b[1;33m\u001b[0m\u001b[0m\n\u001b[0;32m   2661\u001b[0m         \u001b[1;32mif\u001b[0m \u001b[0mindexer\u001b[0m\u001b[1;33m.\u001b[0m\u001b[0mndim\u001b[0m \u001b[1;33m>\u001b[0m \u001b[1;36m1\u001b[0m \u001b[1;32mor\u001b[0m \u001b[0mindexer\u001b[0m\u001b[1;33m.\u001b[0m\u001b[0msize\u001b[0m \u001b[1;33m>\u001b[0m \u001b[1;36m1\u001b[0m\u001b[1;33m:\u001b[0m\u001b[1;33m\u001b[0m\u001b[1;33m\u001b[0m\u001b[0m\n",
      "\u001b[1;32mpandas/_libs/index.pyx\u001b[0m in \u001b[0;36mpandas._libs.index.IndexEngine.get_loc\u001b[1;34m()\u001b[0m\n",
      "\u001b[1;32mpandas/_libs/index.pyx\u001b[0m in \u001b[0;36mpandas._libs.index.IndexEngine.get_loc\u001b[1;34m()\u001b[0m\n",
      "\u001b[1;32mpandas/_libs/hashtable_class_helper.pxi\u001b[0m in \u001b[0;36mpandas._libs.hashtable.PyObjectHashTable.get_item\u001b[1;34m()\u001b[0m\n",
      "\u001b[1;32mpandas/_libs/hashtable_class_helper.pxi\u001b[0m in \u001b[0;36mpandas._libs.hashtable.PyObjectHashTable.get_item\u001b[1;34m()\u001b[0m\n",
      "\u001b[1;31mKeyError\u001b[0m: 'item_path'"
     ]
    }
   ],
   "source": [
    "from sklearn.feature_extraction.text import CountVectorizer\n",
    "from sklearn.feature_extraction.text import TfidfVectorizer\n",
    "from sklearn.feature_extraction.text import ENGLISH_STOP_WORDS\n",
    "from scipy import sparse\n",
    "\n",
    "tfidfVec = TfidfVectorizer(stop_words = ENGLISH_STOP_WORDS,\n",
    "                          ngram_range=(1,1),\n",
    "                          max_features=100)\n",
    "columns_list = ['seller_path','item_path','brand_path','time_stamp_path','action_type_path']\n",
    "for i,col in enumerate(columns_list):\n",
    "    tfidfVec.fit(all_data3[col])\n",
    "    data_ = tfidfVec.transform(all_data3[col])\n",
    "    if i == 0:\n",
    "        data_cat = data_\n",
    "    else:\n",
    "        data_cat = sparse.hstack((data_cat,data_))"
   ]
  },
  {
   "cell_type": "code",
   "execution_count": null,
   "metadata": {},
   "outputs": [],
   "source": [
    "df_tfidf = pd.DataFrame(data_cat.toarray())\n",
    "df_tfidf.columns = ['tfidf_'+ str(i) for i in df_tfidf.columns]\n",
    "all_data4 = pd.concat([all_data3,df_tfidf],axis=1)"
   ]
  },
  {
   "cell_type": "markdown",
   "metadata": {},
   "source": [
    "#### 这里的all_data即就是综合了用户特征、商家特征、用户+商家特征、词袋模型提取特征"
   ]
  },
  {
   "cell_type": "code",
   "execution_count": null,
   "metadata": {},
   "outputs": [],
   "source": [
    "all_data4.shape"
   ]
  },
  {
   "cell_type": "code",
   "execution_count": null,
   "metadata": {},
   "outputs": [],
   "source": [
    "all_data4.columns"
   ]
  },
  {
   "cell_type": "markdown",
   "metadata": {},
   "source": [
    "# 接下来进行一般的数据探索"
   ]
  },
  {
   "cell_type": "code",
   "execution_count": 30,
   "metadata": {},
   "outputs": [
    {
     "data": {
      "text/plain": [
       "Index(['label', 'merchant_id', 'user_id', 'age_range', 'gender', 'item_path',\n",
       "       'cat_path', 'seller_path', 'brand_path', 'time_stamp_path',\n",
       "       'action_type_path', 'user_item_counts', 'user_seller_counts',\n",
       "       'user_seller_unique_counts', 'user_brand_counts',\n",
       "       'user_day_activity_counts', 'user_action_type_counts',\n",
       "       'user_time_stamp_min', 'user_time_stamp_max', 'user_time_stamp_std',\n",
       "       'user_cat_most_1', 'user_cat_most_1_cnt', 'user_seller_most_1',\n",
       "       'user_seller_most_1_cnt', 'user_brand_most_1', 'user_brand_most_1_cnt',\n",
       "       'action_most_1', 'action_most_1_cnt', 'user_cnt_0', 'user_cnt_1',\n",
       "       'user_cnt_2', 'user_cnt_3', 'age_0.0', 'age_1.0', 'age_2.0', 'age_3.0',\n",
       "       'age_4.0', 'age_5.0', 'age_6.0', 'age_7.0', 'age_8.0', 'gender_0.0',\n",
       "       'gender_1.0', 'gender_2.0'],\n",
       "      dtype='object')"
      ]
     },
     "execution_count": 30,
     "metadata": {},
     "output_type": "execute_result"
    }
   ],
   "source": [
    "all_data11.columns"
   ]
  },
  {
   "cell_type": "code",
   "execution_count": 31,
   "metadata": {},
   "outputs": [
    {
     "data": {
      "text/html": [
       "<div>\n",
       "<style scoped>\n",
       "    .dataframe tbody tr th:only-of-type {\n",
       "        vertical-align: middle;\n",
       "    }\n",
       "\n",
       "    .dataframe tbody tr th {\n",
       "        vertical-align: top;\n",
       "    }\n",
       "\n",
       "    .dataframe thead th {\n",
       "        text-align: right;\n",
       "    }\n",
       "</style>\n",
       "<table border=\"1\" class=\"dataframe\">\n",
       "  <thead>\n",
       "    <tr style=\"text-align: right;\">\n",
       "      <th></th>\n",
       "      <th>label</th>\n",
       "      <th>merchant_id</th>\n",
       "      <th>user_id</th>\n",
       "      <th>age_range</th>\n",
       "      <th>gender</th>\n",
       "      <th>user_item_counts</th>\n",
       "      <th>user_seller_counts</th>\n",
       "      <th>user_seller_unique_counts</th>\n",
       "      <th>user_brand_counts</th>\n",
       "      <th>user_day_activity_counts</th>\n",
       "      <th>...</th>\n",
       "      <th>age_2.0</th>\n",
       "      <th>age_3.0</th>\n",
       "      <th>age_4.0</th>\n",
       "      <th>age_5.0</th>\n",
       "      <th>age_6.0</th>\n",
       "      <th>age_7.0</th>\n",
       "      <th>age_8.0</th>\n",
       "      <th>gender_0.0</th>\n",
       "      <th>gender_1.0</th>\n",
       "      <th>gender_2.0</th>\n",
       "    </tr>\n",
       "  </thead>\n",
       "  <tbody>\n",
       "    <tr>\n",
       "      <th>0</th>\n",
       "      <td>0.0</td>\n",
       "      <td>3906</td>\n",
       "      <td>34176</td>\n",
       "      <td>6.0</td>\n",
       "      <td>0.0</td>\n",
       "      <td>45</td>\n",
       "      <td>451</td>\n",
       "      <td>451</td>\n",
       "      <td>108</td>\n",
       "      <td>47</td>\n",
       "      <td>...</td>\n",
       "      <td>0</td>\n",
       "      <td>0</td>\n",
       "      <td>0</td>\n",
       "      <td>0</td>\n",
       "      <td>1</td>\n",
       "      <td>0</td>\n",
       "      <td>0</td>\n",
       "      <td>1</td>\n",
       "      <td>0</td>\n",
       "      <td>0</td>\n",
       "    </tr>\n",
       "    <tr>\n",
       "      <th>1</th>\n",
       "      <td>0.0</td>\n",
       "      <td>121</td>\n",
       "      <td>34176</td>\n",
       "      <td>6.0</td>\n",
       "      <td>0.0</td>\n",
       "      <td>45</td>\n",
       "      <td>451</td>\n",
       "      <td>451</td>\n",
       "      <td>108</td>\n",
       "      <td>47</td>\n",
       "      <td>...</td>\n",
       "      <td>0</td>\n",
       "      <td>0</td>\n",
       "      <td>0</td>\n",
       "      <td>0</td>\n",
       "      <td>1</td>\n",
       "      <td>0</td>\n",
       "      <td>0</td>\n",
       "      <td>1</td>\n",
       "      <td>0</td>\n",
       "      <td>0</td>\n",
       "    </tr>\n",
       "    <tr>\n",
       "      <th>2</th>\n",
       "      <td>1.0</td>\n",
       "      <td>4356</td>\n",
       "      <td>34176</td>\n",
       "      <td>6.0</td>\n",
       "      <td>0.0</td>\n",
       "      <td>45</td>\n",
       "      <td>451</td>\n",
       "      <td>451</td>\n",
       "      <td>108</td>\n",
       "      <td>47</td>\n",
       "      <td>...</td>\n",
       "      <td>0</td>\n",
       "      <td>0</td>\n",
       "      <td>0</td>\n",
       "      <td>0</td>\n",
       "      <td>1</td>\n",
       "      <td>0</td>\n",
       "      <td>0</td>\n",
       "      <td>1</td>\n",
       "      <td>0</td>\n",
       "      <td>0</td>\n",
       "    </tr>\n",
       "    <tr>\n",
       "      <th>3</th>\n",
       "      <td>0.0</td>\n",
       "      <td>2217</td>\n",
       "      <td>34176</td>\n",
       "      <td>6.0</td>\n",
       "      <td>0.0</td>\n",
       "      <td>45</td>\n",
       "      <td>451</td>\n",
       "      <td>451</td>\n",
       "      <td>108</td>\n",
       "      <td>47</td>\n",
       "      <td>...</td>\n",
       "      <td>0</td>\n",
       "      <td>0</td>\n",
       "      <td>0</td>\n",
       "      <td>0</td>\n",
       "      <td>1</td>\n",
       "      <td>0</td>\n",
       "      <td>0</td>\n",
       "      <td>1</td>\n",
       "      <td>0</td>\n",
       "      <td>0</td>\n",
       "    </tr>\n",
       "    <tr>\n",
       "      <th>4</th>\n",
       "      <td>0.0</td>\n",
       "      <td>4818</td>\n",
       "      <td>230784</td>\n",
       "      <td>0.0</td>\n",
       "      <td>0.0</td>\n",
       "      <td>17</td>\n",
       "      <td>54</td>\n",
       "      <td>54</td>\n",
       "      <td>19</td>\n",
       "      <td>16</td>\n",
       "      <td>...</td>\n",
       "      <td>0</td>\n",
       "      <td>0</td>\n",
       "      <td>0</td>\n",
       "      <td>0</td>\n",
       "      <td>0</td>\n",
       "      <td>0</td>\n",
       "      <td>0</td>\n",
       "      <td>1</td>\n",
       "      <td>0</td>\n",
       "      <td>0</td>\n",
       "    </tr>\n",
       "  </tbody>\n",
       "</table>\n",
       "<p>5 rows × 38 columns</p>\n",
       "</div>"
      ],
      "text/plain": [
       "   label  merchant_id  user_id  age_range  gender  user_item_counts  \\\n",
       "0    0.0         3906    34176        6.0     0.0                45   \n",
       "1    0.0          121    34176        6.0     0.0                45   \n",
       "2    1.0         4356    34176        6.0     0.0                45   \n",
       "3    0.0         2217    34176        6.0     0.0                45   \n",
       "4    0.0         4818   230784        0.0     0.0                17   \n",
       "\n",
       "   user_seller_counts  user_seller_unique_counts  user_brand_counts  \\\n",
       "0                 451                        451                108   \n",
       "1                 451                        451                108   \n",
       "2                 451                        451                108   \n",
       "3                 451                        451                108   \n",
       "4                  54                         54                 19   \n",
       "\n",
       "   user_day_activity_counts  ...  age_2.0  age_3.0  age_4.0  age_5.0  age_6.0  \\\n",
       "0                        47  ...        0        0        0        0        1   \n",
       "1                        47  ...        0        0        0        0        1   \n",
       "2                        47  ...        0        0        0        0        1   \n",
       "3                        47  ...        0        0        0        0        1   \n",
       "4                        16  ...        0        0        0        0        0   \n",
       "\n",
       "   age_7.0  age_8.0  gender_0.0  gender_1.0  gender_2.0  \n",
       "0        0        0           1           0           0  \n",
       "1        0        0           1           0           0  \n",
       "2        0        0           1           0           0  \n",
       "3        0        0           1           0           0  \n",
       "4        0        0           1           0           0  \n",
       "\n",
       "[5 rows x 38 columns]"
      ]
     },
     "execution_count": 31,
     "metadata": {},
     "output_type": "execute_result"
    }
   ],
   "source": [
    "delete_features = ['item_path','cat_path', 'seller_path', 'brand_path', 'time_stamp_path','action_type_path']\n",
    "all_data5 = all_data11.copy()\n",
    "all_data5.drop(delete_features,axis=1,inplace=True)\n",
    "all_data5.head()"
   ]
  },
  {
   "cell_type": "code",
   "execution_count": 32,
   "metadata": {},
   "outputs": [
    {
     "data": {
      "text/plain": [
       "array([ 0.,  0.,  1., ..., nan, nan, nan])"
      ]
     },
     "execution_count": 32,
     "metadata": {},
     "output_type": "execute_result"
    }
   ],
   "source": [
    "all_data5['label'].values"
   ]
  },
  {
   "cell_type": "code",
   "execution_count": 33,
   "metadata": {},
   "outputs": [
    {
     "name": "stdout",
     "output_type": "stream",
     "text": [
      "(260864, 38)\n"
     ]
    }
   ],
   "source": [
    "train_data = all_data5.loc[all_data5['label'] >= 0]\n",
    "print(train_data.shape)"
   ]
  },
  {
   "cell_type": "code",
   "execution_count": 34,
   "metadata": {},
   "outputs": [
    {
     "name": "stdout",
     "output_type": "stream",
     "text": [
      "(261477, 38)\n"
     ]
    }
   ],
   "source": [
    "# train_data = all_data5[all_data5['label'] >= 0]  # 训练 数据\n",
    "test_data = all_data5.iloc[260864:]   # 测试数据\n",
    "# print(train_data.shape)\n",
    "print(test_data.shape)"
   ]
  },
  {
   "cell_type": "code",
   "execution_count": 56,
   "metadata": {},
   "outputs": [
    {
     "data": {
      "text/plain": [
       "0.0    176414\n",
       "1.0     73756\n",
       "2.0      6983\n",
       "Name: gender, dtype: int64"
      ]
     },
     "execution_count": 56,
     "metadata": {},
     "output_type": "execute_result"
    }
   ],
   "source": [
    "train_data['gender'].value_counts()"
   ]
  },
  {
   "cell_type": "code",
   "execution_count": 57,
   "metadata": {},
   "outputs": [
    {
     "data": {
      "text/plain": [
       "3.0    69369\n",
       "0.0    55809\n",
       "4.0    51235\n",
       "2.0    31026\n",
       "5.0    25618\n",
       "6.0    21701\n",
       "7.0     4120\n",
       "8.0      720\n",
       "1.0       13\n",
       "Name: age_range, dtype: int64"
      ]
     },
     "execution_count": 57,
     "metadata": {},
     "output_type": "execute_result"
    }
   ],
   "source": [
    "train_data['age_range'].value_counts()"
   ]
  },
  {
   "cell_type": "code",
   "execution_count": 35,
   "metadata": {},
   "outputs": [],
   "source": [
    "from sklearn.impute import SimpleImputer \n",
    "imp_mode = SimpleImputer(strategy='most_frequent')"
   ]
  },
  {
   "cell_type": "code",
   "execution_count": 36,
   "metadata": {},
   "outputs": [],
   "source": [
    "for column in ['age_range','gender']:\n",
    "    train_data[column] = imp_mode.fit_transform(train_data[column].values.reshape(-1,1))"
   ]
  },
  {
   "cell_type": "markdown",
   "metadata": {},
   "source": [
    "# 至此，得到全部数据all_data5,未对其进行stacking操作，训练数据train_data,测试数据test_data"
   ]
  },
  {
   "cell_type": "markdown",
   "metadata": {},
   "source": [
    "# 下面进行数据探索，模型训练"
   ]
  },
  {
   "cell_type": "markdown",
   "metadata": {},
   "source": [
    "这里，因为原始数据都是强相关的，不再进行KDE查看了，只查看数据间的相关性，因为数据也没有多少，所以不进行降维或特征选择了，直接对此模型在训练集和测试集上进行\n",
    "训练和验证即可，全部性能都只由特征工程支撑   \n",
    "在这里，构造特征之前没有进行缺失值处理，没有进行异常值处理，构造的特征将会更加偏离原始特征，第二次操作之前要对其进行操作，这样更加贴合实际。"
   ]
  },
  {
   "cell_type": "code",
   "execution_count": 37,
   "metadata": {},
   "outputs": [
    {
     "name": "stdout",
     "output_type": "stream",
     "text": [
      "(10000, 38)\n",
      "(1000, 38)\n"
     ]
    }
   ],
   "source": [
    "train_X = train_data[:10000].copy()\n",
    "test_X = test_data[:1000].copy()\n",
    "print(train_X.shape)\n",
    "print(test_X.shape)"
   ]
  },
  {
   "cell_type": "code",
   "execution_count": 41,
   "metadata": {},
   "outputs": [
    {
     "name": "stdout",
     "output_type": "stream",
     "text": [
      "(1000, 37)\n"
     ]
    }
   ],
   "source": [
    "test_data.drop('label',axis=1,inplace=True)\n",
    "test_X.drop('label',axis=1,inplace=True)\n",
    "print(test_X.shape)"
   ]
  },
  {
   "cell_type": "code",
   "execution_count": 42,
   "metadata": {},
   "outputs": [
    {
     "name": "stdout",
     "output_type": "stream",
     "text": [
      "(10000, 37)\n"
     ]
    }
   ],
   "source": [
    "label = train_X['label'].values      # 标签label\n",
    "\n",
    "train_X.drop('label',axis=1,inplace=True)\n",
    "print(train_X.shape)"
   ]
  },
  {
   "cell_type": "code",
   "execution_count": 105,
   "metadata": {},
   "outputs": [],
   "source": [
    "from sklearn.model_selection import train_test_split,cross_val_score\n",
    "from sklearn.ensemble import RandomForestClassifier as RFC\n",
    "from sklearn.metrics import roc_auc_score\n",
    "\n",
    "clf = RFC(n_estimators=100,max_depth=2,random_state=0)\n",
    "\n",
    "X_train,X_test,y_train,y_test = train_test_split(train_X,label,test_size=0.4,random_state=0)\n",
    "\n",
    "clf = clf.fit(X_train,y_train)"
   ]
  },
  {
   "cell_type": "code",
   "execution_count": null,
   "metadata": {},
   "outputs": [],
   "source": []
  },
  {
   "cell_type": "code",
   "execution_count": 64,
   "metadata": {},
   "outputs": [],
   "source": [
    "score = cross_val_score(clf,train_X,label,cv=5).mean()\n",
    "score2 = cross_val_score(clf,train_X,label,cv=5,scoring='f1_macro').mean()"
   ]
  },
  {
   "cell_type": "code",
   "execution_count": 64,
   "metadata": {},
   "outputs": [
    {
     "ename": "ImportError",
     "evalue": "cannot import name 'trian_test_split' from 'sklearn.model_selection' (C:\\ProgramData\\Anaconda3\\lib\\site-packages\\sklearn\\model_selection\\__init__.py)",
     "output_type": "error",
     "traceback": [
      "\u001b[1;31m---------------------------------------------------------------------------\u001b[0m",
      "\u001b[1;31mImportError\u001b[0m                               Traceback (most recent call last)",
      "\u001b[1;32m<ipython-input-64-31ac988e857a>\u001b[0m in \u001b[0;36m<module>\u001b[1;34m\u001b[0m\n\u001b[1;32m----> 1\u001b[1;33m \u001b[1;32mfrom\u001b[0m \u001b[0msklearn\u001b[0m\u001b[1;33m.\u001b[0m\u001b[0mmodel_selection\u001b[0m \u001b[1;32mimport\u001b[0m \u001b[0mtrian_test_split\u001b[0m\u001b[1;33m,\u001b[0m\u001b[0mcross_val_score\u001b[0m\u001b[1;33m\u001b[0m\u001b[1;33m\u001b[0m\u001b[0m\n\u001b[0m\u001b[0;32m      2\u001b[0m \u001b[1;32mfrom\u001b[0m \u001b[0msklearn\u001b[0m\u001b[1;33m.\u001b[0m\u001b[0mensemble\u001b[0m \u001b[1;32mimport\u001b[0m \u001b[0mRandomForestClassifier\u001b[0m \u001b[1;32mas\u001b[0m \u001b[0mRFC\u001b[0m\u001b[1;33m\u001b[0m\u001b[1;33m\u001b[0m\u001b[0m\n\u001b[0;32m      3\u001b[0m \u001b[1;32mfrom\u001b[0m \u001b[0msklearn\u001b[0m\u001b[1;33m.\u001b[0m\u001b[0mmetrics\u001b[0m \u001b[1;32mimport\u001b[0m \u001b[0mroc_auc_score\u001b[0m\u001b[1;33m\u001b[0m\u001b[1;33m\u001b[0m\u001b[0m\n\u001b[0;32m      4\u001b[0m \u001b[1;33m\u001b[0m\u001b[0m\n\u001b[0;32m      5\u001b[0m \u001b[0mclf\u001b[0m \u001b[1;33m=\u001b[0m \u001b[0mRFC\u001b[0m\u001b[1;33m(\u001b[0m\u001b[0mn_estimators\u001b[0m\u001b[1;33m=\u001b[0m\u001b[1;36m100\u001b[0m\u001b[1;33m,\u001b[0m\u001b[0mmax_depth\u001b[0m\u001b[1;33m=\u001b[0m\u001b[1;36m2\u001b[0m\u001b[1;33m,\u001b[0m\u001b[0mrandom_state\u001b[0m\u001b[1;33m=\u001b[0m\u001b[1;36m0\u001b[0m\u001b[1;33m)\u001b[0m\u001b[1;33m\u001b[0m\u001b[1;33m\u001b[0m\u001b[0m\n",
      "\u001b[1;31mImportError\u001b[0m: cannot import name 'trian_test_split' from 'sklearn.model_selection' (C:\\ProgramData\\Anaconda3\\lib\\site-packages\\sklearn\\model_selection\\__init__.py)"
     ]
    }
   ],
   "source": [
    "print('单个score Accuracy：',clf.score(X_test,y_test))\n",
    "print('CV_mean_score Accuracy:',score)\n",
    "print(\"AUC:\",roc_auc_score(y_test,clf.predict(X_test)))\n",
    "print(\"F1:\",score2)"
   ]
  },
  {
   "cell_type": "code",
   "execution_count": 48,
   "metadata": {},
   "outputs": [
    {
     "data": {
      "text/plain": [
       "0.93375"
      ]
     },
     "execution_count": 48,
     "metadata": {},
     "output_type": "execute_result"
    }
   ],
   "source": [
    "from sklearn.linear_model import LogisticRegression\n",
    "from sklearn.preprocessing import StandardScaler\n",
    "from sklearn.model_selection import train_test_split\n",
    "stdScaler = StandardScaler()\n",
    "X = stdScaler.fit_transform(train_X)\n",
    "X_train,X_test,y_train,y_test = train_test_split(X,label,test_size=0.4,random_state=0)\n",
    "clf = LogisticRegression(random_state=0,solver='lbfgs',multi_class='multinomial').fit(X_train,y_train)\n",
    "clf.score(X_test,y_test)   # R方"
   ]
  },
  {
   "cell_type": "code",
   "execution_count": 52,
   "metadata": {},
   "outputs": [],
   "source": [
    "from sklearn import tree\n",
    "from sklearn.ensemble import BaggingClassifier as BC,RandomForestClassifier as RFC,ExtraTreesClassifier as ETC\n",
    "from sklearn.ensemble import AdaBoostClassifier as ABC,GradientBoostingClassifier as GBC\n",
    "import lightgbm as lgb\n",
    "from sklearn.neighbors import KNeighborsClassifier as KN"
   ]
  },
  {
   "cell_type": "code",
   "execution_count": 53,
   "metadata": {},
   "outputs": [
    {
     "name": "stdout",
     "output_type": "stream",
     "text": [
      "0.8745\n",
      "0.9335\n",
      "0.9275\n",
      "0.92375\n",
      "0.9335\n",
      "0.9335\n"
     ]
    }
   ],
   "source": [
    "X_train,X_test,y_train,y_test = train_test_split(train_X,label,test_size=0.4,random_state=0)\n",
    "clf1 = tree.DecisionTreeClassifier()\n",
    "clf2 = BC(KN(),max_samples = 0.5,max_features=0.5)\n",
    "clf3 = RFC(n_estimators=10)\n",
    "clf4 = ETC(n_estimators=10)\n",
    "clf5 = ABC(n_estimators=10)\n",
    "clf6 = GBC(n_estimators=10)\n",
    "# clf7 = lgb\n",
    "for clf in [clf1,clf2,clf3,clf4,clf5,clf6]:\n",
    "    clf = clf.fit(X_train,y_train)\n",
    "    print(clf.score(X_test,y_test))"
   ]
  },
  {
   "cell_type": "markdown",
   "metadata": {},
   "source": [
    "逻辑回归、K近邻、线性回归、贝叶斯这些模型用之前要进行标准化。而树模型，决策树、随机森林、集成模型GBDT、XGBoost、Lightgbm等用之前不用进行标准化操作。"
   ]
  },
  {
   "cell_type": "code",
   "execution_count": null,
   "metadata": {},
   "outputs": [],
   "source": []
  }
 ],
 "metadata": {
  "kernelspec": {
   "display_name": "Python 3",
   "language": "python",
   "name": "python3"
  },
  "language_info": {
   "codemirror_mode": {
    "name": "ipython",
    "version": 3
   },
   "file_extension": ".py",
   "mimetype": "text/x-python",
   "name": "python",
   "nbconvert_exporter": "python",
   "pygments_lexer": "ipython3",
   "version": "3.7.3"
  }
 },
 "nbformat": 4,
 "nbformat_minor": 4
}

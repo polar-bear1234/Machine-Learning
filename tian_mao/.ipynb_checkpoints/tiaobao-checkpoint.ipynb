{
 "cells": [
  {
   "cell_type": "code",
   "execution_count": 1,
   "metadata": {},
   "outputs": [],
   "source": [
    "# 导入工具包\n",
    "import numpy as np\n",
    "import pandas as pd\n",
    "import matplotlib.pyplot as plt\n",
    "import seaborn as sns\n",
    "from scipy import stats\n",
    "\n",
    "import warnings\n",
    "warnings.filterwarnings(\"ignore\")\n",
    "\n",
    "%matplotlib inline"
   ]
  },
  {
   "cell_type": "code",
   "execution_count": 2,
   "metadata": {},
   "outputs": [],
   "source": [
    "# 数据读取\n",
    "test_data = pd.read_csv('./data_format1/test_format1.csv')\n",
    "train_data = pd.read_csv('./data_format1/train_format1.csv')\n",
    "user_info = pd.read_csv('./data_format1/user_info_format1.csv')   # 特征表\n",
    "user_log = pd.read_csv('./data_format1/user_log_format1.csv')     # 日志信息"
   ]
  },
  {
   "cell_type": "code",
   "execution_count": 3,
   "metadata": {},
   "outputs": [
    {
     "name": "stdout",
     "output_type": "stream",
     "text": [
      "Index(['user_id', 'merchant_id', 'label'], dtype='object')\n",
      "Index(['user_id', 'merchant_id', 'prob'], dtype='object')\n",
      "Index(['user_id', 'age_range', 'gender'], dtype='object')\n",
      "Index(['user_id', 'item_id', 'cat_id', 'seller_id', 'brand_id', 'time_stamp',\n",
      "       'action_type'],\n",
      "      dtype='object')\n"
     ]
    }
   ],
   "source": [
    "print(train_data.columns)\n",
    "print(test_data.columns)\n",
    "print(user_info.columns)\n",
    "print(user_log.columns)"
   ]
  },
  {
   "cell_type": "code",
   "execution_count": 4,
   "metadata": {},
   "outputs": [
    {
     "name": "stdout",
     "output_type": "stream",
     "text": [
      "(260864, 3)\n",
      "(261477, 3)\n",
      "(424170, 3)\n",
      "(54925330, 7)\n"
     ]
    }
   ],
   "source": [
    "print(train_data.shape)\n",
    "print(test_data.shape)\n",
    "print(user_info.shape)\n",
    "print(user_log.shape)"
   ]
  },
  {
   "cell_type": "code",
   "execution_count": 5,
   "metadata": {},
   "outputs": [
    {
     "name": "stdout",
     "output_type": "stream",
     "text": [
      "<class 'pandas.core.frame.DataFrame'>\n",
      "RangeIndex: 260864 entries, 0 to 260863\n",
      "Data columns (total 3 columns):\n",
      "user_id        260864 non-null int64\n",
      "merchant_id    260864 non-null int64\n",
      "label          260864 non-null int64\n",
      "dtypes: int64(3)\n",
      "memory usage: 6.0 MB\n",
      "None\n",
      "**************************************************\n",
      "<class 'pandas.core.frame.DataFrame'>\n",
      "RangeIndex: 261477 entries, 0 to 261476\n",
      "Data columns (total 3 columns):\n",
      "user_id        261477 non-null int64\n",
      "merchant_id    261477 non-null int64\n",
      "prob           0 non-null float64\n",
      "dtypes: float64(1), int64(2)\n",
      "memory usage: 6.0 MB\n",
      "None\n",
      "**************************************************\n",
      "<class 'pandas.core.frame.DataFrame'>\n",
      "RangeIndex: 424170 entries, 0 to 424169\n",
      "Data columns (total 3 columns):\n",
      "user_id      424170 non-null int64\n",
      "age_range    421953 non-null float64\n",
      "gender       417734 non-null float64\n",
      "dtypes: float64(2), int64(1)\n",
      "memory usage: 9.7 MB\n",
      "None\n",
      "**************************************************\n",
      "<class 'pandas.core.frame.DataFrame'>\n",
      "RangeIndex: 54925330 entries, 0 to 54925329\n",
      "Data columns (total 7 columns):\n",
      "user_id        int64\n",
      "item_id        int64\n",
      "cat_id         int64\n",
      "seller_id      int64\n",
      "brand_id       float64\n",
      "time_stamp     int64\n",
      "action_type    int64\n",
      "dtypes: float64(1), int64(6)\n",
      "memory usage: 2.9 GB\n",
      "None\n"
     ]
    }
   ],
   "source": [
    "print(train_data.info())\n",
    "print('*'*50)\n",
    "print(test_data.info())\n",
    "print('*'*50)\n",
    "print(user_info.info())   # 特征表有缺失\n",
    "print('*'*50)\n",
    "print(user_log.info())    # 日志有缺失"
   ]
  },
  {
   "cell_type": "code",
   "execution_count": 6,
   "metadata": {},
   "outputs": [
    {
     "name": "stdout",
     "output_type": "stream",
     "text": [
      "age_range 0.005226677982884221\n",
      "gender 0.01517316170403376\n",
      "====================================================================================================\n",
      "cat_id 0.0\n",
      "seller_id 0.0\n",
      "brand_id 0.0016570678774255885\n",
      "time_stamp 0.0\n",
      "action_type 0.0\n"
     ]
    }
   ],
   "source": [
    "column1 = ['age_range','gender']\n",
    "column2 = ['cat_id','seller_id','brand_id','time_stamp','action_type']\n",
    "for column in column1:\n",
    "    print(column,user_info[column].isnull().sum()/user_info.shape[0])\n",
    "print('='*100)\n",
    "for column in column2:\n",
    "    print(column,user_log[column].isnull().sum()/user_log.shape[0])"
   ]
  },
  {
   "cell_type": "code",
   "execution_count": 7,
   "metadata": {},
   "outputs": [
    {
     "name": "stdout",
     "output_type": "stream",
     "text": [
      "           user_id\n",
      "age_range         \n",
      "0.0          92914\n",
      "1.0             24\n",
      "2.0          52871\n",
      "3.0         111654\n",
      "4.0          79991\n",
      "5.0          40777\n",
      "6.0          35464\n",
      "7.0           6992\n",
      "8.0           1266\n",
      "        user_id\n",
      "gender         \n",
      "0.0      285638\n",
      "1.0      121670\n",
      "2.0       10426\n",
      "       user_id\n",
      "label         \n",
      "0       244912\n",
      "1        15952\n"
     ]
    }
   ],
   "source": [
    "print(user_info.groupby(['age_range'])[['user_id']].count())\n",
    "print(user_info.groupby(['gender'])[['user_id']].count())\n",
    "print(train_data.groupby(['label'])[['user_id']].count())"
   ]
  },
  {
   "cell_type": "markdown",
   "metadata": {},
   "source": [
    "# 数据合并、预处理"
   ]
  },
  {
   "cell_type": "code",
   "execution_count": 8,
   "metadata": {},
   "outputs": [],
   "source": [
    "train = train_data.copy()\n",
    "test = test_data.copy()\n",
    "info = user_info.copy()  # 特征\n",
    "log = user_log.copy()   # 日志"
   ]
  },
  {
   "cell_type": "code",
   "execution_count": 11,
   "metadata": {},
   "outputs": [
    {
     "name": "stdout",
     "output_type": "stream",
     "text": [
      "(260864, 3)\n",
      "(261477, 2)\n",
      "(424170, 3)\n",
      "(54925330, 7)\n"
     ]
    }
   ],
   "source": [
    "print(train.shape)\n",
    "print(test.shape)\n",
    "print(info.shape)\n",
    "print(log.shape)"
   ]
  },
  {
   "cell_type": "code",
   "execution_count": 10,
   "metadata": {},
   "outputs": [],
   "source": [
    "test.drop('prob',axis=1,inplace=True)"
   ]
  },
  {
   "cell_type": "code",
   "execution_count": 12,
   "metadata": {},
   "outputs": [],
   "source": [
    "all_data = train.append(test)"
   ]
  },
  {
   "cell_type": "code",
   "execution_count": 13,
   "metadata": {},
   "outputs": [
    {
     "name": "stdout",
     "output_type": "stream",
     "text": [
      "(522341, 3)\n"
     ]
    }
   ],
   "source": [
    "print(all_data.shape)"
   ]
  },
  {
   "cell_type": "code",
   "execution_count": 17,
   "metadata": {},
   "outputs": [
    {
     "data": {
      "text/html": [
       "<div>\n",
       "<style scoped>\n",
       "    .dataframe tbody tr th:only-of-type {\n",
       "        vertical-align: middle;\n",
       "    }\n",
       "\n",
       "    .dataframe tbody tr th {\n",
       "        vertical-align: top;\n",
       "    }\n",
       "\n",
       "    .dataframe thead th {\n",
       "        text-align: right;\n",
       "    }\n",
       "</style>\n",
       "<table border=\"1\" class=\"dataframe\">\n",
       "  <thead>\n",
       "    <tr style=\"text-align: right;\">\n",
       "      <th></th>\n",
       "      <th>label</th>\n",
       "      <th>merchant_id</th>\n",
       "      <th>user_id</th>\n",
       "      <th>age_range</th>\n",
       "      <th>gender</th>\n",
       "    </tr>\n",
       "  </thead>\n",
       "  <tbody>\n",
       "    <tr>\n",
       "      <th>0</th>\n",
       "      <td>0.0</td>\n",
       "      <td>3906</td>\n",
       "      <td>34176</td>\n",
       "      <td>6.0</td>\n",
       "      <td>0.0</td>\n",
       "    </tr>\n",
       "    <tr>\n",
       "      <th>1</th>\n",
       "      <td>0.0</td>\n",
       "      <td>121</td>\n",
       "      <td>34176</td>\n",
       "      <td>6.0</td>\n",
       "      <td>0.0</td>\n",
       "    </tr>\n",
       "    <tr>\n",
       "      <th>2</th>\n",
       "      <td>1.0</td>\n",
       "      <td>4356</td>\n",
       "      <td>34176</td>\n",
       "      <td>6.0</td>\n",
       "      <td>0.0</td>\n",
       "    </tr>\n",
       "    <tr>\n",
       "      <th>3</th>\n",
       "      <td>0.0</td>\n",
       "      <td>2217</td>\n",
       "      <td>34176</td>\n",
       "      <td>6.0</td>\n",
       "      <td>0.0</td>\n",
       "    </tr>\n",
       "    <tr>\n",
       "      <th>4</th>\n",
       "      <td>0.0</td>\n",
       "      <td>4818</td>\n",
       "      <td>230784</td>\n",
       "      <td>0.0</td>\n",
       "      <td>0.0</td>\n",
       "    </tr>\n",
       "  </tbody>\n",
       "</table>\n",
       "</div>"
      ],
      "text/plain": [
       "   label  merchant_id  user_id  age_range  gender\n",
       "0    0.0         3906    34176        6.0     0.0\n",
       "1    0.0          121    34176        6.0     0.0\n",
       "2    1.0         4356    34176        6.0     0.0\n",
       "3    0.0         2217    34176        6.0     0.0\n",
       "4    0.0         4818   230784        0.0     0.0"
      ]
     },
     "execution_count": 17,
     "metadata": {},
     "output_type": "execute_result"
    }
   ],
   "source": [
    "all_data.head()"
   ]
  },
  {
   "cell_type": "code",
   "execution_count": 18,
   "metadata": {},
   "outputs": [
    {
     "data": {
      "text/html": [
       "<div>\n",
       "<style scoped>\n",
       "    .dataframe tbody tr th:only-of-type {\n",
       "        vertical-align: middle;\n",
       "    }\n",
       "\n",
       "    .dataframe tbody tr th {\n",
       "        vertical-align: top;\n",
       "    }\n",
       "\n",
       "    .dataframe thead th {\n",
       "        text-align: right;\n",
       "    }\n",
       "</style>\n",
       "<table border=\"1\" class=\"dataframe\">\n",
       "  <thead>\n",
       "    <tr style=\"text-align: right;\">\n",
       "      <th></th>\n",
       "      <th>label</th>\n",
       "      <th>merchant_id</th>\n",
       "      <th>user_id</th>\n",
       "      <th>age_range</th>\n",
       "      <th>gender</th>\n",
       "    </tr>\n",
       "  </thead>\n",
       "  <tbody>\n",
       "    <tr>\n",
       "      <th>522336</th>\n",
       "      <td>NaN</td>\n",
       "      <td>3111</td>\n",
       "      <td>228479</td>\n",
       "      <td>6.0</td>\n",
       "      <td>0.0</td>\n",
       "    </tr>\n",
       "    <tr>\n",
       "      <th>522337</th>\n",
       "      <td>NaN</td>\n",
       "      <td>2341</td>\n",
       "      <td>97919</td>\n",
       "      <td>8.0</td>\n",
       "      <td>1.0</td>\n",
       "    </tr>\n",
       "    <tr>\n",
       "      <th>522338</th>\n",
       "      <td>NaN</td>\n",
       "      <td>3971</td>\n",
       "      <td>97919</td>\n",
       "      <td>8.0</td>\n",
       "      <td>1.0</td>\n",
       "    </tr>\n",
       "    <tr>\n",
       "      <th>522339</th>\n",
       "      <td>NaN</td>\n",
       "      <td>3536</td>\n",
       "      <td>32639</td>\n",
       "      <td>0.0</td>\n",
       "      <td>0.0</td>\n",
       "    </tr>\n",
       "    <tr>\n",
       "      <th>522340</th>\n",
       "      <td>NaN</td>\n",
       "      <td>3319</td>\n",
       "      <td>32639</td>\n",
       "      <td>0.0</td>\n",
       "      <td>0.0</td>\n",
       "    </tr>\n",
       "  </tbody>\n",
       "</table>\n",
       "</div>"
      ],
      "text/plain": [
       "        label  merchant_id  user_id  age_range  gender\n",
       "522336    NaN         3111   228479        6.0     0.0\n",
       "522337    NaN         2341    97919        8.0     1.0\n",
       "522338    NaN         3971    97919        8.0     1.0\n",
       "522339    NaN         3536    32639        0.0     0.0\n",
       "522340    NaN         3319    32639        0.0     0.0"
      ]
     },
     "execution_count": 18,
     "metadata": {},
     "output_type": "execute_result"
    }
   ],
   "source": [
    "all_data.tail()"
   ]
  },
  {
   "cell_type": "code",
   "execution_count": 16,
   "metadata": {},
   "outputs": [
    {
     "name": "stdout",
     "output_type": "stream",
     "text": [
      "(522341, 5)\n"
     ]
    }
   ],
   "source": [
    "all_data = all_data.merge(info,on=['user_id'],how='left')  # 以左边的user_id为基准合并，右边如果没有用NaN填补\n",
    "\n",
    "print(all_data.shape)"
   ]
  },
  {
   "cell_type": "code",
   "execution_count": 19,
   "metadata": {},
   "outputs": [
    {
     "name": "stdout",
     "output_type": "stream",
     "text": [
      "<class 'pandas.core.frame.DataFrame'>\n",
      "Int64Index: 522341 entries, 0 to 522340\n",
      "Data columns (total 5 columns):\n",
      "label          260864 non-null float64\n",
      "merchant_id    522341 non-null int64\n",
      "user_id        522341 non-null int64\n",
      "age_range      519763 non-null float64\n",
      "gender         514796 non-null float64\n",
      "dtypes: float64(3), int64(2)\n",
      "memory usage: 23.9 MB\n"
     ]
    }
   ],
   "source": [
    "all_data.info()"
   ]
  },
  {
   "cell_type": "markdown",
   "metadata": {},
   "source": [
    "## 处理行为日志"
   ]
  },
  {
   "cell_type": "code",
   "execution_count": 28,
   "metadata": {},
   "outputs": [],
   "source": [
    "list_join_func = lambda x:\" \".join([str(i) for i in x])\n",
    "\n",
    "agg_dict = {'item_id':list_join_func,\n",
    "           'cat_id':list_join_func,\n",
    "           'seller_id':list_join_func,\n",
    "           'brand_id':list_join_func,\n",
    "           'time_stamp':list_join_func,\n",
    "           'action_type':list_join_func}\n",
    "rename_dict = {'item_id' : 'item_path',\n",
    "            'cat_id' : 'cat_path',\n",
    "            'seller_id' : 'seller_path',\n",
    "            'brand_id' : 'brand_path',\n",
    "            'time_stamp' : 'time_stamp_path',\n",
    "            'action_type' : 'action_type_path'}"
   ]
  },
  {
   "cell_type": "code",
   "execution_count": 29,
   "metadata": {},
   "outputs": [],
   "source": [
    "log_path = log.groupby(['user_id']).agg(agg_dict).reset_index().rename(columns=rename_dict)"
   ]
  },
  {
   "cell_type": "code",
   "execution_count": 41,
   "metadata": {},
   "outputs": [
    {
     "data": {
      "text/html": [
       "<div>\n",
       "<style scoped>\n",
       "    .dataframe tbody tr th:only-of-type {\n",
       "        vertical-align: middle;\n",
       "    }\n",
       "\n",
       "    .dataframe tbody tr th {\n",
       "        vertical-align: top;\n",
       "    }\n",
       "\n",
       "    .dataframe thead th {\n",
       "        text-align: right;\n",
       "    }\n",
       "</style>\n",
       "<table border=\"1\" class=\"dataframe\">\n",
       "  <thead>\n",
       "    <tr style=\"text-align: right;\">\n",
       "      <th></th>\n",
       "      <th>user_id</th>\n",
       "      <th>item_path</th>\n",
       "      <th>cat_path</th>\n",
       "      <th>seller_path</th>\n",
       "      <th>brand_path</th>\n",
       "      <th>time_stamp_path</th>\n",
       "      <th>action_type_path</th>\n",
       "    </tr>\n",
       "  </thead>\n",
       "  <tbody>\n",
       "    <tr>\n",
       "      <th>0</th>\n",
       "      <td>1</td>\n",
       "      <td>112203 556107 411984 112203 112203 112203 1110...</td>\n",
       "      <td>1252 1252 1252 1252 1252 1252 992 992 992 992 ...</td>\n",
       "      <td>4026 739 4177 4026 4026 4026 1019 1019 1019 10...</td>\n",
       "      <td>1469.0 6822.0 1960.0 1469.0 1469.0 1469.0 6805...</td>\n",
       "      <td>1018 1018 1018 1018 1021 1021 1111 1111 1111 1...</td>\n",
       "      <td>0 0 0 0 2 0 0 0 0 0 0 2 2 2 2 0 0 0 0 0 0 0 0 ...</td>\n",
       "    </tr>\n",
       "    <tr>\n",
       "      <th>1</th>\n",
       "      <td>2</td>\n",
       "      <td>239288 751744 431502 864941 85520 765891 41934...</td>\n",
       "      <td>602 602 737 737 737 737 737 737 737 602 1213 6...</td>\n",
       "      <td>420 420 1974 1974 1974 1974 1974 1974 1974 420...</td>\n",
       "      <td>4953.0 4953.0 8321.0 8321.0 8321.0 8321.0 8321...</td>\n",
       "      <td>626 626 817 817 817 817 817 817 817 626 626 62...</td>\n",
       "      <td>0 0 0 0 0 0 0 0 0 0 0 0 0 2 0 0 0 0 0 0 0 0 3 ...</td>\n",
       "    </tr>\n",
       "    <tr>\n",
       "      <th>2</th>\n",
       "      <td>3</td>\n",
       "      <td>863889 828013 734838 909738 203050 763658 6641...</td>\n",
       "      <td>662 662 656 662 606 656 1467 656 1134 1134 113...</td>\n",
       "      <td>2372 139 947 883 2313 947 947 2957 4461 4461 4...</td>\n",
       "      <td>7862.0 3228.0 305.0 1647.0 3322.0 305.0 305.0 ...</td>\n",
       "      <td>921 921 1111 915 1111 1111 1111 1111 820 819 8...</td>\n",
       "      <td>0 0 0 0 2 0 0 0 0 0 2 0 0 0 0 0 0 0 0 0 0 0 0 ...</td>\n",
       "    </tr>\n",
       "    <tr>\n",
       "      <th>3</th>\n",
       "      <td>4</td>\n",
       "      <td>1019133 185328 606202 1019133 830140 836727 24...</td>\n",
       "      <td>748 748 748 748 748 612 1577 1505 1505 1505 15...</td>\n",
       "      <td>434 1607 1607 434 1607 1221 1221 1221 1221 122...</td>\n",
       "      <td>8010.0 3843.0 3843.0 8010.0 3843.0 7734.0 7734...</td>\n",
       "      <td>1101 1101 1101 1101 1101 527 527 527 527 527 5...</td>\n",
       "      <td>0 0 0 0 0 0 0 0 0 0 0 0 0 0 0 0 0 0 0 0 0 0 0 ...</td>\n",
       "    </tr>\n",
       "    <tr>\n",
       "      <th>4</th>\n",
       "      <td>5</td>\n",
       "      <td>597305 99491 698879 996987 52951 941292 597305...</td>\n",
       "      <td>1577 1658 407 737 1326 389 1577 1147 407 407 4...</td>\n",
       "      <td>2676 186 3163 3969 3067 414 2676 1961 3163 316...</td>\n",
       "      <td>3997.0 7591.0 3881.0 483.0 4744.0 4299.0 3997....</td>\n",
       "      <td>1111 1111 1111 1111 1111 1111 1111 1111 1111 1...</td>\n",
       "      <td>0 0 0 0 0 0 0 0 2 2 2 0 0 0 2 2 0 0 0 0 0 0 0 ...</td>\n",
       "    </tr>\n",
       "  </tbody>\n",
       "</table>\n",
       "</div>"
      ],
      "text/plain": [
       "   user_id                                          item_path  \\\n",
       "0        1  112203 556107 411984 112203 112203 112203 1110...   \n",
       "1        2  239288 751744 431502 864941 85520 765891 41934...   \n",
       "2        3  863889 828013 734838 909738 203050 763658 6641...   \n",
       "3        4  1019133 185328 606202 1019133 830140 836727 24...   \n",
       "4        5  597305 99491 698879 996987 52951 941292 597305...   \n",
       "\n",
       "                                            cat_path  \\\n",
       "0  1252 1252 1252 1252 1252 1252 992 992 992 992 ...   \n",
       "1  602 602 737 737 737 737 737 737 737 602 1213 6...   \n",
       "2  662 662 656 662 606 656 1467 656 1134 1134 113...   \n",
       "3  748 748 748 748 748 612 1577 1505 1505 1505 15...   \n",
       "4  1577 1658 407 737 1326 389 1577 1147 407 407 4...   \n",
       "\n",
       "                                         seller_path  \\\n",
       "0  4026 739 4177 4026 4026 4026 1019 1019 1019 10...   \n",
       "1  420 420 1974 1974 1974 1974 1974 1974 1974 420...   \n",
       "2  2372 139 947 883 2313 947 947 2957 4461 4461 4...   \n",
       "3  434 1607 1607 434 1607 1221 1221 1221 1221 122...   \n",
       "4  2676 186 3163 3969 3067 414 2676 1961 3163 316...   \n",
       "\n",
       "                                          brand_path  \\\n",
       "0  1469.0 6822.0 1960.0 1469.0 1469.0 1469.0 6805...   \n",
       "1  4953.0 4953.0 8321.0 8321.0 8321.0 8321.0 8321...   \n",
       "2  7862.0 3228.0 305.0 1647.0 3322.0 305.0 305.0 ...   \n",
       "3  8010.0 3843.0 3843.0 8010.0 3843.0 7734.0 7734...   \n",
       "4  3997.0 7591.0 3881.0 483.0 4744.0 4299.0 3997....   \n",
       "\n",
       "                                     time_stamp_path  \\\n",
       "0  1018 1018 1018 1018 1021 1021 1111 1111 1111 1...   \n",
       "1  626 626 817 817 817 817 817 817 817 626 626 62...   \n",
       "2  921 921 1111 915 1111 1111 1111 1111 820 819 8...   \n",
       "3  1101 1101 1101 1101 1101 527 527 527 527 527 5...   \n",
       "4  1111 1111 1111 1111 1111 1111 1111 1111 1111 1...   \n",
       "\n",
       "                                    action_type_path  \n",
       "0  0 0 0 0 2 0 0 0 0 0 0 2 2 2 2 0 0 0 0 0 0 0 0 ...  \n",
       "1  0 0 0 0 0 0 0 0 0 0 0 0 0 2 0 0 0 0 0 0 0 0 3 ...  \n",
       "2  0 0 0 0 2 0 0 0 0 0 2 0 0 0 0 0 0 0 0 0 0 0 0 ...  \n",
       "3  0 0 0 0 0 0 0 0 0 0 0 0 0 0 0 0 0 0 0 0 0 0 0 ...  \n",
       "4  0 0 0 0 0 0 0 0 2 2 2 0 0 0 2 2 0 0 0 0 0 0 0 ...  "
      ]
     },
     "execution_count": 41,
     "metadata": {},
     "output_type": "execute_result"
    }
   ],
   "source": [
    "log_path.head()"
   ]
  },
  {
   "cell_type": "code",
   "execution_count": 31,
   "metadata": {},
   "outputs": [
    {
     "data": {
      "text/plain": [
       "(424170, 7)"
      ]
     },
     "execution_count": 31,
     "metadata": {},
     "output_type": "execute_result"
    }
   ],
   "source": [
    "log_path.shape"
   ]
  },
  {
   "cell_type": "code",
   "execution_count": 40,
   "metadata": {},
   "outputs": [],
   "source": [
    "log_path = log_path.sort_values(['user_id'])"
   ]
  },
  {
   "cell_type": "markdown",
   "metadata": {},
   "source": [
    "# 这是合并后的完整数据"
   ]
  },
  {
   "cell_type": "code",
   "execution_count": 42,
   "metadata": {},
   "outputs": [],
   "source": [
    "all_data_path = all_data.merge(log_path,on='user_id')"
   ]
  },
  {
   "cell_type": "code",
   "execution_count": 44,
   "metadata": {},
   "outputs": [
    {
     "data": {
      "text/plain": [
       "(522341, 11)"
      ]
     },
     "execution_count": 44,
     "metadata": {},
     "output_type": "execute_result"
    }
   ],
   "source": [
    "all_data_path.shape"
   ]
  },
  {
   "cell_type": "code",
   "execution_count": 46,
   "metadata": {},
   "outputs": [
    {
     "data": {
      "text/html": [
       "<div>\n",
       "<style scoped>\n",
       "    .dataframe tbody tr th:only-of-type {\n",
       "        vertical-align: middle;\n",
       "    }\n",
       "\n",
       "    .dataframe tbody tr th {\n",
       "        vertical-align: top;\n",
       "    }\n",
       "\n",
       "    .dataframe thead th {\n",
       "        text-align: right;\n",
       "    }\n",
       "</style>\n",
       "<table border=\"1\" class=\"dataframe\">\n",
       "  <thead>\n",
       "    <tr style=\"text-align: right;\">\n",
       "      <th></th>\n",
       "      <th>label</th>\n",
       "      <th>merchant_id</th>\n",
       "      <th>user_id</th>\n",
       "      <th>age_range</th>\n",
       "      <th>gender</th>\n",
       "      <th>item_path</th>\n",
       "      <th>cat_path</th>\n",
       "      <th>seller_path</th>\n",
       "      <th>brand_path</th>\n",
       "      <th>time_stamp_path</th>\n",
       "      <th>action_type_path</th>\n",
       "    </tr>\n",
       "  </thead>\n",
       "  <tbody>\n",
       "    <tr>\n",
       "      <th>0</th>\n",
       "      <td>0.0</td>\n",
       "      <td>3906</td>\n",
       "      <td>34176</td>\n",
       "      <td>6.0</td>\n",
       "      <td>0.0</td>\n",
       "      <td>790010 231901 478025 100290 655967 986148 8547...</td>\n",
       "      <td>1467 662 662 662 420 276 1553 1238 821 1208 82...</td>\n",
       "      <td>4231 1945 3700 2179 1875 3001 1815 331 3906 43...</td>\n",
       "      <td>3589.0 2758.0 2204.0 6741.0 2714.0 5738.0 7169...</td>\n",
       "      <td>1026 818 818 818 1110 1110 1110 1110 1110 1110...</td>\n",
       "      <td>0 0 0 0 0 0 0 0 0 0 0 0 0 0 0 0 0 0 0 0 0 0 0 ...</td>\n",
       "    </tr>\n",
       "    <tr>\n",
       "      <th>1</th>\n",
       "      <td>0.0</td>\n",
       "      <td>121</td>\n",
       "      <td>34176</td>\n",
       "      <td>6.0</td>\n",
       "      <td>0.0</td>\n",
       "      <td>790010 231901 478025 100290 655967 986148 8547...</td>\n",
       "      <td>1467 662 662 662 420 276 1553 1238 821 1208 82...</td>\n",
       "      <td>4231 1945 3700 2179 1875 3001 1815 331 3906 43...</td>\n",
       "      <td>3589.0 2758.0 2204.0 6741.0 2714.0 5738.0 7169...</td>\n",
       "      <td>1026 818 818 818 1110 1110 1110 1110 1110 1110...</td>\n",
       "      <td>0 0 0 0 0 0 0 0 0 0 0 0 0 0 0 0 0 0 0 0 0 0 0 ...</td>\n",
       "    </tr>\n",
       "    <tr>\n",
       "      <th>2</th>\n",
       "      <td>1.0</td>\n",
       "      <td>4356</td>\n",
       "      <td>34176</td>\n",
       "      <td>6.0</td>\n",
       "      <td>0.0</td>\n",
       "      <td>790010 231901 478025 100290 655967 986148 8547...</td>\n",
       "      <td>1467 662 662 662 420 276 1553 1238 821 1208 82...</td>\n",
       "      <td>4231 1945 3700 2179 1875 3001 1815 331 3906 43...</td>\n",
       "      <td>3589.0 2758.0 2204.0 6741.0 2714.0 5738.0 7169...</td>\n",
       "      <td>1026 818 818 818 1110 1110 1110 1110 1110 1110...</td>\n",
       "      <td>0 0 0 0 0 0 0 0 0 0 0 0 0 0 0 0 0 0 0 0 0 0 0 ...</td>\n",
       "    </tr>\n",
       "    <tr>\n",
       "      <th>3</th>\n",
       "      <td>0.0</td>\n",
       "      <td>2217</td>\n",
       "      <td>34176</td>\n",
       "      <td>6.0</td>\n",
       "      <td>0.0</td>\n",
       "      <td>790010 231901 478025 100290 655967 986148 8547...</td>\n",
       "      <td>1467 662 662 662 420 276 1553 1238 821 1208 82...</td>\n",
       "      <td>4231 1945 3700 2179 1875 3001 1815 331 3906 43...</td>\n",
       "      <td>3589.0 2758.0 2204.0 6741.0 2714.0 5738.0 7169...</td>\n",
       "      <td>1026 818 818 818 1110 1110 1110 1110 1110 1110...</td>\n",
       "      <td>0 0 0 0 0 0 0 0 0 0 0 0 0 0 0 0 0 0 0 0 0 0 0 ...</td>\n",
       "    </tr>\n",
       "    <tr>\n",
       "      <th>4</th>\n",
       "      <td>0.0</td>\n",
       "      <td>4818</td>\n",
       "      <td>230784</td>\n",
       "      <td>0.0</td>\n",
       "      <td>0.0</td>\n",
       "      <td>430968 185046 316409 713880 498279 503629 9596...</td>\n",
       "      <td>115 737 407 407 407 407 407 407 407 407 407 11...</td>\n",
       "      <td>376 3904 3556 3556 3556 3556 3556 3556 3556 35...</td>\n",
       "      <td>4167.0 3876.0 1236.0 1236.0 1236.0 1236.0 1236...</td>\n",
       "      <td>701 622 630 630 630 630 630 630 630 630 630 70...</td>\n",
       "      <td>0 0 0 0 0 0 0 0 0 0 2 0 2 0 2 2 0 2 2 0 0 0 0 ...</td>\n",
       "    </tr>\n",
       "  </tbody>\n",
       "</table>\n",
       "</div>"
      ],
      "text/plain": [
       "   label  merchant_id  user_id  age_range  gender  \\\n",
       "0    0.0         3906    34176        6.0     0.0   \n",
       "1    0.0          121    34176        6.0     0.0   \n",
       "2    1.0         4356    34176        6.0     0.0   \n",
       "3    0.0         2217    34176        6.0     0.0   \n",
       "4    0.0         4818   230784        0.0     0.0   \n",
       "\n",
       "                                           item_path  \\\n",
       "0  790010 231901 478025 100290 655967 986148 8547...   \n",
       "1  790010 231901 478025 100290 655967 986148 8547...   \n",
       "2  790010 231901 478025 100290 655967 986148 8547...   \n",
       "3  790010 231901 478025 100290 655967 986148 8547...   \n",
       "4  430968 185046 316409 713880 498279 503629 9596...   \n",
       "\n",
       "                                            cat_path  \\\n",
       "0  1467 662 662 662 420 276 1553 1238 821 1208 82...   \n",
       "1  1467 662 662 662 420 276 1553 1238 821 1208 82...   \n",
       "2  1467 662 662 662 420 276 1553 1238 821 1208 82...   \n",
       "3  1467 662 662 662 420 276 1553 1238 821 1208 82...   \n",
       "4  115 737 407 407 407 407 407 407 407 407 407 11...   \n",
       "\n",
       "                                         seller_path  \\\n",
       "0  4231 1945 3700 2179 1875 3001 1815 331 3906 43...   \n",
       "1  4231 1945 3700 2179 1875 3001 1815 331 3906 43...   \n",
       "2  4231 1945 3700 2179 1875 3001 1815 331 3906 43...   \n",
       "3  4231 1945 3700 2179 1875 3001 1815 331 3906 43...   \n",
       "4  376 3904 3556 3556 3556 3556 3556 3556 3556 35...   \n",
       "\n",
       "                                          brand_path  \\\n",
       "0  3589.0 2758.0 2204.0 6741.0 2714.0 5738.0 7169...   \n",
       "1  3589.0 2758.0 2204.0 6741.0 2714.0 5738.0 7169...   \n",
       "2  3589.0 2758.0 2204.0 6741.0 2714.0 5738.0 7169...   \n",
       "3  3589.0 2758.0 2204.0 6741.0 2714.0 5738.0 7169...   \n",
       "4  4167.0 3876.0 1236.0 1236.0 1236.0 1236.0 1236...   \n",
       "\n",
       "                                     time_stamp_path  \\\n",
       "0  1026 818 818 818 1110 1110 1110 1110 1110 1110...   \n",
       "1  1026 818 818 818 1110 1110 1110 1110 1110 1110...   \n",
       "2  1026 818 818 818 1110 1110 1110 1110 1110 1110...   \n",
       "3  1026 818 818 818 1110 1110 1110 1110 1110 1110...   \n",
       "4  701 622 630 630 630 630 630 630 630 630 630 70...   \n",
       "\n",
       "                                    action_type_path  \n",
       "0  0 0 0 0 0 0 0 0 0 0 0 0 0 0 0 0 0 0 0 0 0 0 0 ...  \n",
       "1  0 0 0 0 0 0 0 0 0 0 0 0 0 0 0 0 0 0 0 0 0 0 0 ...  \n",
       "2  0 0 0 0 0 0 0 0 0 0 0 0 0 0 0 0 0 0 0 0 0 0 0 ...  \n",
       "3  0 0 0 0 0 0 0 0 0 0 0 0 0 0 0 0 0 0 0 0 0 0 0 ...  \n",
       "4  0 0 0 0 0 0 0 0 0 0 2 0 2 0 2 2 0 2 2 0 0 0 0 ...  "
      ]
     },
     "execution_count": 46,
     "metadata": {},
     "output_type": "execute_result"
    }
   ],
   "source": [
    "all_data_path.head()"
   ]
  },
  {
   "cell_type": "code",
   "execution_count": 47,
   "metadata": {},
   "outputs": [
    {
     "data": {
      "text/plain": [
       "label               261477\n",
       "merchant_id              0\n",
       "user_id                  0\n",
       "age_range             2578\n",
       "gender                7545\n",
       "item_path                0\n",
       "cat_path                 0\n",
       "seller_path              0\n",
       "brand_path               0\n",
       "time_stamp_path          0\n",
       "action_type_path         0\n",
       "dtype: int64"
      ]
     },
     "execution_count": 47,
     "metadata": {},
     "output_type": "execute_result"
    }
   ],
   "source": [
    "all_data_path.isnull().sum()"
   ]
  },
  {
   "cell_type": "markdown",
   "metadata": {},
   "source": [
    "# 特征工程"
   ]
  },
  {
   "cell_type": "code",
   "execution_count": 48,
   "metadata": {},
   "outputs": [],
   "source": [
    "all_data = all_data_path.copy()"
   ]
  },
  {
   "cell_type": "code",
   "execution_count": null,
   "metadata": {},
   "outputs": [],
   "source": [
    "# 构造特征的函数\n",
    "# ------------------------------------------------------\n",
    "# 统计数据不去重\n",
    "def cnt_(x):\n",
    "    if try:\n",
    "        return len(x.split(' '))\n",
    "    except:\n",
    "        return -1\n",
    "def user_cnt(df_data,single_col,name):\n",
    "    df_data[name] = df_data[single_col].apply(cnt_)\n",
    "    return df_data\n",
    "# ------------------------------------------------------\n",
    "# 统计数据并去重\n",
    "def nunique_(x):\n",
    "    if try:\n",
    "        return len(set(x.split(' ')))\n",
    "    except:\n",
    "        return -1\n",
    "def user_numique(df_data,single_col,name):\n",
    "    df_data[name] = df_data[single_col].apply(nunique_)\n",
    "    return df_data\n",
    "# --------------------------------------------------------\n",
    "# 统计用户最早操作时间\n",
    "def _min(x):\n",
    "    if try:\n",
    "        return np.min([int(i) for i in x.split(' ')])\n",
    "    except:\n",
    "        return -1\n",
    "def user_min(df_data,single_col,name):\n",
    "    df_data[name] = df_data[single_col].apply(_min)\n",
    "    return df_data\n",
    "# 统计用户最晚操作时间\n",
    "def _max(x):\n",
    "    if try:\n",
    "        return np.max([int(i) for i in x.split(' ')])\n",
    "    except:\n",
    "        return -1\n",
    "def user_max(df_data,single_col,name):\n",
    "    df_data[name] = df_data[single_col].apply(_max)\n",
    "    return df_data\n",
    "# 统计用户最早最晚操作时间差\n",
    "def _std(x):\n",
    "    if try:\n",
    "        return np.std([float(i) for i in x.split(' ')])\n",
    "    except:\n",
    "        return -1\n",
    "def user_std(df_data,single_col,name):\n",
    "    df_data[name] = df_data[single_col].apply(_std)\n",
    "    return df_data\n",
    "# 统计用户操作最早和最晚相差天数\n",
    "def int_to_datatime(x):\n",
    "    x = str(x)\n",
    "    x = '2020-'+x[:-2]+'-'+x[-2:]\n",
    "    return pd.to_datatime(x,errors='ignore')\n",
    "def user_range(df_data,max_data_col,min_data_cal,name):\n",
    "    max_data = list(map(int_to_datatime,copy.deepcopy(df_data[max_data_col])))\n",
    "    min_data = list(map(int_to_datatime,copy.deepcopy(df_data[min_data_col])))\n",
    "    ns_to_day = 1e9*60*60*24\n",
    "    ans = []\n",
    "    for i in range(len(max_data)):\n",
    "        ans.append((max_data[i]-min_data[i]).value/ns_to_day)\n",
    "    df_data[name] = ans\n",
    "    return df_data\n",
    "# 统计topN的数据\n",
    "def most_n(x,n):\n",
    "    if try:\n",
    "        return Counter(x.split(' ')).most_common(n)[n-1][0]\n",
    "    except:\n",
    "        return -1\n",
    "def user_most_n(df_data,single_col,name,n=1):\n",
    "    func = lambda x:most_n(x,n)\n",
    "    df_data[name] = df_data[single_col].lambda(func)\n",
    "    return df_data\n",
    "# 统计topN数据的总数\n",
    "def most_n_cnt(x,n):\n",
    "    if try:\n",
    "        return Counter(x.split(' ')).most_common(n)[n-1][1]\n",
    "    except:\n",
    "        return -1\n",
    "def user_most_n_cnt(df_data,single_col,name,n=1):\n",
    "    func = lambda x:most_n_cnt(x,n)\n",
    "    df_data[name] = df_data[single_col].apply(func)\n",
    "    return df_data\n",
    "# 统计每个用户不同行为的次数\n",
    "def user_action_cnt(df_data,col_action,action_type,name):\n",
    "    func = lambda x:len([i for i in x.split(' ') if i == action_type])\n",
    "    df_data[name+'_'+action_type] = df_data[col_action].apply(func)\n",
    "    return df_data\n"
   ]
  },
  {
   "cell_type": "code",
   "execution_count": null,
   "metadata": {},
   "outputs": [],
   "source": [
    "# 统计用户特征\n",
    "# 1.用户对多少种物品进行操作\n",
    "all_data_1 = user_nunique(all_data_1,'item_path','user_item_counts')\n",
    "# 2,用户对多少种类目进行操作\n",
    "all_data = user_nunique(all_data,'cat_path','user_item_counts')\n",
    "\n",
    "# 3.用户总共对多少个商店进行过操作(不去重)\n",
    "all_data = user_cnt(all_data,'seller_path','user_seller_counts')\n",
    "all_data = user_cnt(all_data,'seller_path','user_seller_unique_counts')\n",
    "# 4.用户对多少个品牌进行了操作\n",
    "all_data = user_nunique(all_data,'brand_path','user_brand_counts')\n",
    "# 5.用户活跃的天数\n",
    "all_data = user_nunique(all_data,'time_stamp_path','user_day_activity_counts')\n",
    "# 6.用户有几种行为\n",
    "all_data = user_nunique(all_data,'action_type_path','user_action_type_counts')\n",
    "#----------------------------------------------------------------------------\n",
    "# 7.用户最早操作时间\n",
    "all_data = user_min(all_data,'time_stamp_path','user_time_stamp_min')\n",
    "# 8.用户最晚操作时间\n",
    "all_data = user_max(all_data,'time_stamp_path','user_time_stamp_max')\n",
    "# 9.用户最早最晚操作标准差\n",
    "all_data = user_std(all_data,'time_stamp_path','user_time_stamp_std')\n",
    "# 10.统计用户最早最晚操作相差的天数\n",
    "all_data = user_range(all_data,'time_stamp_path','user_time_stamp_range')\n",
    "# ------------------------------------------------------------------------------\n",
    "# 用户最喜欢操作的类目，点击、加购物车、分享收藏\n",
    "all_data = user_most_n(all_data,'cat_path','user_cat_most_1',n = 1)\n",
    "all_data = user_most_n_cnt(all_data,'cat_path','user_cat_most_1_cnt',n=1)\n",
    "# 用户最喜欢的店铺，操作次数\n",
    "all_data = user_most_n(all_data,'seller_path','user_seller_most_1',n=1)\n",
    "all_data = user_most_n_cnt(all_data,'seller_path','user_seller_most_1_cnt',n=1)\n",
    "# 用户最喜欢的品牌，操作次数\n",
    "all_data = user_most_n(all_data,'brand_path','user_brand_most_1',n=1)\n",
    "all_data = user_most_n_cnt(all_data,'brand_path','user_brand_most_1_cnt',n=1)\n",
    "# 用户最喜欢的操作方式，操作次数\n",
    "all_data = user_most_n(all_data,'action_type_path','action_most_1',n=1)\n",
    "all_data = user_most_n_cnt(all_data,'action_type_path','action_most_1_cnt',n=1)\n",
    "# -----------------------------------------------------------------------------------\n",
    "# 统计用户点击、加入购物车、购买、收藏的次数\n",
    "all_data = user_action_cnt(all_data,'action_type_path','0','user_cnt')\n",
    "all_data = user_action_cnt(all_data,'action_type_path','1','user_cnt')\n",
    "all_data = user_action_cnt(all_data,'action_type_path','2','user_cnt')\n",
    "all_data = user_action_cnt(all_data,'action_type_path','3','user_cnt')\n",
    "# ---------------------------------------------------------------------------------\n",
    "# 对性别和年龄进行独热编码\n",
    "age_range = pd.dummies(all_data['age_range'],prefix='age')\n",
    "gender_range = pd.dummies(all_data['gender'],prefix='gender')\n",
    "all_data = all_data.join(age_range)\n",
    "all_data = all_data.join(gender_range)\n"
   ]
  },
  {
   "cell_type": "markdown",
   "metadata": {},
   "source": [
    "# 店铺特征统计"
   ]
  },
  {
   "cell_type": "code",
   "execution_count": null,
   "metadata": {},
   "outputs": [],
   "source": [
    "list_join_func = lambda x:' '.join([str(i) for i in x])\n",
    "agg_dict_seller = {\n",
    "    'user_id':list_join_func,\n",
    "    'item_id':list_join_func,\n",
    "    'cat_id':list_join_func,\n",
    "    'brand_id':list_join_func,\n",
    "    'time_stamp':list_join_func,\n",
    "    'action_type':list_join_func\n",
    "}\n",
    "rename_dict_seller = {\n",
    "    'user_id':'user_path',\n",
    "            'item_id' : 'item_path',\n",
    "            'cat_id' : 'cat_path',\n",
    "            'brand_id' : 'brand_path',\n",
    "            'time_stamp' : 'time_stamp_path',\n",
    "            'action_type' : 'action_type_path'  \n",
    "}\n",
    "log_path_2 = log.groupby('seller_id').agg(agg_dict_seller).reset_index().rename(columns=rename_dict_seller)"
   ]
  },
  {
   "cell_type": "raw",
   "metadata": {},
   "source": [
    "all_data2 = all_data.merge(log_path_2,on='seller_id')"
   ]
  },
  {
   "cell_type": "markdown",
   "metadata": {},
   "source": [
    "# all_data_2是以seller_id为基准合并后的完整的数据集"
   ]
  },
  {
   "cell_type": "code",
   "execution_count": null,
   "metadata": {},
   "outputs": [],
   "source": [
    "# 店铺统计特征\n",
    "all_data2_test = all_data2"
   ]
  },
  {
   "cell_type": "code",
   "execution_count": null,
   "metadata": {},
   "outputs": [],
   "source": [
    "# 1.商店被操作的总次数\n",
    "all_data2_test = user_cnt(all_data2_test,'user_path','seller_user_counts')\n",
    "# 2.商店被不同用户操作的次数\n",
    "all_data2_test = user_nunique(all_data2_test,'user_path','seller_user_unique_counts')\n",
    "# 3.商店中有多少种不同的商品\n",
    "all_data2_test = user_nunique(all_data2_test,'item_path','seller_item_unique_counts')\n",
    "# 4.商店中有多少类不同过得商品\n",
    "all_data2_test = user_nunique(all_data2_test,'cat_path','seller_cat_unique_counts')\n",
    "# 5.商店中有多少不同的品牌\n",
    "all_data2_test = user_nunique(all_data2_test,'brand_path','seller_brand_unique_counts')\n",
    "# 6.商店中活跃的天数\n",
    "all_data2_test = user_nunique(all_data2_test,'time_tamp_path','seller_day_active_counts')\n",
    "\n",
    "# 7.最晚时间\n",
    "all_data2_test = user_max(all_data2_test,'time_tamp_path','seller_time_tamp_max')\n",
    "# 8.最早时间\n",
    "all_data2_test = user_min(all_data2_test,'time_tamp_path','seller_time_tamp_min')\n",
    "# 9.活跃天数标准差\n",
    "all_data2_test = user_std(all_data2_test,'time_tamp_path','seller_time_tamp_std')\n",
    "# 10.最早和最晚相差时间\n",
    "all_data2_test = user_range(all_data2_test,'seller_time_tamp_max','seller_time_tamp_min','seller_time_tamp_range_day')\n",
    "\n",
    "# 11.统计商店被点击的次数之和\n",
    "all_data2_test = user_action_cnt(all_data2_test,'action_type_path','0','seller_cnt')\n",
    "all_data2_test = user_action_cnt(all_data2_test,'action_type_path','1','seller_cnt')\n",
    "all_data2_test = user_action_cnt(all_data2_test,'action_type_path','2','seller_cnt')\n",
    "all_data2_test = user_action_cnt(all_data2_test,'action_type_path','3','seller_cnt')\n",
    "\n",
    "\n",
    "# 购买两次以上的买家总数"
   ]
  },
  {
   "cell_type": "markdown",
   "metadata": {},
   "source": [
    "# 用户+商家综合特征"
   ]
  },
  {
   "cell_type": "code",
   "execution_count": null,
   "metadata": {},
   "outputs": [],
   "source": []
  },
  {
   "cell_type": "code",
   "execution_count": null,
   "metadata": {},
   "outputs": [],
   "source": [
    "# 1.用户在商铺购买商品总数\n",
    "# 2.用户在商铺购买商铺类别数目\n",
    "# 3.用户在商铺中购买品牌总数\n",
    "\n",
    "# 4.用户在商铺中出现的月份\n",
    "# 5.用户在商铺中出现的天数\n",
    "# 6.用户在商铺中每月访问的次数\n",
    "\n",
    "# 8.用户在商铺中点击、加购物车、购买、收藏数量统计"
   ]
  }
 ],
 "metadata": {
  "kernelspec": {
   "display_name": "Python 3",
   "language": "python",
   "name": "python3"
  },
  "language_info": {
   "codemirror_mode": {
    "name": "ipython",
    "version": 3
   },
   "file_extension": ".py",
   "mimetype": "text/x-python",
   "name": "python",
   "nbconvert_exporter": "python",
   "pygments_lexer": "ipython3",
   "version": "3.7.3"
  }
 },
 "nbformat": 4,
 "nbformat_minor": 4
}
